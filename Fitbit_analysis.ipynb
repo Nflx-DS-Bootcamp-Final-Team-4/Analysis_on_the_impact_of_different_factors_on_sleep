{
 "cells": [
  {
   "cell_type": "code",
   "execution_count": 2,
   "metadata": {},
   "outputs": [],
   "source": [
    "import datetime\n",
    "import pandas as pd\n",
    "import numpy as np\n",
    "import plotly.express as px\n",
    "import matplotlib.pyplot as plt\n",
    "import scipy.stats as sts\n",
    "import seaborn as sns"
   ]
  },
  {
   "cell_type": "code",
   "execution_count": 3,
   "metadata": {},
   "outputs": [
    {
     "data": {
      "text/html": [
       "<div>\n",
       "<style scoped>\n",
       "    .dataframe tbody tr th:only-of-type {\n",
       "        vertical-align: middle;\n",
       "    }\n",
       "\n",
       "    .dataframe tbody tr th {\n",
       "        vertical-align: top;\n",
       "    }\n",
       "\n",
       "    .dataframe thead th {\n",
       "        text-align: right;\n",
       "    }\n",
       "</style>\n",
       "<table border=\"1\" class=\"dataframe\">\n",
       "  <thead>\n",
       "    <tr style=\"text-align: right;\">\n",
       "      <th></th>\n",
       "      <th>Id</th>\n",
       "      <th>TotalSleepRecords</th>\n",
       "      <th>TotalMinutesAsleep</th>\n",
       "      <th>TotalTimeInBed</th>\n",
       "    </tr>\n",
       "  </thead>\n",
       "  <tbody>\n",
       "    <tr>\n",
       "      <th>0</th>\n",
       "      <td>1503960366</td>\n",
       "      <td>1.08</td>\n",
       "      <td>360.280000</td>\n",
       "      <td>383.200000</td>\n",
       "    </tr>\n",
       "    <tr>\n",
       "      <th>1</th>\n",
       "      <td>1644430081</td>\n",
       "      <td>1.00</td>\n",
       "      <td>294.000000</td>\n",
       "      <td>346.000000</td>\n",
       "    </tr>\n",
       "    <tr>\n",
       "      <th>2</th>\n",
       "      <td>1844505072</td>\n",
       "      <td>1.00</td>\n",
       "      <td>652.000000</td>\n",
       "      <td>961.000000</td>\n",
       "    </tr>\n",
       "    <tr>\n",
       "      <th>3</th>\n",
       "      <td>1927972279</td>\n",
       "      <td>1.60</td>\n",
       "      <td>417.000000</td>\n",
       "      <td>437.800000</td>\n",
       "    </tr>\n",
       "    <tr>\n",
       "      <th>4</th>\n",
       "      <td>2026352035</td>\n",
       "      <td>1.00</td>\n",
       "      <td>506.178571</td>\n",
       "      <td>537.642857</td>\n",
       "    </tr>\n",
       "  </tbody>\n",
       "</table>\n",
       "</div>"
      ],
      "text/plain": [
       "           Id  TotalSleepRecords  TotalMinutesAsleep  TotalTimeInBed\n",
       "0  1503960366               1.08          360.280000      383.200000\n",
       "1  1644430081               1.00          294.000000      346.000000\n",
       "2  1844505072               1.00          652.000000      961.000000\n",
       "3  1927972279               1.60          417.000000      437.800000\n",
       "4  2026352035               1.00          506.178571      537.642857"
      ]
     },
     "execution_count": 3,
     "metadata": {},
     "output_type": "execute_result"
    }
   ],
   "source": [
    "sleep_day=pd.read_csv('fitbit/sleepDay_merged.csv')\n",
    "sleep_grouped=sleep_day.groupby(by=['Id']).mean().reset_index()\n",
    "sleep_grouped.head()"
   ]
  },
  {
   "cell_type": "code",
   "execution_count": 4,
   "metadata": {},
   "outputs": [
    {
     "data": {
      "text/html": [
       "<div>\n",
       "<style scoped>\n",
       "    .dataframe tbody tr th:only-of-type {\n",
       "        vertical-align: middle;\n",
       "    }\n",
       "\n",
       "    .dataframe tbody tr th {\n",
       "        vertical-align: top;\n",
       "    }\n",
       "\n",
       "    .dataframe thead th {\n",
       "        text-align: right;\n",
       "    }\n",
       "</style>\n",
       "<table border=\"1\" class=\"dataframe\">\n",
       "  <thead>\n",
       "    <tr style=\"text-align: right;\">\n",
       "      <th></th>\n",
       "      <th>Id</th>\n",
       "      <th>TotalSteps</th>\n",
       "      <th>TotalDistance</th>\n",
       "      <th>TrackerDistance</th>\n",
       "      <th>LoggedActivitiesDistance</th>\n",
       "      <th>VeryActiveDistance</th>\n",
       "      <th>ModeratelyActiveDistance</th>\n",
       "      <th>LightActiveDistance</th>\n",
       "      <th>SedentaryActiveDistance</th>\n",
       "      <th>VeryActiveMinutes</th>\n",
       "      <th>FairlyActiveMinutes</th>\n",
       "      <th>LightlyActiveMinutes</th>\n",
       "      <th>SedentaryMinutes</th>\n",
       "      <th>Calories</th>\n",
       "    </tr>\n",
       "  </thead>\n",
       "  <tbody>\n",
       "    <tr>\n",
       "      <th>0</th>\n",
       "      <td>1503960366</td>\n",
       "      <td>12116.741935</td>\n",
       "      <td>7.809677</td>\n",
       "      <td>7.809677</td>\n",
       "      <td>0.0</td>\n",
       "      <td>2.858387</td>\n",
       "      <td>0.794194</td>\n",
       "      <td>4.152903</td>\n",
       "      <td>0.000000</td>\n",
       "      <td>38.709677</td>\n",
       "      <td>19.161290</td>\n",
       "      <td>219.935484</td>\n",
       "      <td>848.161290</td>\n",
       "      <td>1816.419355</td>\n",
       "    </tr>\n",
       "    <tr>\n",
       "      <th>1</th>\n",
       "      <td>1624580081</td>\n",
       "      <td>5743.903226</td>\n",
       "      <td>3.914839</td>\n",
       "      <td>3.914839</td>\n",
       "      <td>0.0</td>\n",
       "      <td>0.939355</td>\n",
       "      <td>0.360645</td>\n",
       "      <td>2.606774</td>\n",
       "      <td>0.006129</td>\n",
       "      <td>8.677419</td>\n",
       "      <td>5.806452</td>\n",
       "      <td>153.483871</td>\n",
       "      <td>1257.741935</td>\n",
       "      <td>1483.354839</td>\n",
       "    </tr>\n",
       "    <tr>\n",
       "      <th>2</th>\n",
       "      <td>1644430081</td>\n",
       "      <td>7282.966667</td>\n",
       "      <td>5.295333</td>\n",
       "      <td>5.295333</td>\n",
       "      <td>0.0</td>\n",
       "      <td>0.730000</td>\n",
       "      <td>0.951000</td>\n",
       "      <td>3.609000</td>\n",
       "      <td>0.004000</td>\n",
       "      <td>9.566667</td>\n",
       "      <td>21.366667</td>\n",
       "      <td>178.466667</td>\n",
       "      <td>1161.866667</td>\n",
       "      <td>2811.300000</td>\n",
       "    </tr>\n",
       "    <tr>\n",
       "      <th>3</th>\n",
       "      <td>1844505072</td>\n",
       "      <td>2580.064516</td>\n",
       "      <td>1.706129</td>\n",
       "      <td>1.706129</td>\n",
       "      <td>0.0</td>\n",
       "      <td>0.008387</td>\n",
       "      <td>0.049032</td>\n",
       "      <td>1.647419</td>\n",
       "      <td>0.000000</td>\n",
       "      <td>0.129032</td>\n",
       "      <td>1.290323</td>\n",
       "      <td>115.451613</td>\n",
       "      <td>1206.612903</td>\n",
       "      <td>1573.483871</td>\n",
       "    </tr>\n",
       "    <tr>\n",
       "      <th>4</th>\n",
       "      <td>1927972279</td>\n",
       "      <td>916.129032</td>\n",
       "      <td>0.634516</td>\n",
       "      <td>0.634516</td>\n",
       "      <td>0.0</td>\n",
       "      <td>0.095806</td>\n",
       "      <td>0.031290</td>\n",
       "      <td>0.507097</td>\n",
       "      <td>0.000000</td>\n",
       "      <td>1.322581</td>\n",
       "      <td>0.774194</td>\n",
       "      <td>38.580645</td>\n",
       "      <td>1317.419355</td>\n",
       "      <td>2172.806452</td>\n",
       "    </tr>\n",
       "  </tbody>\n",
       "</table>\n",
       "</div>"
      ],
      "text/plain": [
       "           Id    TotalSteps  TotalDistance  TrackerDistance  \\\n",
       "0  1503960366  12116.741935       7.809677         7.809677   \n",
       "1  1624580081   5743.903226       3.914839         3.914839   \n",
       "2  1644430081   7282.966667       5.295333         5.295333   \n",
       "3  1844505072   2580.064516       1.706129         1.706129   \n",
       "4  1927972279    916.129032       0.634516         0.634516   \n",
       "\n",
       "   LoggedActivitiesDistance  VeryActiveDistance  ModeratelyActiveDistance  \\\n",
       "0                       0.0            2.858387                  0.794194   \n",
       "1                       0.0            0.939355                  0.360645   \n",
       "2                       0.0            0.730000                  0.951000   \n",
       "3                       0.0            0.008387                  0.049032   \n",
       "4                       0.0            0.095806                  0.031290   \n",
       "\n",
       "   LightActiveDistance  SedentaryActiveDistance  VeryActiveMinutes  \\\n",
       "0             4.152903                 0.000000          38.709677   \n",
       "1             2.606774                 0.006129           8.677419   \n",
       "2             3.609000                 0.004000           9.566667   \n",
       "3             1.647419                 0.000000           0.129032   \n",
       "4             0.507097                 0.000000           1.322581   \n",
       "\n",
       "   FairlyActiveMinutes  LightlyActiveMinutes  SedentaryMinutes     Calories  \n",
       "0            19.161290            219.935484        848.161290  1816.419355  \n",
       "1             5.806452            153.483871       1257.741935  1483.354839  \n",
       "2            21.366667            178.466667       1161.866667  2811.300000  \n",
       "3             1.290323            115.451613       1206.612903  1573.483871  \n",
       "4             0.774194             38.580645       1317.419355  2172.806452  "
      ]
     },
     "execution_count": 4,
     "metadata": {},
     "output_type": "execute_result"
    }
   ],
   "source": [
    "dailyActivity_merged=pd.read_csv('fitbit/dailyActivity_merged.csv')\n",
    "dailyActivity_merged_grouped=dailyActivity_merged.groupby(by=['Id']).mean().reset_index()\n",
    "dailyActivity_merged_grouped.head()"
   ]
  },
  {
   "cell_type": "code",
   "execution_count": 5,
   "metadata": {},
   "outputs": [
    {
     "data": {
      "text/html": [
       "<div>\n",
       "<style scoped>\n",
       "    .dataframe tbody tr th:only-of-type {\n",
       "        vertical-align: middle;\n",
       "    }\n",
       "\n",
       "    .dataframe tbody tr th {\n",
       "        vertical-align: top;\n",
       "    }\n",
       "\n",
       "    .dataframe thead th {\n",
       "        text-align: right;\n",
       "    }\n",
       "</style>\n",
       "<table border=\"1\" class=\"dataframe\">\n",
       "  <thead>\n",
       "    <tr style=\"text-align: right;\">\n",
       "      <th></th>\n",
       "      <th>Id</th>\n",
       "      <th>WeightKg</th>\n",
       "      <th>WeightPounds</th>\n",
       "      <th>Fat</th>\n",
       "      <th>BMI</th>\n",
       "      <th>IsManualReport</th>\n",
       "      <th>LogId</th>\n",
       "    </tr>\n",
       "  </thead>\n",
       "  <tbody>\n",
       "    <tr>\n",
       "      <th>0</th>\n",
       "      <td>1503960366</td>\n",
       "      <td>52.599998</td>\n",
       "      <td>115.963147</td>\n",
       "      <td>22.0</td>\n",
       "      <td>22.650000</td>\n",
       "      <td>1.0</td>\n",
       "      <td>1.462277e+12</td>\n",
       "    </tr>\n",
       "    <tr>\n",
       "      <th>1</th>\n",
       "      <td>1927972279</td>\n",
       "      <td>133.500000</td>\n",
       "      <td>294.317120</td>\n",
       "      <td>NaN</td>\n",
       "      <td>47.540001</td>\n",
       "      <td>0.0</td>\n",
       "      <td>1.460510e+12</td>\n",
       "    </tr>\n",
       "    <tr>\n",
       "      <th>2</th>\n",
       "      <td>2873212765</td>\n",
       "      <td>57.000000</td>\n",
       "      <td>125.663489</td>\n",
       "      <td>NaN</td>\n",
       "      <td>21.570001</td>\n",
       "      <td>1.0</td>\n",
       "      <td>1.462190e+12</td>\n",
       "    </tr>\n",
       "    <tr>\n",
       "      <th>3</th>\n",
       "      <td>4319703577</td>\n",
       "      <td>72.350002</td>\n",
       "      <td>159.504452</td>\n",
       "      <td>25.0</td>\n",
       "      <td>27.415000</td>\n",
       "      <td>1.0</td>\n",
       "      <td>1.461672e+12</td>\n",
       "    </tr>\n",
       "    <tr>\n",
       "      <th>4</th>\n",
       "      <td>4558609924</td>\n",
       "      <td>69.639999</td>\n",
       "      <td>153.529918</td>\n",
       "      <td>NaN</td>\n",
       "      <td>27.214000</td>\n",
       "      <td>1.0</td>\n",
       "      <td>1.461974e+12</td>\n",
       "    </tr>\n",
       "  </tbody>\n",
       "</table>\n",
       "</div>"
      ],
      "text/plain": [
       "           Id    WeightKg  WeightPounds   Fat        BMI  IsManualReport  \\\n",
       "0  1503960366   52.599998    115.963147  22.0  22.650000             1.0   \n",
       "1  1927972279  133.500000    294.317120   NaN  47.540001             0.0   \n",
       "2  2873212765   57.000000    125.663489   NaN  21.570001             1.0   \n",
       "3  4319703577   72.350002    159.504452  25.0  27.415000             1.0   \n",
       "4  4558609924   69.639999    153.529918   NaN  27.214000             1.0   \n",
       "\n",
       "          LogId  \n",
       "0  1.462277e+12  \n",
       "1  1.460510e+12  \n",
       "2  1.462190e+12  \n",
       "3  1.461672e+12  \n",
       "4  1.461974e+12  "
      ]
     },
     "execution_count": 5,
     "metadata": {},
     "output_type": "execute_result"
    }
   ],
   "source": [
    "weightLogInfo_merged=pd.read_csv('fitbit/weightLogInfo_merged.csv')\n",
    "weightLogInfo_merged_grouped=weightLogInfo_merged.groupby(by=['Id']).mean().reset_index()\n",
    "weightLogInfo_merged_grouped.head()"
   ]
  },
  {
   "cell_type": "code",
   "execution_count": 6,
   "metadata": {},
   "outputs": [
    {
     "data": {
      "text/html": [
       "<div>\n",
       "<style scoped>\n",
       "    .dataframe tbody tr th:only-of-type {\n",
       "        vertical-align: middle;\n",
       "    }\n",
       "\n",
       "    .dataframe tbody tr th {\n",
       "        vertical-align: top;\n",
       "    }\n",
       "\n",
       "    .dataframe thead th {\n",
       "        text-align: right;\n",
       "    }\n",
       "</style>\n",
       "<table border=\"1\" class=\"dataframe\">\n",
       "  <thead>\n",
       "    <tr style=\"text-align: right;\">\n",
       "      <th></th>\n",
       "      <th>Id</th>\n",
       "      <th>TotalSleepRecords</th>\n",
       "      <th>TotalMinutesAsleep</th>\n",
       "      <th>TotalTimeInBed</th>\n",
       "      <th>TotalSteps</th>\n",
       "      <th>TotalDistance</th>\n",
       "      <th>TrackerDistance</th>\n",
       "      <th>LoggedActivitiesDistance</th>\n",
       "      <th>VeryActiveDistance</th>\n",
       "      <th>ModeratelyActiveDistance</th>\n",
       "      <th>LightActiveDistance</th>\n",
       "      <th>SedentaryActiveDistance</th>\n",
       "      <th>VeryActiveMinutes</th>\n",
       "      <th>FairlyActiveMinutes</th>\n",
       "      <th>LightlyActiveMinutes</th>\n",
       "      <th>SedentaryMinutes</th>\n",
       "      <th>Calories</th>\n",
       "      <th>Date</th>\n",
       "      <th>WeightKg</th>\n",
       "      <th>WeightPounds</th>\n",
       "      <th>Fat</th>\n",
       "      <th>BMI</th>\n",
       "      <th>IsManualReport</th>\n",
       "      <th>LogId</th>\n",
       "    </tr>\n",
       "  </thead>\n",
       "  <tbody>\n",
       "    <tr>\n",
       "      <th>0</th>\n",
       "      <td>1503960366</td>\n",
       "      <td>1.080000</td>\n",
       "      <td>360.280000</td>\n",
       "      <td>383.200000</td>\n",
       "      <td>12116.741935</td>\n",
       "      <td>7.809677</td>\n",
       "      <td>7.809677</td>\n",
       "      <td>0.0000</td>\n",
       "      <td>2.858387</td>\n",
       "      <td>0.794194</td>\n",
       "      <td>4.152903</td>\n",
       "      <td>0.000000</td>\n",
       "      <td>38.709677</td>\n",
       "      <td>19.161290</td>\n",
       "      <td>219.935484</td>\n",
       "      <td>848.161290</td>\n",
       "      <td>1816.419355</td>\n",
       "      <td>5/2/2016 11:59:59 PM</td>\n",
       "      <td>52.599998</td>\n",
       "      <td>115.963147</td>\n",
       "      <td>22.0</td>\n",
       "      <td>22.650000</td>\n",
       "      <td>True</td>\n",
       "      <td>1462233599000</td>\n",
       "    </tr>\n",
       "    <tr>\n",
       "      <th>1</th>\n",
       "      <td>1503960366</td>\n",
       "      <td>1.080000</td>\n",
       "      <td>360.280000</td>\n",
       "      <td>383.200000</td>\n",
       "      <td>12116.741935</td>\n",
       "      <td>7.809677</td>\n",
       "      <td>7.809677</td>\n",
       "      <td>0.0000</td>\n",
       "      <td>2.858387</td>\n",
       "      <td>0.794194</td>\n",
       "      <td>4.152903</td>\n",
       "      <td>0.000000</td>\n",
       "      <td>38.709677</td>\n",
       "      <td>19.161290</td>\n",
       "      <td>219.935484</td>\n",
       "      <td>848.161290</td>\n",
       "      <td>1816.419355</td>\n",
       "      <td>5/3/2016 11:59:59 PM</td>\n",
       "      <td>52.599998</td>\n",
       "      <td>115.963147</td>\n",
       "      <td>NaN</td>\n",
       "      <td>22.650000</td>\n",
       "      <td>True</td>\n",
       "      <td>1462319999000</td>\n",
       "    </tr>\n",
       "    <tr>\n",
       "      <th>2</th>\n",
       "      <td>1927972279</td>\n",
       "      <td>1.600000</td>\n",
       "      <td>417.000000</td>\n",
       "      <td>437.800000</td>\n",
       "      <td>916.129032</td>\n",
       "      <td>0.634516</td>\n",
       "      <td>0.634516</td>\n",
       "      <td>0.0000</td>\n",
       "      <td>0.095806</td>\n",
       "      <td>0.031290</td>\n",
       "      <td>0.507097</td>\n",
       "      <td>0.000000</td>\n",
       "      <td>1.322581</td>\n",
       "      <td>0.774194</td>\n",
       "      <td>38.580645</td>\n",
       "      <td>1317.419355</td>\n",
       "      <td>2172.806452</td>\n",
       "      <td>4/13/2016 1:08:52 AM</td>\n",
       "      <td>133.500000</td>\n",
       "      <td>294.317120</td>\n",
       "      <td>NaN</td>\n",
       "      <td>47.540001</td>\n",
       "      <td>False</td>\n",
       "      <td>1460509732000</td>\n",
       "    </tr>\n",
       "    <tr>\n",
       "      <th>3</th>\n",
       "      <td>4319703577</td>\n",
       "      <td>1.038462</td>\n",
       "      <td>476.653846</td>\n",
       "      <td>501.961538</td>\n",
       "      <td>7268.838710</td>\n",
       "      <td>4.892258</td>\n",
       "      <td>4.892258</td>\n",
       "      <td>0.0000</td>\n",
       "      <td>0.278065</td>\n",
       "      <td>0.502258</td>\n",
       "      <td>3.768710</td>\n",
       "      <td>0.000000</td>\n",
       "      <td>3.580645</td>\n",
       "      <td>12.322581</td>\n",
       "      <td>228.774194</td>\n",
       "      <td>735.806452</td>\n",
       "      <td>2037.677419</td>\n",
       "      <td>4/17/2016 11:59:59 PM</td>\n",
       "      <td>72.400002</td>\n",
       "      <td>159.614681</td>\n",
       "      <td>25.0</td>\n",
       "      <td>27.450001</td>\n",
       "      <td>True</td>\n",
       "      <td>1460937599000</td>\n",
       "    </tr>\n",
       "    <tr>\n",
       "      <th>4</th>\n",
       "      <td>4319703577</td>\n",
       "      <td>1.038462</td>\n",
       "      <td>476.653846</td>\n",
       "      <td>501.961538</td>\n",
       "      <td>7268.838710</td>\n",
       "      <td>4.892258</td>\n",
       "      <td>4.892258</td>\n",
       "      <td>0.0000</td>\n",
       "      <td>0.278065</td>\n",
       "      <td>0.502258</td>\n",
       "      <td>3.768710</td>\n",
       "      <td>0.000000</td>\n",
       "      <td>3.580645</td>\n",
       "      <td>12.322581</td>\n",
       "      <td>228.774194</td>\n",
       "      <td>735.806452</td>\n",
       "      <td>2037.677419</td>\n",
       "      <td>5/4/2016 11:59:59 PM</td>\n",
       "      <td>72.300003</td>\n",
       "      <td>159.394222</td>\n",
       "      <td>NaN</td>\n",
       "      <td>27.379999</td>\n",
       "      <td>True</td>\n",
       "      <td>1462406399000</td>\n",
       "    </tr>\n",
       "    <tr>\n",
       "      <th>5</th>\n",
       "      <td>4558609924</td>\n",
       "      <td>1.000000</td>\n",
       "      <td>127.600000</td>\n",
       "      <td>140.000000</td>\n",
       "      <td>7685.129032</td>\n",
       "      <td>5.080645</td>\n",
       "      <td>5.080645</td>\n",
       "      <td>0.0000</td>\n",
       "      <td>0.549355</td>\n",
       "      <td>0.682258</td>\n",
       "      <td>3.847742</td>\n",
       "      <td>0.000000</td>\n",
       "      <td>10.387097</td>\n",
       "      <td>13.709677</td>\n",
       "      <td>284.967742</td>\n",
       "      <td>1093.612903</td>\n",
       "      <td>2033.258065</td>\n",
       "      <td>4/18/2016 11:59:59 PM</td>\n",
       "      <td>69.699997</td>\n",
       "      <td>153.662190</td>\n",
       "      <td>NaN</td>\n",
       "      <td>27.250000</td>\n",
       "      <td>True</td>\n",
       "      <td>1461023999000</td>\n",
       "    </tr>\n",
       "    <tr>\n",
       "      <th>6</th>\n",
       "      <td>4558609924</td>\n",
       "      <td>1.000000</td>\n",
       "      <td>127.600000</td>\n",
       "      <td>140.000000</td>\n",
       "      <td>7685.129032</td>\n",
       "      <td>5.080645</td>\n",
       "      <td>5.080645</td>\n",
       "      <td>0.0000</td>\n",
       "      <td>0.549355</td>\n",
       "      <td>0.682258</td>\n",
       "      <td>3.847742</td>\n",
       "      <td>0.000000</td>\n",
       "      <td>10.387097</td>\n",
       "      <td>13.709677</td>\n",
       "      <td>284.967742</td>\n",
       "      <td>1093.612903</td>\n",
       "      <td>2033.258065</td>\n",
       "      <td>4/25/2016 11:59:59 PM</td>\n",
       "      <td>70.300003</td>\n",
       "      <td>154.984977</td>\n",
       "      <td>NaN</td>\n",
       "      <td>27.459999</td>\n",
       "      <td>True</td>\n",
       "      <td>1461628799000</td>\n",
       "    </tr>\n",
       "    <tr>\n",
       "      <th>7</th>\n",
       "      <td>4558609924</td>\n",
       "      <td>1.000000</td>\n",
       "      <td>127.600000</td>\n",
       "      <td>140.000000</td>\n",
       "      <td>7685.129032</td>\n",
       "      <td>5.080645</td>\n",
       "      <td>5.080645</td>\n",
       "      <td>0.0000</td>\n",
       "      <td>0.549355</td>\n",
       "      <td>0.682258</td>\n",
       "      <td>3.847742</td>\n",
       "      <td>0.000000</td>\n",
       "      <td>10.387097</td>\n",
       "      <td>13.709677</td>\n",
       "      <td>284.967742</td>\n",
       "      <td>1093.612903</td>\n",
       "      <td>2033.258065</td>\n",
       "      <td>5/1/2016 11:59:59 PM</td>\n",
       "      <td>69.900002</td>\n",
       "      <td>154.103125</td>\n",
       "      <td>NaN</td>\n",
       "      <td>27.320000</td>\n",
       "      <td>True</td>\n",
       "      <td>1462147199000</td>\n",
       "    </tr>\n",
       "    <tr>\n",
       "      <th>8</th>\n",
       "      <td>4558609924</td>\n",
       "      <td>1.000000</td>\n",
       "      <td>127.600000</td>\n",
       "      <td>140.000000</td>\n",
       "      <td>7685.129032</td>\n",
       "      <td>5.080645</td>\n",
       "      <td>5.080645</td>\n",
       "      <td>0.0000</td>\n",
       "      <td>0.549355</td>\n",
       "      <td>0.682258</td>\n",
       "      <td>3.847742</td>\n",
       "      <td>0.000000</td>\n",
       "      <td>10.387097</td>\n",
       "      <td>13.709677</td>\n",
       "      <td>284.967742</td>\n",
       "      <td>1093.612903</td>\n",
       "      <td>2033.258065</td>\n",
       "      <td>5/2/2016 11:59:59 PM</td>\n",
       "      <td>69.199997</td>\n",
       "      <td>152.559879</td>\n",
       "      <td>NaN</td>\n",
       "      <td>27.040001</td>\n",
       "      <td>True</td>\n",
       "      <td>1462233599000</td>\n",
       "    </tr>\n",
       "    <tr>\n",
       "      <th>9</th>\n",
       "      <td>4558609924</td>\n",
       "      <td>1.000000</td>\n",
       "      <td>127.600000</td>\n",
       "      <td>140.000000</td>\n",
       "      <td>7685.129032</td>\n",
       "      <td>5.080645</td>\n",
       "      <td>5.080645</td>\n",
       "      <td>0.0000</td>\n",
       "      <td>0.549355</td>\n",
       "      <td>0.682258</td>\n",
       "      <td>3.847742</td>\n",
       "      <td>0.000000</td>\n",
       "      <td>10.387097</td>\n",
       "      <td>13.709677</td>\n",
       "      <td>284.967742</td>\n",
       "      <td>1093.612903</td>\n",
       "      <td>2033.258065</td>\n",
       "      <td>5/9/2016 11:59:59 PM</td>\n",
       "      <td>69.099998</td>\n",
       "      <td>152.339420</td>\n",
       "      <td>NaN</td>\n",
       "      <td>27.000000</td>\n",
       "      <td>True</td>\n",
       "      <td>1462838399000</td>\n",
       "    </tr>\n",
       "    <tr>\n",
       "      <th>10</th>\n",
       "      <td>5577150313</td>\n",
       "      <td>1.038462</td>\n",
       "      <td>432.000000</td>\n",
       "      <td>460.615385</td>\n",
       "      <td>8304.433333</td>\n",
       "      <td>6.213333</td>\n",
       "      <td>6.213333</td>\n",
       "      <td>0.0000</td>\n",
       "      <td>3.113667</td>\n",
       "      <td>0.658000</td>\n",
       "      <td>2.428000</td>\n",
       "      <td>0.000000</td>\n",
       "      <td>87.333333</td>\n",
       "      <td>29.833333</td>\n",
       "      <td>147.933333</td>\n",
       "      <td>754.433333</td>\n",
       "      <td>3359.633333</td>\n",
       "      <td>4/17/2016 9:17:55 AM</td>\n",
       "      <td>90.699997</td>\n",
       "      <td>199.959265</td>\n",
       "      <td>NaN</td>\n",
       "      <td>28.000000</td>\n",
       "      <td>False</td>\n",
       "      <td>1460884675000</td>\n",
       "    </tr>\n",
       "    <tr>\n",
       "      <th>11</th>\n",
       "      <td>6962181067</td>\n",
       "      <td>1.096774</td>\n",
       "      <td>448.000000</td>\n",
       "      <td>466.129032</td>\n",
       "      <td>9794.806452</td>\n",
       "      <td>6.585806</td>\n",
       "      <td>6.519355</td>\n",
       "      <td>0.3237</td>\n",
       "      <td>1.616452</td>\n",
       "      <td>0.960000</td>\n",
       "      <td>4.001613</td>\n",
       "      <td>0.006774</td>\n",
       "      <td>22.806452</td>\n",
       "      <td>18.516129</td>\n",
       "      <td>245.806452</td>\n",
       "      <td>662.322581</td>\n",
       "      <td>1982.032258</td>\n",
       "      <td>4/12/2016 11:59:59 PM</td>\n",
       "      <td>62.500000</td>\n",
       "      <td>137.788914</td>\n",
       "      <td>NaN</td>\n",
       "      <td>24.389999</td>\n",
       "      <td>True</td>\n",
       "      <td>1460505599000</td>\n",
       "    </tr>\n",
       "    <tr>\n",
       "      <th>12</th>\n",
       "      <td>6962181067</td>\n",
       "      <td>1.096774</td>\n",
       "      <td>448.000000</td>\n",
       "      <td>466.129032</td>\n",
       "      <td>9794.806452</td>\n",
       "      <td>6.585806</td>\n",
       "      <td>6.519355</td>\n",
       "      <td>0.3237</td>\n",
       "      <td>1.616452</td>\n",
       "      <td>0.960000</td>\n",
       "      <td>4.001613</td>\n",
       "      <td>0.006774</td>\n",
       "      <td>22.806452</td>\n",
       "      <td>18.516129</td>\n",
       "      <td>245.806452</td>\n",
       "      <td>662.322581</td>\n",
       "      <td>1982.032258</td>\n",
       "      <td>4/13/2016 11:59:59 PM</td>\n",
       "      <td>62.099998</td>\n",
       "      <td>136.907061</td>\n",
       "      <td>NaN</td>\n",
       "      <td>24.240000</td>\n",
       "      <td>True</td>\n",
       "      <td>1460591999000</td>\n",
       "    </tr>\n",
       "    <tr>\n",
       "      <th>13</th>\n",
       "      <td>6962181067</td>\n",
       "      <td>1.096774</td>\n",
       "      <td>448.000000</td>\n",
       "      <td>466.129032</td>\n",
       "      <td>9794.806452</td>\n",
       "      <td>6.585806</td>\n",
       "      <td>6.519355</td>\n",
       "      <td>0.3237</td>\n",
       "      <td>1.616452</td>\n",
       "      <td>0.960000</td>\n",
       "      <td>4.001613</td>\n",
       "      <td>0.006774</td>\n",
       "      <td>22.806452</td>\n",
       "      <td>18.516129</td>\n",
       "      <td>245.806452</td>\n",
       "      <td>662.322581</td>\n",
       "      <td>1982.032258</td>\n",
       "      <td>4/14/2016 11:59:59 PM</td>\n",
       "      <td>61.700001</td>\n",
       "      <td>136.025217</td>\n",
       "      <td>NaN</td>\n",
       "      <td>24.100000</td>\n",
       "      <td>True</td>\n",
       "      <td>1460678399000</td>\n",
       "    </tr>\n",
       "    <tr>\n",
       "      <th>14</th>\n",
       "      <td>6962181067</td>\n",
       "      <td>1.096774</td>\n",
       "      <td>448.000000</td>\n",
       "      <td>466.129032</td>\n",
       "      <td>9794.806452</td>\n",
       "      <td>6.585806</td>\n",
       "      <td>6.519355</td>\n",
       "      <td>0.3237</td>\n",
       "      <td>1.616452</td>\n",
       "      <td>0.960000</td>\n",
       "      <td>4.001613</td>\n",
       "      <td>0.006774</td>\n",
       "      <td>22.806452</td>\n",
       "      <td>18.516129</td>\n",
       "      <td>245.806452</td>\n",
       "      <td>662.322581</td>\n",
       "      <td>1982.032258</td>\n",
       "      <td>4/15/2016 11:59:59 PM</td>\n",
       "      <td>61.500000</td>\n",
       "      <td>135.584291</td>\n",
       "      <td>NaN</td>\n",
       "      <td>24.000000</td>\n",
       "      <td>True</td>\n",
       "      <td>1460764799000</td>\n",
       "    </tr>\n",
       "    <tr>\n",
       "      <th>15</th>\n",
       "      <td>6962181067</td>\n",
       "      <td>1.096774</td>\n",
       "      <td>448.000000</td>\n",
       "      <td>466.129032</td>\n",
       "      <td>9794.806452</td>\n",
       "      <td>6.585806</td>\n",
       "      <td>6.519355</td>\n",
       "      <td>0.3237</td>\n",
       "      <td>1.616452</td>\n",
       "      <td>0.960000</td>\n",
       "      <td>4.001613</td>\n",
       "      <td>0.006774</td>\n",
       "      <td>22.806452</td>\n",
       "      <td>18.516129</td>\n",
       "      <td>245.806452</td>\n",
       "      <td>662.322581</td>\n",
       "      <td>1982.032258</td>\n",
       "      <td>4/16/2016 11:59:59 PM</td>\n",
       "      <td>62.000000</td>\n",
       "      <td>136.686603</td>\n",
       "      <td>NaN</td>\n",
       "      <td>24.209999</td>\n",
       "      <td>True</td>\n",
       "      <td>1460851199000</td>\n",
       "    </tr>\n",
       "    <tr>\n",
       "      <th>16</th>\n",
       "      <td>6962181067</td>\n",
       "      <td>1.096774</td>\n",
       "      <td>448.000000</td>\n",
       "      <td>466.129032</td>\n",
       "      <td>9794.806452</td>\n",
       "      <td>6.585806</td>\n",
       "      <td>6.519355</td>\n",
       "      <td>0.3237</td>\n",
       "      <td>1.616452</td>\n",
       "      <td>0.960000</td>\n",
       "      <td>4.001613</td>\n",
       "      <td>0.006774</td>\n",
       "      <td>22.806452</td>\n",
       "      <td>18.516129</td>\n",
       "      <td>245.806452</td>\n",
       "      <td>662.322581</td>\n",
       "      <td>1982.032258</td>\n",
       "      <td>4/17/2016 11:59:59 PM</td>\n",
       "      <td>61.400002</td>\n",
       "      <td>135.363832</td>\n",
       "      <td>NaN</td>\n",
       "      <td>23.959999</td>\n",
       "      <td>True</td>\n",
       "      <td>1460937599000</td>\n",
       "    </tr>\n",
       "    <tr>\n",
       "      <th>17</th>\n",
       "      <td>6962181067</td>\n",
       "      <td>1.096774</td>\n",
       "      <td>448.000000</td>\n",
       "      <td>466.129032</td>\n",
       "      <td>9794.806452</td>\n",
       "      <td>6.585806</td>\n",
       "      <td>6.519355</td>\n",
       "      <td>0.3237</td>\n",
       "      <td>1.616452</td>\n",
       "      <td>0.960000</td>\n",
       "      <td>4.001613</td>\n",
       "      <td>0.006774</td>\n",
       "      <td>22.806452</td>\n",
       "      <td>18.516129</td>\n",
       "      <td>245.806452</td>\n",
       "      <td>662.322581</td>\n",
       "      <td>1982.032258</td>\n",
       "      <td>4/18/2016 11:59:59 PM</td>\n",
       "      <td>61.200001</td>\n",
       "      <td>134.922906</td>\n",
       "      <td>NaN</td>\n",
       "      <td>23.889999</td>\n",
       "      <td>True</td>\n",
       "      <td>1461023999000</td>\n",
       "    </tr>\n",
       "    <tr>\n",
       "      <th>18</th>\n",
       "      <td>6962181067</td>\n",
       "      <td>1.096774</td>\n",
       "      <td>448.000000</td>\n",
       "      <td>466.129032</td>\n",
       "      <td>9794.806452</td>\n",
       "      <td>6.585806</td>\n",
       "      <td>6.519355</td>\n",
       "      <td>0.3237</td>\n",
       "      <td>1.616452</td>\n",
       "      <td>0.960000</td>\n",
       "      <td>4.001613</td>\n",
       "      <td>0.006774</td>\n",
       "      <td>22.806452</td>\n",
       "      <td>18.516129</td>\n",
       "      <td>245.806452</td>\n",
       "      <td>662.322581</td>\n",
       "      <td>1982.032258</td>\n",
       "      <td>4/19/2016 11:59:59 PM</td>\n",
       "      <td>61.400002</td>\n",
       "      <td>135.363832</td>\n",
       "      <td>NaN</td>\n",
       "      <td>23.959999</td>\n",
       "      <td>True</td>\n",
       "      <td>1461110399000</td>\n",
       "    </tr>\n",
       "    <tr>\n",
       "      <th>19</th>\n",
       "      <td>6962181067</td>\n",
       "      <td>1.096774</td>\n",
       "      <td>448.000000</td>\n",
       "      <td>466.129032</td>\n",
       "      <td>9794.806452</td>\n",
       "      <td>6.585806</td>\n",
       "      <td>6.519355</td>\n",
       "      <td>0.3237</td>\n",
       "      <td>1.616452</td>\n",
       "      <td>0.960000</td>\n",
       "      <td>4.001613</td>\n",
       "      <td>0.006774</td>\n",
       "      <td>22.806452</td>\n",
       "      <td>18.516129</td>\n",
       "      <td>245.806452</td>\n",
       "      <td>662.322581</td>\n",
       "      <td>1982.032258</td>\n",
       "      <td>4/20/2016 11:59:59 PM</td>\n",
       "      <td>61.700001</td>\n",
       "      <td>136.025217</td>\n",
       "      <td>NaN</td>\n",
       "      <td>24.100000</td>\n",
       "      <td>True</td>\n",
       "      <td>1461196799000</td>\n",
       "    </tr>\n",
       "    <tr>\n",
       "      <th>20</th>\n",
       "      <td>6962181067</td>\n",
       "      <td>1.096774</td>\n",
       "      <td>448.000000</td>\n",
       "      <td>466.129032</td>\n",
       "      <td>9794.806452</td>\n",
       "      <td>6.585806</td>\n",
       "      <td>6.519355</td>\n",
       "      <td>0.3237</td>\n",
       "      <td>1.616452</td>\n",
       "      <td>0.960000</td>\n",
       "      <td>4.001613</td>\n",
       "      <td>0.006774</td>\n",
       "      <td>22.806452</td>\n",
       "      <td>18.516129</td>\n",
       "      <td>245.806452</td>\n",
       "      <td>662.322581</td>\n",
       "      <td>1982.032258</td>\n",
       "      <td>4/21/2016 11:59:59 PM</td>\n",
       "      <td>61.400002</td>\n",
       "      <td>135.363832</td>\n",
       "      <td>NaN</td>\n",
       "      <td>23.959999</td>\n",
       "      <td>True</td>\n",
       "      <td>1461283199000</td>\n",
       "    </tr>\n",
       "    <tr>\n",
       "      <th>21</th>\n",
       "      <td>6962181067</td>\n",
       "      <td>1.096774</td>\n",
       "      <td>448.000000</td>\n",
       "      <td>466.129032</td>\n",
       "      <td>9794.806452</td>\n",
       "      <td>6.585806</td>\n",
       "      <td>6.519355</td>\n",
       "      <td>0.3237</td>\n",
       "      <td>1.616452</td>\n",
       "      <td>0.960000</td>\n",
       "      <td>4.001613</td>\n",
       "      <td>0.006774</td>\n",
       "      <td>22.806452</td>\n",
       "      <td>18.516129</td>\n",
       "      <td>245.806452</td>\n",
       "      <td>662.322581</td>\n",
       "      <td>1982.032258</td>\n",
       "      <td>4/22/2016 11:59:59 PM</td>\n",
       "      <td>61.400002</td>\n",
       "      <td>135.363832</td>\n",
       "      <td>NaN</td>\n",
       "      <td>23.959999</td>\n",
       "      <td>True</td>\n",
       "      <td>1461369599000</td>\n",
       "    </tr>\n",
       "    <tr>\n",
       "      <th>22</th>\n",
       "      <td>6962181067</td>\n",
       "      <td>1.096774</td>\n",
       "      <td>448.000000</td>\n",
       "      <td>466.129032</td>\n",
       "      <td>9794.806452</td>\n",
       "      <td>6.585806</td>\n",
       "      <td>6.519355</td>\n",
       "      <td>0.3237</td>\n",
       "      <td>1.616452</td>\n",
       "      <td>0.960000</td>\n",
       "      <td>4.001613</td>\n",
       "      <td>0.006774</td>\n",
       "      <td>22.806452</td>\n",
       "      <td>18.516129</td>\n",
       "      <td>245.806452</td>\n",
       "      <td>662.322581</td>\n",
       "      <td>1982.032258</td>\n",
       "      <td>4/23/2016 11:59:59 PM</td>\n",
       "      <td>61.500000</td>\n",
       "      <td>135.584291</td>\n",
       "      <td>NaN</td>\n",
       "      <td>24.000000</td>\n",
       "      <td>True</td>\n",
       "      <td>1461455999000</td>\n",
       "    </tr>\n",
       "    <tr>\n",
       "      <th>23</th>\n",
       "      <td>6962181067</td>\n",
       "      <td>1.096774</td>\n",
       "      <td>448.000000</td>\n",
       "      <td>466.129032</td>\n",
       "      <td>9794.806452</td>\n",
       "      <td>6.585806</td>\n",
       "      <td>6.519355</td>\n",
       "      <td>0.3237</td>\n",
       "      <td>1.616452</td>\n",
       "      <td>0.960000</td>\n",
       "      <td>4.001613</td>\n",
       "      <td>0.006774</td>\n",
       "      <td>22.806452</td>\n",
       "      <td>18.516129</td>\n",
       "      <td>245.806452</td>\n",
       "      <td>662.322581</td>\n",
       "      <td>1982.032258</td>\n",
       "      <td>4/24/2016 11:59:59 PM</td>\n",
       "      <td>61.500000</td>\n",
       "      <td>135.584291</td>\n",
       "      <td>NaN</td>\n",
       "      <td>24.000000</td>\n",
       "      <td>True</td>\n",
       "      <td>1461542399000</td>\n",
       "    </tr>\n",
       "    <tr>\n",
       "      <th>24</th>\n",
       "      <td>6962181067</td>\n",
       "      <td>1.096774</td>\n",
       "      <td>448.000000</td>\n",
       "      <td>466.129032</td>\n",
       "      <td>9794.806452</td>\n",
       "      <td>6.585806</td>\n",
       "      <td>6.519355</td>\n",
       "      <td>0.3237</td>\n",
       "      <td>1.616452</td>\n",
       "      <td>0.960000</td>\n",
       "      <td>4.001613</td>\n",
       "      <td>0.006774</td>\n",
       "      <td>22.806452</td>\n",
       "      <td>18.516129</td>\n",
       "      <td>245.806452</td>\n",
       "      <td>662.322581</td>\n",
       "      <td>1982.032258</td>\n",
       "      <td>4/25/2016 11:59:59 PM</td>\n",
       "      <td>61.700001</td>\n",
       "      <td>136.025217</td>\n",
       "      <td>NaN</td>\n",
       "      <td>24.100000</td>\n",
       "      <td>True</td>\n",
       "      <td>1461628799000</td>\n",
       "    </tr>\n",
       "    <tr>\n",
       "      <th>25</th>\n",
       "      <td>6962181067</td>\n",
       "      <td>1.096774</td>\n",
       "      <td>448.000000</td>\n",
       "      <td>466.129032</td>\n",
       "      <td>9794.806452</td>\n",
       "      <td>6.585806</td>\n",
       "      <td>6.519355</td>\n",
       "      <td>0.3237</td>\n",
       "      <td>1.616452</td>\n",
       "      <td>0.960000</td>\n",
       "      <td>4.001613</td>\n",
       "      <td>0.006774</td>\n",
       "      <td>22.806452</td>\n",
       "      <td>18.516129</td>\n",
       "      <td>245.806452</td>\n",
       "      <td>662.322581</td>\n",
       "      <td>1982.032258</td>\n",
       "      <td>4/27/2016 11:59:59 PM</td>\n",
       "      <td>61.200001</td>\n",
       "      <td>134.922906</td>\n",
       "      <td>NaN</td>\n",
       "      <td>23.889999</td>\n",
       "      <td>True</td>\n",
       "      <td>1461801599000</td>\n",
       "    </tr>\n",
       "    <tr>\n",
       "      <th>26</th>\n",
       "      <td>6962181067</td>\n",
       "      <td>1.096774</td>\n",
       "      <td>448.000000</td>\n",
       "      <td>466.129032</td>\n",
       "      <td>9794.806452</td>\n",
       "      <td>6.585806</td>\n",
       "      <td>6.519355</td>\n",
       "      <td>0.3237</td>\n",
       "      <td>1.616452</td>\n",
       "      <td>0.960000</td>\n",
       "      <td>4.001613</td>\n",
       "      <td>0.006774</td>\n",
       "      <td>22.806452</td>\n",
       "      <td>18.516129</td>\n",
       "      <td>245.806452</td>\n",
       "      <td>662.322581</td>\n",
       "      <td>1982.032258</td>\n",
       "      <td>4/28/2016 11:59:59 PM</td>\n",
       "      <td>61.200001</td>\n",
       "      <td>134.922906</td>\n",
       "      <td>NaN</td>\n",
       "      <td>23.889999</td>\n",
       "      <td>True</td>\n",
       "      <td>1461887999000</td>\n",
       "    </tr>\n",
       "    <tr>\n",
       "      <th>27</th>\n",
       "      <td>6962181067</td>\n",
       "      <td>1.096774</td>\n",
       "      <td>448.000000</td>\n",
       "      <td>466.129032</td>\n",
       "      <td>9794.806452</td>\n",
       "      <td>6.585806</td>\n",
       "      <td>6.519355</td>\n",
       "      <td>0.3237</td>\n",
       "      <td>1.616452</td>\n",
       "      <td>0.960000</td>\n",
       "      <td>4.001613</td>\n",
       "      <td>0.006774</td>\n",
       "      <td>22.806452</td>\n",
       "      <td>18.516129</td>\n",
       "      <td>245.806452</td>\n",
       "      <td>662.322581</td>\n",
       "      <td>1982.032258</td>\n",
       "      <td>4/29/2016 11:59:59 PM</td>\n",
       "      <td>61.400002</td>\n",
       "      <td>135.363832</td>\n",
       "      <td>NaN</td>\n",
       "      <td>23.959999</td>\n",
       "      <td>True</td>\n",
       "      <td>1461974399000</td>\n",
       "    </tr>\n",
       "    <tr>\n",
       "      <th>28</th>\n",
       "      <td>6962181067</td>\n",
       "      <td>1.096774</td>\n",
       "      <td>448.000000</td>\n",
       "      <td>466.129032</td>\n",
       "      <td>9794.806452</td>\n",
       "      <td>6.585806</td>\n",
       "      <td>6.519355</td>\n",
       "      <td>0.3237</td>\n",
       "      <td>1.616452</td>\n",
       "      <td>0.960000</td>\n",
       "      <td>4.001613</td>\n",
       "      <td>0.006774</td>\n",
       "      <td>22.806452</td>\n",
       "      <td>18.516129</td>\n",
       "      <td>245.806452</td>\n",
       "      <td>662.322581</td>\n",
       "      <td>1982.032258</td>\n",
       "      <td>4/30/2016 11:59:59 PM</td>\n",
       "      <td>61.000000</td>\n",
       "      <td>134.481980</td>\n",
       "      <td>NaN</td>\n",
       "      <td>23.820000</td>\n",
       "      <td>True</td>\n",
       "      <td>1462060799000</td>\n",
       "    </tr>\n",
       "    <tr>\n",
       "      <th>29</th>\n",
       "      <td>6962181067</td>\n",
       "      <td>1.096774</td>\n",
       "      <td>448.000000</td>\n",
       "      <td>466.129032</td>\n",
       "      <td>9794.806452</td>\n",
       "      <td>6.585806</td>\n",
       "      <td>6.519355</td>\n",
       "      <td>0.3237</td>\n",
       "      <td>1.616452</td>\n",
       "      <td>0.960000</td>\n",
       "      <td>4.001613</td>\n",
       "      <td>0.006774</td>\n",
       "      <td>22.806452</td>\n",
       "      <td>18.516129</td>\n",
       "      <td>245.806452</td>\n",
       "      <td>662.322581</td>\n",
       "      <td>1982.032258</td>\n",
       "      <td>5/1/2016 11:59:59 PM</td>\n",
       "      <td>61.700001</td>\n",
       "      <td>136.025217</td>\n",
       "      <td>NaN</td>\n",
       "      <td>24.100000</td>\n",
       "      <td>True</td>\n",
       "      <td>1462147199000</td>\n",
       "    </tr>\n",
       "    <tr>\n",
       "      <th>30</th>\n",
       "      <td>6962181067</td>\n",
       "      <td>1.096774</td>\n",
       "      <td>448.000000</td>\n",
       "      <td>466.129032</td>\n",
       "      <td>9794.806452</td>\n",
       "      <td>6.585806</td>\n",
       "      <td>6.519355</td>\n",
       "      <td>0.3237</td>\n",
       "      <td>1.616452</td>\n",
       "      <td>0.960000</td>\n",
       "      <td>4.001613</td>\n",
       "      <td>0.006774</td>\n",
       "      <td>22.806452</td>\n",
       "      <td>18.516129</td>\n",
       "      <td>245.806452</td>\n",
       "      <td>662.322581</td>\n",
       "      <td>1982.032258</td>\n",
       "      <td>5/2/2016 11:59:59 PM</td>\n",
       "      <td>61.500000</td>\n",
       "      <td>135.584291</td>\n",
       "      <td>NaN</td>\n",
       "      <td>24.000000</td>\n",
       "      <td>True</td>\n",
       "      <td>1462233599000</td>\n",
       "    </tr>\n",
       "    <tr>\n",
       "      <th>31</th>\n",
       "      <td>6962181067</td>\n",
       "      <td>1.096774</td>\n",
       "      <td>448.000000</td>\n",
       "      <td>466.129032</td>\n",
       "      <td>9794.806452</td>\n",
       "      <td>6.585806</td>\n",
       "      <td>6.519355</td>\n",
       "      <td>0.3237</td>\n",
       "      <td>1.616452</td>\n",
       "      <td>0.960000</td>\n",
       "      <td>4.001613</td>\n",
       "      <td>0.006774</td>\n",
       "      <td>22.806452</td>\n",
       "      <td>18.516129</td>\n",
       "      <td>245.806452</td>\n",
       "      <td>662.322581</td>\n",
       "      <td>1982.032258</td>\n",
       "      <td>5/3/2016 11:59:59 PM</td>\n",
       "      <td>61.000000</td>\n",
       "      <td>134.481980</td>\n",
       "      <td>NaN</td>\n",
       "      <td>23.820000</td>\n",
       "      <td>True</td>\n",
       "      <td>1462319999000</td>\n",
       "    </tr>\n",
       "    <tr>\n",
       "      <th>32</th>\n",
       "      <td>6962181067</td>\n",
       "      <td>1.096774</td>\n",
       "      <td>448.000000</td>\n",
       "      <td>466.129032</td>\n",
       "      <td>9794.806452</td>\n",
       "      <td>6.585806</td>\n",
       "      <td>6.519355</td>\n",
       "      <td>0.3237</td>\n",
       "      <td>1.616452</td>\n",
       "      <td>0.960000</td>\n",
       "      <td>4.001613</td>\n",
       "      <td>0.006774</td>\n",
       "      <td>22.806452</td>\n",
       "      <td>18.516129</td>\n",
       "      <td>245.806452</td>\n",
       "      <td>662.322581</td>\n",
       "      <td>1982.032258</td>\n",
       "      <td>5/4/2016 11:59:59 PM</td>\n",
       "      <td>61.099998</td>\n",
       "      <td>134.702439</td>\n",
       "      <td>NaN</td>\n",
       "      <td>23.850000</td>\n",
       "      <td>True</td>\n",
       "      <td>1462406399000</td>\n",
       "    </tr>\n",
       "    <tr>\n",
       "      <th>33</th>\n",
       "      <td>6962181067</td>\n",
       "      <td>1.096774</td>\n",
       "      <td>448.000000</td>\n",
       "      <td>466.129032</td>\n",
       "      <td>9794.806452</td>\n",
       "      <td>6.585806</td>\n",
       "      <td>6.519355</td>\n",
       "      <td>0.3237</td>\n",
       "      <td>1.616452</td>\n",
       "      <td>0.960000</td>\n",
       "      <td>4.001613</td>\n",
       "      <td>0.006774</td>\n",
       "      <td>22.806452</td>\n",
       "      <td>18.516129</td>\n",
       "      <td>245.806452</td>\n",
       "      <td>662.322581</td>\n",
       "      <td>1982.032258</td>\n",
       "      <td>5/5/2016 11:59:59 PM</td>\n",
       "      <td>61.299999</td>\n",
       "      <td>135.143365</td>\n",
       "      <td>NaN</td>\n",
       "      <td>23.930000</td>\n",
       "      <td>True</td>\n",
       "      <td>1462492799000</td>\n",
       "    </tr>\n",
       "    <tr>\n",
       "      <th>34</th>\n",
       "      <td>6962181067</td>\n",
       "      <td>1.096774</td>\n",
       "      <td>448.000000</td>\n",
       "      <td>466.129032</td>\n",
       "      <td>9794.806452</td>\n",
       "      <td>6.585806</td>\n",
       "      <td>6.519355</td>\n",
       "      <td>0.3237</td>\n",
       "      <td>1.616452</td>\n",
       "      <td>0.960000</td>\n",
       "      <td>4.001613</td>\n",
       "      <td>0.006774</td>\n",
       "      <td>22.806452</td>\n",
       "      <td>18.516129</td>\n",
       "      <td>245.806452</td>\n",
       "      <td>662.322581</td>\n",
       "      <td>1982.032258</td>\n",
       "      <td>5/6/2016 11:59:59 PM</td>\n",
       "      <td>61.500000</td>\n",
       "      <td>135.584291</td>\n",
       "      <td>NaN</td>\n",
       "      <td>24.000000</td>\n",
       "      <td>True</td>\n",
       "      <td>1462579199000</td>\n",
       "    </tr>\n",
       "    <tr>\n",
       "      <th>35</th>\n",
       "      <td>6962181067</td>\n",
       "      <td>1.096774</td>\n",
       "      <td>448.000000</td>\n",
       "      <td>466.129032</td>\n",
       "      <td>9794.806452</td>\n",
       "      <td>6.585806</td>\n",
       "      <td>6.519355</td>\n",
       "      <td>0.3237</td>\n",
       "      <td>1.616452</td>\n",
       "      <td>0.960000</td>\n",
       "      <td>4.001613</td>\n",
       "      <td>0.006774</td>\n",
       "      <td>22.806452</td>\n",
       "      <td>18.516129</td>\n",
       "      <td>245.806452</td>\n",
       "      <td>662.322581</td>\n",
       "      <td>1982.032258</td>\n",
       "      <td>5/7/2016 11:59:59 PM</td>\n",
       "      <td>61.200001</td>\n",
       "      <td>134.922906</td>\n",
       "      <td>NaN</td>\n",
       "      <td>23.889999</td>\n",
       "      <td>True</td>\n",
       "      <td>1462665599000</td>\n",
       "    </tr>\n",
       "    <tr>\n",
       "      <th>36</th>\n",
       "      <td>6962181067</td>\n",
       "      <td>1.096774</td>\n",
       "      <td>448.000000</td>\n",
       "      <td>466.129032</td>\n",
       "      <td>9794.806452</td>\n",
       "      <td>6.585806</td>\n",
       "      <td>6.519355</td>\n",
       "      <td>0.3237</td>\n",
       "      <td>1.616452</td>\n",
       "      <td>0.960000</td>\n",
       "      <td>4.001613</td>\n",
       "      <td>0.006774</td>\n",
       "      <td>22.806452</td>\n",
       "      <td>18.516129</td>\n",
       "      <td>245.806452</td>\n",
       "      <td>662.322581</td>\n",
       "      <td>1982.032258</td>\n",
       "      <td>5/8/2016 11:59:59 PM</td>\n",
       "      <td>61.200001</td>\n",
       "      <td>134.922906</td>\n",
       "      <td>NaN</td>\n",
       "      <td>23.889999</td>\n",
       "      <td>True</td>\n",
       "      <td>1462751999000</td>\n",
       "    </tr>\n",
       "    <tr>\n",
       "      <th>37</th>\n",
       "      <td>6962181067</td>\n",
       "      <td>1.096774</td>\n",
       "      <td>448.000000</td>\n",
       "      <td>466.129032</td>\n",
       "      <td>9794.806452</td>\n",
       "      <td>6.585806</td>\n",
       "      <td>6.519355</td>\n",
       "      <td>0.3237</td>\n",
       "      <td>1.616452</td>\n",
       "      <td>0.960000</td>\n",
       "      <td>4.001613</td>\n",
       "      <td>0.006774</td>\n",
       "      <td>22.806452</td>\n",
       "      <td>18.516129</td>\n",
       "      <td>245.806452</td>\n",
       "      <td>662.322581</td>\n",
       "      <td>1982.032258</td>\n",
       "      <td>5/9/2016 11:59:59 PM</td>\n",
       "      <td>62.400002</td>\n",
       "      <td>137.568455</td>\n",
       "      <td>NaN</td>\n",
       "      <td>24.350000</td>\n",
       "      <td>True</td>\n",
       "      <td>1462838399000</td>\n",
       "    </tr>\n",
       "    <tr>\n",
       "      <th>38</th>\n",
       "      <td>6962181067</td>\n",
       "      <td>1.096774</td>\n",
       "      <td>448.000000</td>\n",
       "      <td>466.129032</td>\n",
       "      <td>9794.806452</td>\n",
       "      <td>6.585806</td>\n",
       "      <td>6.519355</td>\n",
       "      <td>0.3237</td>\n",
       "      <td>1.616452</td>\n",
       "      <td>0.960000</td>\n",
       "      <td>4.001613</td>\n",
       "      <td>0.006774</td>\n",
       "      <td>22.806452</td>\n",
       "      <td>18.516129</td>\n",
       "      <td>245.806452</td>\n",
       "      <td>662.322581</td>\n",
       "      <td>1982.032258</td>\n",
       "      <td>5/10/2016 11:59:59 PM</td>\n",
       "      <td>62.099998</td>\n",
       "      <td>136.907061</td>\n",
       "      <td>NaN</td>\n",
       "      <td>24.240000</td>\n",
       "      <td>True</td>\n",
       "      <td>1462924799000</td>\n",
       "    </tr>\n",
       "    <tr>\n",
       "      <th>39</th>\n",
       "      <td>6962181067</td>\n",
       "      <td>1.096774</td>\n",
       "      <td>448.000000</td>\n",
       "      <td>466.129032</td>\n",
       "      <td>9794.806452</td>\n",
       "      <td>6.585806</td>\n",
       "      <td>6.519355</td>\n",
       "      <td>0.3237</td>\n",
       "      <td>1.616452</td>\n",
       "      <td>0.960000</td>\n",
       "      <td>4.001613</td>\n",
       "      <td>0.006774</td>\n",
       "      <td>22.806452</td>\n",
       "      <td>18.516129</td>\n",
       "      <td>245.806452</td>\n",
       "      <td>662.322581</td>\n",
       "      <td>1982.032258</td>\n",
       "      <td>5/11/2016 11:59:59 PM</td>\n",
       "      <td>61.900002</td>\n",
       "      <td>136.466144</td>\n",
       "      <td>NaN</td>\n",
       "      <td>24.170000</td>\n",
       "      <td>True</td>\n",
       "      <td>1463011199000</td>\n",
       "    </tr>\n",
       "    <tr>\n",
       "      <th>40</th>\n",
       "      <td>6962181067</td>\n",
       "      <td>1.096774</td>\n",
       "      <td>448.000000</td>\n",
       "      <td>466.129032</td>\n",
       "      <td>9794.806452</td>\n",
       "      <td>6.585806</td>\n",
       "      <td>6.519355</td>\n",
       "      <td>0.3237</td>\n",
       "      <td>1.616452</td>\n",
       "      <td>0.960000</td>\n",
       "      <td>4.001613</td>\n",
       "      <td>0.006774</td>\n",
       "      <td>22.806452</td>\n",
       "      <td>18.516129</td>\n",
       "      <td>245.806452</td>\n",
       "      <td>662.322581</td>\n",
       "      <td>1982.032258</td>\n",
       "      <td>5/12/2016 11:59:59 PM</td>\n",
       "      <td>61.900002</td>\n",
       "      <td>136.466144</td>\n",
       "      <td>NaN</td>\n",
       "      <td>24.170000</td>\n",
       "      <td>True</td>\n",
       "      <td>1463097599000</td>\n",
       "    </tr>\n",
       "  </tbody>\n",
       "</table>\n",
       "</div>"
      ],
      "text/plain": [
       "            Id  TotalSleepRecords  TotalMinutesAsleep  TotalTimeInBed  \\\n",
       "0   1503960366           1.080000          360.280000      383.200000   \n",
       "1   1503960366           1.080000          360.280000      383.200000   \n",
       "2   1927972279           1.600000          417.000000      437.800000   \n",
       "3   4319703577           1.038462          476.653846      501.961538   \n",
       "4   4319703577           1.038462          476.653846      501.961538   \n",
       "5   4558609924           1.000000          127.600000      140.000000   \n",
       "6   4558609924           1.000000          127.600000      140.000000   \n",
       "7   4558609924           1.000000          127.600000      140.000000   \n",
       "8   4558609924           1.000000          127.600000      140.000000   \n",
       "9   4558609924           1.000000          127.600000      140.000000   \n",
       "10  5577150313           1.038462          432.000000      460.615385   \n",
       "11  6962181067           1.096774          448.000000      466.129032   \n",
       "12  6962181067           1.096774          448.000000      466.129032   \n",
       "13  6962181067           1.096774          448.000000      466.129032   \n",
       "14  6962181067           1.096774          448.000000      466.129032   \n",
       "15  6962181067           1.096774          448.000000      466.129032   \n",
       "16  6962181067           1.096774          448.000000      466.129032   \n",
       "17  6962181067           1.096774          448.000000      466.129032   \n",
       "18  6962181067           1.096774          448.000000      466.129032   \n",
       "19  6962181067           1.096774          448.000000      466.129032   \n",
       "20  6962181067           1.096774          448.000000      466.129032   \n",
       "21  6962181067           1.096774          448.000000      466.129032   \n",
       "22  6962181067           1.096774          448.000000      466.129032   \n",
       "23  6962181067           1.096774          448.000000      466.129032   \n",
       "24  6962181067           1.096774          448.000000      466.129032   \n",
       "25  6962181067           1.096774          448.000000      466.129032   \n",
       "26  6962181067           1.096774          448.000000      466.129032   \n",
       "27  6962181067           1.096774          448.000000      466.129032   \n",
       "28  6962181067           1.096774          448.000000      466.129032   \n",
       "29  6962181067           1.096774          448.000000      466.129032   \n",
       "30  6962181067           1.096774          448.000000      466.129032   \n",
       "31  6962181067           1.096774          448.000000      466.129032   \n",
       "32  6962181067           1.096774          448.000000      466.129032   \n",
       "33  6962181067           1.096774          448.000000      466.129032   \n",
       "34  6962181067           1.096774          448.000000      466.129032   \n",
       "35  6962181067           1.096774          448.000000      466.129032   \n",
       "36  6962181067           1.096774          448.000000      466.129032   \n",
       "37  6962181067           1.096774          448.000000      466.129032   \n",
       "38  6962181067           1.096774          448.000000      466.129032   \n",
       "39  6962181067           1.096774          448.000000      466.129032   \n",
       "40  6962181067           1.096774          448.000000      466.129032   \n",
       "\n",
       "      TotalSteps  TotalDistance  TrackerDistance  LoggedActivitiesDistance  \\\n",
       "0   12116.741935       7.809677         7.809677                    0.0000   \n",
       "1   12116.741935       7.809677         7.809677                    0.0000   \n",
       "2     916.129032       0.634516         0.634516                    0.0000   \n",
       "3    7268.838710       4.892258         4.892258                    0.0000   \n",
       "4    7268.838710       4.892258         4.892258                    0.0000   \n",
       "5    7685.129032       5.080645         5.080645                    0.0000   \n",
       "6    7685.129032       5.080645         5.080645                    0.0000   \n",
       "7    7685.129032       5.080645         5.080645                    0.0000   \n",
       "8    7685.129032       5.080645         5.080645                    0.0000   \n",
       "9    7685.129032       5.080645         5.080645                    0.0000   \n",
       "10   8304.433333       6.213333         6.213333                    0.0000   \n",
       "11   9794.806452       6.585806         6.519355                    0.3237   \n",
       "12   9794.806452       6.585806         6.519355                    0.3237   \n",
       "13   9794.806452       6.585806         6.519355                    0.3237   \n",
       "14   9794.806452       6.585806         6.519355                    0.3237   \n",
       "15   9794.806452       6.585806         6.519355                    0.3237   \n",
       "16   9794.806452       6.585806         6.519355                    0.3237   \n",
       "17   9794.806452       6.585806         6.519355                    0.3237   \n",
       "18   9794.806452       6.585806         6.519355                    0.3237   \n",
       "19   9794.806452       6.585806         6.519355                    0.3237   \n",
       "20   9794.806452       6.585806         6.519355                    0.3237   \n",
       "21   9794.806452       6.585806         6.519355                    0.3237   \n",
       "22   9794.806452       6.585806         6.519355                    0.3237   \n",
       "23   9794.806452       6.585806         6.519355                    0.3237   \n",
       "24   9794.806452       6.585806         6.519355                    0.3237   \n",
       "25   9794.806452       6.585806         6.519355                    0.3237   \n",
       "26   9794.806452       6.585806         6.519355                    0.3237   \n",
       "27   9794.806452       6.585806         6.519355                    0.3237   \n",
       "28   9794.806452       6.585806         6.519355                    0.3237   \n",
       "29   9794.806452       6.585806         6.519355                    0.3237   \n",
       "30   9794.806452       6.585806         6.519355                    0.3237   \n",
       "31   9794.806452       6.585806         6.519355                    0.3237   \n",
       "32   9794.806452       6.585806         6.519355                    0.3237   \n",
       "33   9794.806452       6.585806         6.519355                    0.3237   \n",
       "34   9794.806452       6.585806         6.519355                    0.3237   \n",
       "35   9794.806452       6.585806         6.519355                    0.3237   \n",
       "36   9794.806452       6.585806         6.519355                    0.3237   \n",
       "37   9794.806452       6.585806         6.519355                    0.3237   \n",
       "38   9794.806452       6.585806         6.519355                    0.3237   \n",
       "39   9794.806452       6.585806         6.519355                    0.3237   \n",
       "40   9794.806452       6.585806         6.519355                    0.3237   \n",
       "\n",
       "    VeryActiveDistance  ModeratelyActiveDistance  LightActiveDistance  \\\n",
       "0             2.858387                  0.794194             4.152903   \n",
       "1             2.858387                  0.794194             4.152903   \n",
       "2             0.095806                  0.031290             0.507097   \n",
       "3             0.278065                  0.502258             3.768710   \n",
       "4             0.278065                  0.502258             3.768710   \n",
       "5             0.549355                  0.682258             3.847742   \n",
       "6             0.549355                  0.682258             3.847742   \n",
       "7             0.549355                  0.682258             3.847742   \n",
       "8             0.549355                  0.682258             3.847742   \n",
       "9             0.549355                  0.682258             3.847742   \n",
       "10            3.113667                  0.658000             2.428000   \n",
       "11            1.616452                  0.960000             4.001613   \n",
       "12            1.616452                  0.960000             4.001613   \n",
       "13            1.616452                  0.960000             4.001613   \n",
       "14            1.616452                  0.960000             4.001613   \n",
       "15            1.616452                  0.960000             4.001613   \n",
       "16            1.616452                  0.960000             4.001613   \n",
       "17            1.616452                  0.960000             4.001613   \n",
       "18            1.616452                  0.960000             4.001613   \n",
       "19            1.616452                  0.960000             4.001613   \n",
       "20            1.616452                  0.960000             4.001613   \n",
       "21            1.616452                  0.960000             4.001613   \n",
       "22            1.616452                  0.960000             4.001613   \n",
       "23            1.616452                  0.960000             4.001613   \n",
       "24            1.616452                  0.960000             4.001613   \n",
       "25            1.616452                  0.960000             4.001613   \n",
       "26            1.616452                  0.960000             4.001613   \n",
       "27            1.616452                  0.960000             4.001613   \n",
       "28            1.616452                  0.960000             4.001613   \n",
       "29            1.616452                  0.960000             4.001613   \n",
       "30            1.616452                  0.960000             4.001613   \n",
       "31            1.616452                  0.960000             4.001613   \n",
       "32            1.616452                  0.960000             4.001613   \n",
       "33            1.616452                  0.960000             4.001613   \n",
       "34            1.616452                  0.960000             4.001613   \n",
       "35            1.616452                  0.960000             4.001613   \n",
       "36            1.616452                  0.960000             4.001613   \n",
       "37            1.616452                  0.960000             4.001613   \n",
       "38            1.616452                  0.960000             4.001613   \n",
       "39            1.616452                  0.960000             4.001613   \n",
       "40            1.616452                  0.960000             4.001613   \n",
       "\n",
       "    SedentaryActiveDistance  VeryActiveMinutes  FairlyActiveMinutes  \\\n",
       "0                  0.000000          38.709677            19.161290   \n",
       "1                  0.000000          38.709677            19.161290   \n",
       "2                  0.000000           1.322581             0.774194   \n",
       "3                  0.000000           3.580645            12.322581   \n",
       "4                  0.000000           3.580645            12.322581   \n",
       "5                  0.000000          10.387097            13.709677   \n",
       "6                  0.000000          10.387097            13.709677   \n",
       "7                  0.000000          10.387097            13.709677   \n",
       "8                  0.000000          10.387097            13.709677   \n",
       "9                  0.000000          10.387097            13.709677   \n",
       "10                 0.000000          87.333333            29.833333   \n",
       "11                 0.006774          22.806452            18.516129   \n",
       "12                 0.006774          22.806452            18.516129   \n",
       "13                 0.006774          22.806452            18.516129   \n",
       "14                 0.006774          22.806452            18.516129   \n",
       "15                 0.006774          22.806452            18.516129   \n",
       "16                 0.006774          22.806452            18.516129   \n",
       "17                 0.006774          22.806452            18.516129   \n",
       "18                 0.006774          22.806452            18.516129   \n",
       "19                 0.006774          22.806452            18.516129   \n",
       "20                 0.006774          22.806452            18.516129   \n",
       "21                 0.006774          22.806452            18.516129   \n",
       "22                 0.006774          22.806452            18.516129   \n",
       "23                 0.006774          22.806452            18.516129   \n",
       "24                 0.006774          22.806452            18.516129   \n",
       "25                 0.006774          22.806452            18.516129   \n",
       "26                 0.006774          22.806452            18.516129   \n",
       "27                 0.006774          22.806452            18.516129   \n",
       "28                 0.006774          22.806452            18.516129   \n",
       "29                 0.006774          22.806452            18.516129   \n",
       "30                 0.006774          22.806452            18.516129   \n",
       "31                 0.006774          22.806452            18.516129   \n",
       "32                 0.006774          22.806452            18.516129   \n",
       "33                 0.006774          22.806452            18.516129   \n",
       "34                 0.006774          22.806452            18.516129   \n",
       "35                 0.006774          22.806452            18.516129   \n",
       "36                 0.006774          22.806452            18.516129   \n",
       "37                 0.006774          22.806452            18.516129   \n",
       "38                 0.006774          22.806452            18.516129   \n",
       "39                 0.006774          22.806452            18.516129   \n",
       "40                 0.006774          22.806452            18.516129   \n",
       "\n",
       "    LightlyActiveMinutes  SedentaryMinutes     Calories  \\\n",
       "0             219.935484        848.161290  1816.419355   \n",
       "1             219.935484        848.161290  1816.419355   \n",
       "2              38.580645       1317.419355  2172.806452   \n",
       "3             228.774194        735.806452  2037.677419   \n",
       "4             228.774194        735.806452  2037.677419   \n",
       "5             284.967742       1093.612903  2033.258065   \n",
       "6             284.967742       1093.612903  2033.258065   \n",
       "7             284.967742       1093.612903  2033.258065   \n",
       "8             284.967742       1093.612903  2033.258065   \n",
       "9             284.967742       1093.612903  2033.258065   \n",
       "10            147.933333        754.433333  3359.633333   \n",
       "11            245.806452        662.322581  1982.032258   \n",
       "12            245.806452        662.322581  1982.032258   \n",
       "13            245.806452        662.322581  1982.032258   \n",
       "14            245.806452        662.322581  1982.032258   \n",
       "15            245.806452        662.322581  1982.032258   \n",
       "16            245.806452        662.322581  1982.032258   \n",
       "17            245.806452        662.322581  1982.032258   \n",
       "18            245.806452        662.322581  1982.032258   \n",
       "19            245.806452        662.322581  1982.032258   \n",
       "20            245.806452        662.322581  1982.032258   \n",
       "21            245.806452        662.322581  1982.032258   \n",
       "22            245.806452        662.322581  1982.032258   \n",
       "23            245.806452        662.322581  1982.032258   \n",
       "24            245.806452        662.322581  1982.032258   \n",
       "25            245.806452        662.322581  1982.032258   \n",
       "26            245.806452        662.322581  1982.032258   \n",
       "27            245.806452        662.322581  1982.032258   \n",
       "28            245.806452        662.322581  1982.032258   \n",
       "29            245.806452        662.322581  1982.032258   \n",
       "30            245.806452        662.322581  1982.032258   \n",
       "31            245.806452        662.322581  1982.032258   \n",
       "32            245.806452        662.322581  1982.032258   \n",
       "33            245.806452        662.322581  1982.032258   \n",
       "34            245.806452        662.322581  1982.032258   \n",
       "35            245.806452        662.322581  1982.032258   \n",
       "36            245.806452        662.322581  1982.032258   \n",
       "37            245.806452        662.322581  1982.032258   \n",
       "38            245.806452        662.322581  1982.032258   \n",
       "39            245.806452        662.322581  1982.032258   \n",
       "40            245.806452        662.322581  1982.032258   \n",
       "\n",
       "                     Date    WeightKg  WeightPounds   Fat        BMI  \\\n",
       "0    5/2/2016 11:59:59 PM   52.599998    115.963147  22.0  22.650000   \n",
       "1    5/3/2016 11:59:59 PM   52.599998    115.963147   NaN  22.650000   \n",
       "2    4/13/2016 1:08:52 AM  133.500000    294.317120   NaN  47.540001   \n",
       "3   4/17/2016 11:59:59 PM   72.400002    159.614681  25.0  27.450001   \n",
       "4    5/4/2016 11:59:59 PM   72.300003    159.394222   NaN  27.379999   \n",
       "5   4/18/2016 11:59:59 PM   69.699997    153.662190   NaN  27.250000   \n",
       "6   4/25/2016 11:59:59 PM   70.300003    154.984977   NaN  27.459999   \n",
       "7    5/1/2016 11:59:59 PM   69.900002    154.103125   NaN  27.320000   \n",
       "8    5/2/2016 11:59:59 PM   69.199997    152.559879   NaN  27.040001   \n",
       "9    5/9/2016 11:59:59 PM   69.099998    152.339420   NaN  27.000000   \n",
       "10   4/17/2016 9:17:55 AM   90.699997    199.959265   NaN  28.000000   \n",
       "11  4/12/2016 11:59:59 PM   62.500000    137.788914   NaN  24.389999   \n",
       "12  4/13/2016 11:59:59 PM   62.099998    136.907061   NaN  24.240000   \n",
       "13  4/14/2016 11:59:59 PM   61.700001    136.025217   NaN  24.100000   \n",
       "14  4/15/2016 11:59:59 PM   61.500000    135.584291   NaN  24.000000   \n",
       "15  4/16/2016 11:59:59 PM   62.000000    136.686603   NaN  24.209999   \n",
       "16  4/17/2016 11:59:59 PM   61.400002    135.363832   NaN  23.959999   \n",
       "17  4/18/2016 11:59:59 PM   61.200001    134.922906   NaN  23.889999   \n",
       "18  4/19/2016 11:59:59 PM   61.400002    135.363832   NaN  23.959999   \n",
       "19  4/20/2016 11:59:59 PM   61.700001    136.025217   NaN  24.100000   \n",
       "20  4/21/2016 11:59:59 PM   61.400002    135.363832   NaN  23.959999   \n",
       "21  4/22/2016 11:59:59 PM   61.400002    135.363832   NaN  23.959999   \n",
       "22  4/23/2016 11:59:59 PM   61.500000    135.584291   NaN  24.000000   \n",
       "23  4/24/2016 11:59:59 PM   61.500000    135.584291   NaN  24.000000   \n",
       "24  4/25/2016 11:59:59 PM   61.700001    136.025217   NaN  24.100000   \n",
       "25  4/27/2016 11:59:59 PM   61.200001    134.922906   NaN  23.889999   \n",
       "26  4/28/2016 11:59:59 PM   61.200001    134.922906   NaN  23.889999   \n",
       "27  4/29/2016 11:59:59 PM   61.400002    135.363832   NaN  23.959999   \n",
       "28  4/30/2016 11:59:59 PM   61.000000    134.481980   NaN  23.820000   \n",
       "29   5/1/2016 11:59:59 PM   61.700001    136.025217   NaN  24.100000   \n",
       "30   5/2/2016 11:59:59 PM   61.500000    135.584291   NaN  24.000000   \n",
       "31   5/3/2016 11:59:59 PM   61.000000    134.481980   NaN  23.820000   \n",
       "32   5/4/2016 11:59:59 PM   61.099998    134.702439   NaN  23.850000   \n",
       "33   5/5/2016 11:59:59 PM   61.299999    135.143365   NaN  23.930000   \n",
       "34   5/6/2016 11:59:59 PM   61.500000    135.584291   NaN  24.000000   \n",
       "35   5/7/2016 11:59:59 PM   61.200001    134.922906   NaN  23.889999   \n",
       "36   5/8/2016 11:59:59 PM   61.200001    134.922906   NaN  23.889999   \n",
       "37   5/9/2016 11:59:59 PM   62.400002    137.568455   NaN  24.350000   \n",
       "38  5/10/2016 11:59:59 PM   62.099998    136.907061   NaN  24.240000   \n",
       "39  5/11/2016 11:59:59 PM   61.900002    136.466144   NaN  24.170000   \n",
       "40  5/12/2016 11:59:59 PM   61.900002    136.466144   NaN  24.170000   \n",
       "\n",
       "    IsManualReport          LogId  \n",
       "0             True  1462233599000  \n",
       "1             True  1462319999000  \n",
       "2            False  1460509732000  \n",
       "3             True  1460937599000  \n",
       "4             True  1462406399000  \n",
       "5             True  1461023999000  \n",
       "6             True  1461628799000  \n",
       "7             True  1462147199000  \n",
       "8             True  1462233599000  \n",
       "9             True  1462838399000  \n",
       "10           False  1460884675000  \n",
       "11            True  1460505599000  \n",
       "12            True  1460591999000  \n",
       "13            True  1460678399000  \n",
       "14            True  1460764799000  \n",
       "15            True  1460851199000  \n",
       "16            True  1460937599000  \n",
       "17            True  1461023999000  \n",
       "18            True  1461110399000  \n",
       "19            True  1461196799000  \n",
       "20            True  1461283199000  \n",
       "21            True  1461369599000  \n",
       "22            True  1461455999000  \n",
       "23            True  1461542399000  \n",
       "24            True  1461628799000  \n",
       "25            True  1461801599000  \n",
       "26            True  1461887999000  \n",
       "27            True  1461974399000  \n",
       "28            True  1462060799000  \n",
       "29            True  1462147199000  \n",
       "30            True  1462233599000  \n",
       "31            True  1462319999000  \n",
       "32            True  1462406399000  \n",
       "33            True  1462492799000  \n",
       "34            True  1462579199000  \n",
       "35            True  1462665599000  \n",
       "36            True  1462751999000  \n",
       "37            True  1462838399000  \n",
       "38            True  1462924799000  \n",
       "39            True  1463011199000  \n",
       "40            True  1463097599000  "
      ]
     },
     "execution_count": 6,
     "metadata": {},
     "output_type": "execute_result"
    }
   ],
   "source": [
    "pd.set_option('display.max_columns', None)\n",
    "from functools import reduce\n",
    "merge_df = [sleep_grouped, dailyActivity_merged_grouped, weightLogInfo_merged]\n",
    "merge_final = reduce(lambda left,right: pd.merge(left,right,on='Id'), merge_df)\n",
    "# merge_final=merge_final.drop(columns='Gender')\n",
    "# merge_final = merge_final.astype(float)\n",
    "merge_final"
   ]
  },
  {
   "cell_type": "code",
   "execution_count": 13,
   "metadata": {},
   "outputs": [
    {
     "data": {
      "text/html": [
       "<div>\n",
       "<style scoped>\n",
       "    .dataframe tbody tr th:only-of-type {\n",
       "        vertical-align: middle;\n",
       "    }\n",
       "\n",
       "    .dataframe tbody tr th {\n",
       "        vertical-align: top;\n",
       "    }\n",
       "\n",
       "    .dataframe thead th {\n",
       "        text-align: right;\n",
       "    }\n",
       "</style>\n",
       "<table border=\"1\" class=\"dataframe\">\n",
       "  <thead>\n",
       "    <tr style=\"text-align: right;\">\n",
       "      <th></th>\n",
       "      <th>Id</th>\n",
       "      <th>TotalMinutesAsleep</th>\n",
       "      <th>TotalTimeInBed</th>\n",
       "      <th>LightlyActiveMinutes</th>\n",
       "      <th>FairlyActiveMinutes</th>\n",
       "      <th>VeryActiveMinutes</th>\n",
       "    </tr>\n",
       "  </thead>\n",
       "  <tbody>\n",
       "    <tr>\n",
       "      <th>0</th>\n",
       "      <td>1503960366</td>\n",
       "      <td>360.280000</td>\n",
       "      <td>383.200000</td>\n",
       "      <td>219.935484</td>\n",
       "      <td>19.161290</td>\n",
       "      <td>38.709677</td>\n",
       "    </tr>\n",
       "    <tr>\n",
       "      <th>1</th>\n",
       "      <td>1503960366</td>\n",
       "      <td>360.280000</td>\n",
       "      <td>383.200000</td>\n",
       "      <td>219.935484</td>\n",
       "      <td>19.161290</td>\n",
       "      <td>38.709677</td>\n",
       "    </tr>\n",
       "    <tr>\n",
       "      <th>2</th>\n",
       "      <td>1927972279</td>\n",
       "      <td>417.000000</td>\n",
       "      <td>437.800000</td>\n",
       "      <td>38.580645</td>\n",
       "      <td>0.774194</td>\n",
       "      <td>1.322581</td>\n",
       "    </tr>\n",
       "    <tr>\n",
       "      <th>3</th>\n",
       "      <td>4319703577</td>\n",
       "      <td>476.653846</td>\n",
       "      <td>501.961538</td>\n",
       "      <td>228.774194</td>\n",
       "      <td>12.322581</td>\n",
       "      <td>3.580645</td>\n",
       "    </tr>\n",
       "    <tr>\n",
       "      <th>4</th>\n",
       "      <td>4319703577</td>\n",
       "      <td>476.653846</td>\n",
       "      <td>501.961538</td>\n",
       "      <td>228.774194</td>\n",
       "      <td>12.322581</td>\n",
       "      <td>3.580645</td>\n",
       "    </tr>\n",
       "    <tr>\n",
       "      <th>5</th>\n",
       "      <td>4558609924</td>\n",
       "      <td>127.600000</td>\n",
       "      <td>140.000000</td>\n",
       "      <td>284.967742</td>\n",
       "      <td>13.709677</td>\n",
       "      <td>10.387097</td>\n",
       "    </tr>\n",
       "    <tr>\n",
       "      <th>6</th>\n",
       "      <td>4558609924</td>\n",
       "      <td>127.600000</td>\n",
       "      <td>140.000000</td>\n",
       "      <td>284.967742</td>\n",
       "      <td>13.709677</td>\n",
       "      <td>10.387097</td>\n",
       "    </tr>\n",
       "    <tr>\n",
       "      <th>7</th>\n",
       "      <td>4558609924</td>\n",
       "      <td>127.600000</td>\n",
       "      <td>140.000000</td>\n",
       "      <td>284.967742</td>\n",
       "      <td>13.709677</td>\n",
       "      <td>10.387097</td>\n",
       "    </tr>\n",
       "    <tr>\n",
       "      <th>8</th>\n",
       "      <td>4558609924</td>\n",
       "      <td>127.600000</td>\n",
       "      <td>140.000000</td>\n",
       "      <td>284.967742</td>\n",
       "      <td>13.709677</td>\n",
       "      <td>10.387097</td>\n",
       "    </tr>\n",
       "    <tr>\n",
       "      <th>9</th>\n",
       "      <td>4558609924</td>\n",
       "      <td>127.600000</td>\n",
       "      <td>140.000000</td>\n",
       "      <td>284.967742</td>\n",
       "      <td>13.709677</td>\n",
       "      <td>10.387097</td>\n",
       "    </tr>\n",
       "    <tr>\n",
       "      <th>10</th>\n",
       "      <td>5577150313</td>\n",
       "      <td>432.000000</td>\n",
       "      <td>460.615385</td>\n",
       "      <td>147.933333</td>\n",
       "      <td>29.833333</td>\n",
       "      <td>87.333333</td>\n",
       "    </tr>\n",
       "    <tr>\n",
       "      <th>11</th>\n",
       "      <td>6962181067</td>\n",
       "      <td>448.000000</td>\n",
       "      <td>466.129032</td>\n",
       "      <td>245.806452</td>\n",
       "      <td>18.516129</td>\n",
       "      <td>22.806452</td>\n",
       "    </tr>\n",
       "    <tr>\n",
       "      <th>12</th>\n",
       "      <td>6962181067</td>\n",
       "      <td>448.000000</td>\n",
       "      <td>466.129032</td>\n",
       "      <td>245.806452</td>\n",
       "      <td>18.516129</td>\n",
       "      <td>22.806452</td>\n",
       "    </tr>\n",
       "    <tr>\n",
       "      <th>13</th>\n",
       "      <td>6962181067</td>\n",
       "      <td>448.000000</td>\n",
       "      <td>466.129032</td>\n",
       "      <td>245.806452</td>\n",
       "      <td>18.516129</td>\n",
       "      <td>22.806452</td>\n",
       "    </tr>\n",
       "    <tr>\n",
       "      <th>14</th>\n",
       "      <td>6962181067</td>\n",
       "      <td>448.000000</td>\n",
       "      <td>466.129032</td>\n",
       "      <td>245.806452</td>\n",
       "      <td>18.516129</td>\n",
       "      <td>22.806452</td>\n",
       "    </tr>\n",
       "    <tr>\n",
       "      <th>15</th>\n",
       "      <td>6962181067</td>\n",
       "      <td>448.000000</td>\n",
       "      <td>466.129032</td>\n",
       "      <td>245.806452</td>\n",
       "      <td>18.516129</td>\n",
       "      <td>22.806452</td>\n",
       "    </tr>\n",
       "    <tr>\n",
       "      <th>16</th>\n",
       "      <td>6962181067</td>\n",
       "      <td>448.000000</td>\n",
       "      <td>466.129032</td>\n",
       "      <td>245.806452</td>\n",
       "      <td>18.516129</td>\n",
       "      <td>22.806452</td>\n",
       "    </tr>\n",
       "    <tr>\n",
       "      <th>17</th>\n",
       "      <td>6962181067</td>\n",
       "      <td>448.000000</td>\n",
       "      <td>466.129032</td>\n",
       "      <td>245.806452</td>\n",
       "      <td>18.516129</td>\n",
       "      <td>22.806452</td>\n",
       "    </tr>\n",
       "    <tr>\n",
       "      <th>18</th>\n",
       "      <td>6962181067</td>\n",
       "      <td>448.000000</td>\n",
       "      <td>466.129032</td>\n",
       "      <td>245.806452</td>\n",
       "      <td>18.516129</td>\n",
       "      <td>22.806452</td>\n",
       "    </tr>\n",
       "    <tr>\n",
       "      <th>19</th>\n",
       "      <td>6962181067</td>\n",
       "      <td>448.000000</td>\n",
       "      <td>466.129032</td>\n",
       "      <td>245.806452</td>\n",
       "      <td>18.516129</td>\n",
       "      <td>22.806452</td>\n",
       "    </tr>\n",
       "    <tr>\n",
       "      <th>20</th>\n",
       "      <td>6962181067</td>\n",
       "      <td>448.000000</td>\n",
       "      <td>466.129032</td>\n",
       "      <td>245.806452</td>\n",
       "      <td>18.516129</td>\n",
       "      <td>22.806452</td>\n",
       "    </tr>\n",
       "    <tr>\n",
       "      <th>21</th>\n",
       "      <td>6962181067</td>\n",
       "      <td>448.000000</td>\n",
       "      <td>466.129032</td>\n",
       "      <td>245.806452</td>\n",
       "      <td>18.516129</td>\n",
       "      <td>22.806452</td>\n",
       "    </tr>\n",
       "    <tr>\n",
       "      <th>22</th>\n",
       "      <td>6962181067</td>\n",
       "      <td>448.000000</td>\n",
       "      <td>466.129032</td>\n",
       "      <td>245.806452</td>\n",
       "      <td>18.516129</td>\n",
       "      <td>22.806452</td>\n",
       "    </tr>\n",
       "    <tr>\n",
       "      <th>23</th>\n",
       "      <td>6962181067</td>\n",
       "      <td>448.000000</td>\n",
       "      <td>466.129032</td>\n",
       "      <td>245.806452</td>\n",
       "      <td>18.516129</td>\n",
       "      <td>22.806452</td>\n",
       "    </tr>\n",
       "    <tr>\n",
       "      <th>24</th>\n",
       "      <td>6962181067</td>\n",
       "      <td>448.000000</td>\n",
       "      <td>466.129032</td>\n",
       "      <td>245.806452</td>\n",
       "      <td>18.516129</td>\n",
       "      <td>22.806452</td>\n",
       "    </tr>\n",
       "    <tr>\n",
       "      <th>25</th>\n",
       "      <td>6962181067</td>\n",
       "      <td>448.000000</td>\n",
       "      <td>466.129032</td>\n",
       "      <td>245.806452</td>\n",
       "      <td>18.516129</td>\n",
       "      <td>22.806452</td>\n",
       "    </tr>\n",
       "    <tr>\n",
       "      <th>26</th>\n",
       "      <td>6962181067</td>\n",
       "      <td>448.000000</td>\n",
       "      <td>466.129032</td>\n",
       "      <td>245.806452</td>\n",
       "      <td>18.516129</td>\n",
       "      <td>22.806452</td>\n",
       "    </tr>\n",
       "    <tr>\n",
       "      <th>27</th>\n",
       "      <td>6962181067</td>\n",
       "      <td>448.000000</td>\n",
       "      <td>466.129032</td>\n",
       "      <td>245.806452</td>\n",
       "      <td>18.516129</td>\n",
       "      <td>22.806452</td>\n",
       "    </tr>\n",
       "    <tr>\n",
       "      <th>28</th>\n",
       "      <td>6962181067</td>\n",
       "      <td>448.000000</td>\n",
       "      <td>466.129032</td>\n",
       "      <td>245.806452</td>\n",
       "      <td>18.516129</td>\n",
       "      <td>22.806452</td>\n",
       "    </tr>\n",
       "    <tr>\n",
       "      <th>29</th>\n",
       "      <td>6962181067</td>\n",
       "      <td>448.000000</td>\n",
       "      <td>466.129032</td>\n",
       "      <td>245.806452</td>\n",
       "      <td>18.516129</td>\n",
       "      <td>22.806452</td>\n",
       "    </tr>\n",
       "    <tr>\n",
       "      <th>30</th>\n",
       "      <td>6962181067</td>\n",
       "      <td>448.000000</td>\n",
       "      <td>466.129032</td>\n",
       "      <td>245.806452</td>\n",
       "      <td>18.516129</td>\n",
       "      <td>22.806452</td>\n",
       "    </tr>\n",
       "    <tr>\n",
       "      <th>31</th>\n",
       "      <td>6962181067</td>\n",
       "      <td>448.000000</td>\n",
       "      <td>466.129032</td>\n",
       "      <td>245.806452</td>\n",
       "      <td>18.516129</td>\n",
       "      <td>22.806452</td>\n",
       "    </tr>\n",
       "    <tr>\n",
       "      <th>32</th>\n",
       "      <td>6962181067</td>\n",
       "      <td>448.000000</td>\n",
       "      <td>466.129032</td>\n",
       "      <td>245.806452</td>\n",
       "      <td>18.516129</td>\n",
       "      <td>22.806452</td>\n",
       "    </tr>\n",
       "    <tr>\n",
       "      <th>33</th>\n",
       "      <td>6962181067</td>\n",
       "      <td>448.000000</td>\n",
       "      <td>466.129032</td>\n",
       "      <td>245.806452</td>\n",
       "      <td>18.516129</td>\n",
       "      <td>22.806452</td>\n",
       "    </tr>\n",
       "    <tr>\n",
       "      <th>34</th>\n",
       "      <td>6962181067</td>\n",
       "      <td>448.000000</td>\n",
       "      <td>466.129032</td>\n",
       "      <td>245.806452</td>\n",
       "      <td>18.516129</td>\n",
       "      <td>22.806452</td>\n",
       "    </tr>\n",
       "    <tr>\n",
       "      <th>35</th>\n",
       "      <td>6962181067</td>\n",
       "      <td>448.000000</td>\n",
       "      <td>466.129032</td>\n",
       "      <td>245.806452</td>\n",
       "      <td>18.516129</td>\n",
       "      <td>22.806452</td>\n",
       "    </tr>\n",
       "    <tr>\n",
       "      <th>36</th>\n",
       "      <td>6962181067</td>\n",
       "      <td>448.000000</td>\n",
       "      <td>466.129032</td>\n",
       "      <td>245.806452</td>\n",
       "      <td>18.516129</td>\n",
       "      <td>22.806452</td>\n",
       "    </tr>\n",
       "    <tr>\n",
       "      <th>37</th>\n",
       "      <td>6962181067</td>\n",
       "      <td>448.000000</td>\n",
       "      <td>466.129032</td>\n",
       "      <td>245.806452</td>\n",
       "      <td>18.516129</td>\n",
       "      <td>22.806452</td>\n",
       "    </tr>\n",
       "    <tr>\n",
       "      <th>38</th>\n",
       "      <td>6962181067</td>\n",
       "      <td>448.000000</td>\n",
       "      <td>466.129032</td>\n",
       "      <td>245.806452</td>\n",
       "      <td>18.516129</td>\n",
       "      <td>22.806452</td>\n",
       "    </tr>\n",
       "    <tr>\n",
       "      <th>39</th>\n",
       "      <td>6962181067</td>\n",
       "      <td>448.000000</td>\n",
       "      <td>466.129032</td>\n",
       "      <td>245.806452</td>\n",
       "      <td>18.516129</td>\n",
       "      <td>22.806452</td>\n",
       "    </tr>\n",
       "    <tr>\n",
       "      <th>40</th>\n",
       "      <td>6962181067</td>\n",
       "      <td>448.000000</td>\n",
       "      <td>466.129032</td>\n",
       "      <td>245.806452</td>\n",
       "      <td>18.516129</td>\n",
       "      <td>22.806452</td>\n",
       "    </tr>\n",
       "  </tbody>\n",
       "</table>\n",
       "</div>"
      ],
      "text/plain": [
       "            Id  TotalMinutesAsleep  TotalTimeInBed  LightlyActiveMinutes  \\\n",
       "0   1503960366          360.280000      383.200000            219.935484   \n",
       "1   1503960366          360.280000      383.200000            219.935484   \n",
       "2   1927972279          417.000000      437.800000             38.580645   \n",
       "3   4319703577          476.653846      501.961538            228.774194   \n",
       "4   4319703577          476.653846      501.961538            228.774194   \n",
       "5   4558609924          127.600000      140.000000            284.967742   \n",
       "6   4558609924          127.600000      140.000000            284.967742   \n",
       "7   4558609924          127.600000      140.000000            284.967742   \n",
       "8   4558609924          127.600000      140.000000            284.967742   \n",
       "9   4558609924          127.600000      140.000000            284.967742   \n",
       "10  5577150313          432.000000      460.615385            147.933333   \n",
       "11  6962181067          448.000000      466.129032            245.806452   \n",
       "12  6962181067          448.000000      466.129032            245.806452   \n",
       "13  6962181067          448.000000      466.129032            245.806452   \n",
       "14  6962181067          448.000000      466.129032            245.806452   \n",
       "15  6962181067          448.000000      466.129032            245.806452   \n",
       "16  6962181067          448.000000      466.129032            245.806452   \n",
       "17  6962181067          448.000000      466.129032            245.806452   \n",
       "18  6962181067          448.000000      466.129032            245.806452   \n",
       "19  6962181067          448.000000      466.129032            245.806452   \n",
       "20  6962181067          448.000000      466.129032            245.806452   \n",
       "21  6962181067          448.000000      466.129032            245.806452   \n",
       "22  6962181067          448.000000      466.129032            245.806452   \n",
       "23  6962181067          448.000000      466.129032            245.806452   \n",
       "24  6962181067          448.000000      466.129032            245.806452   \n",
       "25  6962181067          448.000000      466.129032            245.806452   \n",
       "26  6962181067          448.000000      466.129032            245.806452   \n",
       "27  6962181067          448.000000      466.129032            245.806452   \n",
       "28  6962181067          448.000000      466.129032            245.806452   \n",
       "29  6962181067          448.000000      466.129032            245.806452   \n",
       "30  6962181067          448.000000      466.129032            245.806452   \n",
       "31  6962181067          448.000000      466.129032            245.806452   \n",
       "32  6962181067          448.000000      466.129032            245.806452   \n",
       "33  6962181067          448.000000      466.129032            245.806452   \n",
       "34  6962181067          448.000000      466.129032            245.806452   \n",
       "35  6962181067          448.000000      466.129032            245.806452   \n",
       "36  6962181067          448.000000      466.129032            245.806452   \n",
       "37  6962181067          448.000000      466.129032            245.806452   \n",
       "38  6962181067          448.000000      466.129032            245.806452   \n",
       "39  6962181067          448.000000      466.129032            245.806452   \n",
       "40  6962181067          448.000000      466.129032            245.806452   \n",
       "\n",
       "    FairlyActiveMinutes  VeryActiveMinutes  \n",
       "0             19.161290          38.709677  \n",
       "1             19.161290          38.709677  \n",
       "2              0.774194           1.322581  \n",
       "3             12.322581           3.580645  \n",
       "4             12.322581           3.580645  \n",
       "5             13.709677          10.387097  \n",
       "6             13.709677          10.387097  \n",
       "7             13.709677          10.387097  \n",
       "8             13.709677          10.387097  \n",
       "9             13.709677          10.387097  \n",
       "10            29.833333          87.333333  \n",
       "11            18.516129          22.806452  \n",
       "12            18.516129          22.806452  \n",
       "13            18.516129          22.806452  \n",
       "14            18.516129          22.806452  \n",
       "15            18.516129          22.806452  \n",
       "16            18.516129          22.806452  \n",
       "17            18.516129          22.806452  \n",
       "18            18.516129          22.806452  \n",
       "19            18.516129          22.806452  \n",
       "20            18.516129          22.806452  \n",
       "21            18.516129          22.806452  \n",
       "22            18.516129          22.806452  \n",
       "23            18.516129          22.806452  \n",
       "24            18.516129          22.806452  \n",
       "25            18.516129          22.806452  \n",
       "26            18.516129          22.806452  \n",
       "27            18.516129          22.806452  \n",
       "28            18.516129          22.806452  \n",
       "29            18.516129          22.806452  \n",
       "30            18.516129          22.806452  \n",
       "31            18.516129          22.806452  \n",
       "32            18.516129          22.806452  \n",
       "33            18.516129          22.806452  \n",
       "34            18.516129          22.806452  \n",
       "35            18.516129          22.806452  \n",
       "36            18.516129          22.806452  \n",
       "37            18.516129          22.806452  \n",
       "38            18.516129          22.806452  \n",
       "39            18.516129          22.806452  \n",
       "40            18.516129          22.806452  "
      ]
     },
     "execution_count": 13,
     "metadata": {},
     "output_type": "execute_result"
    }
   ],
   "source": [
    "new_df_fit=merge_final[['Id', 'TotalMinutesAsleep', 'TotalTimeInBed', 'LightlyActiveMinutes', 'FairlyActiveMinutes','VeryActiveMinutes']]\n",
    "new_df_fit"
   ]
  },
  {
   "cell_type": "code",
   "execution_count": 11,
   "metadata": {},
   "outputs": [
    {
     "data": {
      "application/vnd.plotly.v1+json": {
       "config": {
        "plotlyServerURL": "https://plot.ly"
       },
       "data": [
        {
         "hovertemplate": "TotalMinutesAsleep=%{x}<br>VeryActiveMinutes=%{y}<extra></extra>",
         "legendgroup": "",
         "marker": {
          "color": "#636efa",
          "symbol": "circle"
         },
         "mode": "markers",
         "name": "",
         "orientation": "v",
         "showlegend": false,
         "type": "scatter",
         "x": [
          360.28,
          360.28,
          417,
          476.65384615384613,
          476.65384615384613,
          127.6,
          127.6,
          127.6,
          127.6,
          127.6,
          432,
          448,
          448,
          448,
          448,
          448,
          448,
          448,
          448,
          448,
          448,
          448,
          448,
          448,
          448,
          448,
          448,
          448,
          448,
          448,
          448,
          448,
          448,
          448,
          448,
          448,
          448,
          448,
          448,
          448,
          448
         ],
         "xaxis": "x",
         "y": [
          38.70967741935484,
          38.70967741935484,
          1.3225806451612903,
          3.5806451612903225,
          3.5806451612903225,
          10.387096774193548,
          10.387096774193548,
          10.387096774193548,
          10.387096774193548,
          10.387096774193548,
          87.33333333333333,
          22.806451612903224,
          22.806451612903224,
          22.806451612903224,
          22.806451612903224,
          22.806451612903224,
          22.806451612903224,
          22.806451612903224,
          22.806451612903224,
          22.806451612903224,
          22.806451612903224,
          22.806451612903224,
          22.806451612903224,
          22.806451612903224,
          22.806451612903224,
          22.806451612903224,
          22.806451612903224,
          22.806451612903224,
          22.806451612903224,
          22.806451612903224,
          22.806451612903224,
          22.806451612903224,
          22.806451612903224,
          22.806451612903224,
          22.806451612903224,
          22.806451612903224,
          22.806451612903224,
          22.806451612903224,
          22.806451612903224,
          22.806451612903224,
          22.806451612903224
         ],
         "yaxis": "y"
        }
       ],
       "layout": {
        "legend": {
         "tracegroupgap": 0
        },
        "margin": {
         "t": 60
        },
        "template": {
         "data": {
          "bar": [
           {
            "error_x": {
             "color": "#2a3f5f"
            },
            "error_y": {
             "color": "#2a3f5f"
            },
            "marker": {
             "line": {
              "color": "#E5ECF6",
              "width": 0.5
             },
             "pattern": {
              "fillmode": "overlay",
              "size": 10,
              "solidity": 0.2
             }
            },
            "type": "bar"
           }
          ],
          "barpolar": [
           {
            "marker": {
             "line": {
              "color": "#E5ECF6",
              "width": 0.5
             },
             "pattern": {
              "fillmode": "overlay",
              "size": 10,
              "solidity": 0.2
             }
            },
            "type": "barpolar"
           }
          ],
          "carpet": [
           {
            "aaxis": {
             "endlinecolor": "#2a3f5f",
             "gridcolor": "white",
             "linecolor": "white",
             "minorgridcolor": "white",
             "startlinecolor": "#2a3f5f"
            },
            "baxis": {
             "endlinecolor": "#2a3f5f",
             "gridcolor": "white",
             "linecolor": "white",
             "minorgridcolor": "white",
             "startlinecolor": "#2a3f5f"
            },
            "type": "carpet"
           }
          ],
          "choropleth": [
           {
            "colorbar": {
             "outlinewidth": 0,
             "ticks": ""
            },
            "type": "choropleth"
           }
          ],
          "contour": [
           {
            "colorbar": {
             "outlinewidth": 0,
             "ticks": ""
            },
            "colorscale": [
             [
              0,
              "#0d0887"
             ],
             [
              0.1111111111111111,
              "#46039f"
             ],
             [
              0.2222222222222222,
              "#7201a8"
             ],
             [
              0.3333333333333333,
              "#9c179e"
             ],
             [
              0.4444444444444444,
              "#bd3786"
             ],
             [
              0.5555555555555556,
              "#d8576b"
             ],
             [
              0.6666666666666666,
              "#ed7953"
             ],
             [
              0.7777777777777778,
              "#fb9f3a"
             ],
             [
              0.8888888888888888,
              "#fdca26"
             ],
             [
              1,
              "#f0f921"
             ]
            ],
            "type": "contour"
           }
          ],
          "contourcarpet": [
           {
            "colorbar": {
             "outlinewidth": 0,
             "ticks": ""
            },
            "type": "contourcarpet"
           }
          ],
          "heatmap": [
           {
            "colorbar": {
             "outlinewidth": 0,
             "ticks": ""
            },
            "colorscale": [
             [
              0,
              "#0d0887"
             ],
             [
              0.1111111111111111,
              "#46039f"
             ],
             [
              0.2222222222222222,
              "#7201a8"
             ],
             [
              0.3333333333333333,
              "#9c179e"
             ],
             [
              0.4444444444444444,
              "#bd3786"
             ],
             [
              0.5555555555555556,
              "#d8576b"
             ],
             [
              0.6666666666666666,
              "#ed7953"
             ],
             [
              0.7777777777777778,
              "#fb9f3a"
             ],
             [
              0.8888888888888888,
              "#fdca26"
             ],
             [
              1,
              "#f0f921"
             ]
            ],
            "type": "heatmap"
           }
          ],
          "heatmapgl": [
           {
            "colorbar": {
             "outlinewidth": 0,
             "ticks": ""
            },
            "colorscale": [
             [
              0,
              "#0d0887"
             ],
             [
              0.1111111111111111,
              "#46039f"
             ],
             [
              0.2222222222222222,
              "#7201a8"
             ],
             [
              0.3333333333333333,
              "#9c179e"
             ],
             [
              0.4444444444444444,
              "#bd3786"
             ],
             [
              0.5555555555555556,
              "#d8576b"
             ],
             [
              0.6666666666666666,
              "#ed7953"
             ],
             [
              0.7777777777777778,
              "#fb9f3a"
             ],
             [
              0.8888888888888888,
              "#fdca26"
             ],
             [
              1,
              "#f0f921"
             ]
            ],
            "type": "heatmapgl"
           }
          ],
          "histogram": [
           {
            "marker": {
             "pattern": {
              "fillmode": "overlay",
              "size": 10,
              "solidity": 0.2
             }
            },
            "type": "histogram"
           }
          ],
          "histogram2d": [
           {
            "colorbar": {
             "outlinewidth": 0,
             "ticks": ""
            },
            "colorscale": [
             [
              0,
              "#0d0887"
             ],
             [
              0.1111111111111111,
              "#46039f"
             ],
             [
              0.2222222222222222,
              "#7201a8"
             ],
             [
              0.3333333333333333,
              "#9c179e"
             ],
             [
              0.4444444444444444,
              "#bd3786"
             ],
             [
              0.5555555555555556,
              "#d8576b"
             ],
             [
              0.6666666666666666,
              "#ed7953"
             ],
             [
              0.7777777777777778,
              "#fb9f3a"
             ],
             [
              0.8888888888888888,
              "#fdca26"
             ],
             [
              1,
              "#f0f921"
             ]
            ],
            "type": "histogram2d"
           }
          ],
          "histogram2dcontour": [
           {
            "colorbar": {
             "outlinewidth": 0,
             "ticks": ""
            },
            "colorscale": [
             [
              0,
              "#0d0887"
             ],
             [
              0.1111111111111111,
              "#46039f"
             ],
             [
              0.2222222222222222,
              "#7201a8"
             ],
             [
              0.3333333333333333,
              "#9c179e"
             ],
             [
              0.4444444444444444,
              "#bd3786"
             ],
             [
              0.5555555555555556,
              "#d8576b"
             ],
             [
              0.6666666666666666,
              "#ed7953"
             ],
             [
              0.7777777777777778,
              "#fb9f3a"
             ],
             [
              0.8888888888888888,
              "#fdca26"
             ],
             [
              1,
              "#f0f921"
             ]
            ],
            "type": "histogram2dcontour"
           }
          ],
          "mesh3d": [
           {
            "colorbar": {
             "outlinewidth": 0,
             "ticks": ""
            },
            "type": "mesh3d"
           }
          ],
          "parcoords": [
           {
            "line": {
             "colorbar": {
              "outlinewidth": 0,
              "ticks": ""
             }
            },
            "type": "parcoords"
           }
          ],
          "pie": [
           {
            "automargin": true,
            "type": "pie"
           }
          ],
          "scatter": [
           {
            "marker": {
             "colorbar": {
              "outlinewidth": 0,
              "ticks": ""
             }
            },
            "type": "scatter"
           }
          ],
          "scatter3d": [
           {
            "line": {
             "colorbar": {
              "outlinewidth": 0,
              "ticks": ""
             }
            },
            "marker": {
             "colorbar": {
              "outlinewidth": 0,
              "ticks": ""
             }
            },
            "type": "scatter3d"
           }
          ],
          "scattercarpet": [
           {
            "marker": {
             "colorbar": {
              "outlinewidth": 0,
              "ticks": ""
             }
            },
            "type": "scattercarpet"
           }
          ],
          "scattergeo": [
           {
            "marker": {
             "colorbar": {
              "outlinewidth": 0,
              "ticks": ""
             }
            },
            "type": "scattergeo"
           }
          ],
          "scattergl": [
           {
            "marker": {
             "colorbar": {
              "outlinewidth": 0,
              "ticks": ""
             }
            },
            "type": "scattergl"
           }
          ],
          "scattermapbox": [
           {
            "marker": {
             "colorbar": {
              "outlinewidth": 0,
              "ticks": ""
             }
            },
            "type": "scattermapbox"
           }
          ],
          "scatterpolar": [
           {
            "marker": {
             "colorbar": {
              "outlinewidth": 0,
              "ticks": ""
             }
            },
            "type": "scatterpolar"
           }
          ],
          "scatterpolargl": [
           {
            "marker": {
             "colorbar": {
              "outlinewidth": 0,
              "ticks": ""
             }
            },
            "type": "scatterpolargl"
           }
          ],
          "scatterternary": [
           {
            "marker": {
             "colorbar": {
              "outlinewidth": 0,
              "ticks": ""
             }
            },
            "type": "scatterternary"
           }
          ],
          "surface": [
           {
            "colorbar": {
             "outlinewidth": 0,
             "ticks": ""
            },
            "colorscale": [
             [
              0,
              "#0d0887"
             ],
             [
              0.1111111111111111,
              "#46039f"
             ],
             [
              0.2222222222222222,
              "#7201a8"
             ],
             [
              0.3333333333333333,
              "#9c179e"
             ],
             [
              0.4444444444444444,
              "#bd3786"
             ],
             [
              0.5555555555555556,
              "#d8576b"
             ],
             [
              0.6666666666666666,
              "#ed7953"
             ],
             [
              0.7777777777777778,
              "#fb9f3a"
             ],
             [
              0.8888888888888888,
              "#fdca26"
             ],
             [
              1,
              "#f0f921"
             ]
            ],
            "type": "surface"
           }
          ],
          "table": [
           {
            "cells": {
             "fill": {
              "color": "#EBF0F8"
             },
             "line": {
              "color": "white"
             }
            },
            "header": {
             "fill": {
              "color": "#C8D4E3"
             },
             "line": {
              "color": "white"
             }
            },
            "type": "table"
           }
          ]
         },
         "layout": {
          "annotationdefaults": {
           "arrowcolor": "#2a3f5f",
           "arrowhead": 0,
           "arrowwidth": 1
          },
          "autotypenumbers": "strict",
          "coloraxis": {
           "colorbar": {
            "outlinewidth": 0,
            "ticks": ""
           }
          },
          "colorscale": {
           "diverging": [
            [
             0,
             "#8e0152"
            ],
            [
             0.1,
             "#c51b7d"
            ],
            [
             0.2,
             "#de77ae"
            ],
            [
             0.3,
             "#f1b6da"
            ],
            [
             0.4,
             "#fde0ef"
            ],
            [
             0.5,
             "#f7f7f7"
            ],
            [
             0.6,
             "#e6f5d0"
            ],
            [
             0.7,
             "#b8e186"
            ],
            [
             0.8,
             "#7fbc41"
            ],
            [
             0.9,
             "#4d9221"
            ],
            [
             1,
             "#276419"
            ]
           ],
           "sequential": [
            [
             0,
             "#0d0887"
            ],
            [
             0.1111111111111111,
             "#46039f"
            ],
            [
             0.2222222222222222,
             "#7201a8"
            ],
            [
             0.3333333333333333,
             "#9c179e"
            ],
            [
             0.4444444444444444,
             "#bd3786"
            ],
            [
             0.5555555555555556,
             "#d8576b"
            ],
            [
             0.6666666666666666,
             "#ed7953"
            ],
            [
             0.7777777777777778,
             "#fb9f3a"
            ],
            [
             0.8888888888888888,
             "#fdca26"
            ],
            [
             1,
             "#f0f921"
            ]
           ],
           "sequentialminus": [
            [
             0,
             "#0d0887"
            ],
            [
             0.1111111111111111,
             "#46039f"
            ],
            [
             0.2222222222222222,
             "#7201a8"
            ],
            [
             0.3333333333333333,
             "#9c179e"
            ],
            [
             0.4444444444444444,
             "#bd3786"
            ],
            [
             0.5555555555555556,
             "#d8576b"
            ],
            [
             0.6666666666666666,
             "#ed7953"
            ],
            [
             0.7777777777777778,
             "#fb9f3a"
            ],
            [
             0.8888888888888888,
             "#fdca26"
            ],
            [
             1,
             "#f0f921"
            ]
           ]
          },
          "colorway": [
           "#636efa",
           "#EF553B",
           "#00cc96",
           "#ab63fa",
           "#FFA15A",
           "#19d3f3",
           "#FF6692",
           "#B6E880",
           "#FF97FF",
           "#FECB52"
          ],
          "font": {
           "color": "#2a3f5f"
          },
          "geo": {
           "bgcolor": "white",
           "lakecolor": "white",
           "landcolor": "#E5ECF6",
           "showlakes": true,
           "showland": true,
           "subunitcolor": "white"
          },
          "hoverlabel": {
           "align": "left"
          },
          "hovermode": "closest",
          "mapbox": {
           "style": "light"
          },
          "paper_bgcolor": "white",
          "plot_bgcolor": "#E5ECF6",
          "polar": {
           "angularaxis": {
            "gridcolor": "white",
            "linecolor": "white",
            "ticks": ""
           },
           "bgcolor": "#E5ECF6",
           "radialaxis": {
            "gridcolor": "white",
            "linecolor": "white",
            "ticks": ""
           }
          },
          "scene": {
           "xaxis": {
            "backgroundcolor": "#E5ECF6",
            "gridcolor": "white",
            "gridwidth": 2,
            "linecolor": "white",
            "showbackground": true,
            "ticks": "",
            "zerolinecolor": "white"
           },
           "yaxis": {
            "backgroundcolor": "#E5ECF6",
            "gridcolor": "white",
            "gridwidth": 2,
            "linecolor": "white",
            "showbackground": true,
            "ticks": "",
            "zerolinecolor": "white"
           },
           "zaxis": {
            "backgroundcolor": "#E5ECF6",
            "gridcolor": "white",
            "gridwidth": 2,
            "linecolor": "white",
            "showbackground": true,
            "ticks": "",
            "zerolinecolor": "white"
           }
          },
          "shapedefaults": {
           "line": {
            "color": "#2a3f5f"
           }
          },
          "ternary": {
           "aaxis": {
            "gridcolor": "white",
            "linecolor": "white",
            "ticks": ""
           },
           "baxis": {
            "gridcolor": "white",
            "linecolor": "white",
            "ticks": ""
           },
           "bgcolor": "#E5ECF6",
           "caxis": {
            "gridcolor": "white",
            "linecolor": "white",
            "ticks": ""
           }
          },
          "title": {
           "x": 0.05
          },
          "xaxis": {
           "automargin": true,
           "gridcolor": "white",
           "linecolor": "white",
           "ticks": "",
           "title": {
            "standoff": 15
           },
           "zerolinecolor": "white",
           "zerolinewidth": 2
          },
          "yaxis": {
           "automargin": true,
           "gridcolor": "white",
           "linecolor": "white",
           "ticks": "",
           "title": {
            "standoff": 15
           },
           "zerolinecolor": "white",
           "zerolinewidth": 2
          }
         }
        },
        "xaxis": {
         "anchor": "y",
         "domain": [
          0,
          1
         ],
         "title": {
          "text": "TotalMinutesAsleep"
         }
        },
        "yaxis": {
         "anchor": "x",
         "domain": [
          0,
          1
         ],
         "title": {
          "text": "VeryActiveMinutes"
         }
        }
       }
      },
      "text/html": [
       "<div>                            <div id=\"2c2f5aee-5938-4cbb-9668-09f524ebf1ec\" class=\"plotly-graph-div\" style=\"height:525px; width:100%;\"></div>            <script type=\"text/javascript\">                require([\"plotly\"], function(Plotly) {                    window.PLOTLYENV=window.PLOTLYENV || {};                                    if (document.getElementById(\"2c2f5aee-5938-4cbb-9668-09f524ebf1ec\")) {                    Plotly.newPlot(                        \"2c2f5aee-5938-4cbb-9668-09f524ebf1ec\",                        [{\"hovertemplate\":\"TotalMinutesAsleep=%{x}<br>VeryActiveMinutes=%{y}<extra></extra>\",\"legendgroup\":\"\",\"marker\":{\"color\":\"#636efa\",\"symbol\":\"circle\"},\"mode\":\"markers\",\"name\":\"\",\"orientation\":\"v\",\"showlegend\":false,\"x\":[360.28,360.28,417.0,476.65384615384613,476.65384615384613,127.6,127.6,127.6,127.6,127.6,432.0,448.0,448.0,448.0,448.0,448.0,448.0,448.0,448.0,448.0,448.0,448.0,448.0,448.0,448.0,448.0,448.0,448.0,448.0,448.0,448.0,448.0,448.0,448.0,448.0,448.0,448.0,448.0,448.0,448.0,448.0],\"xaxis\":\"x\",\"y\":[38.70967741935484,38.70967741935484,1.3225806451612903,3.5806451612903225,3.5806451612903225,10.387096774193548,10.387096774193548,10.387096774193548,10.387096774193548,10.387096774193548,87.33333333333333,22.806451612903224,22.806451612903224,22.806451612903224,22.806451612903224,22.806451612903224,22.806451612903224,22.806451612903224,22.806451612903224,22.806451612903224,22.806451612903224,22.806451612903224,22.806451612903224,22.806451612903224,22.806451612903224,22.806451612903224,22.806451612903224,22.806451612903224,22.806451612903224,22.806451612903224,22.806451612903224,22.806451612903224,22.806451612903224,22.806451612903224,22.806451612903224,22.806451612903224,22.806451612903224,22.806451612903224,22.806451612903224,22.806451612903224,22.806451612903224],\"yaxis\":\"y\",\"type\":\"scatter\"}],                        {\"template\":{\"data\":{\"bar\":[{\"error_x\":{\"color\":\"#2a3f5f\"},\"error_y\":{\"color\":\"#2a3f5f\"},\"marker\":{\"line\":{\"color\":\"#E5ECF6\",\"width\":0.5},\"pattern\":{\"fillmode\":\"overlay\",\"size\":10,\"solidity\":0.2}},\"type\":\"bar\"}],\"barpolar\":[{\"marker\":{\"line\":{\"color\":\"#E5ECF6\",\"width\":0.5},\"pattern\":{\"fillmode\":\"overlay\",\"size\":10,\"solidity\":0.2}},\"type\":\"barpolar\"}],\"carpet\":[{\"aaxis\":{\"endlinecolor\":\"#2a3f5f\",\"gridcolor\":\"white\",\"linecolor\":\"white\",\"minorgridcolor\":\"white\",\"startlinecolor\":\"#2a3f5f\"},\"baxis\":{\"endlinecolor\":\"#2a3f5f\",\"gridcolor\":\"white\",\"linecolor\":\"white\",\"minorgridcolor\":\"white\",\"startlinecolor\":\"#2a3f5f\"},\"type\":\"carpet\"}],\"choropleth\":[{\"colorbar\":{\"outlinewidth\":0,\"ticks\":\"\"},\"type\":\"choropleth\"}],\"contour\":[{\"colorbar\":{\"outlinewidth\":0,\"ticks\":\"\"},\"colorscale\":[[0.0,\"#0d0887\"],[0.1111111111111111,\"#46039f\"],[0.2222222222222222,\"#7201a8\"],[0.3333333333333333,\"#9c179e\"],[0.4444444444444444,\"#bd3786\"],[0.5555555555555556,\"#d8576b\"],[0.6666666666666666,\"#ed7953\"],[0.7777777777777778,\"#fb9f3a\"],[0.8888888888888888,\"#fdca26\"],[1.0,\"#f0f921\"]],\"type\":\"contour\"}],\"contourcarpet\":[{\"colorbar\":{\"outlinewidth\":0,\"ticks\":\"\"},\"type\":\"contourcarpet\"}],\"heatmap\":[{\"colorbar\":{\"outlinewidth\":0,\"ticks\":\"\"},\"colorscale\":[[0.0,\"#0d0887\"],[0.1111111111111111,\"#46039f\"],[0.2222222222222222,\"#7201a8\"],[0.3333333333333333,\"#9c179e\"],[0.4444444444444444,\"#bd3786\"],[0.5555555555555556,\"#d8576b\"],[0.6666666666666666,\"#ed7953\"],[0.7777777777777778,\"#fb9f3a\"],[0.8888888888888888,\"#fdca26\"],[1.0,\"#f0f921\"]],\"type\":\"heatmap\"}],\"heatmapgl\":[{\"colorbar\":{\"outlinewidth\":0,\"ticks\":\"\"},\"colorscale\":[[0.0,\"#0d0887\"],[0.1111111111111111,\"#46039f\"],[0.2222222222222222,\"#7201a8\"],[0.3333333333333333,\"#9c179e\"],[0.4444444444444444,\"#bd3786\"],[0.5555555555555556,\"#d8576b\"],[0.6666666666666666,\"#ed7953\"],[0.7777777777777778,\"#fb9f3a\"],[0.8888888888888888,\"#fdca26\"],[1.0,\"#f0f921\"]],\"type\":\"heatmapgl\"}],\"histogram\":[{\"marker\":{\"pattern\":{\"fillmode\":\"overlay\",\"size\":10,\"solidity\":0.2}},\"type\":\"histogram\"}],\"histogram2d\":[{\"colorbar\":{\"outlinewidth\":0,\"ticks\":\"\"},\"colorscale\":[[0.0,\"#0d0887\"],[0.1111111111111111,\"#46039f\"],[0.2222222222222222,\"#7201a8\"],[0.3333333333333333,\"#9c179e\"],[0.4444444444444444,\"#bd3786\"],[0.5555555555555556,\"#d8576b\"],[0.6666666666666666,\"#ed7953\"],[0.7777777777777778,\"#fb9f3a\"],[0.8888888888888888,\"#fdca26\"],[1.0,\"#f0f921\"]],\"type\":\"histogram2d\"}],\"histogram2dcontour\":[{\"colorbar\":{\"outlinewidth\":0,\"ticks\":\"\"},\"colorscale\":[[0.0,\"#0d0887\"],[0.1111111111111111,\"#46039f\"],[0.2222222222222222,\"#7201a8\"],[0.3333333333333333,\"#9c179e\"],[0.4444444444444444,\"#bd3786\"],[0.5555555555555556,\"#d8576b\"],[0.6666666666666666,\"#ed7953\"],[0.7777777777777778,\"#fb9f3a\"],[0.8888888888888888,\"#fdca26\"],[1.0,\"#f0f921\"]],\"type\":\"histogram2dcontour\"}],\"mesh3d\":[{\"colorbar\":{\"outlinewidth\":0,\"ticks\":\"\"},\"type\":\"mesh3d\"}],\"parcoords\":[{\"line\":{\"colorbar\":{\"outlinewidth\":0,\"ticks\":\"\"}},\"type\":\"parcoords\"}],\"pie\":[{\"automargin\":true,\"type\":\"pie\"}],\"scatter\":[{\"marker\":{\"colorbar\":{\"outlinewidth\":0,\"ticks\":\"\"}},\"type\":\"scatter\"}],\"scatter3d\":[{\"line\":{\"colorbar\":{\"outlinewidth\":0,\"ticks\":\"\"}},\"marker\":{\"colorbar\":{\"outlinewidth\":0,\"ticks\":\"\"}},\"type\":\"scatter3d\"}],\"scattercarpet\":[{\"marker\":{\"colorbar\":{\"outlinewidth\":0,\"ticks\":\"\"}},\"type\":\"scattercarpet\"}],\"scattergeo\":[{\"marker\":{\"colorbar\":{\"outlinewidth\":0,\"ticks\":\"\"}},\"type\":\"scattergeo\"}],\"scattergl\":[{\"marker\":{\"colorbar\":{\"outlinewidth\":0,\"ticks\":\"\"}},\"type\":\"scattergl\"}],\"scattermapbox\":[{\"marker\":{\"colorbar\":{\"outlinewidth\":0,\"ticks\":\"\"}},\"type\":\"scattermapbox\"}],\"scatterpolar\":[{\"marker\":{\"colorbar\":{\"outlinewidth\":0,\"ticks\":\"\"}},\"type\":\"scatterpolar\"}],\"scatterpolargl\":[{\"marker\":{\"colorbar\":{\"outlinewidth\":0,\"ticks\":\"\"}},\"type\":\"scatterpolargl\"}],\"scatterternary\":[{\"marker\":{\"colorbar\":{\"outlinewidth\":0,\"ticks\":\"\"}},\"type\":\"scatterternary\"}],\"surface\":[{\"colorbar\":{\"outlinewidth\":0,\"ticks\":\"\"},\"colorscale\":[[0.0,\"#0d0887\"],[0.1111111111111111,\"#46039f\"],[0.2222222222222222,\"#7201a8\"],[0.3333333333333333,\"#9c179e\"],[0.4444444444444444,\"#bd3786\"],[0.5555555555555556,\"#d8576b\"],[0.6666666666666666,\"#ed7953\"],[0.7777777777777778,\"#fb9f3a\"],[0.8888888888888888,\"#fdca26\"],[1.0,\"#f0f921\"]],\"type\":\"surface\"}],\"table\":[{\"cells\":{\"fill\":{\"color\":\"#EBF0F8\"},\"line\":{\"color\":\"white\"}},\"header\":{\"fill\":{\"color\":\"#C8D4E3\"},\"line\":{\"color\":\"white\"}},\"type\":\"table\"}]},\"layout\":{\"annotationdefaults\":{\"arrowcolor\":\"#2a3f5f\",\"arrowhead\":0,\"arrowwidth\":1},\"autotypenumbers\":\"strict\",\"coloraxis\":{\"colorbar\":{\"outlinewidth\":0,\"ticks\":\"\"}},\"colorscale\":{\"diverging\":[[0,\"#8e0152\"],[0.1,\"#c51b7d\"],[0.2,\"#de77ae\"],[0.3,\"#f1b6da\"],[0.4,\"#fde0ef\"],[0.5,\"#f7f7f7\"],[0.6,\"#e6f5d0\"],[0.7,\"#b8e186\"],[0.8,\"#7fbc41\"],[0.9,\"#4d9221\"],[1,\"#276419\"]],\"sequential\":[[0.0,\"#0d0887\"],[0.1111111111111111,\"#46039f\"],[0.2222222222222222,\"#7201a8\"],[0.3333333333333333,\"#9c179e\"],[0.4444444444444444,\"#bd3786\"],[0.5555555555555556,\"#d8576b\"],[0.6666666666666666,\"#ed7953\"],[0.7777777777777778,\"#fb9f3a\"],[0.8888888888888888,\"#fdca26\"],[1.0,\"#f0f921\"]],\"sequentialminus\":[[0.0,\"#0d0887\"],[0.1111111111111111,\"#46039f\"],[0.2222222222222222,\"#7201a8\"],[0.3333333333333333,\"#9c179e\"],[0.4444444444444444,\"#bd3786\"],[0.5555555555555556,\"#d8576b\"],[0.6666666666666666,\"#ed7953\"],[0.7777777777777778,\"#fb9f3a\"],[0.8888888888888888,\"#fdca26\"],[1.0,\"#f0f921\"]]},\"colorway\":[\"#636efa\",\"#EF553B\",\"#00cc96\",\"#ab63fa\",\"#FFA15A\",\"#19d3f3\",\"#FF6692\",\"#B6E880\",\"#FF97FF\",\"#FECB52\"],\"font\":{\"color\":\"#2a3f5f\"},\"geo\":{\"bgcolor\":\"white\",\"lakecolor\":\"white\",\"landcolor\":\"#E5ECF6\",\"showlakes\":true,\"showland\":true,\"subunitcolor\":\"white\"},\"hoverlabel\":{\"align\":\"left\"},\"hovermode\":\"closest\",\"mapbox\":{\"style\":\"light\"},\"paper_bgcolor\":\"white\",\"plot_bgcolor\":\"#E5ECF6\",\"polar\":{\"angularaxis\":{\"gridcolor\":\"white\",\"linecolor\":\"white\",\"ticks\":\"\"},\"bgcolor\":\"#E5ECF6\",\"radialaxis\":{\"gridcolor\":\"white\",\"linecolor\":\"white\",\"ticks\":\"\"}},\"scene\":{\"xaxis\":{\"backgroundcolor\":\"#E5ECF6\",\"gridcolor\":\"white\",\"gridwidth\":2,\"linecolor\":\"white\",\"showbackground\":true,\"ticks\":\"\",\"zerolinecolor\":\"white\"},\"yaxis\":{\"backgroundcolor\":\"#E5ECF6\",\"gridcolor\":\"white\",\"gridwidth\":2,\"linecolor\":\"white\",\"showbackground\":true,\"ticks\":\"\",\"zerolinecolor\":\"white\"},\"zaxis\":{\"backgroundcolor\":\"#E5ECF6\",\"gridcolor\":\"white\",\"gridwidth\":2,\"linecolor\":\"white\",\"showbackground\":true,\"ticks\":\"\",\"zerolinecolor\":\"white\"}},\"shapedefaults\":{\"line\":{\"color\":\"#2a3f5f\"}},\"ternary\":{\"aaxis\":{\"gridcolor\":\"white\",\"linecolor\":\"white\",\"ticks\":\"\"},\"baxis\":{\"gridcolor\":\"white\",\"linecolor\":\"white\",\"ticks\":\"\"},\"bgcolor\":\"#E5ECF6\",\"caxis\":{\"gridcolor\":\"white\",\"linecolor\":\"white\",\"ticks\":\"\"}},\"title\":{\"x\":0.05},\"xaxis\":{\"automargin\":true,\"gridcolor\":\"white\",\"linecolor\":\"white\",\"ticks\":\"\",\"title\":{\"standoff\":15},\"zerolinecolor\":\"white\",\"zerolinewidth\":2},\"yaxis\":{\"automargin\":true,\"gridcolor\":\"white\",\"linecolor\":\"white\",\"ticks\":\"\",\"title\":{\"standoff\":15},\"zerolinecolor\":\"white\",\"zerolinewidth\":2}}},\"xaxis\":{\"anchor\":\"y\",\"domain\":[0.0,1.0],\"title\":{\"text\":\"TotalMinutesAsleep\"}},\"yaxis\":{\"anchor\":\"x\",\"domain\":[0.0,1.0],\"title\":{\"text\":\"VeryActiveMinutes\"}},\"legend\":{\"tracegroupgap\":0},\"margin\":{\"t\":60}},                        {\"responsive\": true}                    ).then(function(){\n",
       "                            \n",
       "var gd = document.getElementById('2c2f5aee-5938-4cbb-9668-09f524ebf1ec');\n",
       "var x = new MutationObserver(function (mutations, observer) {{\n",
       "        var display = window.getComputedStyle(gd).display;\n",
       "        if (!display || display === 'none') {{\n",
       "            console.log([gd, 'removed!']);\n",
       "            Plotly.purge(gd);\n",
       "            observer.disconnect();\n",
       "        }}\n",
       "}});\n",
       "\n",
       "// Listen for the removal of the full notebook cells\n",
       "var notebookContainer = gd.closest('#notebook-container');\n",
       "if (notebookContainer) {{\n",
       "    x.observe(notebookContainer, {childList: true});\n",
       "}}\n",
       "\n",
       "// Listen for the clearing of the current output cell\n",
       "var outputEl = gd.closest('.output');\n",
       "if (outputEl) {{\n",
       "    x.observe(outputEl, {childList: true});\n",
       "}}\n",
       "\n",
       "                        })                };                });            </script>        </div>"
      ]
     },
     "metadata": {},
     "output_type": "display_data"
    }
   ],
   "source": [
    "px.scatter(new_df_fit,'TotalMinutesAsleep' ,'VeryActiveMinutes')"
   ]
  },
  {
   "cell_type": "code",
   "execution_count": 9,
   "metadata": {},
   "outputs": [
    {
     "data": {
      "application/vnd.plotly.v1+json": {
       "config": {
        "plotlyServerURL": "https://plot.ly"
       },
       "data": [
        {
         "dimensions": [
          {
           "label": "TotalSteps",
           "values": [
            12116.741935483871,
            12116.741935483871,
            916.1290322580645,
            7268.8387096774195,
            7268.8387096774195,
            7685.129032258064,
            7685.129032258064,
            7685.129032258064,
            7685.129032258064,
            7685.129032258064,
            8304.433333333332,
            9794.806451612903,
            9794.806451612903,
            9794.806451612903,
            9794.806451612903,
            9794.806451612903,
            9794.806451612903,
            9794.806451612903,
            9794.806451612903,
            9794.806451612903,
            9794.806451612903,
            9794.806451612903,
            9794.806451612903,
            9794.806451612903,
            9794.806451612903,
            9794.806451612903,
            9794.806451612903,
            9794.806451612903,
            9794.806451612903,
            9794.806451612903,
            9794.806451612903,
            9794.806451612903,
            9794.806451612903,
            9794.806451612903,
            9794.806451612903,
            9794.806451612903,
            9794.806451612903,
            9794.806451612903,
            9794.806451612903,
            9794.806451612903,
            9794.806451612903
           ]
          },
          {
           "label": "SedentaryMinutes",
           "values": [
            848.1612903225806,
            848.1612903225806,
            1317.4193548387098,
            735.8064516129032,
            735.8064516129032,
            1093.6129032258063,
            1093.6129032258063,
            1093.6129032258063,
            1093.6129032258063,
            1093.6129032258063,
            754.4333333333333,
            662.3225806451613,
            662.3225806451613,
            662.3225806451613,
            662.3225806451613,
            662.3225806451613,
            662.3225806451613,
            662.3225806451613,
            662.3225806451613,
            662.3225806451613,
            662.3225806451613,
            662.3225806451613,
            662.3225806451613,
            662.3225806451613,
            662.3225806451613,
            662.3225806451613,
            662.3225806451613,
            662.3225806451613,
            662.3225806451613,
            662.3225806451613,
            662.3225806451613,
            662.3225806451613,
            662.3225806451613,
            662.3225806451613,
            662.3225806451613,
            662.3225806451613,
            662.3225806451613,
            662.3225806451613,
            662.3225806451613,
            662.3225806451613,
            662.3225806451613
           ]
          },
          {
           "label": "TotalMinutesAsleep",
           "values": [
            360.28,
            360.28,
            417,
            476.65384615384613,
            476.65384615384613,
            127.6,
            127.6,
            127.6,
            127.6,
            127.6,
            432,
            448,
            448,
            448,
            448,
            448,
            448,
            448,
            448,
            448,
            448,
            448,
            448,
            448,
            448,
            448,
            448,
            448,
            448,
            448,
            448,
            448,
            448,
            448,
            448,
            448,
            448,
            448,
            448,
            448,
            448
           ]
          }
         ],
         "domain": {
          "x": [
           0,
           1
          ],
          "y": [
           0,
           1
          ]
         },
         "line": {
          "color": [
           383.2,
           383.2,
           437.8,
           501.96153846153845,
           501.96153846153845,
           140,
           140,
           140,
           140,
           140,
           460.61538461538464,
           466.1290322580645,
           466.1290322580645,
           466.1290322580645,
           466.1290322580645,
           466.1290322580645,
           466.1290322580645,
           466.1290322580645,
           466.1290322580645,
           466.1290322580645,
           466.1290322580645,
           466.1290322580645,
           466.1290322580645,
           466.1290322580645,
           466.1290322580645,
           466.1290322580645,
           466.1290322580645,
           466.1290322580645,
           466.1290322580645,
           466.1290322580645,
           466.1290322580645,
           466.1290322580645,
           466.1290322580645,
           466.1290322580645,
           466.1290322580645,
           466.1290322580645,
           466.1290322580645,
           466.1290322580645,
           466.1290322580645,
           466.1290322580645,
           466.1290322580645
          ],
          "coloraxis": "coloraxis"
         },
         "name": "",
         "type": "parcoords"
        }
       ],
       "layout": {
        "coloraxis": {
         "colorbar": {
          "title": {
           "text": "TotalTimeInBed"
          }
         },
         "colorscale": [
          [
           0,
           "rgb(0, 147, 146)"
          ],
          [
           0.16666666666666666,
           "rgb(114, 170, 161)"
          ],
          [
           0.3333333333333333,
           "rgb(177, 199, 179)"
          ],
          [
           0.5,
           "rgb(241, 234, 200)"
          ],
          [
           0.6666666666666666,
           "rgb(229, 185, 173)"
          ],
          [
           0.8333333333333334,
           "rgb(217, 137, 148)"
          ],
          [
           1,
           "rgb(208, 88, 126)"
          ]
         ]
        },
        "legend": {
         "tracegroupgap": 0
        },
        "margin": {
         "t": 60
        },
        "template": {
         "data": {
          "bar": [
           {
            "error_x": {
             "color": "#2a3f5f"
            },
            "error_y": {
             "color": "#2a3f5f"
            },
            "marker": {
             "line": {
              "color": "#E5ECF6",
              "width": 0.5
             },
             "pattern": {
              "fillmode": "overlay",
              "size": 10,
              "solidity": 0.2
             }
            },
            "type": "bar"
           }
          ],
          "barpolar": [
           {
            "marker": {
             "line": {
              "color": "#E5ECF6",
              "width": 0.5
             },
             "pattern": {
              "fillmode": "overlay",
              "size": 10,
              "solidity": 0.2
             }
            },
            "type": "barpolar"
           }
          ],
          "carpet": [
           {
            "aaxis": {
             "endlinecolor": "#2a3f5f",
             "gridcolor": "white",
             "linecolor": "white",
             "minorgridcolor": "white",
             "startlinecolor": "#2a3f5f"
            },
            "baxis": {
             "endlinecolor": "#2a3f5f",
             "gridcolor": "white",
             "linecolor": "white",
             "minorgridcolor": "white",
             "startlinecolor": "#2a3f5f"
            },
            "type": "carpet"
           }
          ],
          "choropleth": [
           {
            "colorbar": {
             "outlinewidth": 0,
             "ticks": ""
            },
            "type": "choropleth"
           }
          ],
          "contour": [
           {
            "colorbar": {
             "outlinewidth": 0,
             "ticks": ""
            },
            "colorscale": [
             [
              0,
              "#0d0887"
             ],
             [
              0.1111111111111111,
              "#46039f"
             ],
             [
              0.2222222222222222,
              "#7201a8"
             ],
             [
              0.3333333333333333,
              "#9c179e"
             ],
             [
              0.4444444444444444,
              "#bd3786"
             ],
             [
              0.5555555555555556,
              "#d8576b"
             ],
             [
              0.6666666666666666,
              "#ed7953"
             ],
             [
              0.7777777777777778,
              "#fb9f3a"
             ],
             [
              0.8888888888888888,
              "#fdca26"
             ],
             [
              1,
              "#f0f921"
             ]
            ],
            "type": "contour"
           }
          ],
          "contourcarpet": [
           {
            "colorbar": {
             "outlinewidth": 0,
             "ticks": ""
            },
            "type": "contourcarpet"
           }
          ],
          "heatmap": [
           {
            "colorbar": {
             "outlinewidth": 0,
             "ticks": ""
            },
            "colorscale": [
             [
              0,
              "#0d0887"
             ],
             [
              0.1111111111111111,
              "#46039f"
             ],
             [
              0.2222222222222222,
              "#7201a8"
             ],
             [
              0.3333333333333333,
              "#9c179e"
             ],
             [
              0.4444444444444444,
              "#bd3786"
             ],
             [
              0.5555555555555556,
              "#d8576b"
             ],
             [
              0.6666666666666666,
              "#ed7953"
             ],
             [
              0.7777777777777778,
              "#fb9f3a"
             ],
             [
              0.8888888888888888,
              "#fdca26"
             ],
             [
              1,
              "#f0f921"
             ]
            ],
            "type": "heatmap"
           }
          ],
          "heatmapgl": [
           {
            "colorbar": {
             "outlinewidth": 0,
             "ticks": ""
            },
            "colorscale": [
             [
              0,
              "#0d0887"
             ],
             [
              0.1111111111111111,
              "#46039f"
             ],
             [
              0.2222222222222222,
              "#7201a8"
             ],
             [
              0.3333333333333333,
              "#9c179e"
             ],
             [
              0.4444444444444444,
              "#bd3786"
             ],
             [
              0.5555555555555556,
              "#d8576b"
             ],
             [
              0.6666666666666666,
              "#ed7953"
             ],
             [
              0.7777777777777778,
              "#fb9f3a"
             ],
             [
              0.8888888888888888,
              "#fdca26"
             ],
             [
              1,
              "#f0f921"
             ]
            ],
            "type": "heatmapgl"
           }
          ],
          "histogram": [
           {
            "marker": {
             "pattern": {
              "fillmode": "overlay",
              "size": 10,
              "solidity": 0.2
             }
            },
            "type": "histogram"
           }
          ],
          "histogram2d": [
           {
            "colorbar": {
             "outlinewidth": 0,
             "ticks": ""
            },
            "colorscale": [
             [
              0,
              "#0d0887"
             ],
             [
              0.1111111111111111,
              "#46039f"
             ],
             [
              0.2222222222222222,
              "#7201a8"
             ],
             [
              0.3333333333333333,
              "#9c179e"
             ],
             [
              0.4444444444444444,
              "#bd3786"
             ],
             [
              0.5555555555555556,
              "#d8576b"
             ],
             [
              0.6666666666666666,
              "#ed7953"
             ],
             [
              0.7777777777777778,
              "#fb9f3a"
             ],
             [
              0.8888888888888888,
              "#fdca26"
             ],
             [
              1,
              "#f0f921"
             ]
            ],
            "type": "histogram2d"
           }
          ],
          "histogram2dcontour": [
           {
            "colorbar": {
             "outlinewidth": 0,
             "ticks": ""
            },
            "colorscale": [
             [
              0,
              "#0d0887"
             ],
             [
              0.1111111111111111,
              "#46039f"
             ],
             [
              0.2222222222222222,
              "#7201a8"
             ],
             [
              0.3333333333333333,
              "#9c179e"
             ],
             [
              0.4444444444444444,
              "#bd3786"
             ],
             [
              0.5555555555555556,
              "#d8576b"
             ],
             [
              0.6666666666666666,
              "#ed7953"
             ],
             [
              0.7777777777777778,
              "#fb9f3a"
             ],
             [
              0.8888888888888888,
              "#fdca26"
             ],
             [
              1,
              "#f0f921"
             ]
            ],
            "type": "histogram2dcontour"
           }
          ],
          "mesh3d": [
           {
            "colorbar": {
             "outlinewidth": 0,
             "ticks": ""
            },
            "type": "mesh3d"
           }
          ],
          "parcoords": [
           {
            "line": {
             "colorbar": {
              "outlinewidth": 0,
              "ticks": ""
             }
            },
            "type": "parcoords"
           }
          ],
          "pie": [
           {
            "automargin": true,
            "type": "pie"
           }
          ],
          "scatter": [
           {
            "marker": {
             "colorbar": {
              "outlinewidth": 0,
              "ticks": ""
             }
            },
            "type": "scatter"
           }
          ],
          "scatter3d": [
           {
            "line": {
             "colorbar": {
              "outlinewidth": 0,
              "ticks": ""
             }
            },
            "marker": {
             "colorbar": {
              "outlinewidth": 0,
              "ticks": ""
             }
            },
            "type": "scatter3d"
           }
          ],
          "scattercarpet": [
           {
            "marker": {
             "colorbar": {
              "outlinewidth": 0,
              "ticks": ""
             }
            },
            "type": "scattercarpet"
           }
          ],
          "scattergeo": [
           {
            "marker": {
             "colorbar": {
              "outlinewidth": 0,
              "ticks": ""
             }
            },
            "type": "scattergeo"
           }
          ],
          "scattergl": [
           {
            "marker": {
             "colorbar": {
              "outlinewidth": 0,
              "ticks": ""
             }
            },
            "type": "scattergl"
           }
          ],
          "scattermapbox": [
           {
            "marker": {
             "colorbar": {
              "outlinewidth": 0,
              "ticks": ""
             }
            },
            "type": "scattermapbox"
           }
          ],
          "scatterpolar": [
           {
            "marker": {
             "colorbar": {
              "outlinewidth": 0,
              "ticks": ""
             }
            },
            "type": "scatterpolar"
           }
          ],
          "scatterpolargl": [
           {
            "marker": {
             "colorbar": {
              "outlinewidth": 0,
              "ticks": ""
             }
            },
            "type": "scatterpolargl"
           }
          ],
          "scatterternary": [
           {
            "marker": {
             "colorbar": {
              "outlinewidth": 0,
              "ticks": ""
             }
            },
            "type": "scatterternary"
           }
          ],
          "surface": [
           {
            "colorbar": {
             "outlinewidth": 0,
             "ticks": ""
            },
            "colorscale": [
             [
              0,
              "#0d0887"
             ],
             [
              0.1111111111111111,
              "#46039f"
             ],
             [
              0.2222222222222222,
              "#7201a8"
             ],
             [
              0.3333333333333333,
              "#9c179e"
             ],
             [
              0.4444444444444444,
              "#bd3786"
             ],
             [
              0.5555555555555556,
              "#d8576b"
             ],
             [
              0.6666666666666666,
              "#ed7953"
             ],
             [
              0.7777777777777778,
              "#fb9f3a"
             ],
             [
              0.8888888888888888,
              "#fdca26"
             ],
             [
              1,
              "#f0f921"
             ]
            ],
            "type": "surface"
           }
          ],
          "table": [
           {
            "cells": {
             "fill": {
              "color": "#EBF0F8"
             },
             "line": {
              "color": "white"
             }
            },
            "header": {
             "fill": {
              "color": "#C8D4E3"
             },
             "line": {
              "color": "white"
             }
            },
            "type": "table"
           }
          ]
         },
         "layout": {
          "annotationdefaults": {
           "arrowcolor": "#2a3f5f",
           "arrowhead": 0,
           "arrowwidth": 1
          },
          "autotypenumbers": "strict",
          "coloraxis": {
           "colorbar": {
            "outlinewidth": 0,
            "ticks": ""
           }
          },
          "colorscale": {
           "diverging": [
            [
             0,
             "#8e0152"
            ],
            [
             0.1,
             "#c51b7d"
            ],
            [
             0.2,
             "#de77ae"
            ],
            [
             0.3,
             "#f1b6da"
            ],
            [
             0.4,
             "#fde0ef"
            ],
            [
             0.5,
             "#f7f7f7"
            ],
            [
             0.6,
             "#e6f5d0"
            ],
            [
             0.7,
             "#b8e186"
            ],
            [
             0.8,
             "#7fbc41"
            ],
            [
             0.9,
             "#4d9221"
            ],
            [
             1,
             "#276419"
            ]
           ],
           "sequential": [
            [
             0,
             "#0d0887"
            ],
            [
             0.1111111111111111,
             "#46039f"
            ],
            [
             0.2222222222222222,
             "#7201a8"
            ],
            [
             0.3333333333333333,
             "#9c179e"
            ],
            [
             0.4444444444444444,
             "#bd3786"
            ],
            [
             0.5555555555555556,
             "#d8576b"
            ],
            [
             0.6666666666666666,
             "#ed7953"
            ],
            [
             0.7777777777777778,
             "#fb9f3a"
            ],
            [
             0.8888888888888888,
             "#fdca26"
            ],
            [
             1,
             "#f0f921"
            ]
           ],
           "sequentialminus": [
            [
             0,
             "#0d0887"
            ],
            [
             0.1111111111111111,
             "#46039f"
            ],
            [
             0.2222222222222222,
             "#7201a8"
            ],
            [
             0.3333333333333333,
             "#9c179e"
            ],
            [
             0.4444444444444444,
             "#bd3786"
            ],
            [
             0.5555555555555556,
             "#d8576b"
            ],
            [
             0.6666666666666666,
             "#ed7953"
            ],
            [
             0.7777777777777778,
             "#fb9f3a"
            ],
            [
             0.8888888888888888,
             "#fdca26"
            ],
            [
             1,
             "#f0f921"
            ]
           ]
          },
          "colorway": [
           "#636efa",
           "#EF553B",
           "#00cc96",
           "#ab63fa",
           "#FFA15A",
           "#19d3f3",
           "#FF6692",
           "#B6E880",
           "#FF97FF",
           "#FECB52"
          ],
          "font": {
           "color": "#2a3f5f"
          },
          "geo": {
           "bgcolor": "white",
           "lakecolor": "white",
           "landcolor": "#E5ECF6",
           "showlakes": true,
           "showland": true,
           "subunitcolor": "white"
          },
          "hoverlabel": {
           "align": "left"
          },
          "hovermode": "closest",
          "mapbox": {
           "style": "light"
          },
          "paper_bgcolor": "white",
          "plot_bgcolor": "#E5ECF6",
          "polar": {
           "angularaxis": {
            "gridcolor": "white",
            "linecolor": "white",
            "ticks": ""
           },
           "bgcolor": "#E5ECF6",
           "radialaxis": {
            "gridcolor": "white",
            "linecolor": "white",
            "ticks": ""
           }
          },
          "scene": {
           "xaxis": {
            "backgroundcolor": "#E5ECF6",
            "gridcolor": "white",
            "gridwidth": 2,
            "linecolor": "white",
            "showbackground": true,
            "ticks": "",
            "zerolinecolor": "white"
           },
           "yaxis": {
            "backgroundcolor": "#E5ECF6",
            "gridcolor": "white",
            "gridwidth": 2,
            "linecolor": "white",
            "showbackground": true,
            "ticks": "",
            "zerolinecolor": "white"
           },
           "zaxis": {
            "backgroundcolor": "#E5ECF6",
            "gridcolor": "white",
            "gridwidth": 2,
            "linecolor": "white",
            "showbackground": true,
            "ticks": "",
            "zerolinecolor": "white"
           }
          },
          "shapedefaults": {
           "line": {
            "color": "#2a3f5f"
           }
          },
          "ternary": {
           "aaxis": {
            "gridcolor": "white",
            "linecolor": "white",
            "ticks": ""
           },
           "baxis": {
            "gridcolor": "white",
            "linecolor": "white",
            "ticks": ""
           },
           "bgcolor": "#E5ECF6",
           "caxis": {
            "gridcolor": "white",
            "linecolor": "white",
            "ticks": ""
           }
          },
          "title": {
           "x": 0.05
          },
          "xaxis": {
           "automargin": true,
           "gridcolor": "white",
           "linecolor": "white",
           "ticks": "",
           "title": {
            "standoff": 15
           },
           "zerolinecolor": "white",
           "zerolinewidth": 2
          },
          "yaxis": {
           "automargin": true,
           "gridcolor": "white",
           "linecolor": "white",
           "ticks": "",
           "title": {
            "standoff": 15
           },
           "zerolinecolor": "white",
           "zerolinewidth": 2
          }
         }
        }
       }
      },
      "text/html": [
       "<div>                            <div id=\"ac37476e-201e-46e6-ada2-c22cfa5fe7b4\" class=\"plotly-graph-div\" style=\"height:525px; width:100%;\"></div>            <script type=\"text/javascript\">                require([\"plotly\"], function(Plotly) {                    window.PLOTLYENV=window.PLOTLYENV || {};                                    if (document.getElementById(\"ac37476e-201e-46e6-ada2-c22cfa5fe7b4\")) {                    Plotly.newPlot(                        \"ac37476e-201e-46e6-ada2-c22cfa5fe7b4\",                        [{\"dimensions\":[{\"label\":\"TotalSteps\",\"values\":[12116.741935483871,12116.741935483871,916.1290322580645,7268.8387096774195,7268.8387096774195,7685.129032258064,7685.129032258064,7685.129032258064,7685.129032258064,7685.129032258064,8304.433333333332,9794.806451612903,9794.806451612903,9794.806451612903,9794.806451612903,9794.806451612903,9794.806451612903,9794.806451612903,9794.806451612903,9794.806451612903,9794.806451612903,9794.806451612903,9794.806451612903,9794.806451612903,9794.806451612903,9794.806451612903,9794.806451612903,9794.806451612903,9794.806451612903,9794.806451612903,9794.806451612903,9794.806451612903,9794.806451612903,9794.806451612903,9794.806451612903,9794.806451612903,9794.806451612903,9794.806451612903,9794.806451612903,9794.806451612903,9794.806451612903]},{\"label\":\"SedentaryMinutes\",\"values\":[848.1612903225806,848.1612903225806,1317.4193548387098,735.8064516129032,735.8064516129032,1093.6129032258063,1093.6129032258063,1093.6129032258063,1093.6129032258063,1093.6129032258063,754.4333333333333,662.3225806451613,662.3225806451613,662.3225806451613,662.3225806451613,662.3225806451613,662.3225806451613,662.3225806451613,662.3225806451613,662.3225806451613,662.3225806451613,662.3225806451613,662.3225806451613,662.3225806451613,662.3225806451613,662.3225806451613,662.3225806451613,662.3225806451613,662.3225806451613,662.3225806451613,662.3225806451613,662.3225806451613,662.3225806451613,662.3225806451613,662.3225806451613,662.3225806451613,662.3225806451613,662.3225806451613,662.3225806451613,662.3225806451613,662.3225806451613]},{\"label\":\"TotalMinutesAsleep\",\"values\":[360.28,360.28,417.0,476.65384615384613,476.65384615384613,127.6,127.6,127.6,127.6,127.6,432.0,448.0,448.0,448.0,448.0,448.0,448.0,448.0,448.0,448.0,448.0,448.0,448.0,448.0,448.0,448.0,448.0,448.0,448.0,448.0,448.0,448.0,448.0,448.0,448.0,448.0,448.0,448.0,448.0,448.0,448.0]}],\"domain\":{\"x\":[0.0,1.0],\"y\":[0.0,1.0]},\"line\":{\"color\":[383.2,383.2,437.8,501.96153846153845,501.96153846153845,140.0,140.0,140.0,140.0,140.0,460.61538461538464,466.1290322580645,466.1290322580645,466.1290322580645,466.1290322580645,466.1290322580645,466.1290322580645,466.1290322580645,466.1290322580645,466.1290322580645,466.1290322580645,466.1290322580645,466.1290322580645,466.1290322580645,466.1290322580645,466.1290322580645,466.1290322580645,466.1290322580645,466.1290322580645,466.1290322580645,466.1290322580645,466.1290322580645,466.1290322580645,466.1290322580645,466.1290322580645,466.1290322580645,466.1290322580645,466.1290322580645,466.1290322580645,466.1290322580645,466.1290322580645],\"coloraxis\":\"coloraxis\"},\"name\":\"\",\"type\":\"parcoords\"}],                        {\"template\":{\"data\":{\"bar\":[{\"error_x\":{\"color\":\"#2a3f5f\"},\"error_y\":{\"color\":\"#2a3f5f\"},\"marker\":{\"line\":{\"color\":\"#E5ECF6\",\"width\":0.5},\"pattern\":{\"fillmode\":\"overlay\",\"size\":10,\"solidity\":0.2}},\"type\":\"bar\"}],\"barpolar\":[{\"marker\":{\"line\":{\"color\":\"#E5ECF6\",\"width\":0.5},\"pattern\":{\"fillmode\":\"overlay\",\"size\":10,\"solidity\":0.2}},\"type\":\"barpolar\"}],\"carpet\":[{\"aaxis\":{\"endlinecolor\":\"#2a3f5f\",\"gridcolor\":\"white\",\"linecolor\":\"white\",\"minorgridcolor\":\"white\",\"startlinecolor\":\"#2a3f5f\"},\"baxis\":{\"endlinecolor\":\"#2a3f5f\",\"gridcolor\":\"white\",\"linecolor\":\"white\",\"minorgridcolor\":\"white\",\"startlinecolor\":\"#2a3f5f\"},\"type\":\"carpet\"}],\"choropleth\":[{\"colorbar\":{\"outlinewidth\":0,\"ticks\":\"\"},\"type\":\"choropleth\"}],\"contour\":[{\"colorbar\":{\"outlinewidth\":0,\"ticks\":\"\"},\"colorscale\":[[0.0,\"#0d0887\"],[0.1111111111111111,\"#46039f\"],[0.2222222222222222,\"#7201a8\"],[0.3333333333333333,\"#9c179e\"],[0.4444444444444444,\"#bd3786\"],[0.5555555555555556,\"#d8576b\"],[0.6666666666666666,\"#ed7953\"],[0.7777777777777778,\"#fb9f3a\"],[0.8888888888888888,\"#fdca26\"],[1.0,\"#f0f921\"]],\"type\":\"contour\"}],\"contourcarpet\":[{\"colorbar\":{\"outlinewidth\":0,\"ticks\":\"\"},\"type\":\"contourcarpet\"}],\"heatmap\":[{\"colorbar\":{\"outlinewidth\":0,\"ticks\":\"\"},\"colorscale\":[[0.0,\"#0d0887\"],[0.1111111111111111,\"#46039f\"],[0.2222222222222222,\"#7201a8\"],[0.3333333333333333,\"#9c179e\"],[0.4444444444444444,\"#bd3786\"],[0.5555555555555556,\"#d8576b\"],[0.6666666666666666,\"#ed7953\"],[0.7777777777777778,\"#fb9f3a\"],[0.8888888888888888,\"#fdca26\"],[1.0,\"#f0f921\"]],\"type\":\"heatmap\"}],\"heatmapgl\":[{\"colorbar\":{\"outlinewidth\":0,\"ticks\":\"\"},\"colorscale\":[[0.0,\"#0d0887\"],[0.1111111111111111,\"#46039f\"],[0.2222222222222222,\"#7201a8\"],[0.3333333333333333,\"#9c179e\"],[0.4444444444444444,\"#bd3786\"],[0.5555555555555556,\"#d8576b\"],[0.6666666666666666,\"#ed7953\"],[0.7777777777777778,\"#fb9f3a\"],[0.8888888888888888,\"#fdca26\"],[1.0,\"#f0f921\"]],\"type\":\"heatmapgl\"}],\"histogram\":[{\"marker\":{\"pattern\":{\"fillmode\":\"overlay\",\"size\":10,\"solidity\":0.2}},\"type\":\"histogram\"}],\"histogram2d\":[{\"colorbar\":{\"outlinewidth\":0,\"ticks\":\"\"},\"colorscale\":[[0.0,\"#0d0887\"],[0.1111111111111111,\"#46039f\"],[0.2222222222222222,\"#7201a8\"],[0.3333333333333333,\"#9c179e\"],[0.4444444444444444,\"#bd3786\"],[0.5555555555555556,\"#d8576b\"],[0.6666666666666666,\"#ed7953\"],[0.7777777777777778,\"#fb9f3a\"],[0.8888888888888888,\"#fdca26\"],[1.0,\"#f0f921\"]],\"type\":\"histogram2d\"}],\"histogram2dcontour\":[{\"colorbar\":{\"outlinewidth\":0,\"ticks\":\"\"},\"colorscale\":[[0.0,\"#0d0887\"],[0.1111111111111111,\"#46039f\"],[0.2222222222222222,\"#7201a8\"],[0.3333333333333333,\"#9c179e\"],[0.4444444444444444,\"#bd3786\"],[0.5555555555555556,\"#d8576b\"],[0.6666666666666666,\"#ed7953\"],[0.7777777777777778,\"#fb9f3a\"],[0.8888888888888888,\"#fdca26\"],[1.0,\"#f0f921\"]],\"type\":\"histogram2dcontour\"}],\"mesh3d\":[{\"colorbar\":{\"outlinewidth\":0,\"ticks\":\"\"},\"type\":\"mesh3d\"}],\"parcoords\":[{\"line\":{\"colorbar\":{\"outlinewidth\":0,\"ticks\":\"\"}},\"type\":\"parcoords\"}],\"pie\":[{\"automargin\":true,\"type\":\"pie\"}],\"scatter\":[{\"marker\":{\"colorbar\":{\"outlinewidth\":0,\"ticks\":\"\"}},\"type\":\"scatter\"}],\"scatter3d\":[{\"line\":{\"colorbar\":{\"outlinewidth\":0,\"ticks\":\"\"}},\"marker\":{\"colorbar\":{\"outlinewidth\":0,\"ticks\":\"\"}},\"type\":\"scatter3d\"}],\"scattercarpet\":[{\"marker\":{\"colorbar\":{\"outlinewidth\":0,\"ticks\":\"\"}},\"type\":\"scattercarpet\"}],\"scattergeo\":[{\"marker\":{\"colorbar\":{\"outlinewidth\":0,\"ticks\":\"\"}},\"type\":\"scattergeo\"}],\"scattergl\":[{\"marker\":{\"colorbar\":{\"outlinewidth\":0,\"ticks\":\"\"}},\"type\":\"scattergl\"}],\"scattermapbox\":[{\"marker\":{\"colorbar\":{\"outlinewidth\":0,\"ticks\":\"\"}},\"type\":\"scattermapbox\"}],\"scatterpolar\":[{\"marker\":{\"colorbar\":{\"outlinewidth\":0,\"ticks\":\"\"}},\"type\":\"scatterpolar\"}],\"scatterpolargl\":[{\"marker\":{\"colorbar\":{\"outlinewidth\":0,\"ticks\":\"\"}},\"type\":\"scatterpolargl\"}],\"scatterternary\":[{\"marker\":{\"colorbar\":{\"outlinewidth\":0,\"ticks\":\"\"}},\"type\":\"scatterternary\"}],\"surface\":[{\"colorbar\":{\"outlinewidth\":0,\"ticks\":\"\"},\"colorscale\":[[0.0,\"#0d0887\"],[0.1111111111111111,\"#46039f\"],[0.2222222222222222,\"#7201a8\"],[0.3333333333333333,\"#9c179e\"],[0.4444444444444444,\"#bd3786\"],[0.5555555555555556,\"#d8576b\"],[0.6666666666666666,\"#ed7953\"],[0.7777777777777778,\"#fb9f3a\"],[0.8888888888888888,\"#fdca26\"],[1.0,\"#f0f921\"]],\"type\":\"surface\"}],\"table\":[{\"cells\":{\"fill\":{\"color\":\"#EBF0F8\"},\"line\":{\"color\":\"white\"}},\"header\":{\"fill\":{\"color\":\"#C8D4E3\"},\"line\":{\"color\":\"white\"}},\"type\":\"table\"}]},\"layout\":{\"annotationdefaults\":{\"arrowcolor\":\"#2a3f5f\",\"arrowhead\":0,\"arrowwidth\":1},\"autotypenumbers\":\"strict\",\"coloraxis\":{\"colorbar\":{\"outlinewidth\":0,\"ticks\":\"\"}},\"colorscale\":{\"diverging\":[[0,\"#8e0152\"],[0.1,\"#c51b7d\"],[0.2,\"#de77ae\"],[0.3,\"#f1b6da\"],[0.4,\"#fde0ef\"],[0.5,\"#f7f7f7\"],[0.6,\"#e6f5d0\"],[0.7,\"#b8e186\"],[0.8,\"#7fbc41\"],[0.9,\"#4d9221\"],[1,\"#276419\"]],\"sequential\":[[0.0,\"#0d0887\"],[0.1111111111111111,\"#46039f\"],[0.2222222222222222,\"#7201a8\"],[0.3333333333333333,\"#9c179e\"],[0.4444444444444444,\"#bd3786\"],[0.5555555555555556,\"#d8576b\"],[0.6666666666666666,\"#ed7953\"],[0.7777777777777778,\"#fb9f3a\"],[0.8888888888888888,\"#fdca26\"],[1.0,\"#f0f921\"]],\"sequentialminus\":[[0.0,\"#0d0887\"],[0.1111111111111111,\"#46039f\"],[0.2222222222222222,\"#7201a8\"],[0.3333333333333333,\"#9c179e\"],[0.4444444444444444,\"#bd3786\"],[0.5555555555555556,\"#d8576b\"],[0.6666666666666666,\"#ed7953\"],[0.7777777777777778,\"#fb9f3a\"],[0.8888888888888888,\"#fdca26\"],[1.0,\"#f0f921\"]]},\"colorway\":[\"#636efa\",\"#EF553B\",\"#00cc96\",\"#ab63fa\",\"#FFA15A\",\"#19d3f3\",\"#FF6692\",\"#B6E880\",\"#FF97FF\",\"#FECB52\"],\"font\":{\"color\":\"#2a3f5f\"},\"geo\":{\"bgcolor\":\"white\",\"lakecolor\":\"white\",\"landcolor\":\"#E5ECF6\",\"showlakes\":true,\"showland\":true,\"subunitcolor\":\"white\"},\"hoverlabel\":{\"align\":\"left\"},\"hovermode\":\"closest\",\"mapbox\":{\"style\":\"light\"},\"paper_bgcolor\":\"white\",\"plot_bgcolor\":\"#E5ECF6\",\"polar\":{\"angularaxis\":{\"gridcolor\":\"white\",\"linecolor\":\"white\",\"ticks\":\"\"},\"bgcolor\":\"#E5ECF6\",\"radialaxis\":{\"gridcolor\":\"white\",\"linecolor\":\"white\",\"ticks\":\"\"}},\"scene\":{\"xaxis\":{\"backgroundcolor\":\"#E5ECF6\",\"gridcolor\":\"white\",\"gridwidth\":2,\"linecolor\":\"white\",\"showbackground\":true,\"ticks\":\"\",\"zerolinecolor\":\"white\"},\"yaxis\":{\"backgroundcolor\":\"#E5ECF6\",\"gridcolor\":\"white\",\"gridwidth\":2,\"linecolor\":\"white\",\"showbackground\":true,\"ticks\":\"\",\"zerolinecolor\":\"white\"},\"zaxis\":{\"backgroundcolor\":\"#E5ECF6\",\"gridcolor\":\"white\",\"gridwidth\":2,\"linecolor\":\"white\",\"showbackground\":true,\"ticks\":\"\",\"zerolinecolor\":\"white\"}},\"shapedefaults\":{\"line\":{\"color\":\"#2a3f5f\"}},\"ternary\":{\"aaxis\":{\"gridcolor\":\"white\",\"linecolor\":\"white\",\"ticks\":\"\"},\"baxis\":{\"gridcolor\":\"white\",\"linecolor\":\"white\",\"ticks\":\"\"},\"bgcolor\":\"#E5ECF6\",\"caxis\":{\"gridcolor\":\"white\",\"linecolor\":\"white\",\"ticks\":\"\"}},\"title\":{\"x\":0.05},\"xaxis\":{\"automargin\":true,\"gridcolor\":\"white\",\"linecolor\":\"white\",\"ticks\":\"\",\"title\":{\"standoff\":15},\"zerolinecolor\":\"white\",\"zerolinewidth\":2},\"yaxis\":{\"automargin\":true,\"gridcolor\":\"white\",\"linecolor\":\"white\",\"ticks\":\"\",\"title\":{\"standoff\":15},\"zerolinecolor\":\"white\",\"zerolinewidth\":2}}},\"coloraxis\":{\"colorbar\":{\"title\":{\"text\":\"TotalTimeInBed\"}},\"colorscale\":[[0.0,\"rgb(0, 147, 146)\"],[0.16666666666666666,\"rgb(114, 170, 161)\"],[0.3333333333333333,\"rgb(177, 199, 179)\"],[0.5,\"rgb(241, 234, 200)\"],[0.6666666666666666,\"rgb(229, 185, 173)\"],[0.8333333333333334,\"rgb(217, 137, 148)\"],[1.0,\"rgb(208, 88, 126)\"]]},\"legend\":{\"tracegroupgap\":0},\"margin\":{\"t\":60}},                        {\"responsive\": true}                    ).then(function(){\n",
       "                            \n",
       "var gd = document.getElementById('ac37476e-201e-46e6-ada2-c22cfa5fe7b4');\n",
       "var x = new MutationObserver(function (mutations, observer) {{\n",
       "        var display = window.getComputedStyle(gd).display;\n",
       "        if (!display || display === 'none') {{\n",
       "            console.log([gd, 'removed!']);\n",
       "            Plotly.purge(gd);\n",
       "            observer.disconnect();\n",
       "        }}\n",
       "}});\n",
       "\n",
       "// Listen for the removal of the full notebook cells\n",
       "var notebookContainer = gd.closest('#notebook-container');\n",
       "if (notebookContainer) {{\n",
       "    x.observe(notebookContainer, {childList: true});\n",
       "}}\n",
       "\n",
       "// Listen for the clearing of the current output cell\n",
       "var outputEl = gd.closest('.output');\n",
       "if (outputEl) {{\n",
       "    x.observe(outputEl, {childList: true});\n",
       "}}\n",
       "\n",
       "                        })                };                });            </script>        </div>"
      ]
     },
     "metadata": {},
     "output_type": "display_data"
    }
   ],
   "source": [
    "#How do Light activity and sedentary minutes affect total minutes of sleep?\n",
    "fig = px.parallel_coordinates(merge_final, color='TotalTimeInBed',\n",
    "                              dimensions=[ 'TotalSteps', \n",
    "                                          'SedentaryMinutes','TotalMinutesAsleep'],\n",
    "                              color_continuous_scale=px.colors.diverging.Tealrose)\n",
    "fig.show()"
   ]
  },
  {
   "cell_type": "markdown",
   "metadata": {},
   "source": [
    "We can see from the chart that "
   ]
  },
  {
   "cell_type": "code",
   "execution_count": 32,
   "metadata": {},
   "outputs": [],
   "source": [
    "new_df_fit.to_csv('cleaned_fitbit')"
   ]
  },
  {
   "cell_type": "code",
   "execution_count": null,
   "metadata": {},
   "outputs": [],
   "source": []
  }
 ],
 "metadata": {
  "kernelspec": {
   "display_name": "Python 3",
   "language": "python",
   "name": "python3"
  },
  "language_info": {
   "codemirror_mode": {
    "name": "ipython",
    "version": 3
   },
   "file_extension": ".py",
   "mimetype": "text/x-python",
   "name": "python",
   "nbconvert_exporter": "python",
   "pygments_lexer": "ipython3",
   "version": "3.8.5"
  }
 },
 "nbformat": 4,
 "nbformat_minor": 4
}
