{
 "cells": [
  {
   "cell_type": "code",
   "execution_count": 4,
   "metadata": {},
   "outputs": [],
   "source": [
    "# Import the necessary dependencies.\n",
    "import numpy as np\n",
    "import pandas as pd\n",
    "import plotly.express as px\n",
    "import scipy.stats as sts\n",
    "import plotly.express as plt\n",
    "import statsmodels.api as sm\n",
    "from statsmodels.stats.multicomp import pairwise_tukeyhsd"
   ]
  },
  {
   "cell_type": "markdown",
   "metadata": {},
   "source": [
    "**Create a null hypothesis, an alternative hypothesis, and choose a significance level. Use this cell to document your decisions.**\n",
    "\n",
    "Question: Does waking up in the middle of the night affect your stress levels the next day?\n",
    "\n",
    "Hypothesis: If disrupting your sleep is related to your stress levels the next day, waking up more than 10 times will result in higher stress levels the next day.\n",
    "\n",
    "Null Hypothesis: Waking up more than 10 times wil result in no increase in the amount of stress the next day.\n",
    "\n",
    "Alternative Hypothesis: Waking up more than 10 times wil result in an increase in the amount of stress the next day.\n",
    "\n",
    "Significance Level:  Our p value for daily stress level is high for Daily stress levels between 10 - 30, sufficient evidence to NOT reject the null hypothesis.\n",
    "\n"
   ]
  },
  {
   "cell_type": "code",
   "execution_count": 22,
   "metadata": {},
   "outputs": [
    {
     "data": {
      "text/html": [
       "<div>\n",
       "<style scoped>\n",
       "    .dataframe tbody tr th:only-of-type {\n",
       "        vertical-align: middle;\n",
       "    }\n",
       "\n",
       "    .dataframe tbody tr th {\n",
       "        vertical-align: top;\n",
       "    }\n",
       "\n",
       "    .dataframe thead th {\n",
       "        text-align: right;\n",
       "    }\n",
       "</style>\n",
       "<table border=\"1\" class=\"dataframe\">\n",
       "  <thead>\n",
       "    <tr style=\"text-align: right;\">\n",
       "      <th></th>\n",
       "      <th>WeightKg</th>\n",
       "      <th>WeightPounds</th>\n",
       "      <th>Fat</th>\n",
       "      <th>BMI</th>\n",
       "      <th>IsManualReport</th>\n",
       "      <th>LogId</th>\n",
       "    </tr>\n",
       "    <tr>\n",
       "      <th>Id</th>\n",
       "      <th></th>\n",
       "      <th></th>\n",
       "      <th></th>\n",
       "      <th></th>\n",
       "      <th></th>\n",
       "      <th></th>\n",
       "    </tr>\n",
       "  </thead>\n",
       "  <tbody>\n",
       "    <tr>\n",
       "      <th>1503960366</th>\n",
       "      <td>52.599998</td>\n",
       "      <td>115.963147</td>\n",
       "      <td>22.0</td>\n",
       "      <td>22.650000</td>\n",
       "      <td>1.0</td>\n",
       "      <td>1.462277e+12</td>\n",
       "    </tr>\n",
       "    <tr>\n",
       "      <th>1927972279</th>\n",
       "      <td>133.500000</td>\n",
       "      <td>294.317120</td>\n",
       "      <td>NaN</td>\n",
       "      <td>47.540001</td>\n",
       "      <td>0.0</td>\n",
       "      <td>1.460510e+12</td>\n",
       "    </tr>\n",
       "    <tr>\n",
       "      <th>2873212765</th>\n",
       "      <td>57.000000</td>\n",
       "      <td>125.663489</td>\n",
       "      <td>NaN</td>\n",
       "      <td>21.570001</td>\n",
       "      <td>1.0</td>\n",
       "      <td>1.462190e+12</td>\n",
       "    </tr>\n",
       "    <tr>\n",
       "      <th>4319703577</th>\n",
       "      <td>72.350002</td>\n",
       "      <td>159.504452</td>\n",
       "      <td>25.0</td>\n",
       "      <td>27.415000</td>\n",
       "      <td>1.0</td>\n",
       "      <td>1.461672e+12</td>\n",
       "    </tr>\n",
       "    <tr>\n",
       "      <th>4558609924</th>\n",
       "      <td>69.639999</td>\n",
       "      <td>153.529918</td>\n",
       "      <td>NaN</td>\n",
       "      <td>27.214000</td>\n",
       "      <td>1.0</td>\n",
       "      <td>1.461974e+12</td>\n",
       "    </tr>\n",
       "    <tr>\n",
       "      <th>5577150313</th>\n",
       "      <td>90.699997</td>\n",
       "      <td>199.959265</td>\n",
       "      <td>NaN</td>\n",
       "      <td>28.000000</td>\n",
       "      <td>0.0</td>\n",
       "      <td>1.460885e+12</td>\n",
       "    </tr>\n",
       "    <tr>\n",
       "      <th>6962181067</th>\n",
       "      <td>61.553334</td>\n",
       "      <td>135.701872</td>\n",
       "      <td>NaN</td>\n",
       "      <td>24.028000</td>\n",
       "      <td>1.0</td>\n",
       "      <td>1.461804e+12</td>\n",
       "    </tr>\n",
       "    <tr>\n",
       "      <th>8877689391</th>\n",
       "      <td>85.145834</td>\n",
       "      <td>187.714432</td>\n",
       "      <td>NaN</td>\n",
       "      <td>25.487083</td>\n",
       "      <td>0.0</td>\n",
       "      <td>1.461709e+12</td>\n",
       "    </tr>\n",
       "  </tbody>\n",
       "</table>\n",
       "</div>"
      ],
      "text/plain": [
       "              WeightKg  WeightPounds   Fat        BMI  IsManualReport  \\\n",
       "Id                                                                      \n",
       "1503960366   52.599998    115.963147  22.0  22.650000             1.0   \n",
       "1927972279  133.500000    294.317120   NaN  47.540001             0.0   \n",
       "2873212765   57.000000    125.663489   NaN  21.570001             1.0   \n",
       "4319703577   72.350002    159.504452  25.0  27.415000             1.0   \n",
       "4558609924   69.639999    153.529918   NaN  27.214000             1.0   \n",
       "5577150313   90.699997    199.959265   NaN  28.000000             0.0   \n",
       "6962181067   61.553334    135.701872   NaN  24.028000             1.0   \n",
       "8877689391   85.145834    187.714432   NaN  25.487083             0.0   \n",
       "\n",
       "                   LogId  \n",
       "Id                        \n",
       "1503960366  1.462277e+12  \n",
       "1927972279  1.460510e+12  \n",
       "2873212765  1.462190e+12  \n",
       "4319703577  1.461672e+12  \n",
       "4558609924  1.461974e+12  \n",
       "5577150313  1.460885e+12  \n",
       "6962181067  1.461804e+12  \n",
       "8877689391  1.461709e+12  "
      ]
     },
     "execution_count": 22,
     "metadata": {},
     "output_type": "execute_result"
    }
   ],
   "source": [
    "# Get actvity DF for all users\n",
    "weight_df = pd.read_csv('fitbit/weightLogInfo_merged.csv')\n",
    "weight_df = weight_df.groupby('Id').mean('WeightPounds')\n",
    "weight_df"
   ]
  },
  {
   "cell_type": "code",
   "execution_count": 23,
   "metadata": {},
   "outputs": [
    {
     "data": {
      "text/html": [
       "<div>\n",
       "<style scoped>\n",
       "    .dataframe tbody tr th:only-of-type {\n",
       "        vertical-align: middle;\n",
       "    }\n",
       "\n",
       "    .dataframe tbody tr th {\n",
       "        vertical-align: top;\n",
       "    }\n",
       "\n",
       "    .dataframe thead th {\n",
       "        text-align: right;\n",
       "    }\n",
       "</style>\n",
       "<table border=\"1\" class=\"dataframe\">\n",
       "  <thead>\n",
       "    <tr style=\"text-align: right;\">\n",
       "      <th></th>\n",
       "      <th>TotalSleepRecords</th>\n",
       "      <th>TotalMinutesAsleep</th>\n",
       "      <th>TotalTimeInBed</th>\n",
       "    </tr>\n",
       "    <tr>\n",
       "      <th>Id</th>\n",
       "      <th></th>\n",
       "      <th></th>\n",
       "      <th></th>\n",
       "    </tr>\n",
       "  </thead>\n",
       "  <tbody>\n",
       "    <tr>\n",
       "      <th>1503960366</th>\n",
       "      <td>1.080000</td>\n",
       "      <td>360.280000</td>\n",
       "      <td>383.200000</td>\n",
       "    </tr>\n",
       "    <tr>\n",
       "      <th>1644430081</th>\n",
       "      <td>1.000000</td>\n",
       "      <td>294.000000</td>\n",
       "      <td>346.000000</td>\n",
       "    </tr>\n",
       "    <tr>\n",
       "      <th>1844505072</th>\n",
       "      <td>1.000000</td>\n",
       "      <td>652.000000</td>\n",
       "      <td>961.000000</td>\n",
       "    </tr>\n",
       "    <tr>\n",
       "      <th>1927972279</th>\n",
       "      <td>1.600000</td>\n",
       "      <td>417.000000</td>\n",
       "      <td>437.800000</td>\n",
       "    </tr>\n",
       "    <tr>\n",
       "      <th>2026352035</th>\n",
       "      <td>1.000000</td>\n",
       "      <td>506.178571</td>\n",
       "      <td>537.642857</td>\n",
       "    </tr>\n",
       "    <tr>\n",
       "      <th>2320127002</th>\n",
       "      <td>1.000000</td>\n",
       "      <td>61.000000</td>\n",
       "      <td>69.000000</td>\n",
       "    </tr>\n",
       "    <tr>\n",
       "      <th>2347167796</th>\n",
       "      <td>1.000000</td>\n",
       "      <td>446.800000</td>\n",
       "      <td>491.333333</td>\n",
       "    </tr>\n",
       "    <tr>\n",
       "      <th>3977333714</th>\n",
       "      <td>1.142857</td>\n",
       "      <td>293.642857</td>\n",
       "      <td>461.142857</td>\n",
       "    </tr>\n",
       "    <tr>\n",
       "      <th>4020332650</th>\n",
       "      <td>1.000000</td>\n",
       "      <td>349.375000</td>\n",
       "      <td>379.750000</td>\n",
       "    </tr>\n",
       "    <tr>\n",
       "      <th>4319703577</th>\n",
       "      <td>1.038462</td>\n",
       "      <td>476.653846</td>\n",
       "      <td>501.961538</td>\n",
       "    </tr>\n",
       "    <tr>\n",
       "      <th>4388161847</th>\n",
       "      <td>1.291667</td>\n",
       "      <td>403.125000</td>\n",
       "      <td>426.208333</td>\n",
       "    </tr>\n",
       "    <tr>\n",
       "      <th>4445114986</th>\n",
       "      <td>1.392857</td>\n",
       "      <td>385.178571</td>\n",
       "      <td>416.821429</td>\n",
       "    </tr>\n",
       "    <tr>\n",
       "      <th>4558609924</th>\n",
       "      <td>1.000000</td>\n",
       "      <td>127.600000</td>\n",
       "      <td>140.000000</td>\n",
       "    </tr>\n",
       "    <tr>\n",
       "      <th>4702921684</th>\n",
       "      <td>1.071429</td>\n",
       "      <td>421.142857</td>\n",
       "      <td>441.964286</td>\n",
       "    </tr>\n",
       "    <tr>\n",
       "      <th>5553957443</th>\n",
       "      <td>1.225806</td>\n",
       "      <td>463.483871</td>\n",
       "      <td>505.870968</td>\n",
       "    </tr>\n",
       "    <tr>\n",
       "      <th>5577150313</th>\n",
       "      <td>1.038462</td>\n",
       "      <td>432.000000</td>\n",
       "      <td>460.615385</td>\n",
       "    </tr>\n",
       "    <tr>\n",
       "      <th>6117666160</th>\n",
       "      <td>1.222222</td>\n",
       "      <td>478.777778</td>\n",
       "      <td>510.166667</td>\n",
       "    </tr>\n",
       "    <tr>\n",
       "      <th>6775888955</th>\n",
       "      <td>1.000000</td>\n",
       "      <td>349.666667</td>\n",
       "      <td>369.000000</td>\n",
       "    </tr>\n",
       "    <tr>\n",
       "      <th>6962181067</th>\n",
       "      <td>1.096774</td>\n",
       "      <td>448.000000</td>\n",
       "      <td>466.129032</td>\n",
       "    </tr>\n",
       "    <tr>\n",
       "      <th>7007744171</th>\n",
       "      <td>1.000000</td>\n",
       "      <td>68.500000</td>\n",
       "      <td>71.500000</td>\n",
       "    </tr>\n",
       "    <tr>\n",
       "      <th>7086361926</th>\n",
       "      <td>1.000000</td>\n",
       "      <td>453.125000</td>\n",
       "      <td>466.416667</td>\n",
       "    </tr>\n",
       "    <tr>\n",
       "      <th>8053475328</th>\n",
       "      <td>1.000000</td>\n",
       "      <td>297.000000</td>\n",
       "      <td>301.666667</td>\n",
       "    </tr>\n",
       "    <tr>\n",
       "      <th>8378563200</th>\n",
       "      <td>1.125000</td>\n",
       "      <td>443.343750</td>\n",
       "      <td>483.312500</td>\n",
       "    </tr>\n",
       "    <tr>\n",
       "      <th>8792009665</th>\n",
       "      <td>1.000000</td>\n",
       "      <td>435.666667</td>\n",
       "      <td>453.800000</td>\n",
       "    </tr>\n",
       "  </tbody>\n",
       "</table>\n",
       "</div>"
      ],
      "text/plain": [
       "            TotalSleepRecords  TotalMinutesAsleep  TotalTimeInBed\n",
       "Id                                                               \n",
       "1503960366           1.080000          360.280000      383.200000\n",
       "1644430081           1.000000          294.000000      346.000000\n",
       "1844505072           1.000000          652.000000      961.000000\n",
       "1927972279           1.600000          417.000000      437.800000\n",
       "2026352035           1.000000          506.178571      537.642857\n",
       "2320127002           1.000000           61.000000       69.000000\n",
       "2347167796           1.000000          446.800000      491.333333\n",
       "3977333714           1.142857          293.642857      461.142857\n",
       "4020332650           1.000000          349.375000      379.750000\n",
       "4319703577           1.038462          476.653846      501.961538\n",
       "4388161847           1.291667          403.125000      426.208333\n",
       "4445114986           1.392857          385.178571      416.821429\n",
       "4558609924           1.000000          127.600000      140.000000\n",
       "4702921684           1.071429          421.142857      441.964286\n",
       "5553957443           1.225806          463.483871      505.870968\n",
       "5577150313           1.038462          432.000000      460.615385\n",
       "6117666160           1.222222          478.777778      510.166667\n",
       "6775888955           1.000000          349.666667      369.000000\n",
       "6962181067           1.096774          448.000000      466.129032\n",
       "7007744171           1.000000           68.500000       71.500000\n",
       "7086361926           1.000000          453.125000      466.416667\n",
       "8053475328           1.000000          297.000000      301.666667\n",
       "8378563200           1.125000          443.343750      483.312500\n",
       "8792009665           1.000000          435.666667      453.800000"
      ]
     },
     "execution_count": 23,
     "metadata": {},
     "output_type": "execute_result"
    }
   ],
   "source": [
    "sleep_df = pd.read_csv('fitbit/sleepDay_merged.csv')\n",
    "sleep_df = sleep_df.groupby('Id').mean('TotalMinutesAsleep')\n",
    "sleep_df\n"
   ]
  },
  {
   "cell_type": "code",
   "execution_count": 24,
   "metadata": {},
   "outputs": [
    {
     "data": {
      "text/html": [
       "<div>\n",
       "<style scoped>\n",
       "    .dataframe tbody tr th:only-of-type {\n",
       "        vertical-align: middle;\n",
       "    }\n",
       "\n",
       "    .dataframe tbody tr th {\n",
       "        vertical-align: top;\n",
       "    }\n",
       "\n",
       "    .dataframe thead th {\n",
       "        text-align: right;\n",
       "    }\n",
       "</style>\n",
       "<table border=\"1\" class=\"dataframe\">\n",
       "  <thead>\n",
       "    <tr style=\"text-align: right;\">\n",
       "      <th></th>\n",
       "      <th>WeightKg</th>\n",
       "      <th>WeightPounds</th>\n",
       "      <th>Fat</th>\n",
       "      <th>BMI</th>\n",
       "      <th>IsManualReport</th>\n",
       "      <th>LogId</th>\n",
       "      <th>TotalSleepRecords</th>\n",
       "      <th>TotalMinutesAsleep</th>\n",
       "      <th>TotalTimeInBed</th>\n",
       "    </tr>\n",
       "    <tr>\n",
       "      <th>Id</th>\n",
       "      <th></th>\n",
       "      <th></th>\n",
       "      <th></th>\n",
       "      <th></th>\n",
       "      <th></th>\n",
       "      <th></th>\n",
       "      <th></th>\n",
       "      <th></th>\n",
       "      <th></th>\n",
       "    </tr>\n",
       "  </thead>\n",
       "  <tbody>\n",
       "    <tr>\n",
       "      <th>1503960366</th>\n",
       "      <td>52.599998</td>\n",
       "      <td>115.963147</td>\n",
       "      <td>22.0</td>\n",
       "      <td>22.650000</td>\n",
       "      <td>1.0</td>\n",
       "      <td>1.462277e+12</td>\n",
       "      <td>1.080000</td>\n",
       "      <td>360.280000</td>\n",
       "      <td>383.200000</td>\n",
       "    </tr>\n",
       "    <tr>\n",
       "      <th>1927972279</th>\n",
       "      <td>133.500000</td>\n",
       "      <td>294.317120</td>\n",
       "      <td>NaN</td>\n",
       "      <td>47.540001</td>\n",
       "      <td>0.0</td>\n",
       "      <td>1.460510e+12</td>\n",
       "      <td>1.600000</td>\n",
       "      <td>417.000000</td>\n",
       "      <td>437.800000</td>\n",
       "    </tr>\n",
       "    <tr>\n",
       "      <th>4319703577</th>\n",
       "      <td>72.350002</td>\n",
       "      <td>159.504452</td>\n",
       "      <td>25.0</td>\n",
       "      <td>27.415000</td>\n",
       "      <td>1.0</td>\n",
       "      <td>1.461672e+12</td>\n",
       "      <td>1.038462</td>\n",
       "      <td>476.653846</td>\n",
       "      <td>501.961538</td>\n",
       "    </tr>\n",
       "    <tr>\n",
       "      <th>4558609924</th>\n",
       "      <td>69.639999</td>\n",
       "      <td>153.529918</td>\n",
       "      <td>NaN</td>\n",
       "      <td>27.214000</td>\n",
       "      <td>1.0</td>\n",
       "      <td>1.461974e+12</td>\n",
       "      <td>1.000000</td>\n",
       "      <td>127.600000</td>\n",
       "      <td>140.000000</td>\n",
       "    </tr>\n",
       "    <tr>\n",
       "      <th>5577150313</th>\n",
       "      <td>90.699997</td>\n",
       "      <td>199.959265</td>\n",
       "      <td>NaN</td>\n",
       "      <td>28.000000</td>\n",
       "      <td>0.0</td>\n",
       "      <td>1.460885e+12</td>\n",
       "      <td>1.038462</td>\n",
       "      <td>432.000000</td>\n",
       "      <td>460.615385</td>\n",
       "    </tr>\n",
       "    <tr>\n",
       "      <th>6962181067</th>\n",
       "      <td>61.553334</td>\n",
       "      <td>135.701872</td>\n",
       "      <td>NaN</td>\n",
       "      <td>24.028000</td>\n",
       "      <td>1.0</td>\n",
       "      <td>1.461804e+12</td>\n",
       "      <td>1.096774</td>\n",
       "      <td>448.000000</td>\n",
       "      <td>466.129032</td>\n",
       "    </tr>\n",
       "  </tbody>\n",
       "</table>\n",
       "</div>"
      ],
      "text/plain": [
       "              WeightKg  WeightPounds   Fat        BMI  IsManualReport  \\\n",
       "Id                                                                      \n",
       "1503960366   52.599998    115.963147  22.0  22.650000             1.0   \n",
       "1927972279  133.500000    294.317120   NaN  47.540001             0.0   \n",
       "4319703577   72.350002    159.504452  25.0  27.415000             1.0   \n",
       "4558609924   69.639999    153.529918   NaN  27.214000             1.0   \n",
       "5577150313   90.699997    199.959265   NaN  28.000000             0.0   \n",
       "6962181067   61.553334    135.701872   NaN  24.028000             1.0   \n",
       "\n",
       "                   LogId  TotalSleepRecords  TotalMinutesAsleep  \\\n",
       "Id                                                                \n",
       "1503960366  1.462277e+12           1.080000          360.280000   \n",
       "1927972279  1.460510e+12           1.600000          417.000000   \n",
       "4319703577  1.461672e+12           1.038462          476.653846   \n",
       "4558609924  1.461974e+12           1.000000          127.600000   \n",
       "5577150313  1.460885e+12           1.038462          432.000000   \n",
       "6962181067  1.461804e+12           1.096774          448.000000   \n",
       "\n",
       "            TotalTimeInBed  \n",
       "Id                          \n",
       "1503960366      383.200000  \n",
       "1927972279      437.800000  \n",
       "4319703577      501.961538  \n",
       "4558609924      140.000000  \n",
       "5577150313      460.615385  \n",
       "6962181067      466.129032  "
      ]
     },
     "execution_count": 24,
     "metadata": {},
     "output_type": "execute_result"
    }
   ],
   "source": [
    "weight_sleep_df = weight_df.merge(sleep_df, on='Id')\n",
    "weight_sleep_df.drop_duplicates()\n",
    "weight_sleep_df"
   ]
  },
  {
   "cell_type": "code",
   "execution_count": 25,
   "metadata": {},
   "outputs": [
    {
     "data": {
      "application/vnd.plotly.v1+json": {
       "config": {
        "plotlyServerURL": "https://plot.ly"
       },
       "data": [
        {
         "hovertemplate": "TotalMinutesAsleep=%{x}<br>WeightPounds=%{y}<extra></extra>",
         "legendgroup": "",
         "marker": {
          "color": "#636efa",
          "symbol": "circle"
         },
         "mode": "markers",
         "name": "",
         "orientation": "v",
         "showlegend": false,
         "type": "scatter",
         "x": [
          360.28,
          417,
          476.65384615384613,
          127.6,
          432,
          448
         ],
         "xaxis": "x",
         "y": [
          115.963146545323,
          294.317120016975,
          159.504451736828,
          153.5299180400392,
          199.959265073821,
          135.70187212613658
         ],
         "yaxis": "y"
        }
       ],
       "layout": {
        "legend": {
         "tracegroupgap": 0
        },
        "margin": {
         "t": 60
        },
        "template": {
         "data": {
          "bar": [
           {
            "error_x": {
             "color": "#2a3f5f"
            },
            "error_y": {
             "color": "#2a3f5f"
            },
            "marker": {
             "line": {
              "color": "#E5ECF6",
              "width": 0.5
             },
             "pattern": {
              "fillmode": "overlay",
              "size": 10,
              "solidity": 0.2
             }
            },
            "type": "bar"
           }
          ],
          "barpolar": [
           {
            "marker": {
             "line": {
              "color": "#E5ECF6",
              "width": 0.5
             },
             "pattern": {
              "fillmode": "overlay",
              "size": 10,
              "solidity": 0.2
             }
            },
            "type": "barpolar"
           }
          ],
          "carpet": [
           {
            "aaxis": {
             "endlinecolor": "#2a3f5f",
             "gridcolor": "white",
             "linecolor": "white",
             "minorgridcolor": "white",
             "startlinecolor": "#2a3f5f"
            },
            "baxis": {
             "endlinecolor": "#2a3f5f",
             "gridcolor": "white",
             "linecolor": "white",
             "minorgridcolor": "white",
             "startlinecolor": "#2a3f5f"
            },
            "type": "carpet"
           }
          ],
          "choropleth": [
           {
            "colorbar": {
             "outlinewidth": 0,
             "ticks": ""
            },
            "type": "choropleth"
           }
          ],
          "contour": [
           {
            "colorbar": {
             "outlinewidth": 0,
             "ticks": ""
            },
            "colorscale": [
             [
              0,
              "#0d0887"
             ],
             [
              0.1111111111111111,
              "#46039f"
             ],
             [
              0.2222222222222222,
              "#7201a8"
             ],
             [
              0.3333333333333333,
              "#9c179e"
             ],
             [
              0.4444444444444444,
              "#bd3786"
             ],
             [
              0.5555555555555556,
              "#d8576b"
             ],
             [
              0.6666666666666666,
              "#ed7953"
             ],
             [
              0.7777777777777778,
              "#fb9f3a"
             ],
             [
              0.8888888888888888,
              "#fdca26"
             ],
             [
              1,
              "#f0f921"
             ]
            ],
            "type": "contour"
           }
          ],
          "contourcarpet": [
           {
            "colorbar": {
             "outlinewidth": 0,
             "ticks": ""
            },
            "type": "contourcarpet"
           }
          ],
          "heatmap": [
           {
            "colorbar": {
             "outlinewidth": 0,
             "ticks": ""
            },
            "colorscale": [
             [
              0,
              "#0d0887"
             ],
             [
              0.1111111111111111,
              "#46039f"
             ],
             [
              0.2222222222222222,
              "#7201a8"
             ],
             [
              0.3333333333333333,
              "#9c179e"
             ],
             [
              0.4444444444444444,
              "#bd3786"
             ],
             [
              0.5555555555555556,
              "#d8576b"
             ],
             [
              0.6666666666666666,
              "#ed7953"
             ],
             [
              0.7777777777777778,
              "#fb9f3a"
             ],
             [
              0.8888888888888888,
              "#fdca26"
             ],
             [
              1,
              "#f0f921"
             ]
            ],
            "type": "heatmap"
           }
          ],
          "heatmapgl": [
           {
            "colorbar": {
             "outlinewidth": 0,
             "ticks": ""
            },
            "colorscale": [
             [
              0,
              "#0d0887"
             ],
             [
              0.1111111111111111,
              "#46039f"
             ],
             [
              0.2222222222222222,
              "#7201a8"
             ],
             [
              0.3333333333333333,
              "#9c179e"
             ],
             [
              0.4444444444444444,
              "#bd3786"
             ],
             [
              0.5555555555555556,
              "#d8576b"
             ],
             [
              0.6666666666666666,
              "#ed7953"
             ],
             [
              0.7777777777777778,
              "#fb9f3a"
             ],
             [
              0.8888888888888888,
              "#fdca26"
             ],
             [
              1,
              "#f0f921"
             ]
            ],
            "type": "heatmapgl"
           }
          ],
          "histogram": [
           {
            "marker": {
             "pattern": {
              "fillmode": "overlay",
              "size": 10,
              "solidity": 0.2
             }
            },
            "type": "histogram"
           }
          ],
          "histogram2d": [
           {
            "colorbar": {
             "outlinewidth": 0,
             "ticks": ""
            },
            "colorscale": [
             [
              0,
              "#0d0887"
             ],
             [
              0.1111111111111111,
              "#46039f"
             ],
             [
              0.2222222222222222,
              "#7201a8"
             ],
             [
              0.3333333333333333,
              "#9c179e"
             ],
             [
              0.4444444444444444,
              "#bd3786"
             ],
             [
              0.5555555555555556,
              "#d8576b"
             ],
             [
              0.6666666666666666,
              "#ed7953"
             ],
             [
              0.7777777777777778,
              "#fb9f3a"
             ],
             [
              0.8888888888888888,
              "#fdca26"
             ],
             [
              1,
              "#f0f921"
             ]
            ],
            "type": "histogram2d"
           }
          ],
          "histogram2dcontour": [
           {
            "colorbar": {
             "outlinewidth": 0,
             "ticks": ""
            },
            "colorscale": [
             [
              0,
              "#0d0887"
             ],
             [
              0.1111111111111111,
              "#46039f"
             ],
             [
              0.2222222222222222,
              "#7201a8"
             ],
             [
              0.3333333333333333,
              "#9c179e"
             ],
             [
              0.4444444444444444,
              "#bd3786"
             ],
             [
              0.5555555555555556,
              "#d8576b"
             ],
             [
              0.6666666666666666,
              "#ed7953"
             ],
             [
              0.7777777777777778,
              "#fb9f3a"
             ],
             [
              0.8888888888888888,
              "#fdca26"
             ],
             [
              1,
              "#f0f921"
             ]
            ],
            "type": "histogram2dcontour"
           }
          ],
          "mesh3d": [
           {
            "colorbar": {
             "outlinewidth": 0,
             "ticks": ""
            },
            "type": "mesh3d"
           }
          ],
          "parcoords": [
           {
            "line": {
             "colorbar": {
              "outlinewidth": 0,
              "ticks": ""
             }
            },
            "type": "parcoords"
           }
          ],
          "pie": [
           {
            "automargin": true,
            "type": "pie"
           }
          ],
          "scatter": [
           {
            "marker": {
             "colorbar": {
              "outlinewidth": 0,
              "ticks": ""
             }
            },
            "type": "scatter"
           }
          ],
          "scatter3d": [
           {
            "line": {
             "colorbar": {
              "outlinewidth": 0,
              "ticks": ""
             }
            },
            "marker": {
             "colorbar": {
              "outlinewidth": 0,
              "ticks": ""
             }
            },
            "type": "scatter3d"
           }
          ],
          "scattercarpet": [
           {
            "marker": {
             "colorbar": {
              "outlinewidth": 0,
              "ticks": ""
             }
            },
            "type": "scattercarpet"
           }
          ],
          "scattergeo": [
           {
            "marker": {
             "colorbar": {
              "outlinewidth": 0,
              "ticks": ""
             }
            },
            "type": "scattergeo"
           }
          ],
          "scattergl": [
           {
            "marker": {
             "colorbar": {
              "outlinewidth": 0,
              "ticks": ""
             }
            },
            "type": "scattergl"
           }
          ],
          "scattermapbox": [
           {
            "marker": {
             "colorbar": {
              "outlinewidth": 0,
              "ticks": ""
             }
            },
            "type": "scattermapbox"
           }
          ],
          "scatterpolar": [
           {
            "marker": {
             "colorbar": {
              "outlinewidth": 0,
              "ticks": ""
             }
            },
            "type": "scatterpolar"
           }
          ],
          "scatterpolargl": [
           {
            "marker": {
             "colorbar": {
              "outlinewidth": 0,
              "ticks": ""
             }
            },
            "type": "scatterpolargl"
           }
          ],
          "scatterternary": [
           {
            "marker": {
             "colorbar": {
              "outlinewidth": 0,
              "ticks": ""
             }
            },
            "type": "scatterternary"
           }
          ],
          "surface": [
           {
            "colorbar": {
             "outlinewidth": 0,
             "ticks": ""
            },
            "colorscale": [
             [
              0,
              "#0d0887"
             ],
             [
              0.1111111111111111,
              "#46039f"
             ],
             [
              0.2222222222222222,
              "#7201a8"
             ],
             [
              0.3333333333333333,
              "#9c179e"
             ],
             [
              0.4444444444444444,
              "#bd3786"
             ],
             [
              0.5555555555555556,
              "#d8576b"
             ],
             [
              0.6666666666666666,
              "#ed7953"
             ],
             [
              0.7777777777777778,
              "#fb9f3a"
             ],
             [
              0.8888888888888888,
              "#fdca26"
             ],
             [
              1,
              "#f0f921"
             ]
            ],
            "type": "surface"
           }
          ],
          "table": [
           {
            "cells": {
             "fill": {
              "color": "#EBF0F8"
             },
             "line": {
              "color": "white"
             }
            },
            "header": {
             "fill": {
              "color": "#C8D4E3"
             },
             "line": {
              "color": "white"
             }
            },
            "type": "table"
           }
          ]
         },
         "layout": {
          "annotationdefaults": {
           "arrowcolor": "#2a3f5f",
           "arrowhead": 0,
           "arrowwidth": 1
          },
          "autotypenumbers": "strict",
          "coloraxis": {
           "colorbar": {
            "outlinewidth": 0,
            "ticks": ""
           }
          },
          "colorscale": {
           "diverging": [
            [
             0,
             "#8e0152"
            ],
            [
             0.1,
             "#c51b7d"
            ],
            [
             0.2,
             "#de77ae"
            ],
            [
             0.3,
             "#f1b6da"
            ],
            [
             0.4,
             "#fde0ef"
            ],
            [
             0.5,
             "#f7f7f7"
            ],
            [
             0.6,
             "#e6f5d0"
            ],
            [
             0.7,
             "#b8e186"
            ],
            [
             0.8,
             "#7fbc41"
            ],
            [
             0.9,
             "#4d9221"
            ],
            [
             1,
             "#276419"
            ]
           ],
           "sequential": [
            [
             0,
             "#0d0887"
            ],
            [
             0.1111111111111111,
             "#46039f"
            ],
            [
             0.2222222222222222,
             "#7201a8"
            ],
            [
             0.3333333333333333,
             "#9c179e"
            ],
            [
             0.4444444444444444,
             "#bd3786"
            ],
            [
             0.5555555555555556,
             "#d8576b"
            ],
            [
             0.6666666666666666,
             "#ed7953"
            ],
            [
             0.7777777777777778,
             "#fb9f3a"
            ],
            [
             0.8888888888888888,
             "#fdca26"
            ],
            [
             1,
             "#f0f921"
            ]
           ],
           "sequentialminus": [
            [
             0,
             "#0d0887"
            ],
            [
             0.1111111111111111,
             "#46039f"
            ],
            [
             0.2222222222222222,
             "#7201a8"
            ],
            [
             0.3333333333333333,
             "#9c179e"
            ],
            [
             0.4444444444444444,
             "#bd3786"
            ],
            [
             0.5555555555555556,
             "#d8576b"
            ],
            [
             0.6666666666666666,
             "#ed7953"
            ],
            [
             0.7777777777777778,
             "#fb9f3a"
            ],
            [
             0.8888888888888888,
             "#fdca26"
            ],
            [
             1,
             "#f0f921"
            ]
           ]
          },
          "colorway": [
           "#636efa",
           "#EF553B",
           "#00cc96",
           "#ab63fa",
           "#FFA15A",
           "#19d3f3",
           "#FF6692",
           "#B6E880",
           "#FF97FF",
           "#FECB52"
          ],
          "font": {
           "color": "#2a3f5f"
          },
          "geo": {
           "bgcolor": "white",
           "lakecolor": "white",
           "landcolor": "#E5ECF6",
           "showlakes": true,
           "showland": true,
           "subunitcolor": "white"
          },
          "hoverlabel": {
           "align": "left"
          },
          "hovermode": "closest",
          "mapbox": {
           "style": "light"
          },
          "paper_bgcolor": "white",
          "plot_bgcolor": "#E5ECF6",
          "polar": {
           "angularaxis": {
            "gridcolor": "white",
            "linecolor": "white",
            "ticks": ""
           },
           "bgcolor": "#E5ECF6",
           "radialaxis": {
            "gridcolor": "white",
            "linecolor": "white",
            "ticks": ""
           }
          },
          "scene": {
           "xaxis": {
            "backgroundcolor": "#E5ECF6",
            "gridcolor": "white",
            "gridwidth": 2,
            "linecolor": "white",
            "showbackground": true,
            "ticks": "",
            "zerolinecolor": "white"
           },
           "yaxis": {
            "backgroundcolor": "#E5ECF6",
            "gridcolor": "white",
            "gridwidth": 2,
            "linecolor": "white",
            "showbackground": true,
            "ticks": "",
            "zerolinecolor": "white"
           },
           "zaxis": {
            "backgroundcolor": "#E5ECF6",
            "gridcolor": "white",
            "gridwidth": 2,
            "linecolor": "white",
            "showbackground": true,
            "ticks": "",
            "zerolinecolor": "white"
           }
          },
          "shapedefaults": {
           "line": {
            "color": "#2a3f5f"
           }
          },
          "ternary": {
           "aaxis": {
            "gridcolor": "white",
            "linecolor": "white",
            "ticks": ""
           },
           "baxis": {
            "gridcolor": "white",
            "linecolor": "white",
            "ticks": ""
           },
           "bgcolor": "#E5ECF6",
           "caxis": {
            "gridcolor": "white",
            "linecolor": "white",
            "ticks": ""
           }
          },
          "title": {
           "x": 0.05
          },
          "xaxis": {
           "automargin": true,
           "gridcolor": "white",
           "linecolor": "white",
           "ticks": "",
           "title": {
            "standoff": 15
           },
           "zerolinecolor": "white",
           "zerolinewidth": 2
          },
          "yaxis": {
           "automargin": true,
           "gridcolor": "white",
           "linecolor": "white",
           "ticks": "",
           "title": {
            "standoff": 15
           },
           "zerolinecolor": "white",
           "zerolinewidth": 2
          }
         }
        },
        "xaxis": {
         "anchor": "y",
         "domain": [
          0,
          1
         ],
         "title": {
          "text": "TotalMinutesAsleep"
         }
        },
        "yaxis": {
         "anchor": "x",
         "domain": [
          0,
          1
         ],
         "title": {
          "text": "WeightPounds"
         }
        }
       }
      }
     },
     "metadata": {},
     "output_type": "display_data"
    }
   ],
   "source": [
    "# Note: Average data\n",
    "px.scatter(weight_sleep_df,x='TotalMinutesAsleep', y='WeightPounds')"
   ]
  }
 ],
 "metadata": {
  "interpreter": {
   "hash": "31f2aee4e71d21fbe5cf8b01ff0e069b9275f58929596ceb00d14d90e3e16cd6"
  },
  "kernelspec": {
   "display_name": "Python 3",
   "language": "python",
   "name": "python3"
  },
  "language_info": {
   "codemirror_mode": {
    "name": "ipython",
    "version": 3
   },
   "file_extension": ".py",
   "mimetype": "text/x-python",
   "name": "python",
   "nbconvert_exporter": "python",
   "pygments_lexer": "ipython3",
   "version": "3.8.5"
  }
 },
 "nbformat": 4,
 "nbformat_minor": 2
}
