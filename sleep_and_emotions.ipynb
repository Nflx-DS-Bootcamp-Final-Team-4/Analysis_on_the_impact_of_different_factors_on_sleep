{
 "cells": [
  {
   "cell_type": "code",
   "execution_count": 2,
   "metadata": {},
   "outputs": [],
   "source": [
    "# Import the necessary dependencies.\n",
    "import numpy as np\n",
    "import pandas as pd\n",
    "import plotly.express as px\n",
    "import scipy.stats as sts\n",
    "import plotly.express as plt\n",
    "import statsmodels.api as sm\n",
    "from statsmodels.stats.multicomp import pairwise_tukeyhsd"
   ]
  },
  {
   "cell_type": "markdown",
   "metadata": {},
   "source": [
    "**Create a null hypothesis, an alternative hypothesis, and choose a significance level. Use this cell to document your decisions.**\n",
    "\n",
    "Question: Does having positive emotions \n",
    "\n",
    "Hypothesis: If disrupting your sleep is related to your stress levels the next day, waking up more than 10 times will result in higher stress levels the next day.\n",
    "\n",
    "Null Hypothesis: Waking up more than 10 times wil result in no increase in the amount of stress the next day.\n",
    "\n",
    "Alternative Hypothesis: Waking up more than 10 times wil result in an increase in the amount of stress the next day.\n",
    "\n",
    "Significance Level:  Our p value for daily stress level is high for Daily stress levels between 10 - 30, sufficient evidence to NOT reject the null hypothesis.\n",
    "\n",
    "\n",
    "Other notes:\n",
    "There is a slight correlation between these factors:\n",
    "- Daily Stress vs. Number of Awakenings\n",
    "- Daily stress and Total amount of Sleep (TST) in minutes"
   ]
  },
  {
   "cell_type": "code",
   "execution_count": 3,
   "metadata": {},
   "outputs": [
    {
     "data": {
      "text/html": [
       "<div>\n",
       "<style scoped>\n",
       "    .dataframe tbody tr th:only-of-type {\n",
       "        vertical-align: middle;\n",
       "    }\n",
       "\n",
       "    .dataframe tbody tr th {\n",
       "        vertical-align: top;\n",
       "    }\n",
       "\n",
       "    .dataframe thead th {\n",
       "        text-align: right;\n",
       "    }\n",
       "</style>\n",
       "<table border=\"1\" class=\"dataframe\">\n",
       "  <thead>\n",
       "    <tr style=\"text-align: right;\">\n",
       "      <th></th>\n",
       "      <th>Unnamed: 0</th>\n",
       "      <th>In Bed Date</th>\n",
       "      <th>In Bed Time</th>\n",
       "      <th>Out Bed Date</th>\n",
       "      <th>Out Bed Time</th>\n",
       "      <th>Onset Date</th>\n",
       "      <th>Onset Time</th>\n",
       "      <th>Latency</th>\n",
       "      <th>Efficiency</th>\n",
       "      <th>Total Minutes in Bed</th>\n",
       "      <th>...</th>\n",
       "      <th>panas_pos_10</th>\n",
       "      <th>panas_pos_14</th>\n",
       "      <th>panas_pos_18</th>\n",
       "      <th>panas_pos_22</th>\n",
       "      <th>panas_pos_9+1</th>\n",
       "      <th>panas_neg_10</th>\n",
       "      <th>panas_neg_14</th>\n",
       "      <th>panas_neg_18</th>\n",
       "      <th>panas_neg_22</th>\n",
       "      <th>panas_neg_9+1</th>\n",
       "    </tr>\n",
       "  </thead>\n",
       "  <tbody>\n",
       "    <tr>\n",
       "      <th>0</th>\n",
       "      <td>0</td>\n",
       "      <td>2</td>\n",
       "      <td>00:46</td>\n",
       "      <td>2</td>\n",
       "      <td>03:31</td>\n",
       "      <td>2</td>\n",
       "      <td>00:46</td>\n",
       "      <td>0</td>\n",
       "      <td>87.27</td>\n",
       "      <td>165</td>\n",
       "      <td>...</td>\n",
       "      <td>21.0</td>\n",
       "      <td>17.0</td>\n",
       "      <td>12.0</td>\n",
       "      <td>18.0</td>\n",
       "      <td>17.0</td>\n",
       "      <td>11.0</td>\n",
       "      <td>13.0</td>\n",
       "      <td>13.0</td>\n",
       "      <td>10.0</td>\n",
       "      <td>10.0</td>\n",
       "    </tr>\n",
       "    <tr>\n",
       "      <th>0</th>\n",
       "      <td>0</td>\n",
       "      <td>2</td>\n",
       "      <td>00:50</td>\n",
       "      <td>2</td>\n",
       "      <td>06:22</td>\n",
       "      <td>2</td>\n",
       "      <td>00:54</td>\n",
       "      <td>4</td>\n",
       "      <td>73.49</td>\n",
       "      <td>332</td>\n",
       "      <td>...</td>\n",
       "      <td>37.0</td>\n",
       "      <td>32.0</td>\n",
       "      <td>24.0</td>\n",
       "      <td>27.0</td>\n",
       "      <td>33.0</td>\n",
       "      <td>11.0</td>\n",
       "      <td>10.0</td>\n",
       "      <td>16.0</td>\n",
       "      <td>17.0</td>\n",
       "      <td>18.0</td>\n",
       "    </tr>\n",
       "    <tr>\n",
       "      <th>0</th>\n",
       "      <td>0</td>\n",
       "      <td>1</td>\n",
       "      <td>22:29</td>\n",
       "      <td>1</td>\n",
       "      <td>05:52</td>\n",
       "      <td>1</td>\n",
       "      <td>22:32</td>\n",
       "      <td>3</td>\n",
       "      <td>79.23</td>\n",
       "      <td>443</td>\n",
       "      <td>...</td>\n",
       "      <td>35.0</td>\n",
       "      <td>34.0</td>\n",
       "      <td>31.0</td>\n",
       "      <td>28.0</td>\n",
       "      <td>35.0</td>\n",
       "      <td>11.0</td>\n",
       "      <td>12.0</td>\n",
       "      <td>11.0</td>\n",
       "      <td>12.0</td>\n",
       "      <td>11.0</td>\n",
       "    </tr>\n",
       "    <tr>\n",
       "      <th>0</th>\n",
       "      <td>0</td>\n",
       "      <td>2</td>\n",
       "      <td>00:57</td>\n",
       "      <td>2</td>\n",
       "      <td>07:10</td>\n",
       "      <td>2</td>\n",
       "      <td>01:01</td>\n",
       "      <td>4</td>\n",
       "      <td>85.52</td>\n",
       "      <td>373</td>\n",
       "      <td>...</td>\n",
       "      <td>30.0</td>\n",
       "      <td>27.0</td>\n",
       "      <td>22.0</td>\n",
       "      <td>19.0</td>\n",
       "      <td>26.0</td>\n",
       "      <td>11.0</td>\n",
       "      <td>13.0</td>\n",
       "      <td>15.0</td>\n",
       "      <td>14.0</td>\n",
       "      <td>14.0</td>\n",
       "    </tr>\n",
       "    <tr>\n",
       "      <th>0</th>\n",
       "      <td>0</td>\n",
       "      <td>1</td>\n",
       "      <td>23:56</td>\n",
       "      <td>1</td>\n",
       "      <td>06:42</td>\n",
       "      <td>1</td>\n",
       "      <td>23:56</td>\n",
       "      <td>0</td>\n",
       "      <td>85.71</td>\n",
       "      <td>406</td>\n",
       "      <td>...</td>\n",
       "      <td>30.0</td>\n",
       "      <td>25.0</td>\n",
       "      <td>31.0</td>\n",
       "      <td>27.0</td>\n",
       "      <td>31.0</td>\n",
       "      <td>26.0</td>\n",
       "      <td>17.0</td>\n",
       "      <td>17.0</td>\n",
       "      <td>15.0</td>\n",
       "      <td>16.0</td>\n",
       "    </tr>\n",
       "  </tbody>\n",
       "</table>\n",
       "<p>5 rows × 36 columns</p>\n",
       "</div>"
      ],
      "text/plain": [
       "   Unnamed: 0 In Bed Date In Bed Time Out Bed Date Out Bed Time Onset Date  \\\n",
       "0           0           2       00:46            2        03:31          2   \n",
       "0           0           2       00:50            2        06:22          2   \n",
       "0           0           1       22:29            1        05:52          1   \n",
       "0           0           2       00:57            2        07:10          2   \n",
       "0           0           1       23:56            1        06:42          1   \n",
       "\n",
       "  Onset Time Latency Efficiency Total Minutes in Bed  ... panas_pos_10  \\\n",
       "0      00:46       0      87.27                  165  ...         21.0   \n",
       "0      00:54       4      73.49                  332  ...         37.0   \n",
       "0      22:32       3      79.23                  443  ...         35.0   \n",
       "0      01:01       4      85.52                  373  ...         30.0   \n",
       "0      23:56       0      85.71                  406  ...         30.0   \n",
       "\n",
       "  panas_pos_14 panas_pos_18 panas_pos_22 panas_pos_9+1 panas_neg_10  \\\n",
       "0         17.0         12.0         18.0          17.0         11.0   \n",
       "0         32.0         24.0         27.0          33.0         11.0   \n",
       "0         34.0         31.0         28.0          35.0         11.0   \n",
       "0         27.0         22.0         19.0          26.0         11.0   \n",
       "0         25.0         31.0         27.0          31.0         26.0   \n",
       "\n",
       "  panas_neg_14  panas_neg_18  panas_neg_22  panas_neg_9+1  \n",
       "0         13.0          13.0          10.0           10.0  \n",
       "0         10.0          16.0          17.0           18.0  \n",
       "0         12.0          11.0          12.0           11.0  \n",
       "0         13.0          15.0          14.0           14.0  \n",
       "0         17.0          17.0          15.0           16.0  \n",
       "\n",
       "[5 rows x 36 columns]"
      ]
     },
     "execution_count": 3,
     "metadata": {},
     "output_type": "execute_result"
    }
   ],
   "source": [
    "# Get actvity DF for all users\n",
    "sleep_list = []\n",
    "\n",
    "for num in range(1,23):\n",
    "    user_sleep_df = pd.read_csv(f'DataPaper/user_{num}/sleep.csv')\n",
    "    stress_df = pd.read_csv(f'DataPaper/user_{num}/questionnaire.csv')\n",
    "\n",
    "    user_sleep_df = user_sleep_df.merge(stress_df)\n",
    "    sleep_list.append(user_sleep_df)\n",
    "    \n",
    "sleep_df = pd.concat(sleep_list)\n",
    "sleep_df.head()"
   ]
  },
  {
   "cell_type": "code",
   "execution_count": 6,
   "metadata": {},
   "outputs": [
    {
     "data": {
      "text/plain": [
       "Index(['Unnamed: 0', 'In Bed Date', 'In Bed Time', 'Out Bed Date',\n",
       "       'Out Bed Time', 'Onset Date', 'Onset Time', 'Latency', 'Efficiency',\n",
       "       'Total Minutes in Bed', 'Total Sleep Time (TST)',\n",
       "       'Wake After Sleep Onset (WASO)', 'Number of Awakenings',\n",
       "       'Average Awakening Length', 'Movement Index', 'Fragmentation Index',\n",
       "       'Sleep Fragmentation Index', 'MEQ', 'STAI1', 'STAI2', 'Pittsburgh',\n",
       "       'Daily_stress', 'BISBAS_bis', 'BISBAS_reward', 'BISBAS_drive',\n",
       "       'BISBAS_fun', 'panas_pos_10', 'panas_pos_14', 'panas_pos_18',\n",
       "       'panas_pos_22', 'panas_pos_9+1', 'panas_neg_10', 'panas_neg_14',\n",
       "       'panas_neg_18', 'panas_neg_22', 'panas_neg_9+1'],\n",
       "      dtype='object')"
      ]
     },
     "execution_count": 6,
     "metadata": {},
     "output_type": "execute_result"
    }
   ],
   "source": [
    "# Sleeping less causes stress\n",
    "sleep_df.columns"
   ]
  },
  {
   "cell_type": "code",
   "execution_count": 7,
   "metadata": {},
   "outputs": [
    {
     "data": {
      "text/html": [
       "<div>\n",
       "<style scoped>\n",
       "    .dataframe tbody tr th:only-of-type {\n",
       "        vertical-align: middle;\n",
       "    }\n",
       "\n",
       "    .dataframe tbody tr th {\n",
       "        vertical-align: top;\n",
       "    }\n",
       "\n",
       "    .dataframe thead th {\n",
       "        text-align: right;\n",
       "    }\n",
       "</style>\n",
       "<table border=\"1\" class=\"dataframe\">\n",
       "  <thead>\n",
       "    <tr style=\"text-align: right;\">\n",
       "      <th></th>\n",
       "      <th>Unnamed: 0</th>\n",
       "      <th>MEQ</th>\n",
       "      <th>STAI1</th>\n",
       "      <th>STAI2</th>\n",
       "      <th>Pittsburgh</th>\n",
       "      <th>Daily_stress</th>\n",
       "      <th>BISBAS_bis</th>\n",
       "      <th>BISBAS_reward</th>\n",
       "      <th>BISBAS_drive</th>\n",
       "      <th>BISBAS_fun</th>\n",
       "      <th>panas_pos_10</th>\n",
       "      <th>panas_pos_14</th>\n",
       "      <th>panas_pos_18</th>\n",
       "      <th>panas_pos_22</th>\n",
       "      <th>panas_pos_9+1</th>\n",
       "      <th>panas_neg_10</th>\n",
       "      <th>panas_neg_14</th>\n",
       "      <th>panas_neg_18</th>\n",
       "      <th>panas_neg_22</th>\n",
       "      <th>panas_neg_9+1</th>\n",
       "    </tr>\n",
       "  </thead>\n",
       "  <tbody>\n",
       "    <tr>\n",
       "      <th>Unnamed: 0</th>\n",
       "      <td>NaN</td>\n",
       "      <td>NaN</td>\n",
       "      <td>NaN</td>\n",
       "      <td>NaN</td>\n",
       "      <td>NaN</td>\n",
       "      <td>NaN</td>\n",
       "      <td>NaN</td>\n",
       "      <td>NaN</td>\n",
       "      <td>NaN</td>\n",
       "      <td>NaN</td>\n",
       "      <td>NaN</td>\n",
       "      <td>NaN</td>\n",
       "      <td>NaN</td>\n",
       "      <td>NaN</td>\n",
       "      <td>NaN</td>\n",
       "      <td>NaN</td>\n",
       "      <td>NaN</td>\n",
       "      <td>NaN</td>\n",
       "      <td>NaN</td>\n",
       "      <td>NaN</td>\n",
       "    </tr>\n",
       "    <tr>\n",
       "      <th>MEQ</th>\n",
       "      <td>NaN</td>\n",
       "      <td>1.000000</td>\n",
       "      <td>0.064761</td>\n",
       "      <td>0.016279</td>\n",
       "      <td>-0.209774</td>\n",
       "      <td>0.126979</td>\n",
       "      <td>0.338104</td>\n",
       "      <td>-0.119249</td>\n",
       "      <td>-0.242214</td>\n",
       "      <td>-0.225220</td>\n",
       "      <td>0.437591</td>\n",
       "      <td>0.113905</td>\n",
       "      <td>0.182841</td>\n",
       "      <td>0.037962</td>\n",
       "      <td>0.198356</td>\n",
       "      <td>-0.111700</td>\n",
       "      <td>-0.328746</td>\n",
       "      <td>-0.298023</td>\n",
       "      <td>-0.484721</td>\n",
       "      <td>-0.336541</td>\n",
       "    </tr>\n",
       "    <tr>\n",
       "      <th>STAI1</th>\n",
       "      <td>NaN</td>\n",
       "      <td>0.064761</td>\n",
       "      <td>1.000000</td>\n",
       "      <td>0.320353</td>\n",
       "      <td>-0.038403</td>\n",
       "      <td>0.017660</td>\n",
       "      <td>0.296743</td>\n",
       "      <td>0.225850</td>\n",
       "      <td>0.262892</td>\n",
       "      <td>0.287548</td>\n",
       "      <td>-0.210540</td>\n",
       "      <td>-0.232667</td>\n",
       "      <td>0.150528</td>\n",
       "      <td>-0.058234</td>\n",
       "      <td>-0.172416</td>\n",
       "      <td>0.556821</td>\n",
       "      <td>0.503186</td>\n",
       "      <td>0.272083</td>\n",
       "      <td>-0.021982</td>\n",
       "      <td>-0.192108</td>\n",
       "    </tr>\n",
       "    <tr>\n",
       "      <th>STAI2</th>\n",
       "      <td>NaN</td>\n",
       "      <td>0.016279</td>\n",
       "      <td>0.320353</td>\n",
       "      <td>1.000000</td>\n",
       "      <td>-0.208806</td>\n",
       "      <td>-0.415194</td>\n",
       "      <td>0.384374</td>\n",
       "      <td>0.121036</td>\n",
       "      <td>0.147198</td>\n",
       "      <td>0.539860</td>\n",
       "      <td>0.029984</td>\n",
       "      <td>0.226447</td>\n",
       "      <td>0.348308</td>\n",
       "      <td>0.327436</td>\n",
       "      <td>0.134947</td>\n",
       "      <td>0.366462</td>\n",
       "      <td>0.174431</td>\n",
       "      <td>0.085288</td>\n",
       "      <td>0.041399</td>\n",
       "      <td>0.017200</td>\n",
       "    </tr>\n",
       "    <tr>\n",
       "      <th>Pittsburgh</th>\n",
       "      <td>NaN</td>\n",
       "      <td>-0.209774</td>\n",
       "      <td>-0.038403</td>\n",
       "      <td>-0.208806</td>\n",
       "      <td>1.000000</td>\n",
       "      <td>0.109530</td>\n",
       "      <td>-0.223407</td>\n",
       "      <td>0.148965</td>\n",
       "      <td>0.149766</td>\n",
       "      <td>0.061377</td>\n",
       "      <td>0.279767</td>\n",
       "      <td>0.441286</td>\n",
       "      <td>0.268345</td>\n",
       "      <td>0.479459</td>\n",
       "      <td>0.111870</td>\n",
       "      <td>0.032929</td>\n",
       "      <td>-0.109893</td>\n",
       "      <td>0.043959</td>\n",
       "      <td>0.027883</td>\n",
       "      <td>0.571732</td>\n",
       "    </tr>\n",
       "    <tr>\n",
       "      <th>Daily_stress</th>\n",
       "      <td>NaN</td>\n",
       "      <td>0.126979</td>\n",
       "      <td>0.017660</td>\n",
       "      <td>-0.415194</td>\n",
       "      <td>0.109530</td>\n",
       "      <td>1.000000</td>\n",
       "      <td>0.090844</td>\n",
       "      <td>0.105119</td>\n",
       "      <td>-0.203145</td>\n",
       "      <td>-0.184862</td>\n",
       "      <td>0.055891</td>\n",
       "      <td>-0.178304</td>\n",
       "      <td>0.048792</td>\n",
       "      <td>-0.184617</td>\n",
       "      <td>-0.354012</td>\n",
       "      <td>0.064892</td>\n",
       "      <td>-0.198414</td>\n",
       "      <td>-0.114323</td>\n",
       "      <td>-0.082023</td>\n",
       "      <td>0.009060</td>\n",
       "    </tr>\n",
       "    <tr>\n",
       "      <th>BISBAS_bis</th>\n",
       "      <td>NaN</td>\n",
       "      <td>0.338104</td>\n",
       "      <td>0.296743</td>\n",
       "      <td>0.384374</td>\n",
       "      <td>-0.223407</td>\n",
       "      <td>0.090844</td>\n",
       "      <td>1.000000</td>\n",
       "      <td>0.231605</td>\n",
       "      <td>-0.290883</td>\n",
       "      <td>0.044658</td>\n",
       "      <td>0.190807</td>\n",
       "      <td>-0.067705</td>\n",
       "      <td>0.102082</td>\n",
       "      <td>0.073580</td>\n",
       "      <td>0.211445</td>\n",
       "      <td>0.225481</td>\n",
       "      <td>-0.033812</td>\n",
       "      <td>0.273934</td>\n",
       "      <td>-0.223298</td>\n",
       "      <td>0.138724</td>\n",
       "    </tr>\n",
       "    <tr>\n",
       "      <th>BISBAS_reward</th>\n",
       "      <td>NaN</td>\n",
       "      <td>-0.119249</td>\n",
       "      <td>0.225850</td>\n",
       "      <td>0.121036</td>\n",
       "      <td>0.148965</td>\n",
       "      <td>0.105119</td>\n",
       "      <td>0.231605</td>\n",
       "      <td>1.000000</td>\n",
       "      <td>0.215584</td>\n",
       "      <td>0.383075</td>\n",
       "      <td>-0.077196</td>\n",
       "      <td>0.294002</td>\n",
       "      <td>0.350398</td>\n",
       "      <td>0.336434</td>\n",
       "      <td>0.197735</td>\n",
       "      <td>0.367624</td>\n",
       "      <td>0.214155</td>\n",
       "      <td>0.161039</td>\n",
       "      <td>-0.050582</td>\n",
       "      <td>0.110942</td>\n",
       "    </tr>\n",
       "    <tr>\n",
       "      <th>BISBAS_drive</th>\n",
       "      <td>NaN</td>\n",
       "      <td>-0.242214</td>\n",
       "      <td>0.262892</td>\n",
       "      <td>0.147198</td>\n",
       "      <td>0.149766</td>\n",
       "      <td>-0.203145</td>\n",
       "      <td>-0.290883</td>\n",
       "      <td>0.215584</td>\n",
       "      <td>1.000000</td>\n",
       "      <td>0.544991</td>\n",
       "      <td>-0.059940</td>\n",
       "      <td>0.212834</td>\n",
       "      <td>0.220702</td>\n",
       "      <td>0.117810</td>\n",
       "      <td>-0.101991</td>\n",
       "      <td>-0.118828</td>\n",
       "      <td>0.123986</td>\n",
       "      <td>-0.068761</td>\n",
       "      <td>0.078696</td>\n",
       "      <td>-0.112028</td>\n",
       "    </tr>\n",
       "    <tr>\n",
       "      <th>BISBAS_fun</th>\n",
       "      <td>NaN</td>\n",
       "      <td>-0.225220</td>\n",
       "      <td>0.287548</td>\n",
       "      <td>0.539860</td>\n",
       "      <td>0.061377</td>\n",
       "      <td>-0.184862</td>\n",
       "      <td>0.044658</td>\n",
       "      <td>0.383075</td>\n",
       "      <td>0.544991</td>\n",
       "      <td>1.000000</td>\n",
       "      <td>-0.226014</td>\n",
       "      <td>0.112428</td>\n",
       "      <td>0.188805</td>\n",
       "      <td>0.113224</td>\n",
       "      <td>-0.192862</td>\n",
       "      <td>0.179195</td>\n",
       "      <td>0.216289</td>\n",
       "      <td>0.315479</td>\n",
       "      <td>0.041451</td>\n",
       "      <td>0.056343</td>\n",
       "    </tr>\n",
       "    <tr>\n",
       "      <th>panas_pos_10</th>\n",
       "      <td>NaN</td>\n",
       "      <td>0.437591</td>\n",
       "      <td>-0.210540</td>\n",
       "      <td>0.029984</td>\n",
       "      <td>0.279767</td>\n",
       "      <td>0.055891</td>\n",
       "      <td>0.190807</td>\n",
       "      <td>-0.077196</td>\n",
       "      <td>-0.059940</td>\n",
       "      <td>-0.226014</td>\n",
       "      <td>1.000000</td>\n",
       "      <td>0.615455</td>\n",
       "      <td>0.486908</td>\n",
       "      <td>0.590927</td>\n",
       "      <td>0.680025</td>\n",
       "      <td>-0.000953</td>\n",
       "      <td>-0.021271</td>\n",
       "      <td>0.006980</td>\n",
       "      <td>0.248594</td>\n",
       "      <td>0.321294</td>\n",
       "    </tr>\n",
       "    <tr>\n",
       "      <th>panas_pos_14</th>\n",
       "      <td>NaN</td>\n",
       "      <td>0.113905</td>\n",
       "      <td>-0.232667</td>\n",
       "      <td>0.226447</td>\n",
       "      <td>0.441286</td>\n",
       "      <td>-0.178304</td>\n",
       "      <td>-0.067705</td>\n",
       "      <td>0.294002</td>\n",
       "      <td>0.212834</td>\n",
       "      <td>0.112428</td>\n",
       "      <td>0.615455</td>\n",
       "      <td>1.000000</td>\n",
       "      <td>0.713401</td>\n",
       "      <td>0.730498</td>\n",
       "      <td>0.597363</td>\n",
       "      <td>0.052668</td>\n",
       "      <td>-0.072305</td>\n",
       "      <td>-0.073969</td>\n",
       "      <td>0.128014</td>\n",
       "      <td>0.324963</td>\n",
       "    </tr>\n",
       "    <tr>\n",
       "      <th>panas_pos_18</th>\n",
       "      <td>NaN</td>\n",
       "      <td>0.182841</td>\n",
       "      <td>0.150528</td>\n",
       "      <td>0.348308</td>\n",
       "      <td>0.268345</td>\n",
       "      <td>0.048792</td>\n",
       "      <td>0.102082</td>\n",
       "      <td>0.350398</td>\n",
       "      <td>0.220702</td>\n",
       "      <td>0.188805</td>\n",
       "      <td>0.486908</td>\n",
       "      <td>0.713401</td>\n",
       "      <td>1.000000</td>\n",
       "      <td>0.609624</td>\n",
       "      <td>0.437330</td>\n",
       "      <td>0.253295</td>\n",
       "      <td>0.127666</td>\n",
       "      <td>-0.110858</td>\n",
       "      <td>0.106090</td>\n",
       "      <td>0.206676</td>\n",
       "    </tr>\n",
       "    <tr>\n",
       "      <th>panas_pos_22</th>\n",
       "      <td>NaN</td>\n",
       "      <td>0.037962</td>\n",
       "      <td>-0.058234</td>\n",
       "      <td>0.327436</td>\n",
       "      <td>0.479459</td>\n",
       "      <td>-0.184617</td>\n",
       "      <td>0.073580</td>\n",
       "      <td>0.336434</td>\n",
       "      <td>0.117810</td>\n",
       "      <td>0.113224</td>\n",
       "      <td>0.590927</td>\n",
       "      <td>0.730498</td>\n",
       "      <td>0.609624</td>\n",
       "      <td>1.000000</td>\n",
       "      <td>0.578817</td>\n",
       "      <td>0.331739</td>\n",
       "      <td>-0.029226</td>\n",
       "      <td>-0.170186</td>\n",
       "      <td>0.020318</td>\n",
       "      <td>0.469991</td>\n",
       "    </tr>\n",
       "    <tr>\n",
       "      <th>panas_pos_9+1</th>\n",
       "      <td>NaN</td>\n",
       "      <td>0.198356</td>\n",
       "      <td>-0.172416</td>\n",
       "      <td>0.134947</td>\n",
       "      <td>0.111870</td>\n",
       "      <td>-0.354012</td>\n",
       "      <td>0.211445</td>\n",
       "      <td>0.197735</td>\n",
       "      <td>-0.101991</td>\n",
       "      <td>-0.192862</td>\n",
       "      <td>0.680025</td>\n",
       "      <td>0.597363</td>\n",
       "      <td>0.437330</td>\n",
       "      <td>0.578817</td>\n",
       "      <td>1.000000</td>\n",
       "      <td>0.211655</td>\n",
       "      <td>0.171276</td>\n",
       "      <td>0.062717</td>\n",
       "      <td>0.238023</td>\n",
       "      <td>0.278423</td>\n",
       "    </tr>\n",
       "    <tr>\n",
       "      <th>panas_neg_10</th>\n",
       "      <td>NaN</td>\n",
       "      <td>-0.111700</td>\n",
       "      <td>0.556821</td>\n",
       "      <td>0.366462</td>\n",
       "      <td>0.032929</td>\n",
       "      <td>0.064892</td>\n",
       "      <td>0.225481</td>\n",
       "      <td>0.367624</td>\n",
       "      <td>-0.118828</td>\n",
       "      <td>0.179195</td>\n",
       "      <td>-0.000953</td>\n",
       "      <td>0.052668</td>\n",
       "      <td>0.253295</td>\n",
       "      <td>0.331739</td>\n",
       "      <td>0.211655</td>\n",
       "      <td>1.000000</td>\n",
       "      <td>0.603917</td>\n",
       "      <td>0.257545</td>\n",
       "      <td>0.195116</td>\n",
       "      <td>0.173977</td>\n",
       "    </tr>\n",
       "    <tr>\n",
       "      <th>panas_neg_14</th>\n",
       "      <td>NaN</td>\n",
       "      <td>-0.328746</td>\n",
       "      <td>0.503186</td>\n",
       "      <td>0.174431</td>\n",
       "      <td>-0.109893</td>\n",
       "      <td>-0.198414</td>\n",
       "      <td>-0.033812</td>\n",
       "      <td>0.214155</td>\n",
       "      <td>0.123986</td>\n",
       "      <td>0.216289</td>\n",
       "      <td>-0.021271</td>\n",
       "      <td>-0.072305</td>\n",
       "      <td>0.127666</td>\n",
       "      <td>-0.029226</td>\n",
       "      <td>0.171276</td>\n",
       "      <td>0.603917</td>\n",
       "      <td>1.000000</td>\n",
       "      <td>0.631716</td>\n",
       "      <td>0.629703</td>\n",
       "      <td>0.042080</td>\n",
       "    </tr>\n",
       "    <tr>\n",
       "      <th>panas_neg_18</th>\n",
       "      <td>NaN</td>\n",
       "      <td>-0.298023</td>\n",
       "      <td>0.272083</td>\n",
       "      <td>0.085288</td>\n",
       "      <td>0.043959</td>\n",
       "      <td>-0.114323</td>\n",
       "      <td>0.273934</td>\n",
       "      <td>0.161039</td>\n",
       "      <td>-0.068761</td>\n",
       "      <td>0.315479</td>\n",
       "      <td>0.006980</td>\n",
       "      <td>-0.073969</td>\n",
       "      <td>-0.110858</td>\n",
       "      <td>-0.170186</td>\n",
       "      <td>0.062717</td>\n",
       "      <td>0.257545</td>\n",
       "      <td>0.631716</td>\n",
       "      <td>1.000000</td>\n",
       "      <td>0.571167</td>\n",
       "      <td>0.255455</td>\n",
       "    </tr>\n",
       "    <tr>\n",
       "      <th>panas_neg_22</th>\n",
       "      <td>NaN</td>\n",
       "      <td>-0.484721</td>\n",
       "      <td>-0.021982</td>\n",
       "      <td>0.041399</td>\n",
       "      <td>0.027883</td>\n",
       "      <td>-0.082023</td>\n",
       "      <td>-0.223298</td>\n",
       "      <td>-0.050582</td>\n",
       "      <td>0.078696</td>\n",
       "      <td>0.041451</td>\n",
       "      <td>0.248594</td>\n",
       "      <td>0.128014</td>\n",
       "      <td>0.106090</td>\n",
       "      <td>0.020318</td>\n",
       "      <td>0.238023</td>\n",
       "      <td>0.195116</td>\n",
       "      <td>0.629703</td>\n",
       "      <td>0.571167</td>\n",
       "      <td>1.000000</td>\n",
       "      <td>0.312796</td>\n",
       "    </tr>\n",
       "    <tr>\n",
       "      <th>panas_neg_9+1</th>\n",
       "      <td>NaN</td>\n",
       "      <td>-0.336541</td>\n",
       "      <td>-0.192108</td>\n",
       "      <td>0.017200</td>\n",
       "      <td>0.571732</td>\n",
       "      <td>0.009060</td>\n",
       "      <td>0.138724</td>\n",
       "      <td>0.110942</td>\n",
       "      <td>-0.112028</td>\n",
       "      <td>0.056343</td>\n",
       "      <td>0.321294</td>\n",
       "      <td>0.324963</td>\n",
       "      <td>0.206676</td>\n",
       "      <td>0.469991</td>\n",
       "      <td>0.278423</td>\n",
       "      <td>0.173977</td>\n",
       "      <td>0.042080</td>\n",
       "      <td>0.255455</td>\n",
       "      <td>0.312796</td>\n",
       "      <td>1.000000</td>\n",
       "    </tr>\n",
       "  </tbody>\n",
       "</table>\n",
       "</div>"
      ],
      "text/plain": [
       "               Unnamed: 0       MEQ     STAI1     STAI2  Pittsburgh  \\\n",
       "Unnamed: 0            NaN       NaN       NaN       NaN         NaN   \n",
       "MEQ                   NaN  1.000000  0.064761  0.016279   -0.209774   \n",
       "STAI1                 NaN  0.064761  1.000000  0.320353   -0.038403   \n",
       "STAI2                 NaN  0.016279  0.320353  1.000000   -0.208806   \n",
       "Pittsburgh            NaN -0.209774 -0.038403 -0.208806    1.000000   \n",
       "Daily_stress          NaN  0.126979  0.017660 -0.415194    0.109530   \n",
       "BISBAS_bis            NaN  0.338104  0.296743  0.384374   -0.223407   \n",
       "BISBAS_reward         NaN -0.119249  0.225850  0.121036    0.148965   \n",
       "BISBAS_drive          NaN -0.242214  0.262892  0.147198    0.149766   \n",
       "BISBAS_fun            NaN -0.225220  0.287548  0.539860    0.061377   \n",
       "panas_pos_10          NaN  0.437591 -0.210540  0.029984    0.279767   \n",
       "panas_pos_14          NaN  0.113905 -0.232667  0.226447    0.441286   \n",
       "panas_pos_18          NaN  0.182841  0.150528  0.348308    0.268345   \n",
       "panas_pos_22          NaN  0.037962 -0.058234  0.327436    0.479459   \n",
       "panas_pos_9+1         NaN  0.198356 -0.172416  0.134947    0.111870   \n",
       "panas_neg_10          NaN -0.111700  0.556821  0.366462    0.032929   \n",
       "panas_neg_14          NaN -0.328746  0.503186  0.174431   -0.109893   \n",
       "panas_neg_18          NaN -0.298023  0.272083  0.085288    0.043959   \n",
       "panas_neg_22          NaN -0.484721 -0.021982  0.041399    0.027883   \n",
       "panas_neg_9+1         NaN -0.336541 -0.192108  0.017200    0.571732   \n",
       "\n",
       "               Daily_stress  BISBAS_bis  BISBAS_reward  BISBAS_drive  \\\n",
       "Unnamed: 0              NaN         NaN            NaN           NaN   \n",
       "MEQ                0.126979    0.338104      -0.119249     -0.242214   \n",
       "STAI1              0.017660    0.296743       0.225850      0.262892   \n",
       "STAI2             -0.415194    0.384374       0.121036      0.147198   \n",
       "Pittsburgh         0.109530   -0.223407       0.148965      0.149766   \n",
       "Daily_stress       1.000000    0.090844       0.105119     -0.203145   \n",
       "BISBAS_bis         0.090844    1.000000       0.231605     -0.290883   \n",
       "BISBAS_reward      0.105119    0.231605       1.000000      0.215584   \n",
       "BISBAS_drive      -0.203145   -0.290883       0.215584      1.000000   \n",
       "BISBAS_fun        -0.184862    0.044658       0.383075      0.544991   \n",
       "panas_pos_10       0.055891    0.190807      -0.077196     -0.059940   \n",
       "panas_pos_14      -0.178304   -0.067705       0.294002      0.212834   \n",
       "panas_pos_18       0.048792    0.102082       0.350398      0.220702   \n",
       "panas_pos_22      -0.184617    0.073580       0.336434      0.117810   \n",
       "panas_pos_9+1     -0.354012    0.211445       0.197735     -0.101991   \n",
       "panas_neg_10       0.064892    0.225481       0.367624     -0.118828   \n",
       "panas_neg_14      -0.198414   -0.033812       0.214155      0.123986   \n",
       "panas_neg_18      -0.114323    0.273934       0.161039     -0.068761   \n",
       "panas_neg_22      -0.082023   -0.223298      -0.050582      0.078696   \n",
       "panas_neg_9+1      0.009060    0.138724       0.110942     -0.112028   \n",
       "\n",
       "               BISBAS_fun  panas_pos_10  panas_pos_14  panas_pos_18  \\\n",
       "Unnamed: 0            NaN           NaN           NaN           NaN   \n",
       "MEQ             -0.225220      0.437591      0.113905      0.182841   \n",
       "STAI1            0.287548     -0.210540     -0.232667      0.150528   \n",
       "STAI2            0.539860      0.029984      0.226447      0.348308   \n",
       "Pittsburgh       0.061377      0.279767      0.441286      0.268345   \n",
       "Daily_stress    -0.184862      0.055891     -0.178304      0.048792   \n",
       "BISBAS_bis       0.044658      0.190807     -0.067705      0.102082   \n",
       "BISBAS_reward    0.383075     -0.077196      0.294002      0.350398   \n",
       "BISBAS_drive     0.544991     -0.059940      0.212834      0.220702   \n",
       "BISBAS_fun       1.000000     -0.226014      0.112428      0.188805   \n",
       "panas_pos_10    -0.226014      1.000000      0.615455      0.486908   \n",
       "panas_pos_14     0.112428      0.615455      1.000000      0.713401   \n",
       "panas_pos_18     0.188805      0.486908      0.713401      1.000000   \n",
       "panas_pos_22     0.113224      0.590927      0.730498      0.609624   \n",
       "panas_pos_9+1   -0.192862      0.680025      0.597363      0.437330   \n",
       "panas_neg_10     0.179195     -0.000953      0.052668      0.253295   \n",
       "panas_neg_14     0.216289     -0.021271     -0.072305      0.127666   \n",
       "panas_neg_18     0.315479      0.006980     -0.073969     -0.110858   \n",
       "panas_neg_22     0.041451      0.248594      0.128014      0.106090   \n",
       "panas_neg_9+1    0.056343      0.321294      0.324963      0.206676   \n",
       "\n",
       "               panas_pos_22  panas_pos_9+1  panas_neg_10  panas_neg_14  \\\n",
       "Unnamed: 0              NaN            NaN           NaN           NaN   \n",
       "MEQ                0.037962       0.198356     -0.111700     -0.328746   \n",
       "STAI1             -0.058234      -0.172416      0.556821      0.503186   \n",
       "STAI2              0.327436       0.134947      0.366462      0.174431   \n",
       "Pittsburgh         0.479459       0.111870      0.032929     -0.109893   \n",
       "Daily_stress      -0.184617      -0.354012      0.064892     -0.198414   \n",
       "BISBAS_bis         0.073580       0.211445      0.225481     -0.033812   \n",
       "BISBAS_reward      0.336434       0.197735      0.367624      0.214155   \n",
       "BISBAS_drive       0.117810      -0.101991     -0.118828      0.123986   \n",
       "BISBAS_fun         0.113224      -0.192862      0.179195      0.216289   \n",
       "panas_pos_10       0.590927       0.680025     -0.000953     -0.021271   \n",
       "panas_pos_14       0.730498       0.597363      0.052668     -0.072305   \n",
       "panas_pos_18       0.609624       0.437330      0.253295      0.127666   \n",
       "panas_pos_22       1.000000       0.578817      0.331739     -0.029226   \n",
       "panas_pos_9+1      0.578817       1.000000      0.211655      0.171276   \n",
       "panas_neg_10       0.331739       0.211655      1.000000      0.603917   \n",
       "panas_neg_14      -0.029226       0.171276      0.603917      1.000000   \n",
       "panas_neg_18      -0.170186       0.062717      0.257545      0.631716   \n",
       "panas_neg_22       0.020318       0.238023      0.195116      0.629703   \n",
       "panas_neg_9+1      0.469991       0.278423      0.173977      0.042080   \n",
       "\n",
       "               panas_neg_18  panas_neg_22  panas_neg_9+1  \n",
       "Unnamed: 0              NaN           NaN            NaN  \n",
       "MEQ               -0.298023     -0.484721      -0.336541  \n",
       "STAI1              0.272083     -0.021982      -0.192108  \n",
       "STAI2              0.085288      0.041399       0.017200  \n",
       "Pittsburgh         0.043959      0.027883       0.571732  \n",
       "Daily_stress      -0.114323     -0.082023       0.009060  \n",
       "BISBAS_bis         0.273934     -0.223298       0.138724  \n",
       "BISBAS_reward      0.161039     -0.050582       0.110942  \n",
       "BISBAS_drive      -0.068761      0.078696      -0.112028  \n",
       "BISBAS_fun         0.315479      0.041451       0.056343  \n",
       "panas_pos_10       0.006980      0.248594       0.321294  \n",
       "panas_pos_14      -0.073969      0.128014       0.324963  \n",
       "panas_pos_18      -0.110858      0.106090       0.206676  \n",
       "panas_pos_22      -0.170186      0.020318       0.469991  \n",
       "panas_pos_9+1      0.062717      0.238023       0.278423  \n",
       "panas_neg_10       0.257545      0.195116       0.173977  \n",
       "panas_neg_14       0.631716      0.629703       0.042080  \n",
       "panas_neg_18       1.000000      0.571167       0.255455  \n",
       "panas_neg_22       0.571167      1.000000       0.312796  \n",
       "panas_neg_9+1      0.255455      0.312796       1.000000  "
      ]
     },
     "execution_count": 7,
     "metadata": {},
     "output_type": "execute_result"
    }
   ],
   "source": [
    "# Correlation between Daily_stress and Total amount of Sleep (TST) in minutes\n",
    "sleep_df.corr()"
   ]
  },
  {
   "cell_type": "code",
   "execution_count": 9,
   "metadata": {},
   "outputs": [
    {
     "data": {
      "application/vnd.plotly.v1+json": {
       "config": {
        "plotlyServerURL": "https://plot.ly"
       },
       "data": [
        {
         "hovertemplate": "panas_pos_9+1=%{x}<br>Pittsburgh=%{y}<br>panas_pos_22=%{marker.color}<extra></extra>",
         "legendgroup": "",
         "marker": {
          "color": [
           18,
           27,
           28,
           19,
           27,
           25,
           11,
           21,
           22,
           18,
           20,
           14,
           15,
           18,
           24,
           23,
           13,
           17,
           23,
           16,
           22
          ],
          "coloraxis": "coloraxis",
          "symbol": "circle"
         },
         "mode": "markers",
         "name": "",
         "orientation": "v",
         "showlegend": false,
         "type": "scatter",
         "x": [
          17,
          33,
          35,
          26,
          31,
          14,
          13,
          24,
          24,
          23,
          29,
          23,
          18,
          22,
          25,
          24,
          25,
          22,
          30,
          24,
          20
         ],
         "xaxis": "x",
         "y": [
          5,
          7,
          8,
          4,
          8,
          9,
          7,
          3,
          9,
          4,
          4,
          4,
          2,
          5,
          5,
          3,
          5,
          4,
          5,
          4,
          5
         ],
         "yaxis": "y"
        }
       ],
       "layout": {
        "coloraxis": {
         "colorbar": {
          "title": {
           "text": "panas_pos_22"
          }
         },
         "colorscale": [
          [
           0,
           "#0d0887"
          ],
          [
           0.1111111111111111,
           "#46039f"
          ],
          [
           0.2222222222222222,
           "#7201a8"
          ],
          [
           0.3333333333333333,
           "#9c179e"
          ],
          [
           0.4444444444444444,
           "#bd3786"
          ],
          [
           0.5555555555555556,
           "#d8576b"
          ],
          [
           0.6666666666666666,
           "#ed7953"
          ],
          [
           0.7777777777777778,
           "#fb9f3a"
          ],
          [
           0.8888888888888888,
           "#fdca26"
          ],
          [
           1,
           "#f0f921"
          ]
         ]
        },
        "legend": {
         "tracegroupgap": 0
        },
        "margin": {
         "t": 60
        },
        "template": {
         "data": {
          "bar": [
           {
            "error_x": {
             "color": "#2a3f5f"
            },
            "error_y": {
             "color": "#2a3f5f"
            },
            "marker": {
             "line": {
              "color": "#E5ECF6",
              "width": 0.5
             },
             "pattern": {
              "fillmode": "overlay",
              "size": 10,
              "solidity": 0.2
             }
            },
            "type": "bar"
           }
          ],
          "barpolar": [
           {
            "marker": {
             "line": {
              "color": "#E5ECF6",
              "width": 0.5
             },
             "pattern": {
              "fillmode": "overlay",
              "size": 10,
              "solidity": 0.2
             }
            },
            "type": "barpolar"
           }
          ],
          "carpet": [
           {
            "aaxis": {
             "endlinecolor": "#2a3f5f",
             "gridcolor": "white",
             "linecolor": "white",
             "minorgridcolor": "white",
             "startlinecolor": "#2a3f5f"
            },
            "baxis": {
             "endlinecolor": "#2a3f5f",
             "gridcolor": "white",
             "linecolor": "white",
             "minorgridcolor": "white",
             "startlinecolor": "#2a3f5f"
            },
            "type": "carpet"
           }
          ],
          "choropleth": [
           {
            "colorbar": {
             "outlinewidth": 0,
             "ticks": ""
            },
            "type": "choropleth"
           }
          ],
          "contour": [
           {
            "colorbar": {
             "outlinewidth": 0,
             "ticks": ""
            },
            "colorscale": [
             [
              0,
              "#0d0887"
             ],
             [
              0.1111111111111111,
              "#46039f"
             ],
             [
              0.2222222222222222,
              "#7201a8"
             ],
             [
              0.3333333333333333,
              "#9c179e"
             ],
             [
              0.4444444444444444,
              "#bd3786"
             ],
             [
              0.5555555555555556,
              "#d8576b"
             ],
             [
              0.6666666666666666,
              "#ed7953"
             ],
             [
              0.7777777777777778,
              "#fb9f3a"
             ],
             [
              0.8888888888888888,
              "#fdca26"
             ],
             [
              1,
              "#f0f921"
             ]
            ],
            "type": "contour"
           }
          ],
          "contourcarpet": [
           {
            "colorbar": {
             "outlinewidth": 0,
             "ticks": ""
            },
            "type": "contourcarpet"
           }
          ],
          "heatmap": [
           {
            "colorbar": {
             "outlinewidth": 0,
             "ticks": ""
            },
            "colorscale": [
             [
              0,
              "#0d0887"
             ],
             [
              0.1111111111111111,
              "#46039f"
             ],
             [
              0.2222222222222222,
              "#7201a8"
             ],
             [
              0.3333333333333333,
              "#9c179e"
             ],
             [
              0.4444444444444444,
              "#bd3786"
             ],
             [
              0.5555555555555556,
              "#d8576b"
             ],
             [
              0.6666666666666666,
              "#ed7953"
             ],
             [
              0.7777777777777778,
              "#fb9f3a"
             ],
             [
              0.8888888888888888,
              "#fdca26"
             ],
             [
              1,
              "#f0f921"
             ]
            ],
            "type": "heatmap"
           }
          ],
          "heatmapgl": [
           {
            "colorbar": {
             "outlinewidth": 0,
             "ticks": ""
            },
            "colorscale": [
             [
              0,
              "#0d0887"
             ],
             [
              0.1111111111111111,
              "#46039f"
             ],
             [
              0.2222222222222222,
              "#7201a8"
             ],
             [
              0.3333333333333333,
              "#9c179e"
             ],
             [
              0.4444444444444444,
              "#bd3786"
             ],
             [
              0.5555555555555556,
              "#d8576b"
             ],
             [
              0.6666666666666666,
              "#ed7953"
             ],
             [
              0.7777777777777778,
              "#fb9f3a"
             ],
             [
              0.8888888888888888,
              "#fdca26"
             ],
             [
              1,
              "#f0f921"
             ]
            ],
            "type": "heatmapgl"
           }
          ],
          "histogram": [
           {
            "marker": {
             "pattern": {
              "fillmode": "overlay",
              "size": 10,
              "solidity": 0.2
             }
            },
            "type": "histogram"
           }
          ],
          "histogram2d": [
           {
            "colorbar": {
             "outlinewidth": 0,
             "ticks": ""
            },
            "colorscale": [
             [
              0,
              "#0d0887"
             ],
             [
              0.1111111111111111,
              "#46039f"
             ],
             [
              0.2222222222222222,
              "#7201a8"
             ],
             [
              0.3333333333333333,
              "#9c179e"
             ],
             [
              0.4444444444444444,
              "#bd3786"
             ],
             [
              0.5555555555555556,
              "#d8576b"
             ],
             [
              0.6666666666666666,
              "#ed7953"
             ],
             [
              0.7777777777777778,
              "#fb9f3a"
             ],
             [
              0.8888888888888888,
              "#fdca26"
             ],
             [
              1,
              "#f0f921"
             ]
            ],
            "type": "histogram2d"
           }
          ],
          "histogram2dcontour": [
           {
            "colorbar": {
             "outlinewidth": 0,
             "ticks": ""
            },
            "colorscale": [
             [
              0,
              "#0d0887"
             ],
             [
              0.1111111111111111,
              "#46039f"
             ],
             [
              0.2222222222222222,
              "#7201a8"
             ],
             [
              0.3333333333333333,
              "#9c179e"
             ],
             [
              0.4444444444444444,
              "#bd3786"
             ],
             [
              0.5555555555555556,
              "#d8576b"
             ],
             [
              0.6666666666666666,
              "#ed7953"
             ],
             [
              0.7777777777777778,
              "#fb9f3a"
             ],
             [
              0.8888888888888888,
              "#fdca26"
             ],
             [
              1,
              "#f0f921"
             ]
            ],
            "type": "histogram2dcontour"
           }
          ],
          "mesh3d": [
           {
            "colorbar": {
             "outlinewidth": 0,
             "ticks": ""
            },
            "type": "mesh3d"
           }
          ],
          "parcoords": [
           {
            "line": {
             "colorbar": {
              "outlinewidth": 0,
              "ticks": ""
             }
            },
            "type": "parcoords"
           }
          ],
          "pie": [
           {
            "automargin": true,
            "type": "pie"
           }
          ],
          "scatter": [
           {
            "marker": {
             "colorbar": {
              "outlinewidth": 0,
              "ticks": ""
             }
            },
            "type": "scatter"
           }
          ],
          "scatter3d": [
           {
            "line": {
             "colorbar": {
              "outlinewidth": 0,
              "ticks": ""
             }
            },
            "marker": {
             "colorbar": {
              "outlinewidth": 0,
              "ticks": ""
             }
            },
            "type": "scatter3d"
           }
          ],
          "scattercarpet": [
           {
            "marker": {
             "colorbar": {
              "outlinewidth": 0,
              "ticks": ""
             }
            },
            "type": "scattercarpet"
           }
          ],
          "scattergeo": [
           {
            "marker": {
             "colorbar": {
              "outlinewidth": 0,
              "ticks": ""
             }
            },
            "type": "scattergeo"
           }
          ],
          "scattergl": [
           {
            "marker": {
             "colorbar": {
              "outlinewidth": 0,
              "ticks": ""
             }
            },
            "type": "scattergl"
           }
          ],
          "scattermapbox": [
           {
            "marker": {
             "colorbar": {
              "outlinewidth": 0,
              "ticks": ""
             }
            },
            "type": "scattermapbox"
           }
          ],
          "scatterpolar": [
           {
            "marker": {
             "colorbar": {
              "outlinewidth": 0,
              "ticks": ""
             }
            },
            "type": "scatterpolar"
           }
          ],
          "scatterpolargl": [
           {
            "marker": {
             "colorbar": {
              "outlinewidth": 0,
              "ticks": ""
             }
            },
            "type": "scatterpolargl"
           }
          ],
          "scatterternary": [
           {
            "marker": {
             "colorbar": {
              "outlinewidth": 0,
              "ticks": ""
             }
            },
            "type": "scatterternary"
           }
          ],
          "surface": [
           {
            "colorbar": {
             "outlinewidth": 0,
             "ticks": ""
            },
            "colorscale": [
             [
              0,
              "#0d0887"
             ],
             [
              0.1111111111111111,
              "#46039f"
             ],
             [
              0.2222222222222222,
              "#7201a8"
             ],
             [
              0.3333333333333333,
              "#9c179e"
             ],
             [
              0.4444444444444444,
              "#bd3786"
             ],
             [
              0.5555555555555556,
              "#d8576b"
             ],
             [
              0.6666666666666666,
              "#ed7953"
             ],
             [
              0.7777777777777778,
              "#fb9f3a"
             ],
             [
              0.8888888888888888,
              "#fdca26"
             ],
             [
              1,
              "#f0f921"
             ]
            ],
            "type": "surface"
           }
          ],
          "table": [
           {
            "cells": {
             "fill": {
              "color": "#EBF0F8"
             },
             "line": {
              "color": "white"
             }
            },
            "header": {
             "fill": {
              "color": "#C8D4E3"
             },
             "line": {
              "color": "white"
             }
            },
            "type": "table"
           }
          ]
         },
         "layout": {
          "annotationdefaults": {
           "arrowcolor": "#2a3f5f",
           "arrowhead": 0,
           "arrowwidth": 1
          },
          "autotypenumbers": "strict",
          "coloraxis": {
           "colorbar": {
            "outlinewidth": 0,
            "ticks": ""
           }
          },
          "colorscale": {
           "diverging": [
            [
             0,
             "#8e0152"
            ],
            [
             0.1,
             "#c51b7d"
            ],
            [
             0.2,
             "#de77ae"
            ],
            [
             0.3,
             "#f1b6da"
            ],
            [
             0.4,
             "#fde0ef"
            ],
            [
             0.5,
             "#f7f7f7"
            ],
            [
             0.6,
             "#e6f5d0"
            ],
            [
             0.7,
             "#b8e186"
            ],
            [
             0.8,
             "#7fbc41"
            ],
            [
             0.9,
             "#4d9221"
            ],
            [
             1,
             "#276419"
            ]
           ],
           "sequential": [
            [
             0,
             "#0d0887"
            ],
            [
             0.1111111111111111,
             "#46039f"
            ],
            [
             0.2222222222222222,
             "#7201a8"
            ],
            [
             0.3333333333333333,
             "#9c179e"
            ],
            [
             0.4444444444444444,
             "#bd3786"
            ],
            [
             0.5555555555555556,
             "#d8576b"
            ],
            [
             0.6666666666666666,
             "#ed7953"
            ],
            [
             0.7777777777777778,
             "#fb9f3a"
            ],
            [
             0.8888888888888888,
             "#fdca26"
            ],
            [
             1,
             "#f0f921"
            ]
           ],
           "sequentialminus": [
            [
             0,
             "#0d0887"
            ],
            [
             0.1111111111111111,
             "#46039f"
            ],
            [
             0.2222222222222222,
             "#7201a8"
            ],
            [
             0.3333333333333333,
             "#9c179e"
            ],
            [
             0.4444444444444444,
             "#bd3786"
            ],
            [
             0.5555555555555556,
             "#d8576b"
            ],
            [
             0.6666666666666666,
             "#ed7953"
            ],
            [
             0.7777777777777778,
             "#fb9f3a"
            ],
            [
             0.8888888888888888,
             "#fdca26"
            ],
            [
             1,
             "#f0f921"
            ]
           ]
          },
          "colorway": [
           "#636efa",
           "#EF553B",
           "#00cc96",
           "#ab63fa",
           "#FFA15A",
           "#19d3f3",
           "#FF6692",
           "#B6E880",
           "#FF97FF",
           "#FECB52"
          ],
          "font": {
           "color": "#2a3f5f"
          },
          "geo": {
           "bgcolor": "white",
           "lakecolor": "white",
           "landcolor": "#E5ECF6",
           "showlakes": true,
           "showland": true,
           "subunitcolor": "white"
          },
          "hoverlabel": {
           "align": "left"
          },
          "hovermode": "closest",
          "mapbox": {
           "style": "light"
          },
          "paper_bgcolor": "white",
          "plot_bgcolor": "#E5ECF6",
          "polar": {
           "angularaxis": {
            "gridcolor": "white",
            "linecolor": "white",
            "ticks": ""
           },
           "bgcolor": "#E5ECF6",
           "radialaxis": {
            "gridcolor": "white",
            "linecolor": "white",
            "ticks": ""
           }
          },
          "scene": {
           "xaxis": {
            "backgroundcolor": "#E5ECF6",
            "gridcolor": "white",
            "gridwidth": 2,
            "linecolor": "white",
            "showbackground": true,
            "ticks": "",
            "zerolinecolor": "white"
           },
           "yaxis": {
            "backgroundcolor": "#E5ECF6",
            "gridcolor": "white",
            "gridwidth": 2,
            "linecolor": "white",
            "showbackground": true,
            "ticks": "",
            "zerolinecolor": "white"
           },
           "zaxis": {
            "backgroundcolor": "#E5ECF6",
            "gridcolor": "white",
            "gridwidth": 2,
            "linecolor": "white",
            "showbackground": true,
            "ticks": "",
            "zerolinecolor": "white"
           }
          },
          "shapedefaults": {
           "line": {
            "color": "#2a3f5f"
           }
          },
          "ternary": {
           "aaxis": {
            "gridcolor": "white",
            "linecolor": "white",
            "ticks": ""
           },
           "baxis": {
            "gridcolor": "white",
            "linecolor": "white",
            "ticks": ""
           },
           "bgcolor": "#E5ECF6",
           "caxis": {
            "gridcolor": "white",
            "linecolor": "white",
            "ticks": ""
           }
          },
          "title": {
           "x": 0.05
          },
          "xaxis": {
           "automargin": true,
           "gridcolor": "white",
           "linecolor": "white",
           "ticks": "",
           "title": {
            "standoff": 15
           },
           "zerolinecolor": "white",
           "zerolinewidth": 2
          },
          "yaxis": {
           "automargin": true,
           "gridcolor": "white",
           "linecolor": "white",
           "ticks": "",
           "title": {
            "standoff": 15
           },
           "zerolinecolor": "white",
           "zerolinewidth": 2
          }
         }
        },
        "xaxis": {
         "anchor": "y",
         "domain": [
          0,
          1
         ],
         "title": {
          "text": "panas_pos_9+1"
         }
        },
        "yaxis": {
         "anchor": "x",
         "domain": [
          0,
          1
         ],
         "title": {
          "text": "Pittsburgh"
         }
        }
       }
      }
     },
     "metadata": {},
     "output_type": "display_data"
    }
   ],
   "source": [
    "# Scatter plot showing the quantity of sleep and stress level\n",
    "plt = px.scatter(sleep_df, x='panas_pos_9+1', y='Pittsburgh', color='panas_pos_22')\n",
    "plt.show()\n"
   ]
  }
 ],
 "metadata": {
  "interpreter": {
   "hash": "31f2aee4e71d21fbe5cf8b01ff0e069b9275f58929596ceb00d14d90e3e16cd6"
  },
  "kernelspec": {
   "display_name": "Python 3",
   "language": "python",
   "name": "python3"
  },
  "language_info": {
   "codemirror_mode": {
    "name": "ipython",
    "version": 3
   },
   "file_extension": ".py",
   "mimetype": "text/x-python",
   "name": "python",
   "nbconvert_exporter": "python",
   "pygments_lexer": "ipython3",
   "version": "3.8.9"
  }
 },
 "nbformat": 4,
 "nbformat_minor": 2
}
