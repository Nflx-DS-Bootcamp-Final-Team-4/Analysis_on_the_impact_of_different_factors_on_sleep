{
 "cells": [
  {
   "cell_type": "code",
   "execution_count": 2,
   "metadata": {},
   "outputs": [],
   "source": [
    "# Import the necessary dependencies.\n",
    "import numpy as np\n",
    "import pandas as pd\n",
    "import plotly.express as px\n",
    "import scipy.stats as sts\n",
    "import plotly.express as plt\n",
    "import statsmodels.api as sm\n",
    "from statsmodels.stats.multicomp import pairwise_tukeyhsd"
   ]
  },
  {
   "cell_type": "markdown",
   "metadata": {},
   "source": [
    "**Create a null hypothesis, an alternative hypothesis, and choose a significance level. Use this cell to document your decisions.**\n",
    "\n",
    "Question: Does waking up in the middle of the night affect your stress levels the next day?\n",
    "\n",
    "Hypothesis: If disrupting your sleep is related to your stress levels the next day, waking up more than 10 times will result in higher stress levels the next day.\n",
    "\n",
    "Null Hypothesis: Waking up more than 10 times wil result in no increase in the amount of stress the next day.\n",
    "\n",
    "Alternative Hypothesis: Waking up more than 10 times wil result in an increase in the amount of stress the next day.\n",
    "\n",
    "Significance Level:  Our p value for daily stress level is high for Daily stress levels between 10 - 30, sufficient evidence to NOT reject the null hypothesis.\n",
    "\n",
    "\n",
    "Other notes:\n",
    "There is a slight correlation between these factors:\n",
    "- Daily Stress vs. Number of Awakenings\n",
    "- Daily stress and Total amount of Sleep (TST) in minutes"
   ]
  },
  {
   "cell_type": "code",
   "execution_count": 3,
   "metadata": {},
   "outputs": [
    {
     "data": {
      "text/html": [
       "<div>\n",
       "<style scoped>\n",
       "    .dataframe tbody tr th:only-of-type {\n",
       "        vertical-align: middle;\n",
       "    }\n",
       "\n",
       "    .dataframe tbody tr th {\n",
       "        vertical-align: top;\n",
       "    }\n",
       "\n",
       "    .dataframe thead th {\n",
       "        text-align: right;\n",
       "    }\n",
       "</style>\n",
       "<table border=\"1\" class=\"dataframe\">\n",
       "  <thead>\n",
       "    <tr style=\"text-align: right;\">\n",
       "      <th></th>\n",
       "      <th>Unnamed: 0</th>\n",
       "      <th>In Bed Date</th>\n",
       "      <th>In Bed Time</th>\n",
       "      <th>Out Bed Date</th>\n",
       "      <th>Out Bed Time</th>\n",
       "      <th>Onset Date</th>\n",
       "      <th>Onset Time</th>\n",
       "      <th>Latency</th>\n",
       "      <th>Efficiency</th>\n",
       "      <th>Total Minutes in Bed</th>\n",
       "      <th>...</th>\n",
       "      <th>panas_pos_10</th>\n",
       "      <th>panas_pos_14</th>\n",
       "      <th>panas_pos_18</th>\n",
       "      <th>panas_pos_22</th>\n",
       "      <th>panas_pos_9+1</th>\n",
       "      <th>panas_neg_10</th>\n",
       "      <th>panas_neg_14</th>\n",
       "      <th>panas_neg_18</th>\n",
       "      <th>panas_neg_22</th>\n",
       "      <th>panas_neg_9+1</th>\n",
       "    </tr>\n",
       "  </thead>\n",
       "  <tbody>\n",
       "    <tr>\n",
       "      <th>0</th>\n",
       "      <td>0</td>\n",
       "      <td>2</td>\n",
       "      <td>00:46</td>\n",
       "      <td>2</td>\n",
       "      <td>03:31</td>\n",
       "      <td>2</td>\n",
       "      <td>00:46</td>\n",
       "      <td>0</td>\n",
       "      <td>87.27</td>\n",
       "      <td>165</td>\n",
       "      <td>...</td>\n",
       "      <td>21.0</td>\n",
       "      <td>17.0</td>\n",
       "      <td>12.0</td>\n",
       "      <td>18.0</td>\n",
       "      <td>17.0</td>\n",
       "      <td>11.0</td>\n",
       "      <td>13.0</td>\n",
       "      <td>13.0</td>\n",
       "      <td>10.0</td>\n",
       "      <td>10.0</td>\n",
       "    </tr>\n",
       "    <tr>\n",
       "      <th>0</th>\n",
       "      <td>0</td>\n",
       "      <td>2</td>\n",
       "      <td>00:50</td>\n",
       "      <td>2</td>\n",
       "      <td>06:22</td>\n",
       "      <td>2</td>\n",
       "      <td>00:54</td>\n",
       "      <td>4</td>\n",
       "      <td>73.49</td>\n",
       "      <td>332</td>\n",
       "      <td>...</td>\n",
       "      <td>37.0</td>\n",
       "      <td>32.0</td>\n",
       "      <td>24.0</td>\n",
       "      <td>27.0</td>\n",
       "      <td>33.0</td>\n",
       "      <td>11.0</td>\n",
       "      <td>10.0</td>\n",
       "      <td>16.0</td>\n",
       "      <td>17.0</td>\n",
       "      <td>18.0</td>\n",
       "    </tr>\n",
       "    <tr>\n",
       "      <th>0</th>\n",
       "      <td>0</td>\n",
       "      <td>1</td>\n",
       "      <td>22:29</td>\n",
       "      <td>1</td>\n",
       "      <td>05:52</td>\n",
       "      <td>1</td>\n",
       "      <td>22:32</td>\n",
       "      <td>3</td>\n",
       "      <td>79.23</td>\n",
       "      <td>443</td>\n",
       "      <td>...</td>\n",
       "      <td>35.0</td>\n",
       "      <td>34.0</td>\n",
       "      <td>31.0</td>\n",
       "      <td>28.0</td>\n",
       "      <td>35.0</td>\n",
       "      <td>11.0</td>\n",
       "      <td>12.0</td>\n",
       "      <td>11.0</td>\n",
       "      <td>12.0</td>\n",
       "      <td>11.0</td>\n",
       "    </tr>\n",
       "    <tr>\n",
       "      <th>0</th>\n",
       "      <td>0</td>\n",
       "      <td>2</td>\n",
       "      <td>00:57</td>\n",
       "      <td>2</td>\n",
       "      <td>07:10</td>\n",
       "      <td>2</td>\n",
       "      <td>01:01</td>\n",
       "      <td>4</td>\n",
       "      <td>85.52</td>\n",
       "      <td>373</td>\n",
       "      <td>...</td>\n",
       "      <td>30.0</td>\n",
       "      <td>27.0</td>\n",
       "      <td>22.0</td>\n",
       "      <td>19.0</td>\n",
       "      <td>26.0</td>\n",
       "      <td>11.0</td>\n",
       "      <td>13.0</td>\n",
       "      <td>15.0</td>\n",
       "      <td>14.0</td>\n",
       "      <td>14.0</td>\n",
       "    </tr>\n",
       "    <tr>\n",
       "      <th>0</th>\n",
       "      <td>0</td>\n",
       "      <td>1</td>\n",
       "      <td>23:56</td>\n",
       "      <td>1</td>\n",
       "      <td>06:42</td>\n",
       "      <td>1</td>\n",
       "      <td>23:56</td>\n",
       "      <td>0</td>\n",
       "      <td>85.71</td>\n",
       "      <td>406</td>\n",
       "      <td>...</td>\n",
       "      <td>30.0</td>\n",
       "      <td>25.0</td>\n",
       "      <td>31.0</td>\n",
       "      <td>27.0</td>\n",
       "      <td>31.0</td>\n",
       "      <td>26.0</td>\n",
       "      <td>17.0</td>\n",
       "      <td>17.0</td>\n",
       "      <td>15.0</td>\n",
       "      <td>16.0</td>\n",
       "    </tr>\n",
       "  </tbody>\n",
       "</table>\n",
       "<p>5 rows × 36 columns</p>\n",
       "</div>"
      ],
      "text/plain": [
       "   Unnamed: 0 In Bed Date In Bed Time Out Bed Date Out Bed Time Onset Date  \\\n",
       "0           0           2       00:46            2        03:31          2   \n",
       "0           0           2       00:50            2        06:22          2   \n",
       "0           0           1       22:29            1        05:52          1   \n",
       "0           0           2       00:57            2        07:10          2   \n",
       "0           0           1       23:56            1        06:42          1   \n",
       "\n",
       "  Onset Time Latency Efficiency Total Minutes in Bed  ... panas_pos_10  \\\n",
       "0      00:46       0      87.27                  165  ...         21.0   \n",
       "0      00:54       4      73.49                  332  ...         37.0   \n",
       "0      22:32       3      79.23                  443  ...         35.0   \n",
       "0      01:01       4      85.52                  373  ...         30.0   \n",
       "0      23:56       0      85.71                  406  ...         30.0   \n",
       "\n",
       "  panas_pos_14 panas_pos_18 panas_pos_22 panas_pos_9+1 panas_neg_10  \\\n",
       "0         17.0         12.0         18.0          17.0         11.0   \n",
       "0         32.0         24.0         27.0          33.0         11.0   \n",
       "0         34.0         31.0         28.0          35.0         11.0   \n",
       "0         27.0         22.0         19.0          26.0         11.0   \n",
       "0         25.0         31.0         27.0          31.0         26.0   \n",
       "\n",
       "  panas_neg_14  panas_neg_18  panas_neg_22  panas_neg_9+1  \n",
       "0         13.0          13.0          10.0           10.0  \n",
       "0         10.0          16.0          17.0           18.0  \n",
       "0         12.0          11.0          12.0           11.0  \n",
       "0         13.0          15.0          14.0           14.0  \n",
       "0         17.0          17.0          15.0           16.0  \n",
       "\n",
       "[5 rows x 36 columns]"
      ]
     },
     "execution_count": 3,
     "metadata": {},
     "output_type": "execute_result"
    }
   ],
   "source": [
    "# Get actvity DF for all users\n",
    "sleep_list = []\n",
    "\n",
    "for num in range(1,23):\n",
    "    user_sleep_df = pd.read_csv(f'DataPaper/user_{num}/sleep.csv')\n",
    "    stress_df = pd.read_csv(f'DataPaper/user_{num}/questionnaire.csv')\n",
    "\n",
    "    user_sleep_df = user_sleep_df.merge(stress_df)\n",
    "    sleep_list.append(user_sleep_df)\n",
    "    \n",
    "sleep_df = pd.concat(sleep_list)\n",
    "sleep_df.head()"
   ]
  },
  {
   "cell_type": "code",
   "execution_count": 4,
   "metadata": {},
   "outputs": [
    {
     "data": {
      "text/plain": [
       "Index(['Unnamed: 0', 'In Bed Date', 'In Bed Time', 'Out Bed Date',\n",
       "       'Out Bed Time', 'Onset Date', 'Onset Time', 'Latency', 'Efficiency',\n",
       "       'Total Minutes in Bed', 'Total Sleep Time (TST)',\n",
       "       'Wake After Sleep Onset (WASO)', 'Number of Awakenings',\n",
       "       'Average Awakening Length', 'Movement Index', 'Fragmentation Index',\n",
       "       'Sleep Fragmentation Index', 'MEQ', 'STAI1', 'STAI2', 'Pittsburgh',\n",
       "       'Daily_stress', 'BISBAS_bis', 'BISBAS_reward', 'BISBAS_drive',\n",
       "       'BISBAS_fun', 'panas_pos_10', 'panas_pos_14', 'panas_pos_18',\n",
       "       'panas_pos_22', 'panas_pos_9+1', 'panas_neg_10', 'panas_neg_14',\n",
       "       'panas_neg_18', 'panas_neg_22', 'panas_neg_9+1'],\n",
       "      dtype='object')"
      ]
     },
     "execution_count": 4,
     "metadata": {},
     "output_type": "execute_result"
    }
   ],
   "source": [
    "# Sleeping less causes stress\n",
    "sleep_df.columns"
   ]
  },
  {
   "cell_type": "code",
   "execution_count": 5,
   "metadata": {},
   "outputs": [
    {
     "data": {
      "application/vnd.plotly.v1+json": {
       "config": {
        "plotlyServerURL": "https://plot.ly"
       },
       "data": [
        {
         "hovertemplate": "Total Sleep Time (TST)=%{x}<br>Number of Awakenings=%{y}<br>Daily_stress=%{marker.color}<extra></extra>",
         "legendgroup": "",
         "marker": {
          "color": [
           23,
           26,
           11,
           10,
           41,
           41,
           69,
           74,
           38,
           14,
           48,
           27,
           26,
           35,
           32,
           20,
           32,
           31,
           22,
           30,
           41
          ],
          "coloraxis": "coloraxis",
          "symbol": "circle"
         },
         "mode": "markers",
         "name": "",
         "orientation": "v",
         "showlegend": false,
         "type": "scatter",
         "x": [
          144,
          244,
          351,
          319,
          348,
          333,
          342,
          336,
          578,
          247,
          343,
          247,
          374,
          236,
          339,
          306,
          302,
          340,
          384,
          273,
          304
         ],
         "xaxis": "x",
         "y": [
          9,
          18,
          16,
          28,
          21,
          20,
          31,
          27,
          4,
          13,
          12,
          19,
          19,
          15,
          39,
          20,
          9,
          44,
          12,
          18,
          21
         ],
         "yaxis": "y"
        }
       ],
       "layout": {
        "coloraxis": {
         "colorbar": {
          "title": {
           "text": "Daily_stress"
          }
         },
         "colorscale": [
          [
           0,
           "#0d0887"
          ],
          [
           0.1111111111111111,
           "#46039f"
          ],
          [
           0.2222222222222222,
           "#7201a8"
          ],
          [
           0.3333333333333333,
           "#9c179e"
          ],
          [
           0.4444444444444444,
           "#bd3786"
          ],
          [
           0.5555555555555556,
           "#d8576b"
          ],
          [
           0.6666666666666666,
           "#ed7953"
          ],
          [
           0.7777777777777778,
           "#fb9f3a"
          ],
          [
           0.8888888888888888,
           "#fdca26"
          ],
          [
           1,
           "#f0f921"
          ]
         ]
        },
        "legend": {
         "tracegroupgap": 0
        },
        "template": {
         "data": {
          "bar": [
           {
            "error_x": {
             "color": "#2a3f5f"
            },
            "error_y": {
             "color": "#2a3f5f"
            },
            "marker": {
             "line": {
              "color": "#E5ECF6",
              "width": 0.5
             },
             "pattern": {
              "fillmode": "overlay",
              "size": 10,
              "solidity": 0.2
             }
            },
            "type": "bar"
           }
          ],
          "barpolar": [
           {
            "marker": {
             "line": {
              "color": "#E5ECF6",
              "width": 0.5
             },
             "pattern": {
              "fillmode": "overlay",
              "size": 10,
              "solidity": 0.2
             }
            },
            "type": "barpolar"
           }
          ],
          "carpet": [
           {
            "aaxis": {
             "endlinecolor": "#2a3f5f",
             "gridcolor": "white",
             "linecolor": "white",
             "minorgridcolor": "white",
             "startlinecolor": "#2a3f5f"
            },
            "baxis": {
             "endlinecolor": "#2a3f5f",
             "gridcolor": "white",
             "linecolor": "white",
             "minorgridcolor": "white",
             "startlinecolor": "#2a3f5f"
            },
            "type": "carpet"
           }
          ],
          "choropleth": [
           {
            "colorbar": {
             "outlinewidth": 0,
             "ticks": ""
            },
            "type": "choropleth"
           }
          ],
          "contour": [
           {
            "colorbar": {
             "outlinewidth": 0,
             "ticks": ""
            },
            "colorscale": [
             [
              0,
              "#0d0887"
             ],
             [
              0.1111111111111111,
              "#46039f"
             ],
             [
              0.2222222222222222,
              "#7201a8"
             ],
             [
              0.3333333333333333,
              "#9c179e"
             ],
             [
              0.4444444444444444,
              "#bd3786"
             ],
             [
              0.5555555555555556,
              "#d8576b"
             ],
             [
              0.6666666666666666,
              "#ed7953"
             ],
             [
              0.7777777777777778,
              "#fb9f3a"
             ],
             [
              0.8888888888888888,
              "#fdca26"
             ],
             [
              1,
              "#f0f921"
             ]
            ],
            "type": "contour"
           }
          ],
          "contourcarpet": [
           {
            "colorbar": {
             "outlinewidth": 0,
             "ticks": ""
            },
            "type": "contourcarpet"
           }
          ],
          "heatmap": [
           {
            "colorbar": {
             "outlinewidth": 0,
             "ticks": ""
            },
            "colorscale": [
             [
              0,
              "#0d0887"
             ],
             [
              0.1111111111111111,
              "#46039f"
             ],
             [
              0.2222222222222222,
              "#7201a8"
             ],
             [
              0.3333333333333333,
              "#9c179e"
             ],
             [
              0.4444444444444444,
              "#bd3786"
             ],
             [
              0.5555555555555556,
              "#d8576b"
             ],
             [
              0.6666666666666666,
              "#ed7953"
             ],
             [
              0.7777777777777778,
              "#fb9f3a"
             ],
             [
              0.8888888888888888,
              "#fdca26"
             ],
             [
              1,
              "#f0f921"
             ]
            ],
            "type": "heatmap"
           }
          ],
          "heatmapgl": [
           {
            "colorbar": {
             "outlinewidth": 0,
             "ticks": ""
            },
            "colorscale": [
             [
              0,
              "#0d0887"
             ],
             [
              0.1111111111111111,
              "#46039f"
             ],
             [
              0.2222222222222222,
              "#7201a8"
             ],
             [
              0.3333333333333333,
              "#9c179e"
             ],
             [
              0.4444444444444444,
              "#bd3786"
             ],
             [
              0.5555555555555556,
              "#d8576b"
             ],
             [
              0.6666666666666666,
              "#ed7953"
             ],
             [
              0.7777777777777778,
              "#fb9f3a"
             ],
             [
              0.8888888888888888,
              "#fdca26"
             ],
             [
              1,
              "#f0f921"
             ]
            ],
            "type": "heatmapgl"
           }
          ],
          "histogram": [
           {
            "marker": {
             "pattern": {
              "fillmode": "overlay",
              "size": 10,
              "solidity": 0.2
             }
            },
            "type": "histogram"
           }
          ],
          "histogram2d": [
           {
            "colorbar": {
             "outlinewidth": 0,
             "ticks": ""
            },
            "colorscale": [
             [
              0,
              "#0d0887"
             ],
             [
              0.1111111111111111,
              "#46039f"
             ],
             [
              0.2222222222222222,
              "#7201a8"
             ],
             [
              0.3333333333333333,
              "#9c179e"
             ],
             [
              0.4444444444444444,
              "#bd3786"
             ],
             [
              0.5555555555555556,
              "#d8576b"
             ],
             [
              0.6666666666666666,
              "#ed7953"
             ],
             [
              0.7777777777777778,
              "#fb9f3a"
             ],
             [
              0.8888888888888888,
              "#fdca26"
             ],
             [
              1,
              "#f0f921"
             ]
            ],
            "type": "histogram2d"
           }
          ],
          "histogram2dcontour": [
           {
            "colorbar": {
             "outlinewidth": 0,
             "ticks": ""
            },
            "colorscale": [
             [
              0,
              "#0d0887"
             ],
             [
              0.1111111111111111,
              "#46039f"
             ],
             [
              0.2222222222222222,
              "#7201a8"
             ],
             [
              0.3333333333333333,
              "#9c179e"
             ],
             [
              0.4444444444444444,
              "#bd3786"
             ],
             [
              0.5555555555555556,
              "#d8576b"
             ],
             [
              0.6666666666666666,
              "#ed7953"
             ],
             [
              0.7777777777777778,
              "#fb9f3a"
             ],
             [
              0.8888888888888888,
              "#fdca26"
             ],
             [
              1,
              "#f0f921"
             ]
            ],
            "type": "histogram2dcontour"
           }
          ],
          "mesh3d": [
           {
            "colorbar": {
             "outlinewidth": 0,
             "ticks": ""
            },
            "type": "mesh3d"
           }
          ],
          "parcoords": [
           {
            "line": {
             "colorbar": {
              "outlinewidth": 0,
              "ticks": ""
             }
            },
            "type": "parcoords"
           }
          ],
          "pie": [
           {
            "automargin": true,
            "type": "pie"
           }
          ],
          "scatter": [
           {
            "marker": {
             "colorbar": {
              "outlinewidth": 0,
              "ticks": ""
             }
            },
            "type": "scatter"
           }
          ],
          "scatter3d": [
           {
            "line": {
             "colorbar": {
              "outlinewidth": 0,
              "ticks": ""
             }
            },
            "marker": {
             "colorbar": {
              "outlinewidth": 0,
              "ticks": ""
             }
            },
            "type": "scatter3d"
           }
          ],
          "scattercarpet": [
           {
            "marker": {
             "colorbar": {
              "outlinewidth": 0,
              "ticks": ""
             }
            },
            "type": "scattercarpet"
           }
          ],
          "scattergeo": [
           {
            "marker": {
             "colorbar": {
              "outlinewidth": 0,
              "ticks": ""
             }
            },
            "type": "scattergeo"
           }
          ],
          "scattergl": [
           {
            "marker": {
             "colorbar": {
              "outlinewidth": 0,
              "ticks": ""
             }
            },
            "type": "scattergl"
           }
          ],
          "scattermapbox": [
           {
            "marker": {
             "colorbar": {
              "outlinewidth": 0,
              "ticks": ""
             }
            },
            "type": "scattermapbox"
           }
          ],
          "scatterpolar": [
           {
            "marker": {
             "colorbar": {
              "outlinewidth": 0,
              "ticks": ""
             }
            },
            "type": "scatterpolar"
           }
          ],
          "scatterpolargl": [
           {
            "marker": {
             "colorbar": {
              "outlinewidth": 0,
              "ticks": ""
             }
            },
            "type": "scatterpolargl"
           }
          ],
          "scatterternary": [
           {
            "marker": {
             "colorbar": {
              "outlinewidth": 0,
              "ticks": ""
             }
            },
            "type": "scatterternary"
           }
          ],
          "surface": [
           {
            "colorbar": {
             "outlinewidth": 0,
             "ticks": ""
            },
            "colorscale": [
             [
              0,
              "#0d0887"
             ],
             [
              0.1111111111111111,
              "#46039f"
             ],
             [
              0.2222222222222222,
              "#7201a8"
             ],
             [
              0.3333333333333333,
              "#9c179e"
             ],
             [
              0.4444444444444444,
              "#bd3786"
             ],
             [
              0.5555555555555556,
              "#d8576b"
             ],
             [
              0.6666666666666666,
              "#ed7953"
             ],
             [
              0.7777777777777778,
              "#fb9f3a"
             ],
             [
              0.8888888888888888,
              "#fdca26"
             ],
             [
              1,
              "#f0f921"
             ]
            ],
            "type": "surface"
           }
          ],
          "table": [
           {
            "cells": {
             "fill": {
              "color": "#EBF0F8"
             },
             "line": {
              "color": "white"
             }
            },
            "header": {
             "fill": {
              "color": "#C8D4E3"
             },
             "line": {
              "color": "white"
             }
            },
            "type": "table"
           }
          ]
         },
         "layout": {
          "annotationdefaults": {
           "arrowcolor": "#2a3f5f",
           "arrowhead": 0,
           "arrowwidth": 1
          },
          "autotypenumbers": "strict",
          "coloraxis": {
           "colorbar": {
            "outlinewidth": 0,
            "ticks": ""
           }
          },
          "colorscale": {
           "diverging": [
            [
             0,
             "#8e0152"
            ],
            [
             0.1,
             "#c51b7d"
            ],
            [
             0.2,
             "#de77ae"
            ],
            [
             0.3,
             "#f1b6da"
            ],
            [
             0.4,
             "#fde0ef"
            ],
            [
             0.5,
             "#f7f7f7"
            ],
            [
             0.6,
             "#e6f5d0"
            ],
            [
             0.7,
             "#b8e186"
            ],
            [
             0.8,
             "#7fbc41"
            ],
            [
             0.9,
             "#4d9221"
            ],
            [
             1,
             "#276419"
            ]
           ],
           "sequential": [
            [
             0,
             "#0d0887"
            ],
            [
             0.1111111111111111,
             "#46039f"
            ],
            [
             0.2222222222222222,
             "#7201a8"
            ],
            [
             0.3333333333333333,
             "#9c179e"
            ],
            [
             0.4444444444444444,
             "#bd3786"
            ],
            [
             0.5555555555555556,
             "#d8576b"
            ],
            [
             0.6666666666666666,
             "#ed7953"
            ],
            [
             0.7777777777777778,
             "#fb9f3a"
            ],
            [
             0.8888888888888888,
             "#fdca26"
            ],
            [
             1,
             "#f0f921"
            ]
           ],
           "sequentialminus": [
            [
             0,
             "#0d0887"
            ],
            [
             0.1111111111111111,
             "#46039f"
            ],
            [
             0.2222222222222222,
             "#7201a8"
            ],
            [
             0.3333333333333333,
             "#9c179e"
            ],
            [
             0.4444444444444444,
             "#bd3786"
            ],
            [
             0.5555555555555556,
             "#d8576b"
            ],
            [
             0.6666666666666666,
             "#ed7953"
            ],
            [
             0.7777777777777778,
             "#fb9f3a"
            ],
            [
             0.8888888888888888,
             "#fdca26"
            ],
            [
             1,
             "#f0f921"
            ]
           ]
          },
          "colorway": [
           "#636efa",
           "#EF553B",
           "#00cc96",
           "#ab63fa",
           "#FFA15A",
           "#19d3f3",
           "#FF6692",
           "#B6E880",
           "#FF97FF",
           "#FECB52"
          ],
          "font": {
           "color": "#2a3f5f"
          },
          "geo": {
           "bgcolor": "white",
           "lakecolor": "white",
           "landcolor": "#E5ECF6",
           "showlakes": true,
           "showland": true,
           "subunitcolor": "white"
          },
          "hoverlabel": {
           "align": "left"
          },
          "hovermode": "closest",
          "mapbox": {
           "style": "light"
          },
          "paper_bgcolor": "white",
          "plot_bgcolor": "#E5ECF6",
          "polar": {
           "angularaxis": {
            "gridcolor": "white",
            "linecolor": "white",
            "ticks": ""
           },
           "bgcolor": "#E5ECF6",
           "radialaxis": {
            "gridcolor": "white",
            "linecolor": "white",
            "ticks": ""
           }
          },
          "scene": {
           "xaxis": {
            "backgroundcolor": "#E5ECF6",
            "gridcolor": "white",
            "gridwidth": 2,
            "linecolor": "white",
            "showbackground": true,
            "ticks": "",
            "zerolinecolor": "white"
           },
           "yaxis": {
            "backgroundcolor": "#E5ECF6",
            "gridcolor": "white",
            "gridwidth": 2,
            "linecolor": "white",
            "showbackground": true,
            "ticks": "",
            "zerolinecolor": "white"
           },
           "zaxis": {
            "backgroundcolor": "#E5ECF6",
            "gridcolor": "white",
            "gridwidth": 2,
            "linecolor": "white",
            "showbackground": true,
            "ticks": "",
            "zerolinecolor": "white"
           }
          },
          "shapedefaults": {
           "line": {
            "color": "#2a3f5f"
           }
          },
          "ternary": {
           "aaxis": {
            "gridcolor": "white",
            "linecolor": "white",
            "ticks": ""
           },
           "baxis": {
            "gridcolor": "white",
            "linecolor": "white",
            "ticks": ""
           },
           "bgcolor": "#E5ECF6",
           "caxis": {
            "gridcolor": "white",
            "linecolor": "white",
            "ticks": ""
           }
          },
          "title": {
           "x": 0.05
          },
          "xaxis": {
           "automargin": true,
           "gridcolor": "white",
           "linecolor": "white",
           "ticks": "",
           "title": {
            "standoff": 15
           },
           "zerolinecolor": "white",
           "zerolinewidth": 2
          },
          "yaxis": {
           "automargin": true,
           "gridcolor": "white",
           "linecolor": "white",
           "ticks": "",
           "title": {
            "standoff": 15
           },
           "zerolinecolor": "white",
           "zerolinewidth": 2
          }
         }
        },
        "title": {
         "text": "Total Sleep time and Number of Awakenings to Daily Stress the next Day"
        },
        "xaxis": {
         "anchor": "y",
         "domain": [
          0,
          1
         ],
         "title": {
          "text": "Total Sleep Time (TST)"
         }
        },
        "yaxis": {
         "anchor": "x",
         "domain": [
          0,
          1
         ],
         "title": {
          "text": "Number of Awakenings"
         }
        }
       }
      }
     },
     "metadata": {},
     "output_type": "display_data"
    }
   ],
   "source": [
    "# Scatter plot showing the quantity of sleep and stress level\n",
    "plt = px.scatter(sleep_df, x='Total Sleep Time (TST)', y='Number of Awakenings', \n",
    "        color='Daily_stress', title='Total Sleep time and Number of Awakenings to Daily Stress the next Day')\n",
    "plt.show()\n"
   ]
  },
  {
   "cell_type": "code",
   "execution_count": 33,
   "metadata": {},
   "outputs": [
    {
     "name": "stdout",
     "output_type": "stream",
     "text": [
      "Daily Stress All\t F_onewayResult(statistic=1.3718166383701191, pvalue=0.2819224314905824)\n",
      "Daily Stress g1 (10 - 30)\t F_onewayResult(statistic=0.2117647058823529, pvalue=0.6576369864791527)\n",
      "Daily Stress g2 (30 - 50)\t F_onewayResult(statistic=1.4, pvalue=0.2706900128603841)\n",
      "Daily Stress g3 (40 - 70)\t F_onewayResult(statistic=2.064516129032258, pvalue=0.17002963876130742)\n"
     ]
    }
   ],
   "source": [
    "# Sleeping less causes stress\n",
    "g1 = sleep_df[(sleep_df['Daily_stress'] >= 10) & (sleep_df['Daily_stress'] < 30)]['Total Sleep Time (TST)']\n",
    "g2 = sleep_df[(sleep_df['Daily_stress'] > 30) & (sleep_df['Daily_stress'] < 50)]['Total Sleep Time (TST)']\n",
    "g3 = sleep_df[(sleep_df['Daily_stress'] > 50) & (sleep_df['Daily_stress'] <= 70)]['Total Sleep Time (TST)']\n",
    "\n",
    "ranges = [\"All\", \"g1 (10 - 30)\", \"g2 (30 - 50)\", \"g3 (40 - 70)\"]\n",
    "all = [sts.f_oneway(g1,g2,g3), \n",
    "    sts.f_oneway(g2,g3),\n",
    "    sts.f_oneway(g1,g3),\n",
    "    sts.f_oneway(g1,g2)]\n",
    "\n",
    "for i in range(len(ranges)):\n",
    "    print(f\"Daily Stress {ranges[i]}\\t {all[i]}\")\n",
    "    "
   ]
  },
  {
   "cell_type": "code",
   "execution_count": 34,
   "metadata": {},
   "outputs": [
    {
     "name": "stdout",
     "output_type": "stream",
     "text": [
      "  Multiple Comparison of Means - Tukey HSD, FWER=0.05  \n",
      "=======================================================\n",
      "group1 group2 meandiff p-adj    lower    upper   reject\n",
      "-------------------------------------------------------\n",
      " 144.0  236.0     12.0 0.9888 -535.4763 559.4763  False\n",
      " 144.0  244.0      3.0    1.0 -544.4763 550.4763  False\n",
      " 144.0  247.0     -2.5    1.0 -476.6284 471.6284  False\n",
      " 144.0  273.0      7.0 0.9998 -540.4763 554.4763  False\n",
      " 144.0  302.0      9.0 0.9985 -538.4763 556.4763  False\n",
      " 144.0  304.0     18.0 0.9272 -529.4763 565.4763  False\n",
      " 144.0  306.0     -3.0    1.0 -550.4763 544.4763  False\n",
      " 144.0  319.0    -13.0 0.9825 -560.4763 534.4763  False\n",
      " 144.0  333.0     18.0 0.9272 -529.4763 565.4763  False\n",
      " 144.0  336.0     51.0 0.4955 -496.4763 598.4763  False\n",
      " 144.0  339.0      9.0 0.9985 -538.4763 556.4763  False\n",
      " 144.0  340.0      8.0 0.9994 -539.4763 555.4763  False\n",
      " 144.0  342.0     46.0 0.5398 -501.4763 593.4763  False\n",
      " 144.0  343.0     25.0 0.8157 -522.4763 572.4763  False\n",
      " 144.0  348.0     18.0 0.9272 -529.4763 565.4763  False\n",
      " 144.0  351.0    -12.0 0.9888 -559.4763 535.4763  False\n",
      " 144.0  374.0      3.0    1.0 -544.4763 550.4763  False\n",
      " 144.0  384.0     -1.0    1.0 -548.4763 546.4763  False\n",
      " 144.0  578.0     15.0 0.9647 -532.4763 562.4763  False\n",
      " 236.0  244.0     -9.0 0.9985 -556.4763 538.4763  False\n",
      " 236.0  247.0    -14.5 0.9442 -488.6284 459.6284  False\n",
      " 236.0  273.0     -5.0    1.0 -552.4763 542.4763  False\n",
      " 236.0  302.0     -3.0    1.0 -550.4763 544.4763  False\n",
      " 236.0  304.0      6.0    1.0 -541.4763 553.4763  False\n",
      " 236.0  306.0    -15.0 0.9647 -562.4763 532.4763  False\n",
      " 236.0  319.0    -25.0 0.8157 -572.4763 522.4763  False\n",
      " 236.0  333.0      6.0    1.0 -541.4763 553.4763  False\n",
      " 236.0  336.0     39.0 0.6144 -508.4763 586.4763  False\n",
      " 236.0  339.0     -3.0    1.0 -550.4763 544.4763  False\n",
      " 236.0  340.0     -4.0    1.0 -551.4763 543.4763  False\n",
      " 236.0  342.0     34.0 0.6782 -513.4763 581.4763  False\n",
      " 236.0  343.0     13.0 0.9825 -534.4763 560.4763  False\n",
      " 236.0  348.0      6.0    1.0 -541.4763 553.4763  False\n",
      " 236.0  351.0    -24.0 0.8321 -571.4763 523.4763  False\n",
      " 236.0  374.0     -9.0 0.9985 -556.4763 538.4763  False\n",
      " 236.0  384.0    -13.0 0.9825 -560.4763 534.4763  False\n",
      " 236.0  578.0      3.0    1.0 -544.4763 550.4763  False\n",
      " 244.0  247.0     -5.5 0.9999 -479.6284 468.6284  False\n",
      " 244.0  273.0      4.0    1.0 -543.4763 551.4763  False\n",
      " 244.0  302.0      6.0    1.0 -541.4763 553.4763  False\n",
      " 244.0  304.0     15.0 0.9647 -532.4763 562.4763  False\n",
      " 244.0  306.0     -6.0    1.0 -553.4763 541.4763  False\n",
      " 244.0  319.0    -16.0 0.9535 -563.4763 531.4763  False\n",
      " 244.0  333.0     15.0 0.9647 -532.4763 562.4763  False\n",
      " 244.0  336.0     48.0 0.5213 -499.4763 595.4763  False\n",
      " 244.0  339.0      6.0    1.0 -541.4763 553.4763  False\n",
      " 244.0  340.0      5.0    1.0 -542.4763 552.4763  False\n",
      " 244.0  342.0     43.0 0.5698 -504.4763 590.4763  False\n",
      " 244.0  343.0     22.0 0.8651 -525.4763 569.4763  False\n",
      " 244.0  348.0     15.0 0.9647 -532.4763 562.4763  False\n",
      " 244.0  351.0    -15.0 0.9647 -562.4763 532.4763  False\n",
      " 244.0  374.0      0.0    1.0 -547.4763 547.4763  False\n",
      " 244.0  384.0     -4.0    1.0 -551.4763 543.4763  False\n",
      " 244.0  578.0     12.0 0.9888 -535.4763 559.4763  False\n",
      " 247.0  273.0      9.5 0.9936 -464.6284 483.6284  False\n",
      " 247.0  302.0     11.5 0.9804 -462.6284 485.6284  False\n",
      " 247.0  304.0     20.5 0.8376 -453.6284 494.6284  False\n",
      " 247.0  306.0     -0.5    1.0 -474.6284 473.6284  False\n",
      " 247.0  319.0    -10.5 0.9881 -484.6284 463.6284  False\n",
      " 247.0  333.0     20.5 0.8376 -453.6284 494.6284  False\n",
      " 247.0  336.0     53.5 0.4194 -420.6284 527.6284  False\n",
      " 247.0  339.0     11.5 0.9804 -462.6284 485.6284  False\n",
      " 247.0  340.0     10.5 0.9881 -463.6284 484.6284  False\n",
      " 247.0  342.0     48.5 0.4572 -425.6284 522.6284  False\n",
      " 247.0  343.0     27.5   0.71 -446.6284 501.6284  False\n",
      " 247.0  348.0     20.5 0.8376 -453.6284 494.6284  False\n",
      " 247.0  351.0     -9.5 0.9936 -483.6284 464.6284  False\n",
      " 247.0  374.0      5.5 0.9999 -468.6284 479.6284  False\n",
      " 247.0  384.0      1.5    1.0 -472.6284 475.6284  False\n",
      " 247.0  578.0     17.5 0.8939 -456.6284 491.6284  False\n",
      " 273.0  302.0      2.0    1.0 -545.4763 549.4763  False\n",
      " 273.0  304.0     11.0 0.9935 -536.4763 558.4763  False\n",
      " 273.0  306.0    -10.0 0.9966 -557.4763 537.4763  False\n",
      " 273.0  319.0    -20.0 0.8972 -567.4763 527.4763  False\n",
      " 273.0  333.0     11.0 0.9935 -536.4763 558.4763  False\n",
      " 273.0  336.0     44.0 0.5595 -503.4763 591.4763  False\n",
      " 273.0  339.0      2.0    1.0 -545.4763 549.4763  False\n",
      " 273.0  340.0      1.0    1.0 -546.4763 548.4763  False\n",
      " 273.0  342.0     39.0 0.6144 -508.4763 586.4763  False\n",
      " 273.0  343.0     18.0 0.9272 -529.4763 565.4763  False\n",
      " 273.0  348.0     11.0 0.9935 -536.4763 558.4763  False\n",
      " 273.0  351.0    -19.0 0.9125 -566.4763 528.4763  False\n",
      " 273.0  374.0     -4.0    1.0 -551.4763 543.4763  False\n",
      " 273.0  384.0     -8.0 0.9994 -555.4763 539.4763  False\n",
      " 273.0  578.0      8.0 0.9994 -539.4763 555.4763  False\n",
      " 302.0  304.0      9.0 0.9985 -538.4763 556.4763  False\n",
      " 302.0  306.0    -12.0 0.9888 -559.4763 535.4763  False\n",
      " 302.0  319.0    -22.0 0.8651 -569.4763 525.4763  False\n",
      " 302.0  333.0      9.0 0.9985 -538.4763 556.4763  False\n",
      " 302.0  336.0     42.0 0.5804 -505.4763 589.4763  False\n",
      " 302.0  339.0      0.0    1.0 -547.4763 547.4763  False\n",
      " 302.0  340.0     -1.0    1.0 -548.4763 546.4763  False\n",
      " 302.0  342.0     37.0 0.6388 -510.4763 584.4763  False\n",
      " 302.0  343.0     16.0 0.9535 -531.4763 563.4763  False\n",
      " 302.0  348.0      9.0 0.9985 -538.4763 556.4763  False\n",
      " 302.0  351.0    -21.0 0.8813 -568.4763 526.4763  False\n",
      " 302.0  374.0     -6.0    1.0 -553.4763 541.4763  False\n",
      " 302.0  384.0    -10.0 0.9966 -557.4763 537.4763  False\n",
      " 302.0  578.0      6.0    1.0 -541.4763 553.4763  False\n",
      " 304.0  306.0    -21.0 0.8813 -568.4763 526.4763  False\n",
      " 304.0  319.0    -31.0 0.7211 -578.4763 516.4763  False\n",
      " 304.0  333.0      0.0    1.0 -547.4763 547.4763  False\n",
      " 304.0  336.0     33.0 0.6921 -514.4763 580.4763  False\n",
      " 304.0  339.0     -9.0 0.9985 -556.4763 538.4763  False\n",
      " 304.0  340.0    -10.0 0.9966 -557.4763 537.4763  False\n",
      " 304.0  342.0     28.0 0.7671 -519.4763 575.4763  False\n",
      " 304.0  343.0      7.0 0.9998 -540.4763 554.4763  False\n",
      " 304.0  348.0      0.0    1.0 -547.4763 547.4763  False\n",
      " 304.0  351.0    -30.0 0.7361 -577.4763 517.4763  False\n",
      " 304.0  374.0    -15.0 0.9647 -562.4763 532.4763  False\n",
      " 304.0  384.0    -19.0 0.9125 -566.4763 528.4763  False\n",
      " 304.0  578.0     -3.0    1.0 -550.4763 544.4763  False\n",
      " 306.0  319.0    -10.0 0.9966 -557.4763 537.4763  False\n",
      " 306.0  333.0     21.0 0.8813 -526.4763 568.4763  False\n",
      " 306.0  336.0     54.0 0.4719 -493.4763 601.4763  False\n",
      " 306.0  339.0     12.0 0.9888 -535.4763 559.4763  False\n",
      " 306.0  340.0     11.0 0.9935 -536.4763 558.4763  False\n",
      " 306.0  342.0     49.0 0.5124 -498.4763 596.4763  False\n",
      " 306.0  343.0     28.0 0.7671 -519.4763 575.4763  False\n",
      " 306.0  348.0     21.0 0.8813 -526.4763 568.4763  False\n",
      " 306.0  351.0     -9.0 0.9985 -556.4763 538.4763  False\n",
      " 306.0  374.0      6.0    1.0 -541.4763 553.4763  False\n",
      " 306.0  384.0      2.0    1.0 -545.4763 549.4763  False\n",
      " 306.0  578.0     18.0 0.9272 -529.4763 565.4763  False\n",
      " 319.0  333.0     31.0 0.7211 -516.4763 578.4763  False\n",
      " 319.0  336.0     64.0 0.4063 -483.4763 611.4763  False\n",
      " 319.0  339.0     22.0 0.8651 -525.4763 569.4763  False\n",
      " 319.0  340.0     21.0 0.8813 -526.4763 568.4763  False\n",
      " 319.0  342.0     59.0 0.4368 -488.4763 606.4763  False\n",
      " 319.0  343.0     38.0 0.6264 -509.4763 585.4763  False\n",
      " 319.0  348.0     31.0 0.7211 -516.4763 578.4763  False\n",
      " 319.0  351.0      1.0    1.0 -546.4763 548.4763  False\n",
      " 319.0  374.0     16.0 0.9535 -531.4763 563.4763  False\n",
      " 319.0  384.0     12.0 0.9888 -535.4763 559.4763  False\n",
      " 319.0  578.0     28.0 0.7671 -519.4763 575.4763  False\n",
      " 333.0  336.0     33.0 0.6921 -514.4763 580.4763  False\n",
      " 333.0  339.0     -9.0 0.9985 -556.4763 538.4763  False\n",
      " 333.0  340.0    -10.0 0.9966 -557.4763 537.4763  False\n",
      " 333.0  342.0     28.0 0.7671 -519.4763 575.4763  False\n",
      " 333.0  343.0      7.0 0.9998 -540.4763 554.4763  False\n",
      " 333.0  348.0      0.0    1.0 -547.4763 547.4763  False\n",
      " 333.0  351.0    -30.0 0.7361 -577.4763 517.4763  False\n",
      " 333.0  374.0    -15.0 0.9647 -562.4763 532.4763  False\n",
      " 333.0  384.0    -19.0 0.9125 -566.4763 528.4763  False\n",
      " 333.0  578.0     -3.0    1.0 -550.4763 544.4763  False\n",
      " 336.0  339.0    -42.0 0.5804 -589.4763 505.4763  False\n",
      " 336.0  340.0    -43.0 0.5698 -590.4763 504.4763  False\n",
      " 336.0  342.0     -5.0    1.0 -552.4763 542.4763  False\n",
      " 336.0  343.0    -26.0 0.7993 -573.4763 521.4763  False\n",
      " 336.0  348.0    -33.0 0.6921 -580.4763 514.4763  False\n",
      " 336.0  351.0    -63.0 0.4121 -610.4763 484.4763  False\n",
      " 336.0  374.0    -48.0 0.5213 -595.4763 499.4763  False\n",
      " 336.0  384.0    -52.0 0.4874 -599.4763 495.4763  False\n",
      " 336.0  578.0    -36.0 0.6515 -583.4763 511.4763  False\n",
      " 339.0  340.0     -1.0    1.0 -548.4763 546.4763  False\n",
      " 339.0  342.0     37.0 0.6388 -510.4763 584.4763  False\n",
      " 339.0  343.0     16.0 0.9535 -531.4763 563.4763  False\n",
      " 339.0  348.0      9.0 0.9985 -538.4763 556.4763  False\n",
      " 339.0  351.0    -21.0 0.8813 -568.4763 526.4763  False\n",
      " 339.0  374.0     -6.0    1.0 -553.4763 541.4763  False\n",
      " 339.0  384.0    -10.0 0.9966 -557.4763 537.4763  False\n",
      " 339.0  578.0      6.0    1.0 -541.4763 553.4763  False\n",
      " 340.0  342.0     38.0 0.6264 -509.4763 585.4763  False\n",
      " 340.0  343.0     17.0 0.9409 -530.4763 564.4763  False\n",
      " 340.0  348.0     10.0 0.9966 -537.4763 557.4763  False\n",
      " 340.0  351.0    -20.0 0.8972 -567.4763 527.4763  False\n",
      " 340.0  374.0     -5.0    1.0 -552.4763 542.4763  False\n",
      " 340.0  384.0     -9.0 0.9985 -556.4763 538.4763  False\n",
      " 340.0  578.0      7.0 0.9998 -540.4763 554.4763  False\n",
      " 342.0  343.0    -21.0 0.8813 -568.4763 526.4763  False\n",
      " 342.0  348.0    -28.0 0.7671 -575.4763 519.4763  False\n",
      " 342.0  351.0    -58.0 0.4435 -605.4763 489.4763  False\n",
      " 342.0  374.0    -43.0 0.5698 -590.4763 504.4763  False\n",
      " 342.0  384.0    -47.0 0.5304 -594.4763 500.4763  False\n",
      " 342.0  578.0    -31.0 0.7211 -578.4763 516.4763  False\n",
      " 343.0  348.0     -7.0 0.9998 -554.4763 540.4763  False\n",
      " 343.0  351.0    -37.0 0.6388 -584.4763 510.4763  False\n",
      " 343.0  374.0    -22.0 0.8651 -569.4763 525.4763  False\n",
      " 343.0  384.0    -26.0 0.7993 -573.4763 521.4763  False\n",
      " 343.0  578.0    -10.0 0.9966 -557.4763 537.4763  False\n",
      " 348.0  351.0    -30.0 0.7361 -577.4763 517.4763  False\n",
      " 348.0  374.0    -15.0 0.9647 -562.4763 532.4763  False\n",
      " 348.0  384.0    -19.0 0.9125 -566.4763 528.4763  False\n",
      " 348.0  578.0     -3.0    1.0 -550.4763 544.4763  False\n",
      " 351.0  374.0     15.0 0.9647 -532.4763 562.4763  False\n",
      " 351.0  384.0     11.0 0.9935 -536.4763 558.4763  False\n",
      " 351.0  578.0     27.0 0.7831 -520.4763 574.4763  False\n",
      " 374.0  384.0     -4.0    1.0 -551.4763 543.4763  False\n",
      " 374.0  578.0     12.0 0.9888 -535.4763 559.4763  False\n",
      " 384.0  578.0     16.0 0.9535 -531.4763 563.4763  False\n",
      "-------------------------------------------------------\n"
     ]
    }
   ],
   "source": [
    "tukey = pairwise_tukeyhsd(endog=sleep_df[\"Daily_stress\"],\n",
    "                          groups=sleep_df[\"Total Sleep Time (TST)\"],\n",
    "                          alpha=0.05)\n",
    "print(tukey)"
   ]
  },
  {
   "cell_type": "code",
   "execution_count": 35,
   "metadata": {},
   "outputs": [
    {
     "name": "stdout",
     "output_type": "stream",
     "text": [
      "Daily Stress All\t F_onewayResult(statistic=0.9404379810833072, pvalue=0.4110073013402771)\n",
      "Daily Stress g1 (10 - 30)\t F_onewayResult(statistic=0.5601267828843106, pvalue=0.4756339637829176)\n",
      "Daily Stress g2 (30 - 50)\t F_onewayResult(statistic=5.671506352087115, pvalue=0.04444203198645557)\n",
      "Daily Stress g3 (40 - 70)\t F_onewayResult(statistic=0.5186184565569347, pvalue=0.48182053346742504)\n"
     ]
    }
   ],
   "source": [
    "# Sleeping less causes stress\n",
    "g1 = sleep_df[(sleep_df['Daily_stress'] >= 10) & (sleep_df['Daily_stress'] < 30)]['Number of Awakenings']\n",
    "g2 = sleep_df[(sleep_df['Daily_stress'] > 30) & (sleep_df['Daily_stress'] < 50)]['Number of Awakenings']\n",
    "g3 = sleep_df[(sleep_df['Daily_stress'] > 50) & (sleep_df['Daily_stress'] <= 70)]['Number of Awakenings']\n",
    "\n",
    "ranges = [\"All\", \"g1 (10 - 30)\", \"g2 (30 - 50)\", \"g3 (40 - 70)\"]\n",
    "all = [sts.f_oneway(g1,g2,g3), \n",
    "    sts.f_oneway(g2,g3),\n",
    "    sts.f_oneway(g1,g3),\n",
    "    sts.f_oneway(g1,g2)]\n",
    "\n",
    "for i in range(len(ranges)):\n",
    "    print(f\"Daily Stress {ranges[i]}\\t {all[i]}\")\n",
    "    "
   ]
  },
  {
   "cell_type": "code",
   "execution_count": 36,
   "metadata": {},
   "outputs": [
    {
     "name": "stdout",
     "output_type": "stream",
     "text": [
      "  Multiple Comparison of Means - Tukey HSD, FWER=0.05  \n",
      "=======================================================\n",
      "group1 group2 meandiff p-adj    lower    upper   reject\n",
      "-------------------------------------------------------\n",
      "   4.0    9.0    -10.5 0.9992  -72.7442  51.7442  False\n",
      "   4.0   12.0     -3.0    1.0  -65.2442  59.2442  False\n",
      "   4.0   13.0    -24.0 0.8808  -95.8735  47.8735  False\n",
      "   4.0   15.0     -3.0    1.0  -74.8735  68.8735  False\n",
      "   4.0   16.0    -27.0 0.8002  -98.8735  44.8735  False\n",
      "   4.0   18.0    -10.0 0.9995  -72.2442  52.2442  False\n",
      "   4.0   19.0    -11.5 0.9981  -73.7442  50.7442  False\n",
      "   4.0   20.0     -7.5    1.0  -69.7442  54.7442  False\n",
      "   4.0   21.0      3.0    1.0  -59.2442  65.2442  False\n",
      "   4.0   27.0     36.0 0.5182  -35.8735 107.8735  False\n",
      "   4.0   28.0    -28.0 0.7702  -99.8735  43.8735  False\n",
      "   4.0   31.0     31.0 0.6753  -40.8735 102.8735  False\n",
      "   4.0   39.0     -6.0    1.0  -77.8735  65.8735  False\n",
      "   4.0   44.0     -7.0    1.0  -78.8735  64.8735  False\n",
      "   9.0   12.0      7.5 0.9998  -43.3222  58.3222  False\n",
      "   9.0   13.0    -13.5 0.9924  -75.7442  48.7442  False\n",
      "   9.0   15.0      7.5    1.0  -54.7442  69.7442  False\n",
      "   9.0   16.0    -16.5 0.9676  -78.7442  45.7442  False\n",
      "   9.0   18.0      0.5    1.0  -50.3222  51.3222  False\n",
      "   9.0   19.0     -1.0    1.0  -51.8222  49.8222  False\n",
      "   9.0   20.0      3.0    1.0  -47.8222  53.8222  False\n",
      "   9.0   21.0     13.5 0.9672  -37.3222  64.3222  False\n",
      "   9.0   27.0     46.5 0.1646  -15.7442 108.7442  False\n",
      "   9.0   28.0    -17.5 0.9531  -79.7442  44.7442  False\n",
      "   9.0   31.0     41.5 0.2429  -20.7442 103.7442  False\n",
      "   9.0   39.0      4.5    1.0  -57.7442  66.7442  False\n",
      "   9.0   44.0      3.5    1.0  -58.7442  65.7442  False\n",
      "  12.0   13.0    -21.0 0.8748  -83.2442  41.2442  False\n",
      "  12.0   15.0      0.0    1.0  -62.2442  62.2442  False\n",
      "  12.0   16.0    -24.0  0.779  -86.2442  38.2442  False\n",
      "  12.0   18.0     -7.0 0.9999  -57.8222  43.8222  False\n",
      "  12.0   19.0     -8.5 0.9992  -59.3222  42.3222  False\n",
      "  12.0   20.0     -4.5    1.0  -55.3222  46.3222  False\n",
      "  12.0   21.0      6.0    1.0  -44.8222  56.8222  False\n",
      "  12.0   27.0     39.0 0.2944  -23.2442 101.2442  False\n",
      "  12.0   28.0    -25.0 0.7433  -87.2442  37.2442  False\n",
      "  12.0   31.0     34.0 0.4265  -28.2442  96.2442  False\n",
      "  12.0   39.0     -3.0    1.0  -65.2442  59.2442  False\n",
      "  12.0   44.0     -4.0    1.0  -66.2442  58.2442  False\n",
      "  13.0   15.0     21.0 0.9411  -50.8735  92.8735  False\n",
      "  13.0   16.0     -3.0    1.0  -74.8735  68.8735  False\n",
      "  13.0   18.0     14.0 0.9899  -48.2442  76.2442  False\n",
      "  13.0   19.0     12.5  0.996  -49.7442  74.7442  False\n",
      "  13.0   20.0     16.5 0.9676  -45.7442  78.7442  False\n",
      "  13.0   21.0     27.0 0.6696  -35.2442  89.2442  False\n",
      "  13.0   27.0     60.0 0.1078  -11.8735 131.8735  False\n",
      "  13.0   28.0     -4.0    1.0  -75.8735  67.8735  False\n",
      "  13.0   31.0     55.0 0.1507  -16.8735 126.8735  False\n",
      "  13.0   39.0     18.0 0.9779  -53.8735  89.8735  False\n",
      "  13.0   44.0     17.0 0.9853  -54.8735  88.8735  False\n",
      "  15.0   16.0    -24.0 0.8808  -95.8735  47.8735  False\n",
      "  15.0   18.0     -7.0    1.0  -69.2442  55.2442  False\n",
      "  15.0   19.0     -8.5 0.9999  -70.7442  53.7442  False\n",
      "  15.0   20.0     -4.5    1.0  -66.7442  57.7442  False\n",
      "  15.0   21.0      6.0    1.0  -56.2442  68.2442  False\n",
      "  15.0   27.0     39.0 0.4334  -32.8735 110.8735  False\n",
      "  15.0   28.0    -25.0 0.8558  -96.8735  46.8735  False\n",
      "  15.0   31.0     34.0 0.5795  -37.8735 105.8735  False\n",
      "  15.0   39.0     -3.0    1.0  -74.8735  68.8735  False\n",
      "  15.0   44.0     -4.0    1.0  -75.8735  67.8735  False\n",
      "  16.0   18.0     17.0 0.9608  -45.2442  79.2442  False\n",
      "  16.0   19.0     15.5 0.9788  -46.7442  77.7442  False\n",
      "  16.0   20.0     19.5 0.9135  -42.7442  81.7442  False\n",
      "  16.0   21.0     30.0 0.5595  -32.2442  92.2442  False\n",
      "  16.0   27.0     63.0 0.0884   -8.8735 134.8735  False\n",
      "  16.0   28.0     -1.0    1.0  -72.8735  70.8735  False\n",
      "  16.0   31.0     58.0 0.1232  -13.8735 129.8735  False\n",
      "  16.0   39.0     21.0 0.9411  -50.8735  92.8735  False\n",
      "  16.0   44.0     20.0  0.956  -51.8735  91.8735  False\n",
      "  18.0   19.0     -1.5    1.0  -52.3222  49.3222  False\n",
      "  18.0   20.0      2.5    1.0  -48.3222  53.3222  False\n",
      "  18.0   21.0     13.0 0.9745  -37.8222  63.8222  False\n",
      "  18.0   27.0     46.0 0.1711  -16.2442 108.2442  False\n",
      "  18.0   28.0    -18.0 0.9446  -80.2442  44.2442  False\n",
      "  18.0   31.0     41.0 0.2525  -21.2442 103.2442  False\n",
      "  18.0   39.0      4.0    1.0  -58.2442  66.2442  False\n",
      "  18.0   44.0      3.0    1.0  -59.2442  65.2442  False\n",
      "  19.0   20.0      4.0    1.0  -46.8222  54.8222  False\n",
      "  19.0   21.0     14.5 0.9488  -36.3222  65.3222  False\n",
      "  19.0   27.0     47.5 0.1522  -14.7442 109.7442  False\n",
      "  19.0   28.0    -16.5 0.9676  -78.7442  45.7442  False\n",
      "  19.0   31.0     42.5 0.2248  -19.7442 104.7442  False\n",
      "  19.0   39.0      5.5    1.0  -56.7442  67.7442  False\n",
      "  19.0   44.0      4.5    1.0  -57.7442  66.7442  False\n",
      "  20.0   21.0     10.5 0.9949  -40.3222  61.3222  False\n",
      "  20.0   27.0     43.5  0.208  -18.7442 105.7442  False\n",
      "  20.0   28.0    -20.5 0.8885  -82.7442  41.7442  False\n",
      "  20.0   31.0     38.5 0.3059  -23.7442 100.7442  False\n",
      "  20.0   39.0      1.5    1.0  -60.7442  63.7442  False\n",
      "  20.0   44.0      0.5    1.0  -61.7442  62.7442  False\n",
      "  21.0   27.0     33.0 0.4577  -29.2442  95.2442  False\n",
      "  21.0   28.0    -31.0 0.5243  -93.2442  31.2442  False\n",
      "  21.0   31.0     28.0 0.6325  -34.2442  90.2442  False\n",
      "  21.0   39.0     -9.0 0.9998  -71.2442  53.2442  False\n",
      "  21.0   44.0    -10.0 0.9995  -72.2442  52.2442  False\n",
      "  27.0   28.0    -64.0 0.0828 -135.8735   7.8735  False\n",
      "  27.0   31.0     -5.0    1.0  -76.8735  66.8735  False\n",
      "  27.0   39.0    -42.0 0.3588 -113.8735  29.8735  False\n",
      "  27.0   44.0    -43.0 0.3364 -114.8735  28.8735  False\n",
      "  28.0   31.0     59.0 0.1152  -12.8735 130.8735  False\n",
      "  28.0   39.0     22.0 0.9236  -49.8735  93.8735  False\n",
      "  28.0   44.0     21.0 0.9411  -50.8735  92.8735  False\n",
      "  31.0   39.0    -37.0 0.4889 -108.8735  34.8735  False\n",
      "  31.0   44.0    -38.0 0.4606 -109.8735  33.8735  False\n",
      "  39.0   44.0     -1.0    1.0  -72.8735  70.8735  False\n",
      "-------------------------------------------------------\n"
     ]
    }
   ],
   "source": [
    "tukey = pairwise_tukeyhsd(endog=sleep_df[\"Daily_stress\"],\n",
    "                          groups=sleep_df[\"Number of Awakenings\"],\n",
    "                          alpha=0.05)\n",
    "print(tukey)"
   ]
  },
  {
   "cell_type": "code",
   "execution_count": 10,
   "metadata": {},
   "outputs": [
    {
     "data": {
      "text/plain": [
       "0.2201387169658961"
      ]
     },
     "execution_count": 10,
     "metadata": {},
     "output_type": "execute_result"
    }
   ],
   "source": [
    "# Correlation between Daily_stress and Number of Awakenings\n",
    "sleep_df['Daily_stress'] = sleep_df['Daily_stress'].astype(float)\n",
    "sleep_df['Number of Awakenings'] = sleep_df['Number of Awakenings'].astype(float)\n",
    "\n",
    "sleep_df['Daily_stress'].corr(sleep_df['Number of Awakenings'])"
   ]
  },
  {
   "cell_type": "code",
   "execution_count": 11,
   "metadata": {},
   "outputs": [
    {
     "data": {
      "text/plain": [
       "0.21504706810119653"
      ]
     },
     "execution_count": 11,
     "metadata": {},
     "output_type": "execute_result"
    }
   ],
   "source": [
    "# Correlation between Daily_stress and Total amount of Sleep (TST) in minutes\n",
    "sleep_df['Daily_stress'] = sleep_df['Daily_stress'].astype(float)\n",
    "sleep_df['Total Sleep Time (TST)'] = sleep_df['Total Sleep Time (TST)'].astype(float)\n",
    "\n",
    "sleep_df['Daily_stress'].corr(sleep_df['Total Sleep Time (TST)'])"
   ]
  },
  {
   "cell_type": "code",
   "execution_count": 12,
   "metadata": {},
   "outputs": [
    {
     "data": {
      "text/html": [
       "<div>\n",
       "<style scoped>\n",
       "    .dataframe tbody tr th:only-of-type {\n",
       "        vertical-align: middle;\n",
       "    }\n",
       "\n",
       "    .dataframe tbody tr th {\n",
       "        vertical-align: top;\n",
       "    }\n",
       "\n",
       "    .dataframe thead th {\n",
       "        text-align: right;\n",
       "    }\n",
       "</style>\n",
       "<table border=\"1\" class=\"dataframe\">\n",
       "  <thead>\n",
       "    <tr style=\"text-align: right;\">\n",
       "      <th></th>\n",
       "      <th>Unnamed: 0</th>\n",
       "      <th>Total Sleep Time (TST)</th>\n",
       "      <th>Number of Awakenings</th>\n",
       "      <th>MEQ</th>\n",
       "      <th>STAI1</th>\n",
       "      <th>STAI2</th>\n",
       "      <th>Pittsburgh</th>\n",
       "      <th>Daily_stress</th>\n",
       "      <th>BISBAS_bis</th>\n",
       "      <th>BISBAS_reward</th>\n",
       "      <th>...</th>\n",
       "      <th>panas_pos_10</th>\n",
       "      <th>panas_pos_14</th>\n",
       "      <th>panas_pos_18</th>\n",
       "      <th>panas_pos_22</th>\n",
       "      <th>panas_pos_9+1</th>\n",
       "      <th>panas_neg_10</th>\n",
       "      <th>panas_neg_14</th>\n",
       "      <th>panas_neg_18</th>\n",
       "      <th>panas_neg_22</th>\n",
       "      <th>panas_neg_9+1</th>\n",
       "    </tr>\n",
       "  </thead>\n",
       "  <tbody>\n",
       "    <tr>\n",
       "      <th>Unnamed: 0</th>\n",
       "      <td>NaN</td>\n",
       "      <td>NaN</td>\n",
       "      <td>NaN</td>\n",
       "      <td>NaN</td>\n",
       "      <td>NaN</td>\n",
       "      <td>NaN</td>\n",
       "      <td>NaN</td>\n",
       "      <td>NaN</td>\n",
       "      <td>NaN</td>\n",
       "      <td>NaN</td>\n",
       "      <td>...</td>\n",
       "      <td>NaN</td>\n",
       "      <td>NaN</td>\n",
       "      <td>NaN</td>\n",
       "      <td>NaN</td>\n",
       "      <td>NaN</td>\n",
       "      <td>NaN</td>\n",
       "      <td>NaN</td>\n",
       "      <td>NaN</td>\n",
       "      <td>NaN</td>\n",
       "      <td>NaN</td>\n",
       "    </tr>\n",
       "    <tr>\n",
       "      <th>Total Sleep Time (TST)</th>\n",
       "      <td>NaN</td>\n",
       "      <td>1.000000</td>\n",
       "      <td>-0.026630</td>\n",
       "      <td>-0.074965</td>\n",
       "      <td>-0.037475</td>\n",
       "      <td>-0.115043</td>\n",
       "      <td>0.348963</td>\n",
       "      <td>0.215047</td>\n",
       "      <td>-0.231940</td>\n",
       "      <td>-0.211379</td>\n",
       "      <td>...</td>\n",
       "      <td>0.198397</td>\n",
       "      <td>0.269777</td>\n",
       "      <td>0.457295</td>\n",
       "      <td>0.202741</td>\n",
       "      <td>0.130520</td>\n",
       "      <td>0.122220</td>\n",
       "      <td>-0.066929</td>\n",
       "      <td>-0.169659</td>\n",
       "      <td>0.107610</td>\n",
       "      <td>0.277638</td>\n",
       "    </tr>\n",
       "    <tr>\n",
       "      <th>Number of Awakenings</th>\n",
       "      <td>NaN</td>\n",
       "      <td>-0.026630</td>\n",
       "      <td>1.000000</td>\n",
       "      <td>0.009703</td>\n",
       "      <td>-0.325892</td>\n",
       "      <td>-0.285898</td>\n",
       "      <td>-0.202500</td>\n",
       "      <td>0.220139</td>\n",
       "      <td>0.068283</td>\n",
       "      <td>-0.062718</td>\n",
       "      <td>...</td>\n",
       "      <td>-0.145688</td>\n",
       "      <td>-0.209193</td>\n",
       "      <td>-0.191308</td>\n",
       "      <td>-0.050105</td>\n",
       "      <td>-0.172423</td>\n",
       "      <td>-0.118478</td>\n",
       "      <td>-0.317334</td>\n",
       "      <td>-0.067639</td>\n",
       "      <td>-0.231971</td>\n",
       "      <td>0.173930</td>\n",
       "    </tr>\n",
       "    <tr>\n",
       "      <th>MEQ</th>\n",
       "      <td>NaN</td>\n",
       "      <td>-0.074965</td>\n",
       "      <td>0.009703</td>\n",
       "      <td>1.000000</td>\n",
       "      <td>0.064761</td>\n",
       "      <td>0.016279</td>\n",
       "      <td>-0.209774</td>\n",
       "      <td>0.126979</td>\n",
       "      <td>0.338104</td>\n",
       "      <td>-0.119249</td>\n",
       "      <td>...</td>\n",
       "      <td>0.437591</td>\n",
       "      <td>0.113905</td>\n",
       "      <td>0.182841</td>\n",
       "      <td>0.037962</td>\n",
       "      <td>0.198356</td>\n",
       "      <td>-0.111700</td>\n",
       "      <td>-0.328746</td>\n",
       "      <td>-0.298023</td>\n",
       "      <td>-0.484721</td>\n",
       "      <td>-0.336541</td>\n",
       "    </tr>\n",
       "    <tr>\n",
       "      <th>STAI1</th>\n",
       "      <td>NaN</td>\n",
       "      <td>-0.037475</td>\n",
       "      <td>-0.325892</td>\n",
       "      <td>0.064761</td>\n",
       "      <td>1.000000</td>\n",
       "      <td>0.320353</td>\n",
       "      <td>-0.038403</td>\n",
       "      <td>0.017660</td>\n",
       "      <td>0.296743</td>\n",
       "      <td>0.225850</td>\n",
       "      <td>...</td>\n",
       "      <td>-0.210540</td>\n",
       "      <td>-0.232667</td>\n",
       "      <td>0.150528</td>\n",
       "      <td>-0.058234</td>\n",
       "      <td>-0.172416</td>\n",
       "      <td>0.556821</td>\n",
       "      <td>0.503186</td>\n",
       "      <td>0.272083</td>\n",
       "      <td>-0.021982</td>\n",
       "      <td>-0.192108</td>\n",
       "    </tr>\n",
       "    <tr>\n",
       "      <th>STAI2</th>\n",
       "      <td>NaN</td>\n",
       "      <td>-0.115043</td>\n",
       "      <td>-0.285898</td>\n",
       "      <td>0.016279</td>\n",
       "      <td>0.320353</td>\n",
       "      <td>1.000000</td>\n",
       "      <td>-0.208806</td>\n",
       "      <td>-0.415194</td>\n",
       "      <td>0.384374</td>\n",
       "      <td>0.121036</td>\n",
       "      <td>...</td>\n",
       "      <td>0.029984</td>\n",
       "      <td>0.226447</td>\n",
       "      <td>0.348308</td>\n",
       "      <td>0.327436</td>\n",
       "      <td>0.134947</td>\n",
       "      <td>0.366462</td>\n",
       "      <td>0.174431</td>\n",
       "      <td>0.085288</td>\n",
       "      <td>0.041399</td>\n",
       "      <td>0.017200</td>\n",
       "    </tr>\n",
       "    <tr>\n",
       "      <th>Pittsburgh</th>\n",
       "      <td>NaN</td>\n",
       "      <td>0.348963</td>\n",
       "      <td>-0.202500</td>\n",
       "      <td>-0.209774</td>\n",
       "      <td>-0.038403</td>\n",
       "      <td>-0.208806</td>\n",
       "      <td>1.000000</td>\n",
       "      <td>0.109530</td>\n",
       "      <td>-0.223407</td>\n",
       "      <td>0.148965</td>\n",
       "      <td>...</td>\n",
       "      <td>0.279767</td>\n",
       "      <td>0.441286</td>\n",
       "      <td>0.268345</td>\n",
       "      <td>0.479459</td>\n",
       "      <td>0.111870</td>\n",
       "      <td>0.032929</td>\n",
       "      <td>-0.109893</td>\n",
       "      <td>0.043959</td>\n",
       "      <td>0.027883</td>\n",
       "      <td>0.571732</td>\n",
       "    </tr>\n",
       "    <tr>\n",
       "      <th>Daily_stress</th>\n",
       "      <td>NaN</td>\n",
       "      <td>0.215047</td>\n",
       "      <td>0.220139</td>\n",
       "      <td>0.126979</td>\n",
       "      <td>0.017660</td>\n",
       "      <td>-0.415194</td>\n",
       "      <td>0.109530</td>\n",
       "      <td>1.000000</td>\n",
       "      <td>0.090844</td>\n",
       "      <td>0.105119</td>\n",
       "      <td>...</td>\n",
       "      <td>0.055891</td>\n",
       "      <td>-0.178304</td>\n",
       "      <td>0.048792</td>\n",
       "      <td>-0.184617</td>\n",
       "      <td>-0.354012</td>\n",
       "      <td>0.064892</td>\n",
       "      <td>-0.198414</td>\n",
       "      <td>-0.114323</td>\n",
       "      <td>-0.082023</td>\n",
       "      <td>0.009060</td>\n",
       "    </tr>\n",
       "    <tr>\n",
       "      <th>BISBAS_bis</th>\n",
       "      <td>NaN</td>\n",
       "      <td>-0.231940</td>\n",
       "      <td>0.068283</td>\n",
       "      <td>0.338104</td>\n",
       "      <td>0.296743</td>\n",
       "      <td>0.384374</td>\n",
       "      <td>-0.223407</td>\n",
       "      <td>0.090844</td>\n",
       "      <td>1.000000</td>\n",
       "      <td>0.231605</td>\n",
       "      <td>...</td>\n",
       "      <td>0.190807</td>\n",
       "      <td>-0.067705</td>\n",
       "      <td>0.102082</td>\n",
       "      <td>0.073580</td>\n",
       "      <td>0.211445</td>\n",
       "      <td>0.225481</td>\n",
       "      <td>-0.033812</td>\n",
       "      <td>0.273934</td>\n",
       "      <td>-0.223298</td>\n",
       "      <td>0.138724</td>\n",
       "    </tr>\n",
       "    <tr>\n",
       "      <th>BISBAS_reward</th>\n",
       "      <td>NaN</td>\n",
       "      <td>-0.211379</td>\n",
       "      <td>-0.062718</td>\n",
       "      <td>-0.119249</td>\n",
       "      <td>0.225850</td>\n",
       "      <td>0.121036</td>\n",
       "      <td>0.148965</td>\n",
       "      <td>0.105119</td>\n",
       "      <td>0.231605</td>\n",
       "      <td>1.000000</td>\n",
       "      <td>...</td>\n",
       "      <td>-0.077196</td>\n",
       "      <td>0.294002</td>\n",
       "      <td>0.350398</td>\n",
       "      <td>0.336434</td>\n",
       "      <td>0.197735</td>\n",
       "      <td>0.367624</td>\n",
       "      <td>0.214155</td>\n",
       "      <td>0.161039</td>\n",
       "      <td>-0.050582</td>\n",
       "      <td>0.110942</td>\n",
       "    </tr>\n",
       "    <tr>\n",
       "      <th>BISBAS_drive</th>\n",
       "      <td>NaN</td>\n",
       "      <td>-0.153684</td>\n",
       "      <td>-0.101560</td>\n",
       "      <td>-0.242214</td>\n",
       "      <td>0.262892</td>\n",
       "      <td>0.147198</td>\n",
       "      <td>0.149766</td>\n",
       "      <td>-0.203145</td>\n",
       "      <td>-0.290883</td>\n",
       "      <td>0.215584</td>\n",
       "      <td>...</td>\n",
       "      <td>-0.059940</td>\n",
       "      <td>0.212834</td>\n",
       "      <td>0.220702</td>\n",
       "      <td>0.117810</td>\n",
       "      <td>-0.101991</td>\n",
       "      <td>-0.118828</td>\n",
       "      <td>0.123986</td>\n",
       "      <td>-0.068761</td>\n",
       "      <td>0.078696</td>\n",
       "      <td>-0.112028</td>\n",
       "    </tr>\n",
       "    <tr>\n",
       "      <th>BISBAS_fun</th>\n",
       "      <td>NaN</td>\n",
       "      <td>-0.280811</td>\n",
       "      <td>0.023253</td>\n",
       "      <td>-0.225220</td>\n",
       "      <td>0.287548</td>\n",
       "      <td>0.539860</td>\n",
       "      <td>0.061377</td>\n",
       "      <td>-0.184862</td>\n",
       "      <td>0.044658</td>\n",
       "      <td>0.383075</td>\n",
       "      <td>...</td>\n",
       "      <td>-0.226014</td>\n",
       "      <td>0.112428</td>\n",
       "      <td>0.188805</td>\n",
       "      <td>0.113224</td>\n",
       "      <td>-0.192862</td>\n",
       "      <td>0.179195</td>\n",
       "      <td>0.216289</td>\n",
       "      <td>0.315479</td>\n",
       "      <td>0.041451</td>\n",
       "      <td>0.056343</td>\n",
       "    </tr>\n",
       "    <tr>\n",
       "      <th>panas_pos_10</th>\n",
       "      <td>NaN</td>\n",
       "      <td>0.198397</td>\n",
       "      <td>-0.145688</td>\n",
       "      <td>0.437591</td>\n",
       "      <td>-0.210540</td>\n",
       "      <td>0.029984</td>\n",
       "      <td>0.279767</td>\n",
       "      <td>0.055891</td>\n",
       "      <td>0.190807</td>\n",
       "      <td>-0.077196</td>\n",
       "      <td>...</td>\n",
       "      <td>1.000000</td>\n",
       "      <td>0.615455</td>\n",
       "      <td>0.486908</td>\n",
       "      <td>0.590927</td>\n",
       "      <td>0.680025</td>\n",
       "      <td>-0.000953</td>\n",
       "      <td>-0.021271</td>\n",
       "      <td>0.006980</td>\n",
       "      <td>0.248594</td>\n",
       "      <td>0.321294</td>\n",
       "    </tr>\n",
       "    <tr>\n",
       "      <th>panas_pos_14</th>\n",
       "      <td>NaN</td>\n",
       "      <td>0.269777</td>\n",
       "      <td>-0.209193</td>\n",
       "      <td>0.113905</td>\n",
       "      <td>-0.232667</td>\n",
       "      <td>0.226447</td>\n",
       "      <td>0.441286</td>\n",
       "      <td>-0.178304</td>\n",
       "      <td>-0.067705</td>\n",
       "      <td>0.294002</td>\n",
       "      <td>...</td>\n",
       "      <td>0.615455</td>\n",
       "      <td>1.000000</td>\n",
       "      <td>0.713401</td>\n",
       "      <td>0.730498</td>\n",
       "      <td>0.597363</td>\n",
       "      <td>0.052668</td>\n",
       "      <td>-0.072305</td>\n",
       "      <td>-0.073969</td>\n",
       "      <td>0.128014</td>\n",
       "      <td>0.324963</td>\n",
       "    </tr>\n",
       "    <tr>\n",
       "      <th>panas_pos_18</th>\n",
       "      <td>NaN</td>\n",
       "      <td>0.457295</td>\n",
       "      <td>-0.191308</td>\n",
       "      <td>0.182841</td>\n",
       "      <td>0.150528</td>\n",
       "      <td>0.348308</td>\n",
       "      <td>0.268345</td>\n",
       "      <td>0.048792</td>\n",
       "      <td>0.102082</td>\n",
       "      <td>0.350398</td>\n",
       "      <td>...</td>\n",
       "      <td>0.486908</td>\n",
       "      <td>0.713401</td>\n",
       "      <td>1.000000</td>\n",
       "      <td>0.609624</td>\n",
       "      <td>0.437330</td>\n",
       "      <td>0.253295</td>\n",
       "      <td>0.127666</td>\n",
       "      <td>-0.110858</td>\n",
       "      <td>0.106090</td>\n",
       "      <td>0.206676</td>\n",
       "    </tr>\n",
       "    <tr>\n",
       "      <th>panas_pos_22</th>\n",
       "      <td>NaN</td>\n",
       "      <td>0.202741</td>\n",
       "      <td>-0.050105</td>\n",
       "      <td>0.037962</td>\n",
       "      <td>-0.058234</td>\n",
       "      <td>0.327436</td>\n",
       "      <td>0.479459</td>\n",
       "      <td>-0.184617</td>\n",
       "      <td>0.073580</td>\n",
       "      <td>0.336434</td>\n",
       "      <td>...</td>\n",
       "      <td>0.590927</td>\n",
       "      <td>0.730498</td>\n",
       "      <td>0.609624</td>\n",
       "      <td>1.000000</td>\n",
       "      <td>0.578817</td>\n",
       "      <td>0.331739</td>\n",
       "      <td>-0.029226</td>\n",
       "      <td>-0.170186</td>\n",
       "      <td>0.020318</td>\n",
       "      <td>0.469991</td>\n",
       "    </tr>\n",
       "    <tr>\n",
       "      <th>panas_pos_9+1</th>\n",
       "      <td>NaN</td>\n",
       "      <td>0.130520</td>\n",
       "      <td>-0.172423</td>\n",
       "      <td>0.198356</td>\n",
       "      <td>-0.172416</td>\n",
       "      <td>0.134947</td>\n",
       "      <td>0.111870</td>\n",
       "      <td>-0.354012</td>\n",
       "      <td>0.211445</td>\n",
       "      <td>0.197735</td>\n",
       "      <td>...</td>\n",
       "      <td>0.680025</td>\n",
       "      <td>0.597363</td>\n",
       "      <td>0.437330</td>\n",
       "      <td>0.578817</td>\n",
       "      <td>1.000000</td>\n",
       "      <td>0.211655</td>\n",
       "      <td>0.171276</td>\n",
       "      <td>0.062717</td>\n",
       "      <td>0.238023</td>\n",
       "      <td>0.278423</td>\n",
       "    </tr>\n",
       "    <tr>\n",
       "      <th>panas_neg_10</th>\n",
       "      <td>NaN</td>\n",
       "      <td>0.122220</td>\n",
       "      <td>-0.118478</td>\n",
       "      <td>-0.111700</td>\n",
       "      <td>0.556821</td>\n",
       "      <td>0.366462</td>\n",
       "      <td>0.032929</td>\n",
       "      <td>0.064892</td>\n",
       "      <td>0.225481</td>\n",
       "      <td>0.367624</td>\n",
       "      <td>...</td>\n",
       "      <td>-0.000953</td>\n",
       "      <td>0.052668</td>\n",
       "      <td>0.253295</td>\n",
       "      <td>0.331739</td>\n",
       "      <td>0.211655</td>\n",
       "      <td>1.000000</td>\n",
       "      <td>0.603917</td>\n",
       "      <td>0.257545</td>\n",
       "      <td>0.195116</td>\n",
       "      <td>0.173977</td>\n",
       "    </tr>\n",
       "    <tr>\n",
       "      <th>panas_neg_14</th>\n",
       "      <td>NaN</td>\n",
       "      <td>-0.066929</td>\n",
       "      <td>-0.317334</td>\n",
       "      <td>-0.328746</td>\n",
       "      <td>0.503186</td>\n",
       "      <td>0.174431</td>\n",
       "      <td>-0.109893</td>\n",
       "      <td>-0.198414</td>\n",
       "      <td>-0.033812</td>\n",
       "      <td>0.214155</td>\n",
       "      <td>...</td>\n",
       "      <td>-0.021271</td>\n",
       "      <td>-0.072305</td>\n",
       "      <td>0.127666</td>\n",
       "      <td>-0.029226</td>\n",
       "      <td>0.171276</td>\n",
       "      <td>0.603917</td>\n",
       "      <td>1.000000</td>\n",
       "      <td>0.631716</td>\n",
       "      <td>0.629703</td>\n",
       "      <td>0.042080</td>\n",
       "    </tr>\n",
       "    <tr>\n",
       "      <th>panas_neg_18</th>\n",
       "      <td>NaN</td>\n",
       "      <td>-0.169659</td>\n",
       "      <td>-0.067639</td>\n",
       "      <td>-0.298023</td>\n",
       "      <td>0.272083</td>\n",
       "      <td>0.085288</td>\n",
       "      <td>0.043959</td>\n",
       "      <td>-0.114323</td>\n",
       "      <td>0.273934</td>\n",
       "      <td>0.161039</td>\n",
       "      <td>...</td>\n",
       "      <td>0.006980</td>\n",
       "      <td>-0.073969</td>\n",
       "      <td>-0.110858</td>\n",
       "      <td>-0.170186</td>\n",
       "      <td>0.062717</td>\n",
       "      <td>0.257545</td>\n",
       "      <td>0.631716</td>\n",
       "      <td>1.000000</td>\n",
       "      <td>0.571167</td>\n",
       "      <td>0.255455</td>\n",
       "    </tr>\n",
       "    <tr>\n",
       "      <th>panas_neg_22</th>\n",
       "      <td>NaN</td>\n",
       "      <td>0.107610</td>\n",
       "      <td>-0.231971</td>\n",
       "      <td>-0.484721</td>\n",
       "      <td>-0.021982</td>\n",
       "      <td>0.041399</td>\n",
       "      <td>0.027883</td>\n",
       "      <td>-0.082023</td>\n",
       "      <td>-0.223298</td>\n",
       "      <td>-0.050582</td>\n",
       "      <td>...</td>\n",
       "      <td>0.248594</td>\n",
       "      <td>0.128014</td>\n",
       "      <td>0.106090</td>\n",
       "      <td>0.020318</td>\n",
       "      <td>0.238023</td>\n",
       "      <td>0.195116</td>\n",
       "      <td>0.629703</td>\n",
       "      <td>0.571167</td>\n",
       "      <td>1.000000</td>\n",
       "      <td>0.312796</td>\n",
       "    </tr>\n",
       "    <tr>\n",
       "      <th>panas_neg_9+1</th>\n",
       "      <td>NaN</td>\n",
       "      <td>0.277638</td>\n",
       "      <td>0.173930</td>\n",
       "      <td>-0.336541</td>\n",
       "      <td>-0.192108</td>\n",
       "      <td>0.017200</td>\n",
       "      <td>0.571732</td>\n",
       "      <td>0.009060</td>\n",
       "      <td>0.138724</td>\n",
       "      <td>0.110942</td>\n",
       "      <td>...</td>\n",
       "      <td>0.321294</td>\n",
       "      <td>0.324963</td>\n",
       "      <td>0.206676</td>\n",
       "      <td>0.469991</td>\n",
       "      <td>0.278423</td>\n",
       "      <td>0.173977</td>\n",
       "      <td>0.042080</td>\n",
       "      <td>0.255455</td>\n",
       "      <td>0.312796</td>\n",
       "      <td>1.000000</td>\n",
       "    </tr>\n",
       "  </tbody>\n",
       "</table>\n",
       "<p>22 rows × 22 columns</p>\n",
       "</div>"
      ],
      "text/plain": [
       "                        Unnamed: 0  Total Sleep Time (TST)  \\\n",
       "Unnamed: 0                     NaN                     NaN   \n",
       "Total Sleep Time (TST)         NaN                1.000000   \n",
       "Number of Awakenings           NaN               -0.026630   \n",
       "MEQ                            NaN               -0.074965   \n",
       "STAI1                          NaN               -0.037475   \n",
       "STAI2                          NaN               -0.115043   \n",
       "Pittsburgh                     NaN                0.348963   \n",
       "Daily_stress                   NaN                0.215047   \n",
       "BISBAS_bis                     NaN               -0.231940   \n",
       "BISBAS_reward                  NaN               -0.211379   \n",
       "BISBAS_drive                   NaN               -0.153684   \n",
       "BISBAS_fun                     NaN               -0.280811   \n",
       "panas_pos_10                   NaN                0.198397   \n",
       "panas_pos_14                   NaN                0.269777   \n",
       "panas_pos_18                   NaN                0.457295   \n",
       "panas_pos_22                   NaN                0.202741   \n",
       "panas_pos_9+1                  NaN                0.130520   \n",
       "panas_neg_10                   NaN                0.122220   \n",
       "panas_neg_14                   NaN               -0.066929   \n",
       "panas_neg_18                   NaN               -0.169659   \n",
       "panas_neg_22                   NaN                0.107610   \n",
       "panas_neg_9+1                  NaN                0.277638   \n",
       "\n",
       "                        Number of Awakenings       MEQ     STAI1     STAI2  \\\n",
       "Unnamed: 0                               NaN       NaN       NaN       NaN   \n",
       "Total Sleep Time (TST)             -0.026630 -0.074965 -0.037475 -0.115043   \n",
       "Number of Awakenings                1.000000  0.009703 -0.325892 -0.285898   \n",
       "MEQ                                 0.009703  1.000000  0.064761  0.016279   \n",
       "STAI1                              -0.325892  0.064761  1.000000  0.320353   \n",
       "STAI2                              -0.285898  0.016279  0.320353  1.000000   \n",
       "Pittsburgh                         -0.202500 -0.209774 -0.038403 -0.208806   \n",
       "Daily_stress                        0.220139  0.126979  0.017660 -0.415194   \n",
       "BISBAS_bis                          0.068283  0.338104  0.296743  0.384374   \n",
       "BISBAS_reward                      -0.062718 -0.119249  0.225850  0.121036   \n",
       "BISBAS_drive                       -0.101560 -0.242214  0.262892  0.147198   \n",
       "BISBAS_fun                          0.023253 -0.225220  0.287548  0.539860   \n",
       "panas_pos_10                       -0.145688  0.437591 -0.210540  0.029984   \n",
       "panas_pos_14                       -0.209193  0.113905 -0.232667  0.226447   \n",
       "panas_pos_18                       -0.191308  0.182841  0.150528  0.348308   \n",
       "panas_pos_22                       -0.050105  0.037962 -0.058234  0.327436   \n",
       "panas_pos_9+1                      -0.172423  0.198356 -0.172416  0.134947   \n",
       "panas_neg_10                       -0.118478 -0.111700  0.556821  0.366462   \n",
       "panas_neg_14                       -0.317334 -0.328746  0.503186  0.174431   \n",
       "panas_neg_18                       -0.067639 -0.298023  0.272083  0.085288   \n",
       "panas_neg_22                       -0.231971 -0.484721 -0.021982  0.041399   \n",
       "panas_neg_9+1                       0.173930 -0.336541 -0.192108  0.017200   \n",
       "\n",
       "                        Pittsburgh  Daily_stress  BISBAS_bis  BISBAS_reward  \\\n",
       "Unnamed: 0                     NaN           NaN         NaN            NaN   \n",
       "Total Sleep Time (TST)    0.348963      0.215047   -0.231940      -0.211379   \n",
       "Number of Awakenings     -0.202500      0.220139    0.068283      -0.062718   \n",
       "MEQ                      -0.209774      0.126979    0.338104      -0.119249   \n",
       "STAI1                    -0.038403      0.017660    0.296743       0.225850   \n",
       "STAI2                    -0.208806     -0.415194    0.384374       0.121036   \n",
       "Pittsburgh                1.000000      0.109530   -0.223407       0.148965   \n",
       "Daily_stress              0.109530      1.000000    0.090844       0.105119   \n",
       "BISBAS_bis               -0.223407      0.090844    1.000000       0.231605   \n",
       "BISBAS_reward             0.148965      0.105119    0.231605       1.000000   \n",
       "BISBAS_drive              0.149766     -0.203145   -0.290883       0.215584   \n",
       "BISBAS_fun                0.061377     -0.184862    0.044658       0.383075   \n",
       "panas_pos_10              0.279767      0.055891    0.190807      -0.077196   \n",
       "panas_pos_14              0.441286     -0.178304   -0.067705       0.294002   \n",
       "panas_pos_18              0.268345      0.048792    0.102082       0.350398   \n",
       "panas_pos_22              0.479459     -0.184617    0.073580       0.336434   \n",
       "panas_pos_9+1             0.111870     -0.354012    0.211445       0.197735   \n",
       "panas_neg_10              0.032929      0.064892    0.225481       0.367624   \n",
       "panas_neg_14             -0.109893     -0.198414   -0.033812       0.214155   \n",
       "panas_neg_18              0.043959     -0.114323    0.273934       0.161039   \n",
       "panas_neg_22              0.027883     -0.082023   -0.223298      -0.050582   \n",
       "panas_neg_9+1             0.571732      0.009060    0.138724       0.110942   \n",
       "\n",
       "                        ...  panas_pos_10  panas_pos_14  panas_pos_18  \\\n",
       "Unnamed: 0              ...           NaN           NaN           NaN   \n",
       "Total Sleep Time (TST)  ...      0.198397      0.269777      0.457295   \n",
       "Number of Awakenings    ...     -0.145688     -0.209193     -0.191308   \n",
       "MEQ                     ...      0.437591      0.113905      0.182841   \n",
       "STAI1                   ...     -0.210540     -0.232667      0.150528   \n",
       "STAI2                   ...      0.029984      0.226447      0.348308   \n",
       "Pittsburgh              ...      0.279767      0.441286      0.268345   \n",
       "Daily_stress            ...      0.055891     -0.178304      0.048792   \n",
       "BISBAS_bis              ...      0.190807     -0.067705      0.102082   \n",
       "BISBAS_reward           ...     -0.077196      0.294002      0.350398   \n",
       "BISBAS_drive            ...     -0.059940      0.212834      0.220702   \n",
       "BISBAS_fun              ...     -0.226014      0.112428      0.188805   \n",
       "panas_pos_10            ...      1.000000      0.615455      0.486908   \n",
       "panas_pos_14            ...      0.615455      1.000000      0.713401   \n",
       "panas_pos_18            ...      0.486908      0.713401      1.000000   \n",
       "panas_pos_22            ...      0.590927      0.730498      0.609624   \n",
       "panas_pos_9+1           ...      0.680025      0.597363      0.437330   \n",
       "panas_neg_10            ...     -0.000953      0.052668      0.253295   \n",
       "panas_neg_14            ...     -0.021271     -0.072305      0.127666   \n",
       "panas_neg_18            ...      0.006980     -0.073969     -0.110858   \n",
       "panas_neg_22            ...      0.248594      0.128014      0.106090   \n",
       "panas_neg_9+1           ...      0.321294      0.324963      0.206676   \n",
       "\n",
       "                        panas_pos_22  panas_pos_9+1  panas_neg_10  \\\n",
       "Unnamed: 0                       NaN            NaN           NaN   \n",
       "Total Sleep Time (TST)      0.202741       0.130520      0.122220   \n",
       "Number of Awakenings       -0.050105      -0.172423     -0.118478   \n",
       "MEQ                         0.037962       0.198356     -0.111700   \n",
       "STAI1                      -0.058234      -0.172416      0.556821   \n",
       "STAI2                       0.327436       0.134947      0.366462   \n",
       "Pittsburgh                  0.479459       0.111870      0.032929   \n",
       "Daily_stress               -0.184617      -0.354012      0.064892   \n",
       "BISBAS_bis                  0.073580       0.211445      0.225481   \n",
       "BISBAS_reward               0.336434       0.197735      0.367624   \n",
       "BISBAS_drive                0.117810      -0.101991     -0.118828   \n",
       "BISBAS_fun                  0.113224      -0.192862      0.179195   \n",
       "panas_pos_10                0.590927       0.680025     -0.000953   \n",
       "panas_pos_14                0.730498       0.597363      0.052668   \n",
       "panas_pos_18                0.609624       0.437330      0.253295   \n",
       "panas_pos_22                1.000000       0.578817      0.331739   \n",
       "panas_pos_9+1               0.578817       1.000000      0.211655   \n",
       "panas_neg_10                0.331739       0.211655      1.000000   \n",
       "panas_neg_14               -0.029226       0.171276      0.603917   \n",
       "panas_neg_18               -0.170186       0.062717      0.257545   \n",
       "panas_neg_22                0.020318       0.238023      0.195116   \n",
       "panas_neg_9+1               0.469991       0.278423      0.173977   \n",
       "\n",
       "                        panas_neg_14  panas_neg_18  panas_neg_22  \\\n",
       "Unnamed: 0                       NaN           NaN           NaN   \n",
       "Total Sleep Time (TST)     -0.066929     -0.169659      0.107610   \n",
       "Number of Awakenings       -0.317334     -0.067639     -0.231971   \n",
       "MEQ                        -0.328746     -0.298023     -0.484721   \n",
       "STAI1                       0.503186      0.272083     -0.021982   \n",
       "STAI2                       0.174431      0.085288      0.041399   \n",
       "Pittsburgh                 -0.109893      0.043959      0.027883   \n",
       "Daily_stress               -0.198414     -0.114323     -0.082023   \n",
       "BISBAS_bis                 -0.033812      0.273934     -0.223298   \n",
       "BISBAS_reward               0.214155      0.161039     -0.050582   \n",
       "BISBAS_drive                0.123986     -0.068761      0.078696   \n",
       "BISBAS_fun                  0.216289      0.315479      0.041451   \n",
       "panas_pos_10               -0.021271      0.006980      0.248594   \n",
       "panas_pos_14               -0.072305     -0.073969      0.128014   \n",
       "panas_pos_18                0.127666     -0.110858      0.106090   \n",
       "panas_pos_22               -0.029226     -0.170186      0.020318   \n",
       "panas_pos_9+1               0.171276      0.062717      0.238023   \n",
       "panas_neg_10                0.603917      0.257545      0.195116   \n",
       "panas_neg_14                1.000000      0.631716      0.629703   \n",
       "panas_neg_18                0.631716      1.000000      0.571167   \n",
       "panas_neg_22                0.629703      0.571167      1.000000   \n",
       "panas_neg_9+1               0.042080      0.255455      0.312796   \n",
       "\n",
       "                        panas_neg_9+1  \n",
       "Unnamed: 0                        NaN  \n",
       "Total Sleep Time (TST)       0.277638  \n",
       "Number of Awakenings         0.173930  \n",
       "MEQ                         -0.336541  \n",
       "STAI1                       -0.192108  \n",
       "STAI2                        0.017200  \n",
       "Pittsburgh                   0.571732  \n",
       "Daily_stress                 0.009060  \n",
       "BISBAS_bis                   0.138724  \n",
       "BISBAS_reward                0.110942  \n",
       "BISBAS_drive                -0.112028  \n",
       "BISBAS_fun                   0.056343  \n",
       "panas_pos_10                 0.321294  \n",
       "panas_pos_14                 0.324963  \n",
       "panas_pos_18                 0.206676  \n",
       "panas_pos_22                 0.469991  \n",
       "panas_pos_9+1                0.278423  \n",
       "panas_neg_10                 0.173977  \n",
       "panas_neg_14                 0.042080  \n",
       "panas_neg_18                 0.255455  \n",
       "panas_neg_22                 0.312796  \n",
       "panas_neg_9+1                1.000000  \n",
       "\n",
       "[22 rows x 22 columns]"
      ]
     },
     "execution_count": 12,
     "metadata": {},
     "output_type": "execute_result"
    }
   ],
   "source": [
    "# Correlation between Daily_stress and Total amount of Sleep (TST) in minutes\n",
    "sleep_df.corr()"
   ]
  },
  {
   "cell_type": "code",
   "execution_count": 31,
   "metadata": {},
   "outputs": [
    {
     "name": "stdout",
     "output_type": "stream",
     "text": [
      "Daily Stress All\t F_onewayResult(statistic=1.3718166383701191, pvalue=0.2819224314905824)\n",
      "Daily Stress g1 (10 - 30)\t F_onewayResult(statistic=0.2117647058823529, pvalue=0.6576369864791527)\n",
      "Daily Stress g2 (30 - 50)\t F_onewayResult(statistic=1.4, pvalue=0.2706900128603841)\n",
      "Daily Stress g3 (40 - 70)\t F_onewayResult(statistic=2.064516129032258, pvalue=0.17002963876130742)\n"
     ]
    }
   ],
   "source": [
    "# Sleeping less causes stress\n",
    "g1 = sleep_df[(sleep_df['Daily_stress'] >= 10) & (sleep_df['Daily_stress'] < 30)]['Pittsburgh']\n",
    "g2 = sleep_df[(sleep_df['Daily_stress'] > 30) & (sleep_df['Daily_stress'] < 50)]['Pittsburgh']\n",
    "g3 = sleep_df[(sleep_df['Daily_stress'] > 50) & (sleep_df['Daily_stress'] <= 70)]['Pittsburgh']\n",
    "ranges = [\"All\", \"g1 (10 - 30)\", \"g2 (30 - 50)\", \"g3 (40 - 70)\"]\n",
    "\n",
    "all = [sts.f_oneway(g1,g2,g3), \n",
    "    sts.f_oneway(g2,g3),\n",
    "    sts.f_oneway(g1,g3),\n",
    "    sts.f_oneway(g1,g2)]\n",
    "\n",
    "for i in range(len(ranges)):\n",
    "    print(f\"Daily Stress {ranges[i]}\\t {all[i]}\")\n",
    "    "
   ]
  },
  {
   "cell_type": "code",
   "execution_count": 50,
   "metadata": {},
   "outputs": [
    {
     "name": "stderr",
     "output_type": "stream",
     "text": [
      "/var/folders/n7/89yqkwzd0vlfc3r6ww4n7z9m0000gr/T/ipykernel_70966/3871247526.py:2: SettingWithCopyWarning:\n",
      "\n",
      "\n",
      "A value is trying to be set on a copy of a slice from a DataFrame.\n",
      "Try using .loc[row_indexer,col_indexer] = value instead\n",
      "\n",
      "See the caveats in the documentation: https://pandas.pydata.org/pandas-docs/stable/user_guide/indexing.html#returning-a-view-versus-a-copy\n",
      "\n",
      "/var/folders/n7/89yqkwzd0vlfc3r6ww4n7z9m0000gr/T/ipykernel_70966/3871247526.py:3: SettingWithCopyWarning:\n",
      "\n",
      "\n",
      "A value is trying to be set on a copy of a slice from a DataFrame.\n",
      "Try using .loc[row_indexer,col_indexer] = value instead\n",
      "\n",
      "See the caveats in the documentation: https://pandas.pydata.org/pandas-docs/stable/user_guide/indexing.html#returning-a-view-versus-a-copy\n",
      "\n"
     ]
    }
   ],
   "source": [
    "# tukey = pairwise_tukeyhsd(endog=copy1[\"Pittsburgh\"],\n",
    "#                           groups=copy1['Daily_stress'],\n",
    "#                           alpha=0.05)\n",
    "# print(tukey)"
   ]
  },
  {
   "cell_type": "code",
   "execution_count": null,
   "metadata": {},
   "outputs": [],
   "source": [
    "px.scatter(sleep_df, 'Pittsburgh', )"
   ]
  }
 ],
 "metadata": {
  "interpreter": {
   "hash": "31f2aee4e71d21fbe5cf8b01ff0e069b9275f58929596ceb00d14d90e3e16cd6"
  },
  "kernelspec": {
   "display_name": "Python 3",
   "language": "python",
   "name": "python3"
  },
  "language_info": {
   "codemirror_mode": {
    "name": "ipython",
    "version": 3
   },
   "file_extension": ".py",
   "mimetype": "text/x-python",
   "name": "python",
   "nbconvert_exporter": "python",
   "pygments_lexer": "ipython3",
   "version": "3.8.9"
  }
 },
 "nbformat": 4,
 "nbformat_minor": 2
}
