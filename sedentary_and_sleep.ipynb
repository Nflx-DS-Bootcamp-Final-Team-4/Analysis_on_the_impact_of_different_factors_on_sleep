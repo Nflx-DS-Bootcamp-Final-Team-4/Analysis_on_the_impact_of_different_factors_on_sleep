{
 "cells": [
  {
   "cell_type": "code",
   "execution_count": 1,
   "metadata": {},
   "outputs": [],
   "source": [
    "# Import the necessary dependencies.\n",
    "import numpy as np\n",
    "import pandas as pd\n",
    "import plotly.express as px\n",
    "import scipy.stats as sts\n",
    "import plotly.express as plt\n",
    "import statsmodels.api as sm\n",
    "from statsmodels.stats.multicomp import pairwise_tukeyhsd"
   ]
  },
  {
   "cell_type": "markdown",
   "metadata": {},
   "source": [
    "## The Data\n",
    "\n",
    "These data sets are from fitbit. They contain 10K+ rows of data regarding the activities and sleep activites of about 20+ people. To clean the data, we took the daily averages of their sleep, steps, calories, and distance walked/ran. Using that condensed data, we created scatterplots analyzing the amount of sleep, amount of minutes sedentary, and daily steps. We also analyzed the time in bed, time asleep, and steps. \n",
    "\n",
    "Questions: \n",
    "- Does being more active (i.e. daily steps, active minutes) reduce the amount of time it takes to fall asleep?\n",
    "- Does sedentary time affect the amount of sleep?\n",
    "\n",
    "**Create a null hypothesis, an alternative hypothesis, and choose a significance level. Use this cell to document your decisions.**\n",
    "\n",
    "Question: Does being more sedentary affect the amount of sleep you get?\n",
    "\n",
    "Hypothesis: If you are more sedentary throughout the day, you will sleep less.\n",
    "\n",
    "Null Hypothesis: Being sedentary more than 900 minutes per day will not decrease the amount of sleep.\n",
    "\n",
    "Alternative Hypothesis: Being sedentary more than 900 minutes per day will decrease the amount of sleep. \n",
    "\n",
    "Significance Level:  Our p values for sedentaryMinutes and TotalSteps are less 0.05, so we reject the null hypothesis.\n",
    "\n",
    "\n",
    "### Other Notes\n",
    "\n",
    "- The less sedentary, the more sleep people got. \n",
    "- Total steps walked has a 0.2 correlation with total minutes asleep.\n",
    "- Based on the linear regeression model, we reject the null hypothesis."
   ]
  },
  {
   "cell_type": "code",
   "execution_count": 2,
   "metadata": {},
   "outputs": [
    {
     "data": {
      "text/html": [
       "<div>\n",
       "<style scoped>\n",
       "    .dataframe tbody tr th:only-of-type {\n",
       "        vertical-align: middle;\n",
       "    }\n",
       "\n",
       "    .dataframe tbody tr th {\n",
       "        vertical-align: top;\n",
       "    }\n",
       "\n",
       "    .dataframe thead th {\n",
       "        text-align: right;\n",
       "    }\n",
       "</style>\n",
       "<table border=\"1\" class=\"dataframe\">\n",
       "  <thead>\n",
       "    <tr style=\"text-align: right;\">\n",
       "      <th></th>\n",
       "      <th>TotalSteps</th>\n",
       "      <th>TotalDistance</th>\n",
       "      <th>TrackerDistance</th>\n",
       "      <th>LoggedActivitiesDistance</th>\n",
       "      <th>VeryActiveDistance</th>\n",
       "      <th>ModeratelyActiveDistance</th>\n",
       "      <th>LightActiveDistance</th>\n",
       "      <th>SedentaryActiveDistance</th>\n",
       "      <th>VeryActiveMinutes</th>\n",
       "      <th>FairlyActiveMinutes</th>\n",
       "      <th>LightlyActiveMinutes</th>\n",
       "      <th>SedentaryMinutes</th>\n",
       "      <th>Calories</th>\n",
       "    </tr>\n",
       "    <tr>\n",
       "      <th>Id</th>\n",
       "      <th></th>\n",
       "      <th></th>\n",
       "      <th></th>\n",
       "      <th></th>\n",
       "      <th></th>\n",
       "      <th></th>\n",
       "      <th></th>\n",
       "      <th></th>\n",
       "      <th></th>\n",
       "      <th></th>\n",
       "      <th></th>\n",
       "      <th></th>\n",
       "      <th></th>\n",
       "    </tr>\n",
       "  </thead>\n",
       "  <tbody>\n",
       "    <tr>\n",
       "      <th>1503960366</th>\n",
       "      <td>12116.741935</td>\n",
       "      <td>7.809677</td>\n",
       "      <td>7.809677</td>\n",
       "      <td>0.0</td>\n",
       "      <td>2.858387</td>\n",
       "      <td>0.794194</td>\n",
       "      <td>4.152903</td>\n",
       "      <td>0.000000</td>\n",
       "      <td>38.709677</td>\n",
       "      <td>19.161290</td>\n",
       "      <td>219.935484</td>\n",
       "      <td>848.161290</td>\n",
       "      <td>1816.419355</td>\n",
       "    </tr>\n",
       "    <tr>\n",
       "      <th>1624580081</th>\n",
       "      <td>5743.903226</td>\n",
       "      <td>3.914839</td>\n",
       "      <td>3.914839</td>\n",
       "      <td>0.0</td>\n",
       "      <td>0.939355</td>\n",
       "      <td>0.360645</td>\n",
       "      <td>2.606774</td>\n",
       "      <td>0.006129</td>\n",
       "      <td>8.677419</td>\n",
       "      <td>5.806452</td>\n",
       "      <td>153.483871</td>\n",
       "      <td>1257.741935</td>\n",
       "      <td>1483.354839</td>\n",
       "    </tr>\n",
       "    <tr>\n",
       "      <th>1644430081</th>\n",
       "      <td>7282.966667</td>\n",
       "      <td>5.295333</td>\n",
       "      <td>5.295333</td>\n",
       "      <td>0.0</td>\n",
       "      <td>0.730000</td>\n",
       "      <td>0.951000</td>\n",
       "      <td>3.609000</td>\n",
       "      <td>0.004000</td>\n",
       "      <td>9.566667</td>\n",
       "      <td>21.366667</td>\n",
       "      <td>178.466667</td>\n",
       "      <td>1161.866667</td>\n",
       "      <td>2811.300000</td>\n",
       "    </tr>\n",
       "    <tr>\n",
       "      <th>1844505072</th>\n",
       "      <td>2580.064516</td>\n",
       "      <td>1.706129</td>\n",
       "      <td>1.706129</td>\n",
       "      <td>0.0</td>\n",
       "      <td>0.008387</td>\n",
       "      <td>0.049032</td>\n",
       "      <td>1.647419</td>\n",
       "      <td>0.000000</td>\n",
       "      <td>0.129032</td>\n",
       "      <td>1.290323</td>\n",
       "      <td>115.451613</td>\n",
       "      <td>1206.612903</td>\n",
       "      <td>1573.483871</td>\n",
       "    </tr>\n",
       "    <tr>\n",
       "      <th>1927972279</th>\n",
       "      <td>916.129032</td>\n",
       "      <td>0.634516</td>\n",
       "      <td>0.634516</td>\n",
       "      <td>0.0</td>\n",
       "      <td>0.095806</td>\n",
       "      <td>0.031290</td>\n",
       "      <td>0.507097</td>\n",
       "      <td>0.000000</td>\n",
       "      <td>1.322581</td>\n",
       "      <td>0.774194</td>\n",
       "      <td>38.580645</td>\n",
       "      <td>1317.419355</td>\n",
       "      <td>2172.806452</td>\n",
       "    </tr>\n",
       "  </tbody>\n",
       "</table>\n",
       "</div>"
      ],
      "text/plain": [
       "              TotalSteps  TotalDistance  TrackerDistance  \\\n",
       "Id                                                         \n",
       "1503960366  12116.741935       7.809677         7.809677   \n",
       "1624580081   5743.903226       3.914839         3.914839   \n",
       "1644430081   7282.966667       5.295333         5.295333   \n",
       "1844505072   2580.064516       1.706129         1.706129   \n",
       "1927972279    916.129032       0.634516         0.634516   \n",
       "\n",
       "            LoggedActivitiesDistance  VeryActiveDistance  \\\n",
       "Id                                                         \n",
       "1503960366                       0.0            2.858387   \n",
       "1624580081                       0.0            0.939355   \n",
       "1644430081                       0.0            0.730000   \n",
       "1844505072                       0.0            0.008387   \n",
       "1927972279                       0.0            0.095806   \n",
       "\n",
       "            ModeratelyActiveDistance  LightActiveDistance  \\\n",
       "Id                                                          \n",
       "1503960366                  0.794194             4.152903   \n",
       "1624580081                  0.360645             2.606774   \n",
       "1644430081                  0.951000             3.609000   \n",
       "1844505072                  0.049032             1.647419   \n",
       "1927972279                  0.031290             0.507097   \n",
       "\n",
       "            SedentaryActiveDistance  VeryActiveMinutes  FairlyActiveMinutes  \\\n",
       "Id                                                                            \n",
       "1503960366                 0.000000          38.709677            19.161290   \n",
       "1624580081                 0.006129           8.677419             5.806452   \n",
       "1644430081                 0.004000           9.566667            21.366667   \n",
       "1844505072                 0.000000           0.129032             1.290323   \n",
       "1927972279                 0.000000           1.322581             0.774194   \n",
       "\n",
       "            LightlyActiveMinutes  SedentaryMinutes     Calories  \n",
       "Id                                                               \n",
       "1503960366            219.935484        848.161290  1816.419355  \n",
       "1624580081            153.483871       1257.741935  1483.354839  \n",
       "1644430081            178.466667       1161.866667  2811.300000  \n",
       "1844505072            115.451613       1206.612903  1573.483871  \n",
       "1927972279             38.580645       1317.419355  2172.806452  "
      ]
     },
     "execution_count": 2,
     "metadata": {},
     "output_type": "execute_result"
    }
   ],
   "source": [
    "# Get actvity DF for all users\n",
    "sedentary_df = pd.read_csv('fitbit/dailyActivity_merged.csv')\n",
    "sedentary_df = sedentary_df.groupby('Id').mean()\n",
    "sedentary_df.head()"
   ]
  },
  {
   "cell_type": "code",
   "execution_count": 3,
   "metadata": {},
   "outputs": [
    {
     "data": {
      "text/html": [
       "<div>\n",
       "<style scoped>\n",
       "    .dataframe tbody tr th:only-of-type {\n",
       "        vertical-align: middle;\n",
       "    }\n",
       "\n",
       "    .dataframe tbody tr th {\n",
       "        vertical-align: top;\n",
       "    }\n",
       "\n",
       "    .dataframe thead th {\n",
       "        text-align: right;\n",
       "    }\n",
       "</style>\n",
       "<table border=\"1\" class=\"dataframe\">\n",
       "  <thead>\n",
       "    <tr style=\"text-align: right;\">\n",
       "      <th></th>\n",
       "      <th>TotalSleepRecords</th>\n",
       "      <th>TotalMinutesAsleep</th>\n",
       "      <th>TotalTimeInBed</th>\n",
       "      <th>TimeToFallAsleep</th>\n",
       "    </tr>\n",
       "    <tr>\n",
       "      <th>Id</th>\n",
       "      <th></th>\n",
       "      <th></th>\n",
       "      <th></th>\n",
       "      <th></th>\n",
       "    </tr>\n",
       "  </thead>\n",
       "  <tbody>\n",
       "    <tr>\n",
       "      <th>1503960366</th>\n",
       "      <td>1.08</td>\n",
       "      <td>360.280000</td>\n",
       "      <td>383.200000</td>\n",
       "      <td>22.920000</td>\n",
       "    </tr>\n",
       "    <tr>\n",
       "      <th>1644430081</th>\n",
       "      <td>1.00</td>\n",
       "      <td>294.000000</td>\n",
       "      <td>346.000000</td>\n",
       "      <td>52.000000</td>\n",
       "    </tr>\n",
       "    <tr>\n",
       "      <th>1844505072</th>\n",
       "      <td>1.00</td>\n",
       "      <td>652.000000</td>\n",
       "      <td>961.000000</td>\n",
       "      <td>309.000000</td>\n",
       "    </tr>\n",
       "    <tr>\n",
       "      <th>1927972279</th>\n",
       "      <td>1.60</td>\n",
       "      <td>417.000000</td>\n",
       "      <td>437.800000</td>\n",
       "      <td>20.800000</td>\n",
       "    </tr>\n",
       "    <tr>\n",
       "      <th>2026352035</th>\n",
       "      <td>1.00</td>\n",
       "      <td>506.178571</td>\n",
       "      <td>537.642857</td>\n",
       "      <td>31.464286</td>\n",
       "    </tr>\n",
       "  </tbody>\n",
       "</table>\n",
       "</div>"
      ],
      "text/plain": [
       "            TotalSleepRecords  TotalMinutesAsleep  TotalTimeInBed  \\\n",
       "Id                                                                  \n",
       "1503960366               1.08          360.280000      383.200000   \n",
       "1644430081               1.00          294.000000      346.000000   \n",
       "1844505072               1.00          652.000000      961.000000   \n",
       "1927972279               1.60          417.000000      437.800000   \n",
       "2026352035               1.00          506.178571      537.642857   \n",
       "\n",
       "            TimeToFallAsleep  \n",
       "Id                            \n",
       "1503960366         22.920000  \n",
       "1644430081         52.000000  \n",
       "1844505072        309.000000  \n",
       "1927972279         20.800000  \n",
       "2026352035         31.464286  "
      ]
     },
     "execution_count": 3,
     "metadata": {},
     "output_type": "execute_result"
    }
   ],
   "source": [
    "sleep_df = pd.read_csv('fitbit/sleepDay_merged.csv')\n",
    "sleep_df = sleep_df.groupby('Id').mean()\n",
    "sleep_df['TimeToFallAsleep'] = sleep_df['TotalTimeInBed'] - sleep_df['TotalMinutesAsleep']\n",
    "sleep_df.head()\n"
   ]
  },
  {
   "cell_type": "code",
   "execution_count": 4,
   "metadata": {},
   "outputs": [
    {
     "data": {
      "text/html": [
       "<div>\n",
       "<style scoped>\n",
       "    .dataframe tbody tr th:only-of-type {\n",
       "        vertical-align: middle;\n",
       "    }\n",
       "\n",
       "    .dataframe tbody tr th {\n",
       "        vertical-align: top;\n",
       "    }\n",
       "\n",
       "    .dataframe thead th {\n",
       "        text-align: right;\n",
       "    }\n",
       "</style>\n",
       "<table border=\"1\" class=\"dataframe\">\n",
       "  <thead>\n",
       "    <tr style=\"text-align: right;\">\n",
       "      <th></th>\n",
       "      <th>TotalSleepRecords</th>\n",
       "      <th>TotalMinutesAsleep</th>\n",
       "      <th>TotalTimeInBed</th>\n",
       "      <th>TimeToFallAsleep</th>\n",
       "      <th>TotalSteps</th>\n",
       "      <th>TotalDistance</th>\n",
       "      <th>TrackerDistance</th>\n",
       "      <th>LoggedActivitiesDistance</th>\n",
       "      <th>VeryActiveDistance</th>\n",
       "      <th>ModeratelyActiveDistance</th>\n",
       "      <th>LightActiveDistance</th>\n",
       "      <th>SedentaryActiveDistance</th>\n",
       "      <th>VeryActiveMinutes</th>\n",
       "      <th>FairlyActiveMinutes</th>\n",
       "      <th>LightlyActiveMinutes</th>\n",
       "      <th>SedentaryMinutes</th>\n",
       "      <th>Calories</th>\n",
       "    </tr>\n",
       "    <tr>\n",
       "      <th>Id</th>\n",
       "      <th></th>\n",
       "      <th></th>\n",
       "      <th></th>\n",
       "      <th></th>\n",
       "      <th></th>\n",
       "      <th></th>\n",
       "      <th></th>\n",
       "      <th></th>\n",
       "      <th></th>\n",
       "      <th></th>\n",
       "      <th></th>\n",
       "      <th></th>\n",
       "      <th></th>\n",
       "      <th></th>\n",
       "      <th></th>\n",
       "      <th></th>\n",
       "      <th></th>\n",
       "    </tr>\n",
       "  </thead>\n",
       "  <tbody>\n",
       "    <tr>\n",
       "      <th>1503960366</th>\n",
       "      <td>1.08</td>\n",
       "      <td>360.280000</td>\n",
       "      <td>383.200000</td>\n",
       "      <td>22.920000</td>\n",
       "      <td>12116.741935</td>\n",
       "      <td>7.809677</td>\n",
       "      <td>7.809677</td>\n",
       "      <td>0.0</td>\n",
       "      <td>2.858387</td>\n",
       "      <td>0.794194</td>\n",
       "      <td>4.152903</td>\n",
       "      <td>0.000</td>\n",
       "      <td>38.709677</td>\n",
       "      <td>19.161290</td>\n",
       "      <td>219.935484</td>\n",
       "      <td>848.161290</td>\n",
       "      <td>1816.419355</td>\n",
       "    </tr>\n",
       "    <tr>\n",
       "      <th>1644430081</th>\n",
       "      <td>1.00</td>\n",
       "      <td>294.000000</td>\n",
       "      <td>346.000000</td>\n",
       "      <td>52.000000</td>\n",
       "      <td>7282.966667</td>\n",
       "      <td>5.295333</td>\n",
       "      <td>5.295333</td>\n",
       "      <td>0.0</td>\n",
       "      <td>0.730000</td>\n",
       "      <td>0.951000</td>\n",
       "      <td>3.609000</td>\n",
       "      <td>0.004</td>\n",
       "      <td>9.566667</td>\n",
       "      <td>21.366667</td>\n",
       "      <td>178.466667</td>\n",
       "      <td>1161.866667</td>\n",
       "      <td>2811.300000</td>\n",
       "    </tr>\n",
       "    <tr>\n",
       "      <th>1844505072</th>\n",
       "      <td>1.00</td>\n",
       "      <td>652.000000</td>\n",
       "      <td>961.000000</td>\n",
       "      <td>309.000000</td>\n",
       "      <td>2580.064516</td>\n",
       "      <td>1.706129</td>\n",
       "      <td>1.706129</td>\n",
       "      <td>0.0</td>\n",
       "      <td>0.008387</td>\n",
       "      <td>0.049032</td>\n",
       "      <td>1.647419</td>\n",
       "      <td>0.000</td>\n",
       "      <td>0.129032</td>\n",
       "      <td>1.290323</td>\n",
       "      <td>115.451613</td>\n",
       "      <td>1206.612903</td>\n",
       "      <td>1573.483871</td>\n",
       "    </tr>\n",
       "    <tr>\n",
       "      <th>1927972279</th>\n",
       "      <td>1.60</td>\n",
       "      <td>417.000000</td>\n",
       "      <td>437.800000</td>\n",
       "      <td>20.800000</td>\n",
       "      <td>916.129032</td>\n",
       "      <td>0.634516</td>\n",
       "      <td>0.634516</td>\n",
       "      <td>0.0</td>\n",
       "      <td>0.095806</td>\n",
       "      <td>0.031290</td>\n",
       "      <td>0.507097</td>\n",
       "      <td>0.000</td>\n",
       "      <td>1.322581</td>\n",
       "      <td>0.774194</td>\n",
       "      <td>38.580645</td>\n",
       "      <td>1317.419355</td>\n",
       "      <td>2172.806452</td>\n",
       "    </tr>\n",
       "    <tr>\n",
       "      <th>2026352035</th>\n",
       "      <td>1.00</td>\n",
       "      <td>506.178571</td>\n",
       "      <td>537.642857</td>\n",
       "      <td>31.464286</td>\n",
       "      <td>5566.870968</td>\n",
       "      <td>3.454839</td>\n",
       "      <td>3.454839</td>\n",
       "      <td>0.0</td>\n",
       "      <td>0.006129</td>\n",
       "      <td>0.011290</td>\n",
       "      <td>3.436129</td>\n",
       "      <td>0.000</td>\n",
       "      <td>0.096774</td>\n",
       "      <td>0.258065</td>\n",
       "      <td>256.645161</td>\n",
       "      <td>689.419355</td>\n",
       "      <td>1540.645161</td>\n",
       "    </tr>\n",
       "  </tbody>\n",
       "</table>\n",
       "</div>"
      ],
      "text/plain": [
       "            TotalSleepRecords  TotalMinutesAsleep  TotalTimeInBed  \\\n",
       "Id                                                                  \n",
       "1503960366               1.08          360.280000      383.200000   \n",
       "1644430081               1.00          294.000000      346.000000   \n",
       "1844505072               1.00          652.000000      961.000000   \n",
       "1927972279               1.60          417.000000      437.800000   \n",
       "2026352035               1.00          506.178571      537.642857   \n",
       "\n",
       "            TimeToFallAsleep    TotalSteps  TotalDistance  TrackerDistance  \\\n",
       "Id                                                                           \n",
       "1503960366         22.920000  12116.741935       7.809677         7.809677   \n",
       "1644430081         52.000000   7282.966667       5.295333         5.295333   \n",
       "1844505072        309.000000   2580.064516       1.706129         1.706129   \n",
       "1927972279         20.800000    916.129032       0.634516         0.634516   \n",
       "2026352035         31.464286   5566.870968       3.454839         3.454839   \n",
       "\n",
       "            LoggedActivitiesDistance  VeryActiveDistance  \\\n",
       "Id                                                         \n",
       "1503960366                       0.0            2.858387   \n",
       "1644430081                       0.0            0.730000   \n",
       "1844505072                       0.0            0.008387   \n",
       "1927972279                       0.0            0.095806   \n",
       "2026352035                       0.0            0.006129   \n",
       "\n",
       "            ModeratelyActiveDistance  LightActiveDistance  \\\n",
       "Id                                                          \n",
       "1503960366                  0.794194             4.152903   \n",
       "1644430081                  0.951000             3.609000   \n",
       "1844505072                  0.049032             1.647419   \n",
       "1927972279                  0.031290             0.507097   \n",
       "2026352035                  0.011290             3.436129   \n",
       "\n",
       "            SedentaryActiveDistance  VeryActiveMinutes  FairlyActiveMinutes  \\\n",
       "Id                                                                            \n",
       "1503960366                    0.000          38.709677            19.161290   \n",
       "1644430081                    0.004           9.566667            21.366667   \n",
       "1844505072                    0.000           0.129032             1.290323   \n",
       "1927972279                    0.000           1.322581             0.774194   \n",
       "2026352035                    0.000           0.096774             0.258065   \n",
       "\n",
       "            LightlyActiveMinutes  SedentaryMinutes     Calories  \n",
       "Id                                                               \n",
       "1503960366            219.935484        848.161290  1816.419355  \n",
       "1644430081            178.466667       1161.866667  2811.300000  \n",
       "1844505072            115.451613       1206.612903  1573.483871  \n",
       "1927972279             38.580645       1317.419355  2172.806452  \n",
       "2026352035            256.645161        689.419355  1540.645161  "
      ]
     },
     "execution_count": 4,
     "metadata": {},
     "output_type": "execute_result"
    }
   ],
   "source": [
    "combined_df = sleep_df.merge(sedentary_df, on='Id')\n",
    "combined_df.drop_duplicates()\n",
    "combined_df.head()"
   ]
  },
  {
   "cell_type": "code",
   "execution_count": 5,
   "metadata": {},
   "outputs": [
    {
     "data": {
      "application/vnd.plotly.v1+json": {
       "config": {
        "plotlyServerURL": "https://plot.ly"
       },
       "data": [
        {
         "hovertemplate": "TotalMinutesAsleep=%{x}<br>SedentaryMinutes=%{y}<br>TotalSteps=%{marker.color}<extra></extra>",
         "legendgroup": "",
         "marker": {
          "color": [
           12116.741935483871,
           7282.966666666666,
           2580.064516129032,
           916.1290322580645,
           5566.870967741936,
           4716.870967741936,
           9519.666666666666,
           10984.566666666668,
           2267.2258064516127,
           7268.8387096774195,
           10813.935483870968,
           4796.548387096775,
           7685.129032258064,
           8572.064516129032,
           8612.58064516129,
           8304.433333333332,
           7046.714285714285,
           2519.6923076923076,
           9794.806451612903,
           11323.423076923076,
           9371.774193548386,
           14763.290322580646,
           8717.709677419354,
           1853.7241379310344
          ],
          "coloraxis": "coloraxis",
          "symbol": "circle"
         },
         "mode": "markers",
         "name": "",
         "orientation": "v",
         "showlegend": false,
         "type": "scatter",
         "x": [
          360.28,
          294,
          652,
          417,
          506.17857142857144,
          61,
          446.8,
          293.64285714285717,
          349.375,
          476.65384615384613,
          403.125,
          385.17857142857144,
          127.6,
          421.14285714285717,
          463.48387096774195,
          432,
          478.77777777777777,
          349.6666666666667,
          448,
          68.5,
          453.125,
          297,
          443.34375,
          435.6666666666667
         ],
         "xaxis": "x",
         "y": [
          848.1612903225806,
          1161.8666666666666,
          1206.6129032258063,
          1317.4193548387098,
          689.4193548387096,
          1220.0967741935483,
          687.1666666666666,
          707.5333333333333,
          1237.258064516129,
          735.8064516129032,
          836.6774193548387,
          829.9032258064516,
          1093.6129032258063,
          766.4193548387096,
          668.3548387096774,
          754.4333333333333,
          796.2857142857143,
          1299.423076923077,
          662.3225806451613,
          1055.3461538461538,
          850.4516129032259,
          1148,
          716.1290322580645,
          1060.4827586206898
         ],
         "yaxis": "y"
        }
       ],
       "layout": {
        "coloraxis": {
         "colorbar": {
          "title": {
           "text": "TotalSteps"
          }
         },
         "colorscale": [
          [
           0,
           "#0d0887"
          ],
          [
           0.1111111111111111,
           "#46039f"
          ],
          [
           0.2222222222222222,
           "#7201a8"
          ],
          [
           0.3333333333333333,
           "#9c179e"
          ],
          [
           0.4444444444444444,
           "#bd3786"
          ],
          [
           0.5555555555555556,
           "#d8576b"
          ],
          [
           0.6666666666666666,
           "#ed7953"
          ],
          [
           0.7777777777777778,
           "#fb9f3a"
          ],
          [
           0.8888888888888888,
           "#fdca26"
          ],
          [
           1,
           "#f0f921"
          ]
         ]
        },
        "legend": {
         "tracegroupgap": 0
        },
        "margin": {
         "t": 60
        },
        "template": {
         "data": {
          "bar": [
           {
            "error_x": {
             "color": "#2a3f5f"
            },
            "error_y": {
             "color": "#2a3f5f"
            },
            "marker": {
             "line": {
              "color": "#E5ECF6",
              "width": 0.5
             },
             "pattern": {
              "fillmode": "overlay",
              "size": 10,
              "solidity": 0.2
             }
            },
            "type": "bar"
           }
          ],
          "barpolar": [
           {
            "marker": {
             "line": {
              "color": "#E5ECF6",
              "width": 0.5
             },
             "pattern": {
              "fillmode": "overlay",
              "size": 10,
              "solidity": 0.2
             }
            },
            "type": "barpolar"
           }
          ],
          "carpet": [
           {
            "aaxis": {
             "endlinecolor": "#2a3f5f",
             "gridcolor": "white",
             "linecolor": "white",
             "minorgridcolor": "white",
             "startlinecolor": "#2a3f5f"
            },
            "baxis": {
             "endlinecolor": "#2a3f5f",
             "gridcolor": "white",
             "linecolor": "white",
             "minorgridcolor": "white",
             "startlinecolor": "#2a3f5f"
            },
            "type": "carpet"
           }
          ],
          "choropleth": [
           {
            "colorbar": {
             "outlinewidth": 0,
             "ticks": ""
            },
            "type": "choropleth"
           }
          ],
          "contour": [
           {
            "colorbar": {
             "outlinewidth": 0,
             "ticks": ""
            },
            "colorscale": [
             [
              0,
              "#0d0887"
             ],
             [
              0.1111111111111111,
              "#46039f"
             ],
             [
              0.2222222222222222,
              "#7201a8"
             ],
             [
              0.3333333333333333,
              "#9c179e"
             ],
             [
              0.4444444444444444,
              "#bd3786"
             ],
             [
              0.5555555555555556,
              "#d8576b"
             ],
             [
              0.6666666666666666,
              "#ed7953"
             ],
             [
              0.7777777777777778,
              "#fb9f3a"
             ],
             [
              0.8888888888888888,
              "#fdca26"
             ],
             [
              1,
              "#f0f921"
             ]
            ],
            "type": "contour"
           }
          ],
          "contourcarpet": [
           {
            "colorbar": {
             "outlinewidth": 0,
             "ticks": ""
            },
            "type": "contourcarpet"
           }
          ],
          "heatmap": [
           {
            "colorbar": {
             "outlinewidth": 0,
             "ticks": ""
            },
            "colorscale": [
             [
              0,
              "#0d0887"
             ],
             [
              0.1111111111111111,
              "#46039f"
             ],
             [
              0.2222222222222222,
              "#7201a8"
             ],
             [
              0.3333333333333333,
              "#9c179e"
             ],
             [
              0.4444444444444444,
              "#bd3786"
             ],
             [
              0.5555555555555556,
              "#d8576b"
             ],
             [
              0.6666666666666666,
              "#ed7953"
             ],
             [
              0.7777777777777778,
              "#fb9f3a"
             ],
             [
              0.8888888888888888,
              "#fdca26"
             ],
             [
              1,
              "#f0f921"
             ]
            ],
            "type": "heatmap"
           }
          ],
          "heatmapgl": [
           {
            "colorbar": {
             "outlinewidth": 0,
             "ticks": ""
            },
            "colorscale": [
             [
              0,
              "#0d0887"
             ],
             [
              0.1111111111111111,
              "#46039f"
             ],
             [
              0.2222222222222222,
              "#7201a8"
             ],
             [
              0.3333333333333333,
              "#9c179e"
             ],
             [
              0.4444444444444444,
              "#bd3786"
             ],
             [
              0.5555555555555556,
              "#d8576b"
             ],
             [
              0.6666666666666666,
              "#ed7953"
             ],
             [
              0.7777777777777778,
              "#fb9f3a"
             ],
             [
              0.8888888888888888,
              "#fdca26"
             ],
             [
              1,
              "#f0f921"
             ]
            ],
            "type": "heatmapgl"
           }
          ],
          "histogram": [
           {
            "marker": {
             "pattern": {
              "fillmode": "overlay",
              "size": 10,
              "solidity": 0.2
             }
            },
            "type": "histogram"
           }
          ],
          "histogram2d": [
           {
            "colorbar": {
             "outlinewidth": 0,
             "ticks": ""
            },
            "colorscale": [
             [
              0,
              "#0d0887"
             ],
             [
              0.1111111111111111,
              "#46039f"
             ],
             [
              0.2222222222222222,
              "#7201a8"
             ],
             [
              0.3333333333333333,
              "#9c179e"
             ],
             [
              0.4444444444444444,
              "#bd3786"
             ],
             [
              0.5555555555555556,
              "#d8576b"
             ],
             [
              0.6666666666666666,
              "#ed7953"
             ],
             [
              0.7777777777777778,
              "#fb9f3a"
             ],
             [
              0.8888888888888888,
              "#fdca26"
             ],
             [
              1,
              "#f0f921"
             ]
            ],
            "type": "histogram2d"
           }
          ],
          "histogram2dcontour": [
           {
            "colorbar": {
             "outlinewidth": 0,
             "ticks": ""
            },
            "colorscale": [
             [
              0,
              "#0d0887"
             ],
             [
              0.1111111111111111,
              "#46039f"
             ],
             [
              0.2222222222222222,
              "#7201a8"
             ],
             [
              0.3333333333333333,
              "#9c179e"
             ],
             [
              0.4444444444444444,
              "#bd3786"
             ],
             [
              0.5555555555555556,
              "#d8576b"
             ],
             [
              0.6666666666666666,
              "#ed7953"
             ],
             [
              0.7777777777777778,
              "#fb9f3a"
             ],
             [
              0.8888888888888888,
              "#fdca26"
             ],
             [
              1,
              "#f0f921"
             ]
            ],
            "type": "histogram2dcontour"
           }
          ],
          "mesh3d": [
           {
            "colorbar": {
             "outlinewidth": 0,
             "ticks": ""
            },
            "type": "mesh3d"
           }
          ],
          "parcoords": [
           {
            "line": {
             "colorbar": {
              "outlinewidth": 0,
              "ticks": ""
             }
            },
            "type": "parcoords"
           }
          ],
          "pie": [
           {
            "automargin": true,
            "type": "pie"
           }
          ],
          "scatter": [
           {
            "marker": {
             "colorbar": {
              "outlinewidth": 0,
              "ticks": ""
             }
            },
            "type": "scatter"
           }
          ],
          "scatter3d": [
           {
            "line": {
             "colorbar": {
              "outlinewidth": 0,
              "ticks": ""
             }
            },
            "marker": {
             "colorbar": {
              "outlinewidth": 0,
              "ticks": ""
             }
            },
            "type": "scatter3d"
           }
          ],
          "scattercarpet": [
           {
            "marker": {
             "colorbar": {
              "outlinewidth": 0,
              "ticks": ""
             }
            },
            "type": "scattercarpet"
           }
          ],
          "scattergeo": [
           {
            "marker": {
             "colorbar": {
              "outlinewidth": 0,
              "ticks": ""
             }
            },
            "type": "scattergeo"
           }
          ],
          "scattergl": [
           {
            "marker": {
             "colorbar": {
              "outlinewidth": 0,
              "ticks": ""
             }
            },
            "type": "scattergl"
           }
          ],
          "scattermapbox": [
           {
            "marker": {
             "colorbar": {
              "outlinewidth": 0,
              "ticks": ""
             }
            },
            "type": "scattermapbox"
           }
          ],
          "scatterpolar": [
           {
            "marker": {
             "colorbar": {
              "outlinewidth": 0,
              "ticks": ""
             }
            },
            "type": "scatterpolar"
           }
          ],
          "scatterpolargl": [
           {
            "marker": {
             "colorbar": {
              "outlinewidth": 0,
              "ticks": ""
             }
            },
            "type": "scatterpolargl"
           }
          ],
          "scatterternary": [
           {
            "marker": {
             "colorbar": {
              "outlinewidth": 0,
              "ticks": ""
             }
            },
            "type": "scatterternary"
           }
          ],
          "surface": [
           {
            "colorbar": {
             "outlinewidth": 0,
             "ticks": ""
            },
            "colorscale": [
             [
              0,
              "#0d0887"
             ],
             [
              0.1111111111111111,
              "#46039f"
             ],
             [
              0.2222222222222222,
              "#7201a8"
             ],
             [
              0.3333333333333333,
              "#9c179e"
             ],
             [
              0.4444444444444444,
              "#bd3786"
             ],
             [
              0.5555555555555556,
              "#d8576b"
             ],
             [
              0.6666666666666666,
              "#ed7953"
             ],
             [
              0.7777777777777778,
              "#fb9f3a"
             ],
             [
              0.8888888888888888,
              "#fdca26"
             ],
             [
              1,
              "#f0f921"
             ]
            ],
            "type": "surface"
           }
          ],
          "table": [
           {
            "cells": {
             "fill": {
              "color": "#EBF0F8"
             },
             "line": {
              "color": "white"
             }
            },
            "header": {
             "fill": {
              "color": "#C8D4E3"
             },
             "line": {
              "color": "white"
             }
            },
            "type": "table"
           }
          ]
         },
         "layout": {
          "annotationdefaults": {
           "arrowcolor": "#2a3f5f",
           "arrowhead": 0,
           "arrowwidth": 1
          },
          "autotypenumbers": "strict",
          "coloraxis": {
           "colorbar": {
            "outlinewidth": 0,
            "ticks": ""
           }
          },
          "colorscale": {
           "diverging": [
            [
             0,
             "#8e0152"
            ],
            [
             0.1,
             "#c51b7d"
            ],
            [
             0.2,
             "#de77ae"
            ],
            [
             0.3,
             "#f1b6da"
            ],
            [
             0.4,
             "#fde0ef"
            ],
            [
             0.5,
             "#f7f7f7"
            ],
            [
             0.6,
             "#e6f5d0"
            ],
            [
             0.7,
             "#b8e186"
            ],
            [
             0.8,
             "#7fbc41"
            ],
            [
             0.9,
             "#4d9221"
            ],
            [
             1,
             "#276419"
            ]
           ],
           "sequential": [
            [
             0,
             "#0d0887"
            ],
            [
             0.1111111111111111,
             "#46039f"
            ],
            [
             0.2222222222222222,
             "#7201a8"
            ],
            [
             0.3333333333333333,
             "#9c179e"
            ],
            [
             0.4444444444444444,
             "#bd3786"
            ],
            [
             0.5555555555555556,
             "#d8576b"
            ],
            [
             0.6666666666666666,
             "#ed7953"
            ],
            [
             0.7777777777777778,
             "#fb9f3a"
            ],
            [
             0.8888888888888888,
             "#fdca26"
            ],
            [
             1,
             "#f0f921"
            ]
           ],
           "sequentialminus": [
            [
             0,
             "#0d0887"
            ],
            [
             0.1111111111111111,
             "#46039f"
            ],
            [
             0.2222222222222222,
             "#7201a8"
            ],
            [
             0.3333333333333333,
             "#9c179e"
            ],
            [
             0.4444444444444444,
             "#bd3786"
            ],
            [
             0.5555555555555556,
             "#d8576b"
            ],
            [
             0.6666666666666666,
             "#ed7953"
            ],
            [
             0.7777777777777778,
             "#fb9f3a"
            ],
            [
             0.8888888888888888,
             "#fdca26"
            ],
            [
             1,
             "#f0f921"
            ]
           ]
          },
          "colorway": [
           "#636efa",
           "#EF553B",
           "#00cc96",
           "#ab63fa",
           "#FFA15A",
           "#19d3f3",
           "#FF6692",
           "#B6E880",
           "#FF97FF",
           "#FECB52"
          ],
          "font": {
           "color": "#2a3f5f"
          },
          "geo": {
           "bgcolor": "white",
           "lakecolor": "white",
           "landcolor": "#E5ECF6",
           "showlakes": true,
           "showland": true,
           "subunitcolor": "white"
          },
          "hoverlabel": {
           "align": "left"
          },
          "hovermode": "closest",
          "mapbox": {
           "style": "light"
          },
          "paper_bgcolor": "white",
          "plot_bgcolor": "#E5ECF6",
          "polar": {
           "angularaxis": {
            "gridcolor": "white",
            "linecolor": "white",
            "ticks": ""
           },
           "bgcolor": "#E5ECF6",
           "radialaxis": {
            "gridcolor": "white",
            "linecolor": "white",
            "ticks": ""
           }
          },
          "scene": {
           "xaxis": {
            "backgroundcolor": "#E5ECF6",
            "gridcolor": "white",
            "gridwidth": 2,
            "linecolor": "white",
            "showbackground": true,
            "ticks": "",
            "zerolinecolor": "white"
           },
           "yaxis": {
            "backgroundcolor": "#E5ECF6",
            "gridcolor": "white",
            "gridwidth": 2,
            "linecolor": "white",
            "showbackground": true,
            "ticks": "",
            "zerolinecolor": "white"
           },
           "zaxis": {
            "backgroundcolor": "#E5ECF6",
            "gridcolor": "white",
            "gridwidth": 2,
            "linecolor": "white",
            "showbackground": true,
            "ticks": "",
            "zerolinecolor": "white"
           }
          },
          "shapedefaults": {
           "line": {
            "color": "#2a3f5f"
           }
          },
          "ternary": {
           "aaxis": {
            "gridcolor": "white",
            "linecolor": "white",
            "ticks": ""
           },
           "baxis": {
            "gridcolor": "white",
            "linecolor": "white",
            "ticks": ""
           },
           "bgcolor": "#E5ECF6",
           "caxis": {
            "gridcolor": "white",
            "linecolor": "white",
            "ticks": ""
           }
          },
          "title": {
           "x": 0.05
          },
          "xaxis": {
           "automargin": true,
           "gridcolor": "white",
           "linecolor": "white",
           "ticks": "",
           "title": {
            "standoff": 15
           },
           "zerolinecolor": "white",
           "zerolinewidth": 2
          },
          "yaxis": {
           "automargin": true,
           "gridcolor": "white",
           "linecolor": "white",
           "ticks": "",
           "title": {
            "standoff": 15
           },
           "zerolinecolor": "white",
           "zerolinewidth": 2
          }
         }
        },
        "xaxis": {
         "anchor": "y",
         "domain": [
          0,
          1
         ],
         "title": {
          "text": "TotalMinutesAsleep"
         }
        },
        "yaxis": {
         "anchor": "x",
         "domain": [
          0,
          1
         ],
         "title": {
          "text": "SedentaryMinutes"
         }
        }
       }
      }
     },
     "metadata": {},
     "output_type": "display_data"
    }
   ],
   "source": [
    "# Note: Average data\n",
    "px.scatter(combined_df,x='TotalMinutesAsleep', y='SedentaryMinutes', color='TotalSteps')"
   ]
  },
  {
   "cell_type": "code",
   "execution_count": 6,
   "metadata": {},
   "outputs": [
    {
     "data": {
      "application/vnd.plotly.v1+json": {
       "config": {
        "plotlyServerURL": "https://plot.ly"
       },
       "data": [
        {
         "hovertemplate": "TotalMinutesAsleep=%{x}<br>TotalTimeInBed=%{y}<br>SedentaryMinutes=%{marker.color}<extra></extra>",
         "legendgroup": "",
         "marker": {
          "color": [
           848.1612903225806,
           1161.8666666666666,
           1206.6129032258063,
           1317.4193548387098,
           689.4193548387096,
           1220.0967741935483,
           687.1666666666666,
           707.5333333333333,
           1237.258064516129,
           735.8064516129032,
           836.6774193548387,
           829.9032258064516,
           1093.6129032258063,
           766.4193548387096,
           668.3548387096774,
           754.4333333333333,
           796.2857142857143,
           1299.423076923077,
           662.3225806451613,
           1055.3461538461538,
           850.4516129032259,
           1148,
           716.1290322580645,
           1060.4827586206898
          ],
          "coloraxis": "coloraxis",
          "symbol": "circle"
         },
         "mode": "markers",
         "name": "",
         "orientation": "v",
         "showlegend": false,
         "type": "scatter",
         "x": [
          360.28,
          294,
          652,
          417,
          506.17857142857144,
          61,
          446.8,
          293.64285714285717,
          349.375,
          476.65384615384613,
          403.125,
          385.17857142857144,
          127.6,
          421.14285714285717,
          463.48387096774195,
          432,
          478.77777777777777,
          349.6666666666667,
          448,
          68.5,
          453.125,
          297,
          443.34375,
          435.6666666666667
         ],
         "xaxis": "x",
         "y": [
          383.2,
          346,
          961,
          437.8,
          537.6428571428571,
          69,
          491.3333333333333,
          461.14285714285717,
          379.75,
          501.96153846153845,
          426.2083333333333,
          416.82142857142856,
          140,
          441.9642857142857,
          505.8709677419355,
          460.61538461538464,
          510.1666666666667,
          369,
          466.1290322580645,
          71.5,
          466.4166666666667,
          301.6666666666667,
          483.3125,
          453.8
         ],
         "yaxis": "y"
        }
       ],
       "layout": {
        "coloraxis": {
         "colorbar": {
          "title": {
           "text": "SedentaryMinutes"
          }
         },
         "colorscale": [
          [
           0,
           "#0d0887"
          ],
          [
           0.1111111111111111,
           "#46039f"
          ],
          [
           0.2222222222222222,
           "#7201a8"
          ],
          [
           0.3333333333333333,
           "#9c179e"
          ],
          [
           0.4444444444444444,
           "#bd3786"
          ],
          [
           0.5555555555555556,
           "#d8576b"
          ],
          [
           0.6666666666666666,
           "#ed7953"
          ],
          [
           0.7777777777777778,
           "#fb9f3a"
          ],
          [
           0.8888888888888888,
           "#fdca26"
          ],
          [
           1,
           "#f0f921"
          ]
         ]
        },
        "legend": {
         "tracegroupgap": 0
        },
        "margin": {
         "t": 60
        },
        "template": {
         "data": {
          "bar": [
           {
            "error_x": {
             "color": "#2a3f5f"
            },
            "error_y": {
             "color": "#2a3f5f"
            },
            "marker": {
             "line": {
              "color": "#E5ECF6",
              "width": 0.5
             },
             "pattern": {
              "fillmode": "overlay",
              "size": 10,
              "solidity": 0.2
             }
            },
            "type": "bar"
           }
          ],
          "barpolar": [
           {
            "marker": {
             "line": {
              "color": "#E5ECF6",
              "width": 0.5
             },
             "pattern": {
              "fillmode": "overlay",
              "size": 10,
              "solidity": 0.2
             }
            },
            "type": "barpolar"
           }
          ],
          "carpet": [
           {
            "aaxis": {
             "endlinecolor": "#2a3f5f",
             "gridcolor": "white",
             "linecolor": "white",
             "minorgridcolor": "white",
             "startlinecolor": "#2a3f5f"
            },
            "baxis": {
             "endlinecolor": "#2a3f5f",
             "gridcolor": "white",
             "linecolor": "white",
             "minorgridcolor": "white",
             "startlinecolor": "#2a3f5f"
            },
            "type": "carpet"
           }
          ],
          "choropleth": [
           {
            "colorbar": {
             "outlinewidth": 0,
             "ticks": ""
            },
            "type": "choropleth"
           }
          ],
          "contour": [
           {
            "colorbar": {
             "outlinewidth": 0,
             "ticks": ""
            },
            "colorscale": [
             [
              0,
              "#0d0887"
             ],
             [
              0.1111111111111111,
              "#46039f"
             ],
             [
              0.2222222222222222,
              "#7201a8"
             ],
             [
              0.3333333333333333,
              "#9c179e"
             ],
             [
              0.4444444444444444,
              "#bd3786"
             ],
             [
              0.5555555555555556,
              "#d8576b"
             ],
             [
              0.6666666666666666,
              "#ed7953"
             ],
             [
              0.7777777777777778,
              "#fb9f3a"
             ],
             [
              0.8888888888888888,
              "#fdca26"
             ],
             [
              1,
              "#f0f921"
             ]
            ],
            "type": "contour"
           }
          ],
          "contourcarpet": [
           {
            "colorbar": {
             "outlinewidth": 0,
             "ticks": ""
            },
            "type": "contourcarpet"
           }
          ],
          "heatmap": [
           {
            "colorbar": {
             "outlinewidth": 0,
             "ticks": ""
            },
            "colorscale": [
             [
              0,
              "#0d0887"
             ],
             [
              0.1111111111111111,
              "#46039f"
             ],
             [
              0.2222222222222222,
              "#7201a8"
             ],
             [
              0.3333333333333333,
              "#9c179e"
             ],
             [
              0.4444444444444444,
              "#bd3786"
             ],
             [
              0.5555555555555556,
              "#d8576b"
             ],
             [
              0.6666666666666666,
              "#ed7953"
             ],
             [
              0.7777777777777778,
              "#fb9f3a"
             ],
             [
              0.8888888888888888,
              "#fdca26"
             ],
             [
              1,
              "#f0f921"
             ]
            ],
            "type": "heatmap"
           }
          ],
          "heatmapgl": [
           {
            "colorbar": {
             "outlinewidth": 0,
             "ticks": ""
            },
            "colorscale": [
             [
              0,
              "#0d0887"
             ],
             [
              0.1111111111111111,
              "#46039f"
             ],
             [
              0.2222222222222222,
              "#7201a8"
             ],
             [
              0.3333333333333333,
              "#9c179e"
             ],
             [
              0.4444444444444444,
              "#bd3786"
             ],
             [
              0.5555555555555556,
              "#d8576b"
             ],
             [
              0.6666666666666666,
              "#ed7953"
             ],
             [
              0.7777777777777778,
              "#fb9f3a"
             ],
             [
              0.8888888888888888,
              "#fdca26"
             ],
             [
              1,
              "#f0f921"
             ]
            ],
            "type": "heatmapgl"
           }
          ],
          "histogram": [
           {
            "marker": {
             "pattern": {
              "fillmode": "overlay",
              "size": 10,
              "solidity": 0.2
             }
            },
            "type": "histogram"
           }
          ],
          "histogram2d": [
           {
            "colorbar": {
             "outlinewidth": 0,
             "ticks": ""
            },
            "colorscale": [
             [
              0,
              "#0d0887"
             ],
             [
              0.1111111111111111,
              "#46039f"
             ],
             [
              0.2222222222222222,
              "#7201a8"
             ],
             [
              0.3333333333333333,
              "#9c179e"
             ],
             [
              0.4444444444444444,
              "#bd3786"
             ],
             [
              0.5555555555555556,
              "#d8576b"
             ],
             [
              0.6666666666666666,
              "#ed7953"
             ],
             [
              0.7777777777777778,
              "#fb9f3a"
             ],
             [
              0.8888888888888888,
              "#fdca26"
             ],
             [
              1,
              "#f0f921"
             ]
            ],
            "type": "histogram2d"
           }
          ],
          "histogram2dcontour": [
           {
            "colorbar": {
             "outlinewidth": 0,
             "ticks": ""
            },
            "colorscale": [
             [
              0,
              "#0d0887"
             ],
             [
              0.1111111111111111,
              "#46039f"
             ],
             [
              0.2222222222222222,
              "#7201a8"
             ],
             [
              0.3333333333333333,
              "#9c179e"
             ],
             [
              0.4444444444444444,
              "#bd3786"
             ],
             [
              0.5555555555555556,
              "#d8576b"
             ],
             [
              0.6666666666666666,
              "#ed7953"
             ],
             [
              0.7777777777777778,
              "#fb9f3a"
             ],
             [
              0.8888888888888888,
              "#fdca26"
             ],
             [
              1,
              "#f0f921"
             ]
            ],
            "type": "histogram2dcontour"
           }
          ],
          "mesh3d": [
           {
            "colorbar": {
             "outlinewidth": 0,
             "ticks": ""
            },
            "type": "mesh3d"
           }
          ],
          "parcoords": [
           {
            "line": {
             "colorbar": {
              "outlinewidth": 0,
              "ticks": ""
             }
            },
            "type": "parcoords"
           }
          ],
          "pie": [
           {
            "automargin": true,
            "type": "pie"
           }
          ],
          "scatter": [
           {
            "marker": {
             "colorbar": {
              "outlinewidth": 0,
              "ticks": ""
             }
            },
            "type": "scatter"
           }
          ],
          "scatter3d": [
           {
            "line": {
             "colorbar": {
              "outlinewidth": 0,
              "ticks": ""
             }
            },
            "marker": {
             "colorbar": {
              "outlinewidth": 0,
              "ticks": ""
             }
            },
            "type": "scatter3d"
           }
          ],
          "scattercarpet": [
           {
            "marker": {
             "colorbar": {
              "outlinewidth": 0,
              "ticks": ""
             }
            },
            "type": "scattercarpet"
           }
          ],
          "scattergeo": [
           {
            "marker": {
             "colorbar": {
              "outlinewidth": 0,
              "ticks": ""
             }
            },
            "type": "scattergeo"
           }
          ],
          "scattergl": [
           {
            "marker": {
             "colorbar": {
              "outlinewidth": 0,
              "ticks": ""
             }
            },
            "type": "scattergl"
           }
          ],
          "scattermapbox": [
           {
            "marker": {
             "colorbar": {
              "outlinewidth": 0,
              "ticks": ""
             }
            },
            "type": "scattermapbox"
           }
          ],
          "scatterpolar": [
           {
            "marker": {
             "colorbar": {
              "outlinewidth": 0,
              "ticks": ""
             }
            },
            "type": "scatterpolar"
           }
          ],
          "scatterpolargl": [
           {
            "marker": {
             "colorbar": {
              "outlinewidth": 0,
              "ticks": ""
             }
            },
            "type": "scatterpolargl"
           }
          ],
          "scatterternary": [
           {
            "marker": {
             "colorbar": {
              "outlinewidth": 0,
              "ticks": ""
             }
            },
            "type": "scatterternary"
           }
          ],
          "surface": [
           {
            "colorbar": {
             "outlinewidth": 0,
             "ticks": ""
            },
            "colorscale": [
             [
              0,
              "#0d0887"
             ],
             [
              0.1111111111111111,
              "#46039f"
             ],
             [
              0.2222222222222222,
              "#7201a8"
             ],
             [
              0.3333333333333333,
              "#9c179e"
             ],
             [
              0.4444444444444444,
              "#bd3786"
             ],
             [
              0.5555555555555556,
              "#d8576b"
             ],
             [
              0.6666666666666666,
              "#ed7953"
             ],
             [
              0.7777777777777778,
              "#fb9f3a"
             ],
             [
              0.8888888888888888,
              "#fdca26"
             ],
             [
              1,
              "#f0f921"
             ]
            ],
            "type": "surface"
           }
          ],
          "table": [
           {
            "cells": {
             "fill": {
              "color": "#EBF0F8"
             },
             "line": {
              "color": "white"
             }
            },
            "header": {
             "fill": {
              "color": "#C8D4E3"
             },
             "line": {
              "color": "white"
             }
            },
            "type": "table"
           }
          ]
         },
         "layout": {
          "annotationdefaults": {
           "arrowcolor": "#2a3f5f",
           "arrowhead": 0,
           "arrowwidth": 1
          },
          "autotypenumbers": "strict",
          "coloraxis": {
           "colorbar": {
            "outlinewidth": 0,
            "ticks": ""
           }
          },
          "colorscale": {
           "diverging": [
            [
             0,
             "#8e0152"
            ],
            [
             0.1,
             "#c51b7d"
            ],
            [
             0.2,
             "#de77ae"
            ],
            [
             0.3,
             "#f1b6da"
            ],
            [
             0.4,
             "#fde0ef"
            ],
            [
             0.5,
             "#f7f7f7"
            ],
            [
             0.6,
             "#e6f5d0"
            ],
            [
             0.7,
             "#b8e186"
            ],
            [
             0.8,
             "#7fbc41"
            ],
            [
             0.9,
             "#4d9221"
            ],
            [
             1,
             "#276419"
            ]
           ],
           "sequential": [
            [
             0,
             "#0d0887"
            ],
            [
             0.1111111111111111,
             "#46039f"
            ],
            [
             0.2222222222222222,
             "#7201a8"
            ],
            [
             0.3333333333333333,
             "#9c179e"
            ],
            [
             0.4444444444444444,
             "#bd3786"
            ],
            [
             0.5555555555555556,
             "#d8576b"
            ],
            [
             0.6666666666666666,
             "#ed7953"
            ],
            [
             0.7777777777777778,
             "#fb9f3a"
            ],
            [
             0.8888888888888888,
             "#fdca26"
            ],
            [
             1,
             "#f0f921"
            ]
           ],
           "sequentialminus": [
            [
             0,
             "#0d0887"
            ],
            [
             0.1111111111111111,
             "#46039f"
            ],
            [
             0.2222222222222222,
             "#7201a8"
            ],
            [
             0.3333333333333333,
             "#9c179e"
            ],
            [
             0.4444444444444444,
             "#bd3786"
            ],
            [
             0.5555555555555556,
             "#d8576b"
            ],
            [
             0.6666666666666666,
             "#ed7953"
            ],
            [
             0.7777777777777778,
             "#fb9f3a"
            ],
            [
             0.8888888888888888,
             "#fdca26"
            ],
            [
             1,
             "#f0f921"
            ]
           ]
          },
          "colorway": [
           "#636efa",
           "#EF553B",
           "#00cc96",
           "#ab63fa",
           "#FFA15A",
           "#19d3f3",
           "#FF6692",
           "#B6E880",
           "#FF97FF",
           "#FECB52"
          ],
          "font": {
           "color": "#2a3f5f"
          },
          "geo": {
           "bgcolor": "white",
           "lakecolor": "white",
           "landcolor": "#E5ECF6",
           "showlakes": true,
           "showland": true,
           "subunitcolor": "white"
          },
          "hoverlabel": {
           "align": "left"
          },
          "hovermode": "closest",
          "mapbox": {
           "style": "light"
          },
          "paper_bgcolor": "white",
          "plot_bgcolor": "#E5ECF6",
          "polar": {
           "angularaxis": {
            "gridcolor": "white",
            "linecolor": "white",
            "ticks": ""
           },
           "bgcolor": "#E5ECF6",
           "radialaxis": {
            "gridcolor": "white",
            "linecolor": "white",
            "ticks": ""
           }
          },
          "scene": {
           "xaxis": {
            "backgroundcolor": "#E5ECF6",
            "gridcolor": "white",
            "gridwidth": 2,
            "linecolor": "white",
            "showbackground": true,
            "ticks": "",
            "zerolinecolor": "white"
           },
           "yaxis": {
            "backgroundcolor": "#E5ECF6",
            "gridcolor": "white",
            "gridwidth": 2,
            "linecolor": "white",
            "showbackground": true,
            "ticks": "",
            "zerolinecolor": "white"
           },
           "zaxis": {
            "backgroundcolor": "#E5ECF6",
            "gridcolor": "white",
            "gridwidth": 2,
            "linecolor": "white",
            "showbackground": true,
            "ticks": "",
            "zerolinecolor": "white"
           }
          },
          "shapedefaults": {
           "line": {
            "color": "#2a3f5f"
           }
          },
          "ternary": {
           "aaxis": {
            "gridcolor": "white",
            "linecolor": "white",
            "ticks": ""
           },
           "baxis": {
            "gridcolor": "white",
            "linecolor": "white",
            "ticks": ""
           },
           "bgcolor": "#E5ECF6",
           "caxis": {
            "gridcolor": "white",
            "linecolor": "white",
            "ticks": ""
           }
          },
          "title": {
           "x": 0.05
          },
          "xaxis": {
           "automargin": true,
           "gridcolor": "white",
           "linecolor": "white",
           "ticks": "",
           "title": {
            "standoff": 15
           },
           "zerolinecolor": "white",
           "zerolinewidth": 2
          },
          "yaxis": {
           "automargin": true,
           "gridcolor": "white",
           "linecolor": "white",
           "ticks": "",
           "title": {
            "standoff": 15
           },
           "zerolinecolor": "white",
           "zerolinewidth": 2
          }
         }
        },
        "xaxis": {
         "anchor": "y",
         "domain": [
          0,
          1
         ],
         "title": {
          "text": "TotalMinutesAsleep"
         }
        },
        "yaxis": {
         "anchor": "x",
         "domain": [
          0,
          1
         ],
         "title": {
          "text": "TotalTimeInBed"
         }
        }
       }
      }
     },
     "metadata": {},
     "output_type": "display_data"
    }
   ],
   "source": [
    "# Note: Average data\n",
    "px.scatter(combined_df,x='TotalMinutesAsleep', y='TotalTimeInBed', color='SedentaryMinutes')"
   ]
  },
  {
   "cell_type": "code",
   "execution_count": 1,
   "metadata": {},
   "outputs": [
    {
     "ename": "NameError",
     "evalue": "name 'px' is not defined",
     "output_type": "error",
     "traceback": [
      "\u001b[1;31m---------------------------------------------------------------------------\u001b[0m",
      "\u001b[1;31mNameError\u001b[0m                                 Traceback (most recent call last)",
      "\u001b[1;32m<ipython-input-1-762b65a8fa0a>\u001b[0m in \u001b[0;36m<module>\u001b[1;34m\u001b[0m\n\u001b[0;32m      1\u001b[0m \u001b[1;31m# Scatter plot to see how the time it takes to fall asleep is related to being slightly active\u001b[0m\u001b[1;33m\u001b[0m\u001b[1;33m\u001b[0m\u001b[1;33m\u001b[0m\u001b[0m\n\u001b[1;32m----> 2\u001b[1;33m \u001b[0mpx\u001b[0m\u001b[1;33m.\u001b[0m\u001b[0mscatter\u001b[0m\u001b[1;33m(\u001b[0m\u001b[0mcombined_df\u001b[0m\u001b[1;33m,\u001b[0m\u001b[0mx\u001b[0m\u001b[1;33m=\u001b[0m\u001b[1;34m'LightlyActiveMinutes'\u001b[0m\u001b[1;33m,\u001b[0m \u001b[0my\u001b[0m\u001b[1;33m=\u001b[0m\u001b[1;34m'TimeToFallAsleep'\u001b[0m\u001b[1;33m)\u001b[0m\u001b[1;33m\u001b[0m\u001b[1;33m\u001b[0m\u001b[0m\n\u001b[0m",
      "\u001b[1;31mNameError\u001b[0m: name 'px' is not defined"
     ]
    }
   ],
   "source": [
    "# Scatter plot to see how the time it takes to fall asleep is related to being slightly active\n",
    "px.scatter(combined_df,x='LightlyActiveMinutes', y='TimeToFallAsleep')"
   ]
  },
  {
   "cell_type": "code",
   "execution_count": 8,
   "metadata": {},
   "outputs": [
    {
     "data": {
      "text/html": [
       "<div>\n",
       "<style scoped>\n",
       "    .dataframe tbody tr th:only-of-type {\n",
       "        vertical-align: middle;\n",
       "    }\n",
       "\n",
       "    .dataframe tbody tr th {\n",
       "        vertical-align: top;\n",
       "    }\n",
       "\n",
       "    .dataframe thead th {\n",
       "        text-align: right;\n",
       "    }\n",
       "</style>\n",
       "<table border=\"1\" class=\"dataframe\">\n",
       "  <thead>\n",
       "    <tr style=\"text-align: right;\">\n",
       "      <th></th>\n",
       "      <th>TotalSleepRecords</th>\n",
       "      <th>TotalMinutesAsleep</th>\n",
       "      <th>TotalTimeInBed</th>\n",
       "      <th>TimeToFallAsleep</th>\n",
       "      <th>TotalSteps</th>\n",
       "      <th>TotalDistance</th>\n",
       "      <th>TrackerDistance</th>\n",
       "      <th>LoggedActivitiesDistance</th>\n",
       "      <th>VeryActiveDistance</th>\n",
       "      <th>ModeratelyActiveDistance</th>\n",
       "      <th>LightActiveDistance</th>\n",
       "      <th>SedentaryActiveDistance</th>\n",
       "      <th>VeryActiveMinutes</th>\n",
       "      <th>FairlyActiveMinutes</th>\n",
       "      <th>LightlyActiveMinutes</th>\n",
       "      <th>SedentaryMinutes</th>\n",
       "      <th>Calories</th>\n",
       "    </tr>\n",
       "  </thead>\n",
       "  <tbody>\n",
       "    <tr>\n",
       "      <th>TotalSleepRecords</th>\n",
       "      <td>1.000000</td>\n",
       "      <td>0.180406</td>\n",
       "      <td>0.118174</td>\n",
       "      <td>-0.063441</td>\n",
       "      <td>-0.182006</td>\n",
       "      <td>-0.158641</td>\n",
       "      <td>-0.155259</td>\n",
       "      <td>-0.107772</td>\n",
       "      <td>-0.159170</td>\n",
       "      <td>-0.087964</td>\n",
       "      <td>-0.076454</td>\n",
       "      <td>-0.151639</td>\n",
       "      <td>-0.154466</td>\n",
       "      <td>-0.141955</td>\n",
       "      <td>-0.121234</td>\n",
       "      <td>-0.053196</td>\n",
       "      <td>0.034278</td>\n",
       "    </tr>\n",
       "    <tr>\n",
       "      <th>TotalMinutesAsleep</th>\n",
       "      <td>0.180406</td>\n",
       "      <td>1.000000</td>\n",
       "      <td>0.940230</td>\n",
       "      <td>0.411569</td>\n",
       "      <td>-0.218571</td>\n",
       "      <td>-0.207983</td>\n",
       "      <td>-0.193880</td>\n",
       "      <td>-0.371701</td>\n",
       "      <td>-0.156875</td>\n",
       "      <td>-0.169274</td>\n",
       "      <td>-0.139836</td>\n",
       "      <td>-0.042635</td>\n",
       "      <td>-0.064302</td>\n",
       "      <td>-0.144973</td>\n",
       "      <td>-0.202731</td>\n",
       "      <td>-0.376279</td>\n",
       "      <td>-0.040646</td>\n",
       "    </tr>\n",
       "    <tr>\n",
       "      <th>TotalTimeInBed</th>\n",
       "      <td>0.118174</td>\n",
       "      <td>0.940230</td>\n",
       "      <td>1.000000</td>\n",
       "      <td>0.697332</td>\n",
       "      <td>-0.240679</td>\n",
       "      <td>-0.236997</td>\n",
       "      <td>-0.224672</td>\n",
       "      <td>-0.342326</td>\n",
       "      <td>-0.194964</td>\n",
       "      <td>-0.066477</td>\n",
       "      <td>-0.183736</td>\n",
       "      <td>-0.063349</td>\n",
       "      <td>-0.122541</td>\n",
       "      <td>-0.057641</td>\n",
       "      <td>-0.230326</td>\n",
       "      <td>-0.270743</td>\n",
       "      <td>-0.167031</td>\n",
       "    </tr>\n",
       "    <tr>\n",
       "      <th>TimeToFallAsleep</th>\n",
       "      <td>-0.063441</td>\n",
       "      <td>0.411569</td>\n",
       "      <td>0.697332</td>\n",
       "      <td>1.000000</td>\n",
       "      <td>-0.184087</td>\n",
       "      <td>-0.196517</td>\n",
       "      <td>-0.193217</td>\n",
       "      <td>-0.133822</td>\n",
       "      <td>-0.191594</td>\n",
       "      <td>0.178366</td>\n",
       "      <td>-0.197408</td>\n",
       "      <td>-0.079803</td>\n",
       "      <td>-0.192612</td>\n",
       "      <td>0.150867</td>\n",
       "      <td>-0.189718</td>\n",
       "      <td>0.067387</td>\n",
       "      <td>-0.361469</td>\n",
       "    </tr>\n",
       "    <tr>\n",
       "      <th>TotalSteps</th>\n",
       "      <td>-0.182006</td>\n",
       "      <td>-0.218571</td>\n",
       "      <td>-0.240679</td>\n",
       "      <td>-0.184087</td>\n",
       "      <td>1.000000</td>\n",
       "      <td>0.985777</td>\n",
       "      <td>0.984553</td>\n",
       "      <td>0.256617</td>\n",
       "      <td>0.729549</td>\n",
       "      <td>0.581238</td>\n",
       "      <td>0.690334</td>\n",
       "      <td>-0.059438</td>\n",
       "      <td>0.632106</td>\n",
       "      <td>0.537021</td>\n",
       "      <td>0.563201</td>\n",
       "      <td>-0.506390</td>\n",
       "      <td>0.321572</td>\n",
       "    </tr>\n",
       "    <tr>\n",
       "      <th>TotalDistance</th>\n",
       "      <td>-0.158641</td>\n",
       "      <td>-0.207983</td>\n",
       "      <td>-0.236997</td>\n",
       "      <td>-0.196517</td>\n",
       "      <td>0.985777</td>\n",
       "      <td>1.000000</td>\n",
       "      <td>0.999460</td>\n",
       "      <td>0.267496</td>\n",
       "      <td>0.763837</td>\n",
       "      <td>0.551887</td>\n",
       "      <td>0.682294</td>\n",
       "      <td>-0.072000</td>\n",
       "      <td>0.669048</td>\n",
       "      <td>0.511986</td>\n",
       "      <td>0.514461</td>\n",
       "      <td>-0.462965</td>\n",
       "      <td>0.443382</td>\n",
       "    </tr>\n",
       "    <tr>\n",
       "      <th>TrackerDistance</th>\n",
       "      <td>-0.155259</td>\n",
       "      <td>-0.193880</td>\n",
       "      <td>-0.224672</td>\n",
       "      <td>-0.193217</td>\n",
       "      <td>0.984553</td>\n",
       "      <td>0.999460</td>\n",
       "      <td>1.000000</td>\n",
       "      <td>0.239702</td>\n",
       "      <td>0.765356</td>\n",
       "      <td>0.553787</td>\n",
       "      <td>0.678045</td>\n",
       "      <td>-0.076275</td>\n",
       "      <td>0.671056</td>\n",
       "      <td>0.514568</td>\n",
       "      <td>0.508139</td>\n",
       "      <td>-0.469016</td>\n",
       "      <td>0.444022</td>\n",
       "    </tr>\n",
       "    <tr>\n",
       "      <th>LoggedActivitiesDistance</th>\n",
       "      <td>-0.107772</td>\n",
       "      <td>-0.371701</td>\n",
       "      <td>-0.342326</td>\n",
       "      <td>-0.133822</td>\n",
       "      <td>0.256617</td>\n",
       "      <td>0.267496</td>\n",
       "      <td>0.239702</td>\n",
       "      <td>1.000000</td>\n",
       "      <td>0.169885</td>\n",
       "      <td>0.040930</td>\n",
       "      <td>0.288349</td>\n",
       "      <td>0.060285</td>\n",
       "      <td>0.227570</td>\n",
       "      <td>-0.000241</td>\n",
       "      <td>0.217905</td>\n",
       "      <td>-0.014431</td>\n",
       "      <td>0.275310</td>\n",
       "    </tr>\n",
       "    <tr>\n",
       "      <th>VeryActiveDistance</th>\n",
       "      <td>-0.159170</td>\n",
       "      <td>-0.156875</td>\n",
       "      <td>-0.194964</td>\n",
       "      <td>-0.191594</td>\n",
       "      <td>0.729549</td>\n",
       "      <td>0.763837</td>\n",
       "      <td>0.765356</td>\n",
       "      <td>0.169885</td>\n",
       "      <td>1.000000</td>\n",
       "      <td>0.183003</td>\n",
       "      <td>0.091617</td>\n",
       "      <td>-0.091063</td>\n",
       "      <td>0.877630</td>\n",
       "      <td>0.235211</td>\n",
       "      <td>-0.013398</td>\n",
       "      <td>-0.058888</td>\n",
       "      <td>0.455649</td>\n",
       "    </tr>\n",
       "    <tr>\n",
       "      <th>ModeratelyActiveDistance</th>\n",
       "      <td>-0.087964</td>\n",
       "      <td>-0.169274</td>\n",
       "      <td>-0.066477</td>\n",
       "      <td>0.178366</td>\n",
       "      <td>0.581238</td>\n",
       "      <td>0.551887</td>\n",
       "      <td>0.553787</td>\n",
       "      <td>0.040930</td>\n",
       "      <td>0.183003</td>\n",
       "      <td>1.000000</td>\n",
       "      <td>0.402310</td>\n",
       "      <td>0.047208</td>\n",
       "      <td>0.173267</td>\n",
       "      <td>0.955380</td>\n",
       "      <td>0.241151</td>\n",
       "      <td>-0.425531</td>\n",
       "      <td>0.032014</td>\n",
       "    </tr>\n",
       "    <tr>\n",
       "      <th>LightActiveDistance</th>\n",
       "      <td>-0.076454</td>\n",
       "      <td>-0.139836</td>\n",
       "      <td>-0.183736</td>\n",
       "      <td>-0.197408</td>\n",
       "      <td>0.690334</td>\n",
       "      <td>0.682294</td>\n",
       "      <td>0.678045</td>\n",
       "      <td>0.288349</td>\n",
       "      <td>0.091617</td>\n",
       "      <td>0.402310</td>\n",
       "      <td>1.000000</td>\n",
       "      <td>-0.031467</td>\n",
       "      <td>0.075721</td>\n",
       "      <td>0.275171</td>\n",
       "      <td>0.891099</td>\n",
       "      <td>-0.620402</td>\n",
       "      <td>0.232180</td>\n",
       "    </tr>\n",
       "    <tr>\n",
       "      <th>SedentaryActiveDistance</th>\n",
       "      <td>-0.151639</td>\n",
       "      <td>-0.042635</td>\n",
       "      <td>-0.063349</td>\n",
       "      <td>-0.079803</td>\n",
       "      <td>-0.059438</td>\n",
       "      <td>-0.072000</td>\n",
       "      <td>-0.076275</td>\n",
       "      <td>0.060285</td>\n",
       "      <td>-0.091063</td>\n",
       "      <td>0.047208</td>\n",
       "      <td>-0.031467</td>\n",
       "      <td>1.000000</td>\n",
       "      <td>-0.102319</td>\n",
       "      <td>0.007203</td>\n",
       "      <td>-0.044888</td>\n",
       "      <td>0.089043</td>\n",
       "      <td>0.029692</td>\n",
       "    </tr>\n",
       "    <tr>\n",
       "      <th>VeryActiveMinutes</th>\n",
       "      <td>-0.154466</td>\n",
       "      <td>-0.064302</td>\n",
       "      <td>-0.122541</td>\n",
       "      <td>-0.192612</td>\n",
       "      <td>0.632106</td>\n",
       "      <td>0.669048</td>\n",
       "      <td>0.671056</td>\n",
       "      <td>0.227570</td>\n",
       "      <td>0.877630</td>\n",
       "      <td>0.173267</td>\n",
       "      <td>0.075721</td>\n",
       "      <td>-0.102319</td>\n",
       "      <td>1.000000</td>\n",
       "      <td>0.307915</td>\n",
       "      <td>-0.060766</td>\n",
       "      <td>-0.197912</td>\n",
       "      <td>0.623000</td>\n",
       "    </tr>\n",
       "    <tr>\n",
       "      <th>FairlyActiveMinutes</th>\n",
       "      <td>-0.141955</td>\n",
       "      <td>-0.144973</td>\n",
       "      <td>-0.057641</td>\n",
       "      <td>0.150867</td>\n",
       "      <td>0.537021</td>\n",
       "      <td>0.511986</td>\n",
       "      <td>0.514568</td>\n",
       "      <td>-0.000241</td>\n",
       "      <td>0.235211</td>\n",
       "      <td>0.955380</td>\n",
       "      <td>0.275171</td>\n",
       "      <td>0.007203</td>\n",
       "      <td>0.307915</td>\n",
       "      <td>1.000000</td>\n",
       "      <td>0.108973</td>\n",
       "      <td>-0.386517</td>\n",
       "      <td>0.119734</td>\n",
       "    </tr>\n",
       "    <tr>\n",
       "      <th>LightlyActiveMinutes</th>\n",
       "      <td>-0.121234</td>\n",
       "      <td>-0.202731</td>\n",
       "      <td>-0.230326</td>\n",
       "      <td>-0.189718</td>\n",
       "      <td>0.563201</td>\n",
       "      <td>0.514461</td>\n",
       "      <td>0.508139</td>\n",
       "      <td>0.217905</td>\n",
       "      <td>-0.013398</td>\n",
       "      <td>0.241151</td>\n",
       "      <td>0.891099</td>\n",
       "      <td>-0.044888</td>\n",
       "      <td>-0.060766</td>\n",
       "      <td>0.108973</td>\n",
       "      <td>1.000000</td>\n",
       "      <td>-0.591466</td>\n",
       "      <td>-0.063482</td>\n",
       "    </tr>\n",
       "    <tr>\n",
       "      <th>SedentaryMinutes</th>\n",
       "      <td>-0.053196</td>\n",
       "      <td>-0.376279</td>\n",
       "      <td>-0.270743</td>\n",
       "      <td>0.067387</td>\n",
       "      <td>-0.506390</td>\n",
       "      <td>-0.462965</td>\n",
       "      <td>-0.469016</td>\n",
       "      <td>-0.014431</td>\n",
       "      <td>-0.058888</td>\n",
       "      <td>-0.425531</td>\n",
       "      <td>-0.620402</td>\n",
       "      <td>0.089043</td>\n",
       "      <td>-0.197912</td>\n",
       "      <td>-0.386517</td>\n",
       "      <td>-0.591466</td>\n",
       "      <td>1.000000</td>\n",
       "      <td>-0.054484</td>\n",
       "    </tr>\n",
       "    <tr>\n",
       "      <th>Calories</th>\n",
       "      <td>0.034278</td>\n",
       "      <td>-0.040646</td>\n",
       "      <td>-0.167031</td>\n",
       "      <td>-0.361469</td>\n",
       "      <td>0.321572</td>\n",
       "      <td>0.443382</td>\n",
       "      <td>0.444022</td>\n",
       "      <td>0.275310</td>\n",
       "      <td>0.455649</td>\n",
       "      <td>0.032014</td>\n",
       "      <td>0.232180</td>\n",
       "      <td>0.029692</td>\n",
       "      <td>0.623000</td>\n",
       "      <td>0.119734</td>\n",
       "      <td>-0.063482</td>\n",
       "      <td>-0.054484</td>\n",
       "      <td>1.000000</td>\n",
       "    </tr>\n",
       "  </tbody>\n",
       "</table>\n",
       "</div>"
      ],
      "text/plain": [
       "                          TotalSleepRecords  TotalMinutesAsleep  \\\n",
       "TotalSleepRecords                  1.000000            0.180406   \n",
       "TotalMinutesAsleep                 0.180406            1.000000   \n",
       "TotalTimeInBed                     0.118174            0.940230   \n",
       "TimeToFallAsleep                  -0.063441            0.411569   \n",
       "TotalSteps                        -0.182006           -0.218571   \n",
       "TotalDistance                     -0.158641           -0.207983   \n",
       "TrackerDistance                   -0.155259           -0.193880   \n",
       "LoggedActivitiesDistance          -0.107772           -0.371701   \n",
       "VeryActiveDistance                -0.159170           -0.156875   \n",
       "ModeratelyActiveDistance          -0.087964           -0.169274   \n",
       "LightActiveDistance               -0.076454           -0.139836   \n",
       "SedentaryActiveDistance           -0.151639           -0.042635   \n",
       "VeryActiveMinutes                 -0.154466           -0.064302   \n",
       "FairlyActiveMinutes               -0.141955           -0.144973   \n",
       "LightlyActiveMinutes              -0.121234           -0.202731   \n",
       "SedentaryMinutes                  -0.053196           -0.376279   \n",
       "Calories                           0.034278           -0.040646   \n",
       "\n",
       "                          TotalTimeInBed  TimeToFallAsleep  TotalSteps  \\\n",
       "TotalSleepRecords               0.118174         -0.063441   -0.182006   \n",
       "TotalMinutesAsleep              0.940230          0.411569   -0.218571   \n",
       "TotalTimeInBed                  1.000000          0.697332   -0.240679   \n",
       "TimeToFallAsleep                0.697332          1.000000   -0.184087   \n",
       "TotalSteps                     -0.240679         -0.184087    1.000000   \n",
       "TotalDistance                  -0.236997         -0.196517    0.985777   \n",
       "TrackerDistance                -0.224672         -0.193217    0.984553   \n",
       "LoggedActivitiesDistance       -0.342326         -0.133822    0.256617   \n",
       "VeryActiveDistance             -0.194964         -0.191594    0.729549   \n",
       "ModeratelyActiveDistance       -0.066477          0.178366    0.581238   \n",
       "LightActiveDistance            -0.183736         -0.197408    0.690334   \n",
       "SedentaryActiveDistance        -0.063349         -0.079803   -0.059438   \n",
       "VeryActiveMinutes              -0.122541         -0.192612    0.632106   \n",
       "FairlyActiveMinutes            -0.057641          0.150867    0.537021   \n",
       "LightlyActiveMinutes           -0.230326         -0.189718    0.563201   \n",
       "SedentaryMinutes               -0.270743          0.067387   -0.506390   \n",
       "Calories                       -0.167031         -0.361469    0.321572   \n",
       "\n",
       "                          TotalDistance  TrackerDistance  \\\n",
       "TotalSleepRecords             -0.158641        -0.155259   \n",
       "TotalMinutesAsleep            -0.207983        -0.193880   \n",
       "TotalTimeInBed                -0.236997        -0.224672   \n",
       "TimeToFallAsleep              -0.196517        -0.193217   \n",
       "TotalSteps                     0.985777         0.984553   \n",
       "TotalDistance                  1.000000         0.999460   \n",
       "TrackerDistance                0.999460         1.000000   \n",
       "LoggedActivitiesDistance       0.267496         0.239702   \n",
       "VeryActiveDistance             0.763837         0.765356   \n",
       "ModeratelyActiveDistance       0.551887         0.553787   \n",
       "LightActiveDistance            0.682294         0.678045   \n",
       "SedentaryActiveDistance       -0.072000        -0.076275   \n",
       "VeryActiveMinutes              0.669048         0.671056   \n",
       "FairlyActiveMinutes            0.511986         0.514568   \n",
       "LightlyActiveMinutes           0.514461         0.508139   \n",
       "SedentaryMinutes              -0.462965        -0.469016   \n",
       "Calories                       0.443382         0.444022   \n",
       "\n",
       "                          LoggedActivitiesDistance  VeryActiveDistance  \\\n",
       "TotalSleepRecords                        -0.107772           -0.159170   \n",
       "TotalMinutesAsleep                       -0.371701           -0.156875   \n",
       "TotalTimeInBed                           -0.342326           -0.194964   \n",
       "TimeToFallAsleep                         -0.133822           -0.191594   \n",
       "TotalSteps                                0.256617            0.729549   \n",
       "TotalDistance                             0.267496            0.763837   \n",
       "TrackerDistance                           0.239702            0.765356   \n",
       "LoggedActivitiesDistance                  1.000000            0.169885   \n",
       "VeryActiveDistance                        0.169885            1.000000   \n",
       "ModeratelyActiveDistance                  0.040930            0.183003   \n",
       "LightActiveDistance                       0.288349            0.091617   \n",
       "SedentaryActiveDistance                   0.060285           -0.091063   \n",
       "VeryActiveMinutes                         0.227570            0.877630   \n",
       "FairlyActiveMinutes                      -0.000241            0.235211   \n",
       "LightlyActiveMinutes                      0.217905           -0.013398   \n",
       "SedentaryMinutes                         -0.014431           -0.058888   \n",
       "Calories                                  0.275310            0.455649   \n",
       "\n",
       "                          ModeratelyActiveDistance  LightActiveDistance  \\\n",
       "TotalSleepRecords                        -0.087964            -0.076454   \n",
       "TotalMinutesAsleep                       -0.169274            -0.139836   \n",
       "TotalTimeInBed                           -0.066477            -0.183736   \n",
       "TimeToFallAsleep                          0.178366            -0.197408   \n",
       "TotalSteps                                0.581238             0.690334   \n",
       "TotalDistance                             0.551887             0.682294   \n",
       "TrackerDistance                           0.553787             0.678045   \n",
       "LoggedActivitiesDistance                  0.040930             0.288349   \n",
       "VeryActiveDistance                        0.183003             0.091617   \n",
       "ModeratelyActiveDistance                  1.000000             0.402310   \n",
       "LightActiveDistance                       0.402310             1.000000   \n",
       "SedentaryActiveDistance                   0.047208            -0.031467   \n",
       "VeryActiveMinutes                         0.173267             0.075721   \n",
       "FairlyActiveMinutes                       0.955380             0.275171   \n",
       "LightlyActiveMinutes                      0.241151             0.891099   \n",
       "SedentaryMinutes                         -0.425531            -0.620402   \n",
       "Calories                                  0.032014             0.232180   \n",
       "\n",
       "                          SedentaryActiveDistance  VeryActiveMinutes  \\\n",
       "TotalSleepRecords                       -0.151639          -0.154466   \n",
       "TotalMinutesAsleep                      -0.042635          -0.064302   \n",
       "TotalTimeInBed                          -0.063349          -0.122541   \n",
       "TimeToFallAsleep                        -0.079803          -0.192612   \n",
       "TotalSteps                              -0.059438           0.632106   \n",
       "TotalDistance                           -0.072000           0.669048   \n",
       "TrackerDistance                         -0.076275           0.671056   \n",
       "LoggedActivitiesDistance                 0.060285           0.227570   \n",
       "VeryActiveDistance                      -0.091063           0.877630   \n",
       "ModeratelyActiveDistance                 0.047208           0.173267   \n",
       "LightActiveDistance                     -0.031467           0.075721   \n",
       "SedentaryActiveDistance                  1.000000          -0.102319   \n",
       "VeryActiveMinutes                       -0.102319           1.000000   \n",
       "FairlyActiveMinutes                      0.007203           0.307915   \n",
       "LightlyActiveMinutes                    -0.044888          -0.060766   \n",
       "SedentaryMinutes                         0.089043          -0.197912   \n",
       "Calories                                 0.029692           0.623000   \n",
       "\n",
       "                          FairlyActiveMinutes  LightlyActiveMinutes  \\\n",
       "TotalSleepRecords                   -0.141955             -0.121234   \n",
       "TotalMinutesAsleep                  -0.144973             -0.202731   \n",
       "TotalTimeInBed                      -0.057641             -0.230326   \n",
       "TimeToFallAsleep                     0.150867             -0.189718   \n",
       "TotalSteps                           0.537021              0.563201   \n",
       "TotalDistance                        0.511986              0.514461   \n",
       "TrackerDistance                      0.514568              0.508139   \n",
       "LoggedActivitiesDistance            -0.000241              0.217905   \n",
       "VeryActiveDistance                   0.235211             -0.013398   \n",
       "ModeratelyActiveDistance             0.955380              0.241151   \n",
       "LightActiveDistance                  0.275171              0.891099   \n",
       "SedentaryActiveDistance              0.007203             -0.044888   \n",
       "VeryActiveMinutes                    0.307915             -0.060766   \n",
       "FairlyActiveMinutes                  1.000000              0.108973   \n",
       "LightlyActiveMinutes                 0.108973              1.000000   \n",
       "SedentaryMinutes                    -0.386517             -0.591466   \n",
       "Calories                             0.119734             -0.063482   \n",
       "\n",
       "                          SedentaryMinutes  Calories  \n",
       "TotalSleepRecords                -0.053196  0.034278  \n",
       "TotalMinutesAsleep               -0.376279 -0.040646  \n",
       "TotalTimeInBed                   -0.270743 -0.167031  \n",
       "TimeToFallAsleep                  0.067387 -0.361469  \n",
       "TotalSteps                       -0.506390  0.321572  \n",
       "TotalDistance                    -0.462965  0.443382  \n",
       "TrackerDistance                  -0.469016  0.444022  \n",
       "LoggedActivitiesDistance         -0.014431  0.275310  \n",
       "VeryActiveDistance               -0.058888  0.455649  \n",
       "ModeratelyActiveDistance         -0.425531  0.032014  \n",
       "LightActiveDistance              -0.620402  0.232180  \n",
       "SedentaryActiveDistance           0.089043  0.029692  \n",
       "VeryActiveMinutes                -0.197912  0.623000  \n",
       "FairlyActiveMinutes              -0.386517  0.119734  \n",
       "LightlyActiveMinutes             -0.591466 -0.063482  \n",
       "SedentaryMinutes                  1.000000 -0.054484  \n",
       "Calories                         -0.054484  1.000000  "
      ]
     },
     "execution_count": 8,
     "metadata": {},
     "output_type": "execute_result"
    }
   ],
   "source": [
    "combined_df.corr()"
   ]
  },
  {
   "cell_type": "code",
   "execution_count": 10,
   "metadata": {},
   "outputs": [
    {
     "name": "stdout",
     "output_type": "stream",
     "text": [
      "                            OLS Regression Results                            \n",
      "==============================================================================\n",
      "Dep. Variable:     TotalMinutesAsleep   R-squared:                       0.367\n",
      "Model:                            OLS   Adj. R-squared:                  0.306\n",
      "Method:                 Least Squares   F-statistic:                     6.079\n",
      "Date:                Sat, 23 Apr 2022   Prob (F-statistic):            0.00826\n",
      "Time:                        13:54:33   Log-Likelihood:                -146.10\n",
      "No. Observations:                  24   AIC:                             298.2\n",
      "Df Residuals:                      21   BIC:                             301.7\n",
      "Df Model:                           2                                         \n",
      "Covariance Type:            nonrobust                                         \n",
      "====================================================================================\n",
      "                       coef    std err          t      P>|t|      [0.025      0.975]\n",
      "------------------------------------------------------------------------------------\n",
      "const              896.9624    150.836      5.947      0.000     583.283    1210.642\n",
      "SedentaryMinutes    -0.3922      0.121     -3.252      0.004      -0.643      -0.141\n",
      "TotalSteps          -0.0208      0.008     -2.732      0.012      -0.037      -0.005\n",
      "==============================================================================\n",
      "Omnibus:                        3.515   Durbin-Watson:                   1.830\n",
      "Prob(Omnibus):                  0.172   Jarque-Bera (JB):                2.137\n",
      "Skew:                          -0.100   Prob(JB):                        0.344\n",
      "Kurtosis:                       4.448   Cond. No.                     5.34e+04\n",
      "==============================================================================\n",
      "\n",
      "Notes:\n",
      "[1] Standard Errors assume that the covariance matrix of the errors is correctly specified.\n",
      "[2] The condition number is large, 5.34e+04. This might indicate that there are\n",
      "strong multicollinearity or other numerical problems.\n"
     ]
    }
   ],
   "source": [
    "import statsmodels.api as sm\n",
    "# Select your independent X terms, and your dependent y term. \n",
    "X = combined_df[['SedentaryMinutes', 'TotalSteps']]\n",
    "y = combined_df['TotalMinutesAsleep']\n",
    "X = sm.add_constant(X)\n",
    "model = sm.OLS(y, X)\n",
    "results = model.fit()\n",
    "# Print the linear regression results\n",
    "print(results.summary())"
   ]
  },
  {
   "cell_type": "markdown",
   "metadata": {},
   "source": []
  }
 ],
 "metadata": {
  "interpreter": {
   "hash": "31f2aee4e71d21fbe5cf8b01ff0e069b9275f58929596ceb00d14d90e3e16cd6"
  },
  "kernelspec": {
   "display_name": "Python 3",
   "language": "python",
   "name": "python3"
  },
  "language_info": {
   "codemirror_mode": {
    "name": "ipython",
    "version": 3
   },
   "file_extension": ".py",
   "mimetype": "text/x-python",
   "name": "python",
   "nbconvert_exporter": "python",
   "pygments_lexer": "ipython3",
   "version": "3.8.5"
  }
 },
 "nbformat": 4,
 "nbformat_minor": 2
}
